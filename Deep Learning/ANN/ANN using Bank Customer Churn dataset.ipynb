{
 "cells": [
  {
   "cell_type": "markdown",
   "id": "f7d4e49d-2809-420f-8854-c70e6bfc26e1",
   "metadata": {},
   "source": [
    "# ANN using Bank Customer Churn dataset"
   ]
  },
  {
   "cell_type": "code",
   "execution_count": 1,
   "id": "55da4624-c62e-44e8-aa98-fc9947c86803",
   "metadata": {},
   "outputs": [],
   "source": [
    "import numpy as np\n",
    "import pandas as pd\n",
    "import matplotlib.pyplot as plt"
   ]
  },
  {
   "cell_type": "code",
   "execution_count": 2,
   "id": "0b18ea0b-7b3f-4f7e-a185-84683c4082a6",
   "metadata": {},
   "outputs": [
    {
     "data": {
      "text/html": [
       "<div>\n",
       "<style scoped>\n",
       "    .dataframe tbody tr th:only-of-type {\n",
       "        vertical-align: middle;\n",
       "    }\n",
       "\n",
       "    .dataframe tbody tr th {\n",
       "        vertical-align: top;\n",
       "    }\n",
       "\n",
       "    .dataframe thead th {\n",
       "        text-align: right;\n",
       "    }\n",
       "</style>\n",
       "<table border=\"1\" class=\"dataframe\">\n",
       "  <thead>\n",
       "    <tr style=\"text-align: right;\">\n",
       "      <th></th>\n",
       "      <th>RowNumber</th>\n",
       "      <th>CustomerId</th>\n",
       "      <th>Surname</th>\n",
       "      <th>CreditScore</th>\n",
       "      <th>Geography</th>\n",
       "      <th>Gender</th>\n",
       "      <th>Age</th>\n",
       "      <th>Tenure</th>\n",
       "      <th>Balance</th>\n",
       "      <th>NumOfProducts</th>\n",
       "      <th>HasCrCard</th>\n",
       "      <th>IsActiveMember</th>\n",
       "      <th>EstimatedSalary</th>\n",
       "      <th>Exited</th>\n",
       "    </tr>\n",
       "  </thead>\n",
       "  <tbody>\n",
       "    <tr>\n",
       "      <th>7694</th>\n",
       "      <td>7695</td>\n",
       "      <td>15807335</td>\n",
       "      <td>Spencer</td>\n",
       "      <td>676</td>\n",
       "      <td>Spain</td>\n",
       "      <td>Female</td>\n",
       "      <td>64</td>\n",
       "      <td>4</td>\n",
       "      <td>116954.32</td>\n",
       "      <td>1</td>\n",
       "      <td>1</td>\n",
       "      <td>1</td>\n",
       "      <td>91149.48</td>\n",
       "      <td>0</td>\n",
       "    </tr>\n",
       "    <tr>\n",
       "      <th>9060</th>\n",
       "      <td>9061</td>\n",
       "      <td>15770474</td>\n",
       "      <td>Myers</td>\n",
       "      <td>685</td>\n",
       "      <td>France</td>\n",
       "      <td>Female</td>\n",
       "      <td>33</td>\n",
       "      <td>1</td>\n",
       "      <td>0.00</td>\n",
       "      <td>3</td>\n",
       "      <td>0</td>\n",
       "      <td>1</td>\n",
       "      <td>70221.13</td>\n",
       "      <td>1</td>\n",
       "    </tr>\n",
       "    <tr>\n",
       "      <th>3439</th>\n",
       "      <td>3440</td>\n",
       "      <td>15662063</td>\n",
       "      <td>McIver</td>\n",
       "      <td>746</td>\n",
       "      <td>France</td>\n",
       "      <td>Male</td>\n",
       "      <td>36</td>\n",
       "      <td>7</td>\n",
       "      <td>142400.77</td>\n",
       "      <td>1</td>\n",
       "      <td>1</td>\n",
       "      <td>1</td>\n",
       "      <td>193438.69</td>\n",
       "      <td>0</td>\n",
       "    </tr>\n",
       "    <tr>\n",
       "      <th>5178</th>\n",
       "      <td>5179</td>\n",
       "      <td>15794849</td>\n",
       "      <td>Aitken</td>\n",
       "      <td>850</td>\n",
       "      <td>Germany</td>\n",
       "      <td>Male</td>\n",
       "      <td>22</td>\n",
       "      <td>7</td>\n",
       "      <td>91560.58</td>\n",
       "      <td>2</td>\n",
       "      <td>0</td>\n",
       "      <td>0</td>\n",
       "      <td>10541.38</td>\n",
       "      <td>0</td>\n",
       "    </tr>\n",
       "    <tr>\n",
       "      <th>729</th>\n",
       "      <td>730</td>\n",
       "      <td>15612525</td>\n",
       "      <td>Preston</td>\n",
       "      <td>499</td>\n",
       "      <td>France</td>\n",
       "      <td>Female</td>\n",
       "      <td>57</td>\n",
       "      <td>1</td>\n",
       "      <td>0.00</td>\n",
       "      <td>1</td>\n",
       "      <td>0</td>\n",
       "      <td>0</td>\n",
       "      <td>131372.38</td>\n",
       "      <td>1</td>\n",
       "    </tr>\n",
       "  </tbody>\n",
       "</table>\n",
       "</div>"
      ],
      "text/plain": [
       "      RowNumber  CustomerId  Surname  CreditScore Geography  Gender  Age  \\\n",
       "7694       7695    15807335  Spencer          676     Spain  Female   64   \n",
       "9060       9061    15770474    Myers          685    France  Female   33   \n",
       "3439       3440    15662063   McIver          746    France    Male   36   \n",
       "5178       5179    15794849   Aitken          850   Germany    Male   22   \n",
       "729         730    15612525  Preston          499    France  Female   57   \n",
       "\n",
       "      Tenure    Balance  NumOfProducts  HasCrCard  IsActiveMember  \\\n",
       "7694       4  116954.32              1          1               1   \n",
       "9060       1       0.00              3          0               1   \n",
       "3439       7  142400.77              1          1               1   \n",
       "5178       7   91560.58              2          0               0   \n",
       "729        1       0.00              1          0               0   \n",
       "\n",
       "      EstimatedSalary  Exited  \n",
       "7694         91149.48       0  \n",
       "9060         70221.13       1  \n",
       "3439        193438.69       0  \n",
       "5178         10541.38       0  \n",
       "729         131372.38       1  "
      ]
     },
     "execution_count": 2,
     "metadata": {},
     "output_type": "execute_result"
    }
   ],
   "source": [
    "df = pd.read_csv('../../datasets/bank_Churn.csv')\n",
    "df.sample(5)"
   ]
  },
  {
   "cell_type": "markdown",
   "id": "35b07820-26c7-478b-9e21-7f6f28ff80d6",
   "metadata": {
    "jp-MarkdownHeadingCollapsed": true,
    "tags": []
   },
   "source": [
    "## Data Expolration"
   ]
  },
  {
   "cell_type": "code",
   "execution_count": 3,
   "id": "a8ff5f35-cddf-4005-89be-766df995a900",
   "metadata": {},
   "outputs": [
    {
     "data": {
      "text/plain": [
       "(10000, 14)"
      ]
     },
     "execution_count": 3,
     "metadata": {},
     "output_type": "execute_result"
    }
   ],
   "source": [
    "df.shape"
   ]
  },
  {
   "cell_type": "code",
   "execution_count": 4,
   "id": "71826d62-299f-41b9-b832-4466cbd07a10",
   "metadata": {},
   "outputs": [
    {
     "data": {
      "text/plain": [
       "RowNumber            int64\n",
       "CustomerId           int64\n",
       "Surname             object\n",
       "CreditScore          int64\n",
       "Geography           object\n",
       "Gender              object\n",
       "Age                  int64\n",
       "Tenure               int64\n",
       "Balance            float64\n",
       "NumOfProducts        int64\n",
       "HasCrCard            int64\n",
       "IsActiveMember       int64\n",
       "EstimatedSalary    float64\n",
       "Exited               int64\n",
       "dtype: object"
      ]
     },
     "execution_count": 4,
     "metadata": {},
     "output_type": "execute_result"
    }
   ],
   "source": [
    "df.dtypes"
   ]
  },
  {
   "cell_type": "code",
   "execution_count": 5,
   "id": "c26e32ed-a360-46f7-b828-75b5698806d5",
   "metadata": {},
   "outputs": [
    {
     "data": {
      "text/plain": [
       "France     5014\n",
       "Germany    2509\n",
       "Spain      2477\n",
       "Name: Geography, dtype: int64"
      ]
     },
     "execution_count": 5,
     "metadata": {},
     "output_type": "execute_result"
    }
   ],
   "source": [
    "df.Geography.value_counts()"
   ]
  },
  {
   "cell_type": "markdown",
   "id": "dd2b7df3-cfea-45f5-8121-c41030b82982",
   "metadata": {
    "jp-MarkdownHeadingCollapsed": true,
    "tags": []
   },
   "source": [
    "## Data Cleaning"
   ]
  },
  {
   "cell_type": "code",
   "execution_count": 6,
   "id": "d94e351c-5209-4f56-a2c3-ac7a8e06878e",
   "metadata": {},
   "outputs": [
    {
     "data": {
      "text/html": [
       "<div>\n",
       "<style scoped>\n",
       "    .dataframe tbody tr th:only-of-type {\n",
       "        vertical-align: middle;\n",
       "    }\n",
       "\n",
       "    .dataframe tbody tr th {\n",
       "        vertical-align: top;\n",
       "    }\n",
       "\n",
       "    .dataframe thead th {\n",
       "        text-align: right;\n",
       "    }\n",
       "</style>\n",
       "<table border=\"1\" class=\"dataframe\">\n",
       "  <thead>\n",
       "    <tr style=\"text-align: right;\">\n",
       "      <th></th>\n",
       "      <th>CreditScore</th>\n",
       "      <th>Geography</th>\n",
       "      <th>Gender</th>\n",
       "      <th>Age</th>\n",
       "      <th>Tenure</th>\n",
       "      <th>Balance</th>\n",
       "      <th>NumOfProducts</th>\n",
       "      <th>HasCrCard</th>\n",
       "      <th>IsActiveMember</th>\n",
       "      <th>EstimatedSalary</th>\n",
       "      <th>Exited</th>\n",
       "    </tr>\n",
       "  </thead>\n",
       "  <tbody>\n",
       "    <tr>\n",
       "      <th>9711</th>\n",
       "      <td>521</td>\n",
       "      <td>Germany</td>\n",
       "      <td>Male</td>\n",
       "      <td>41</td>\n",
       "      <td>8</td>\n",
       "      <td>120586.54</td>\n",
       "      <td>1</td>\n",
       "      <td>0</td>\n",
       "      <td>1</td>\n",
       "      <td>20491.15</td>\n",
       "      <td>0</td>\n",
       "    </tr>\n",
       "    <tr>\n",
       "      <th>8280</th>\n",
       "      <td>706</td>\n",
       "      <td>Spain</td>\n",
       "      <td>Male</td>\n",
       "      <td>53</td>\n",
       "      <td>7</td>\n",
       "      <td>0.00</td>\n",
       "      <td>2</td>\n",
       "      <td>0</td>\n",
       "      <td>1</td>\n",
       "      <td>117939.17</td>\n",
       "      <td>0</td>\n",
       "    </tr>\n",
       "    <tr>\n",
       "      <th>3952</th>\n",
       "      <td>594</td>\n",
       "      <td>France</td>\n",
       "      <td>Female</td>\n",
       "      <td>34</td>\n",
       "      <td>7</td>\n",
       "      <td>141525.55</td>\n",
       "      <td>1</td>\n",
       "      <td>0</td>\n",
       "      <td>0</td>\n",
       "      <td>9443.15</td>\n",
       "      <td>0</td>\n",
       "    </tr>\n",
       "    <tr>\n",
       "      <th>6990</th>\n",
       "      <td>660</td>\n",
       "      <td>France</td>\n",
       "      <td>Male</td>\n",
       "      <td>41</td>\n",
       "      <td>3</td>\n",
       "      <td>0.00</td>\n",
       "      <td>2</td>\n",
       "      <td>1</td>\n",
       "      <td>1</td>\n",
       "      <td>108665.89</td>\n",
       "      <td>0</td>\n",
       "    </tr>\n",
       "    <tr>\n",
       "      <th>9421</th>\n",
       "      <td>613</td>\n",
       "      <td>France</td>\n",
       "      <td>Male</td>\n",
       "      <td>34</td>\n",
       "      <td>5</td>\n",
       "      <td>144094.20</td>\n",
       "      <td>1</td>\n",
       "      <td>1</td>\n",
       "      <td>0</td>\n",
       "      <td>44510.26</td>\n",
       "      <td>0</td>\n",
       "    </tr>\n",
       "    <tr>\n",
       "      <th>1598</th>\n",
       "      <td>601</td>\n",
       "      <td>Germany</td>\n",
       "      <td>Female</td>\n",
       "      <td>48</td>\n",
       "      <td>8</td>\n",
       "      <td>120782.70</td>\n",
       "      <td>1</td>\n",
       "      <td>1</td>\n",
       "      <td>0</td>\n",
       "      <td>63940.68</td>\n",
       "      <td>1</td>\n",
       "    </tr>\n",
       "    <tr>\n",
       "      <th>6103</th>\n",
       "      <td>655</td>\n",
       "      <td>France</td>\n",
       "      <td>Male</td>\n",
       "      <td>28</td>\n",
       "      <td>10</td>\n",
       "      <td>0.00</td>\n",
       "      <td>2</td>\n",
       "      <td>0</td>\n",
       "      <td>1</td>\n",
       "      <td>126565.21</td>\n",
       "      <td>0</td>\n",
       "    </tr>\n",
       "    <tr>\n",
       "      <th>6670</th>\n",
       "      <td>758</td>\n",
       "      <td>Spain</td>\n",
       "      <td>Female</td>\n",
       "      <td>43</td>\n",
       "      <td>10</td>\n",
       "      <td>0.00</td>\n",
       "      <td>2</td>\n",
       "      <td>1</td>\n",
       "      <td>1</td>\n",
       "      <td>55313.44</td>\n",
       "      <td>0</td>\n",
       "    </tr>\n",
       "    <tr>\n",
       "      <th>1796</th>\n",
       "      <td>555</td>\n",
       "      <td>France</td>\n",
       "      <td>Male</td>\n",
       "      <td>37</td>\n",
       "      <td>9</td>\n",
       "      <td>124969.13</td>\n",
       "      <td>1</td>\n",
       "      <td>1</td>\n",
       "      <td>0</td>\n",
       "      <td>60194.05</td>\n",
       "      <td>0</td>\n",
       "    </tr>\n",
       "    <tr>\n",
       "      <th>9368</th>\n",
       "      <td>737</td>\n",
       "      <td>France</td>\n",
       "      <td>Male</td>\n",
       "      <td>28</td>\n",
       "      <td>8</td>\n",
       "      <td>0.00</td>\n",
       "      <td>2</td>\n",
       "      <td>1</td>\n",
       "      <td>0</td>\n",
       "      <td>106390.01</td>\n",
       "      <td>0</td>\n",
       "    </tr>\n",
       "  </tbody>\n",
       "</table>\n",
       "</div>"
      ],
      "text/plain": [
       "      CreditScore Geography  Gender  Age  Tenure    Balance  NumOfProducts  \\\n",
       "9711          521   Germany    Male   41       8  120586.54              1   \n",
       "8280          706     Spain    Male   53       7       0.00              2   \n",
       "3952          594    France  Female   34       7  141525.55              1   \n",
       "6990          660    France    Male   41       3       0.00              2   \n",
       "9421          613    France    Male   34       5  144094.20              1   \n",
       "1598          601   Germany  Female   48       8  120782.70              1   \n",
       "6103          655    France    Male   28      10       0.00              2   \n",
       "6670          758     Spain  Female   43      10       0.00              2   \n",
       "1796          555    France    Male   37       9  124969.13              1   \n",
       "9368          737    France    Male   28       8       0.00              2   \n",
       "\n",
       "      HasCrCard  IsActiveMember  EstimatedSalary  Exited  \n",
       "9711          0               1         20491.15       0  \n",
       "8280          0               1        117939.17       0  \n",
       "3952          0               0          9443.15       0  \n",
       "6990          1               1        108665.89       0  \n",
       "9421          1               0         44510.26       0  \n",
       "1598          1               0         63940.68       1  \n",
       "6103          0               1        126565.21       0  \n",
       "6670          1               1         55313.44       0  \n",
       "1796          1               0         60194.05       0  \n",
       "9368          1               0        106390.01       0  "
      ]
     },
     "execution_count": 6,
     "metadata": {},
     "output_type": "execute_result"
    }
   ],
   "source": [
    "df.drop(['RowNumber', 'CustomerId', 'Surname'], axis='columns', inplace=True)\n",
    "df.sample(10)"
   ]
  },
  {
   "cell_type": "markdown",
   "id": "f3e8ca0b-6f95-41f8-ab0c-37ee5096c755",
   "metadata": {
    "tags": []
   },
   "source": [
    "## Data Visualization"
   ]
  },
  {
   "cell_type": "code",
   "execution_count": 7,
   "id": "a0498f81-1e88-4dd4-a10f-1b92e23ea1be",
   "metadata": {},
   "outputs": [],
   "source": [
    "geo_exit0 = df[df['Exited'] == 0].Geography\n",
    "geo_exit1 = df[df['Exited'] == 1].Geography"
   ]
  },
  {
   "cell_type": "code",
   "execution_count": 8,
   "id": "efc5ea24-1d2a-4f3f-9428-1fee95e31088",
   "metadata": {},
   "outputs": [
    {
     "data": {
      "text/plain": [
       "France     4204\n",
       "Spain      2064\n",
       "Germany    1695\n",
       "Name: Geography, dtype: int64"
      ]
     },
     "execution_count": 8,
     "metadata": {},
     "output_type": "execute_result"
    }
   ],
   "source": [
    "geo_exit0.value_counts()"
   ]
  },
  {
   "cell_type": "code",
   "execution_count": 9,
   "id": "de276f20-87ed-4105-b121-2a95203cdea3",
   "metadata": {},
   "outputs": [
    {
     "data": {
      "text/plain": [
       "Germany    814\n",
       "France     810\n",
       "Spain      413\n",
       "Name: Geography, dtype: int64"
      ]
     },
     "execution_count": 9,
     "metadata": {},
     "output_type": "execute_result"
    }
   ],
   "source": [
    "geo_exit1.value_counts()"
   ]
  },
  {
   "cell_type": "code",
   "execution_count": 10,
   "id": "d94579e7-df93-4e30-abf2-841f94a87d10",
   "metadata": {},
   "outputs": [
    {
     "data": {
      "text/plain": [
       "<matplotlib.legend.Legend at 0x2776e734430>"
      ]
     },
     "execution_count": 10,
     "metadata": {},
     "output_type": "execute_result"
    },
    {
     "data": {
      "image/png": "[encoded data removed]",
      "text/plain": [
       "<Figure size 720x360 with 1 Axes>"
      ]
     },
     "metadata": {},
     "output_type": "display_data"
    }
   ],
   "source": [
    "plt.style.use(['dark_background'])\n",
    "plt.figure(figsize=(10, 5))\n",
    "\n",
    "plt.title(\"Bank Churn visualization (Geography)\")\n",
    "plt.ylabel('No. of Customers')\n",
    "plt.xlabel('Geography')\n",
    "plt.hist([geo_exit0, geo_exit1], label=['Non Exited (0)', 'Exited (1)'], color=['#8ade5b', '#ad76ed'])\n",
    "plt.tight_layout()\n",
    "plt.legend()"
   ]
  },
  {
   "cell_type": "markdown",
   "id": "6569a773-9b95-4e6c-9fdf-ff46809e6c85",
   "metadata": {},
   "source": [
    "from the above visualization we can see that most of the customer exited from _Germany_ and _France_ has the highest customers who stayed<br><br>"
   ]
  },
  {
   "cell_type": "code",
   "execution_count": 11,
   "id": "7f87be89-d782-4ff5-b6aa-0f0b3dc9364d",
   "metadata": {},
   "outputs": [],
   "source": [
    "tnr_exit0 = df[df['Exited'] == 0].Tenure\n",
    "tnr_exit1 = df[df['Exited'] == 1].Tenure"
   ]
  },
  {
   "cell_type": "code",
   "execution_count": 12,
   "id": "403ae4b5-429b-44f4-b436-f70e27e4193d",
   "metadata": {},
   "outputs": [
    {
     "data": {
      "text/plain": [
       "<matplotlib.legend.Legend at 0x277708ce9e0>"
      ]
     },
     "execution_count": 12,
     "metadata": {},
     "output_type": "execute_result"
    },
    {
     "data": {
      "image/png": "[encoded data removed]",
      "text/plain": [
       "<Figure size 720x360 with 1 Axes>"
      ]
     },
     "metadata": {},
     "output_type": "display_data"
    }
   ],
   "source": [
    "plt.style.use(['dark_background'])\n",
    "plt.figure(figsize=(10, 5))\n",
    "\n",
    "plt.title(\"Bank Churn visualization (Tenure)\")\n",
    "plt.ylabel('No. of Customers')\n",
    "plt.xlabel('Tenure')\n",
    "plt.hist([tnr_exit0, tnr_exit1], label=['Non Exited (0)', 'Exited (1)'], color=['#8ade5b', '#ad76ed'])\n",
    "plt.tight_layout()\n",
    "plt.legend()"
   ]
  },
  {
   "cell_type": "code",
   "execution_count": 13,
   "id": "90d09c90-9629-46b1-9f72-370b65dfe0c2",
   "metadata": {},
   "outputs": [
    {
     "data": {
      "image/png": "[encoded data removed]",
      "text/plain": [
       "<Figure size 360x360 with 1 Axes>"
      ]
     },
     "metadata": {},
     "output_type": "display_data"
    }
   ],
   "source": [
    "male_c = df[df['Gender'] == 'Male']\n",
    "female_c = df[df['Gender'] == 'Female']\n",
    "\n",
    "plt.figure(figsize=(5, 5))\n",
    "\n",
    "plt.title(\"Gender\")\n",
    "plt.ylabel('No. of Customers')\n",
    "plt.xlabel('Gender')\n",
    "\n",
    "plt.bar(['Male', 'Female'], [len(male_c), len(female_c)], color=['#fe0000', '#ffc0cb'])\n",
    "plt.tight_layout()"
   ]
  },
  {
   "cell_type": "code",
   "execution_count": 14,
   "id": "c5ef13bb-01e7-4e23-b1e5-04aaf35ef0cd",
   "metadata": {},
   "outputs": [],
   "source": [
    "gnd_exit0 = df[df['Exited'] == 0].Gender\n",
    "gnd_exit1 = df[df['Exited'] == 1].Gender"
   ]
  },
  {
   "cell_type": "code",
   "execution_count": 15,
   "id": "70d9d292-1d4f-4679-8a44-344f733ba054",
   "metadata": {},
   "outputs": [
    {
     "data": {
      "text/plain": [
       "<matplotlib.legend.Legend at 0x277719942b0>"
      ]
     },
     "execution_count": 15,
     "metadata": {},
     "output_type": "execute_result"
    },
    {
     "data": {
      "image/png": "[encoded data removed]",
      "text/plain": [
       "<Figure size 720x360 with 1 Axes>"
      ]
     },
     "metadata": {},
     "output_type": "display_data"
    }
   ],
   "source": [
    "plt.style.use(['dark_background'])\n",
    "plt.figure(figsize=(10, 5))\n",
    "\n",
    "plt.title(\"Bank Churn visualization (Gender)\")\n",
    "plt.ylabel('No. of Customers')\n",
    "plt.xlabel('Gender')\n",
    "plt.hist([gnd_exit0, gnd_exit1], label=['Non Exited (0)', 'Exited (1)'], color=['#fe0000', '#ffc0cb'])\n",
    "plt.tight_layout()\n",
    "plt.legend()"
   ]
  },
  {
   "cell_type": "markdown",
   "id": "b5f23463-0dd8-45ae-be38-2faa1b5ecf32",
   "metadata": {
    "jp-MarkdownHeadingCollapsed": true,
    "tags": []
   },
   "source": [
    "## Data Preprocessing"
   ]
  },
  {
   "cell_type": "code",
   "execution_count": 16,
   "id": "015a5ad1-e1f9-43ff-9161-8bc5ad63b65c",
   "metadata": {},
   "outputs": [],
   "source": [
    "#scale the data\n",
    "from sklearn.preprocessing import MinMaxScaler\n",
    "scaler = MinMaxScaler()\n",
    "\n",
    "col_to_scale = ['CreditScore', 'Age', 'Tenure', 'Balance', 'EstimatedSalary']\n",
    "\n",
    "df[col_to_scale] = scaler.fit_transform(df[col_to_scale])"
   ]
  },
  {
   "cell_type": "code",
   "execution_count": 17,
   "id": "00ad9cec-b94e-4b77-93fa-93068110e04f",
   "metadata": {},
   "outputs": [],
   "source": [
    "#cvt columns into numerical values usin one hot encoding\n",
    "\n",
    "df = pd.get_dummies(data=df, columns=['Geography', 'Gender'])"
   ]
  },
  {
   "cell_type": "code",
   "execution_count": 18,
   "id": "8285c509-9a0f-4899-bf49-23d5b1e06dc9",
   "metadata": {},
   "outputs": [
    {
     "data": {
      "text/html": [
       "<div>\n",
       "<style scoped>\n",
       "    .dataframe tbody tr th:only-of-type {\n",
       "        vertical-align: middle;\n",
       "    }\n",
       "\n",
       "    .dataframe tbody tr th {\n",
       "        vertical-align: top;\n",
       "    }\n",
       "\n",
       "    .dataframe thead th {\n",
       "        text-align: right;\n",
       "    }\n",
       "</style>\n",
       "<table border=\"1\" class=\"dataframe\">\n",
       "  <thead>\n",
       "    <tr style=\"text-align: right;\">\n",
       "      <th></th>\n",
       "      <th>CreditScore</th>\n",
       "      <th>Age</th>\n",
       "      <th>Tenure</th>\n",
       "      <th>Balance</th>\n",
       "      <th>NumOfProducts</th>\n",
       "      <th>HasCrCard</th>\n",
       "      <th>IsActiveMember</th>\n",
       "      <th>EstimatedSalary</th>\n",
       "      <th>Exited</th>\n",
       "      <th>Geography_France</th>\n",
       "      <th>Geography_Germany</th>\n",
       "      <th>Geography_Spain</th>\n",
       "      <th>Gender_Female</th>\n",
       "      <th>Gender_Male</th>\n",
       "    </tr>\n",
       "  </thead>\n",
       "  <tbody>\n",
       "    <tr>\n",
       "      <th>370</th>\n",
       "      <td>0.902</td>\n",
       "      <td>0.324324</td>\n",
       "      <td>0.4</td>\n",
       "      <td>0.565758</td>\n",
       "      <td>1</td>\n",
       "      <td>1</td>\n",
       "      <td>1</td>\n",
       "      <td>0.052939</td>\n",
       "      <td>0</td>\n",
       "      <td>0</td>\n",
       "      <td>0</td>\n",
       "      <td>1</td>\n",
       "      <td>0</td>\n",
       "      <td>1</td>\n",
       "    </tr>\n",
       "    <tr>\n",
       "      <th>5080</th>\n",
       "      <td>0.762</td>\n",
       "      <td>0.148649</td>\n",
       "      <td>1.0</td>\n",
       "      <td>0.000000</td>\n",
       "      <td>2</td>\n",
       "      <td>1</td>\n",
       "      <td>1</td>\n",
       "      <td>0.812283</td>\n",
       "      <td>0</td>\n",
       "      <td>1</td>\n",
       "      <td>0</td>\n",
       "      <td>0</td>\n",
       "      <td>0</td>\n",
       "      <td>1</td>\n",
       "    </tr>\n",
       "    <tr>\n",
       "      <th>9516</th>\n",
       "      <td>0.414</td>\n",
       "      <td>0.189189</td>\n",
       "      <td>0.3</td>\n",
       "      <td>0.492242</td>\n",
       "      <td>1</td>\n",
       "      <td>1</td>\n",
       "      <td>1</td>\n",
       "      <td>0.349109</td>\n",
       "      <td>0</td>\n",
       "      <td>1</td>\n",
       "      <td>0</td>\n",
       "      <td>0</td>\n",
       "      <td>1</td>\n",
       "      <td>0</td>\n",
       "    </tr>\n",
       "    <tr>\n",
       "      <th>8976</th>\n",
       "      <td>0.740</td>\n",
       "      <td>0.148649</td>\n",
       "      <td>0.2</td>\n",
       "      <td>0.000000</td>\n",
       "      <td>2</td>\n",
       "      <td>1</td>\n",
       "      <td>0</td>\n",
       "      <td>0.199589</td>\n",
       "      <td>0</td>\n",
       "      <td>1</td>\n",
       "      <td>0</td>\n",
       "      <td>0</td>\n",
       "      <td>0</td>\n",
       "      <td>1</td>\n",
       "    </tr>\n",
       "    <tr>\n",
       "      <th>2547</th>\n",
       "      <td>0.664</td>\n",
       "      <td>0.554054</td>\n",
       "      <td>0.0</td>\n",
       "      <td>0.488889</td>\n",
       "      <td>1</td>\n",
       "      <td>0</td>\n",
       "      <td>1</td>\n",
       "      <td>0.424001</td>\n",
       "      <td>0</td>\n",
       "      <td>0</td>\n",
       "      <td>0</td>\n",
       "      <td>1</td>\n",
       "      <td>1</td>\n",
       "      <td>0</td>\n",
       "    </tr>\n",
       "    <tr>\n",
       "      <th>3556</th>\n",
       "      <td>0.480</td>\n",
       "      <td>0.567568</td>\n",
       "      <td>0.6</td>\n",
       "      <td>0.588891</td>\n",
       "      <td>1</td>\n",
       "      <td>1</td>\n",
       "      <td>0</td>\n",
       "      <td>0.441014</td>\n",
       "      <td>1</td>\n",
       "      <td>1</td>\n",
       "      <td>0</td>\n",
       "      <td>0</td>\n",
       "      <td>1</td>\n",
       "      <td>0</td>\n",
       "    </tr>\n",
       "    <tr>\n",
       "      <th>7649</th>\n",
       "      <td>0.730</td>\n",
       "      <td>0.175676</td>\n",
       "      <td>0.3</td>\n",
       "      <td>0.440742</td>\n",
       "      <td>1</td>\n",
       "      <td>1</td>\n",
       "      <td>1</td>\n",
       "      <td>0.473564</td>\n",
       "      <td>0</td>\n",
       "      <td>1</td>\n",
       "      <td>0</td>\n",
       "      <td>0</td>\n",
       "      <td>1</td>\n",
       "      <td>0</td>\n",
       "    </tr>\n",
       "    <tr>\n",
       "      <th>8531</th>\n",
       "      <td>0.746</td>\n",
       "      <td>0.162162</td>\n",
       "      <td>0.1</td>\n",
       "      <td>0.000000</td>\n",
       "      <td>3</td>\n",
       "      <td>1</td>\n",
       "      <td>0</td>\n",
       "      <td>0.823259</td>\n",
       "      <td>1</td>\n",
       "      <td>0</td>\n",
       "      <td>0</td>\n",
       "      <td>1</td>\n",
       "      <td>0</td>\n",
       "      <td>1</td>\n",
       "    </tr>\n",
       "    <tr>\n",
       "      <th>144</th>\n",
       "      <td>0.682</td>\n",
       "      <td>0.175676</td>\n",
       "      <td>0.5</td>\n",
       "      <td>0.163076</td>\n",
       "      <td>1</td>\n",
       "      <td>1</td>\n",
       "      <td>0</td>\n",
       "      <td>0.631072</td>\n",
       "      <td>1</td>\n",
       "      <td>1</td>\n",
       "      <td>0</td>\n",
       "      <td>0</td>\n",
       "      <td>1</td>\n",
       "      <td>0</td>\n",
       "    </tr>\n",
       "    <tr>\n",
       "      <th>5889</th>\n",
       "      <td>0.754</td>\n",
       "      <td>0.175676</td>\n",
       "      <td>0.2</td>\n",
       "      <td>0.208021</td>\n",
       "      <td>2</td>\n",
       "      <td>0</td>\n",
       "      <td>1</td>\n",
       "      <td>0.801936</td>\n",
       "      <td>0</td>\n",
       "      <td>1</td>\n",
       "      <td>0</td>\n",
       "      <td>0</td>\n",
       "      <td>1</td>\n",
       "      <td>0</td>\n",
       "    </tr>\n",
       "  </tbody>\n",
       "</table>\n",
       "</div>"
      ],
      "text/plain": [
       "      CreditScore       Age  Tenure   Balance  NumOfProducts  HasCrCard  \\\n",
       "370         0.902  0.324324     0.4  0.565758              1          1   \n",
       "5080        0.762  0.148649     1.0  0.000000              2          1   \n",
       "9516        0.414  0.189189     0.3  0.492242              1          1   \n",
       "8976        0.740  0.148649     0.2  0.000000              2          1   \n",
       "2547        0.664  0.554054     0.0  0.488889              1          0   \n",
       "3556        0.480  0.567568     0.6  0.588891              1          1   \n",
       "7649        0.730  0.175676     0.3  0.440742              1          1   \n",
       "8531        0.746  0.162162     0.1  0.000000              3          1   \n",
       "144         0.682  0.175676     0.5  0.163076              1          1   \n",
       "5889        0.754  0.175676     0.2  0.208021              2          0   \n",
       "\n",
       "      IsActiveMember  EstimatedSalary  Exited  Geography_France  \\\n",
       "370                1         0.052939       0                 0   \n",
       "5080               1         0.812283       0                 1   \n",
       "9516               1         0.349109       0                 1   \n",
       "8976               0         0.199589       0                 1   \n",
       "2547               1         0.424001       0                 0   \n",
       "3556               0         0.441014       1                 1   \n",
       "7649               1         0.473564       0                 1   \n",
       "8531               0         0.823259       1                 0   \n",
       "144                0         0.631072       1                 1   \n",
       "5889               1         0.801936       0                 1   \n",
       "\n",
       "      Geography_Germany  Geography_Spain  Gender_Female  Gender_Male  \n",
       "370                   0                1              0            1  \n",
       "5080                  0                0              0            1  \n",
       "9516                  0                0              1            0  \n",
       "8976                  0                0              0            1  \n",
       "2547                  0                1              1            0  \n",
       "3556                  0                0              1            0  \n",
       "7649                  0                0              1            0  \n",
       "8531                  0                1              0            1  \n",
       "144                   0                0              1            0  \n",
       "5889                  0                0              1            0  "
      ]
     },
     "execution_count": 18,
     "metadata": {},
     "output_type": "execute_result"
    }
   ],
   "source": [
    "df.sample(10)"
   ]
  },
  {
   "cell_type": "markdown",
   "id": "40ef9ccf-a35e-4888-8b01-267536866a46",
   "metadata": {
    "jp-MarkdownHeadingCollapsed": true,
    "tags": []
   },
   "source": [
    "## Train, test split"
   ]
  },
  {
   "cell_type": "code",
   "execution_count": 19,
   "id": "97890958-7171-48c6-aa66-69bd7ca97d30",
   "metadata": {},
   "outputs": [],
   "source": [
    "X = df.drop(['Exited'], axis=1)\n",
    "y = df['Exited']"
   ]
  },
  {
   "cell_type": "code",
   "execution_count": 20,
   "id": "37d0dc18-e388-43cd-b072-8537e60ad871",
   "metadata": {},
   "outputs": [],
   "source": [
    "from sklearn.model_selection import train_test_split\n",
    "X_train, X_test, y_train, y_test = train_test_split(X, y, test_size=0.2, random_state=42)"
   ]
  },
  {
   "cell_type": "code",
   "execution_count": 21,
   "id": "da009478-5130-40b0-b350-286936bd5667",
   "metadata": {},
   "outputs": [
    {
     "data": {
      "text/plain": [
       "(8000, 13)"
      ]
     },
     "execution_count": 21,
     "metadata": {},
     "output_type": "execute_result"
    }
   ],
   "source": [
    "X_train.shape"
   ]
  },
  {
   "cell_type": "code",
   "execution_count": 22,
   "id": "cd98be01-f059-4bfd-a19f-910fb05a271a",
   "metadata": {},
   "outputs": [
    {
     "data": {
      "text/plain": [
       "(2000, 13)"
      ]
     },
     "execution_count": 22,
     "metadata": {},
     "output_type": "execute_result"
    }
   ],
   "source": [
    "X_test.shape"
   ]
  },
  {
   "cell_type": "markdown",
   "id": "4c5581a2-93b7-4712-aae4-10b81dc01581",
   "metadata": {
    "jp-MarkdownHeadingCollapsed": true,
    "tags": []
   },
   "source": [
    "## Build Model"
   ]
  },
  {
   "cell_type": "code",
   "execution_count": 27,
   "id": "8ff71ae1-1aad-42fb-8d16-2073bf6e26bd",
   "metadata": {},
   "outputs": [],
   "source": [
    "import tensorflow as tf\n",
    "from tensorflow import keras\n",
    "\n",
    "model = keras.Sequential([\n",
    "    keras.layers.Dense(20, input_shape=(13,), activation='relu'),\n",
    "    keras.layers.Dense(15, activation='relu'),\n",
    "    keras.layers.Dense(1, activation='sigmoid')\n",
    "])\n",
    "\n",
    "model.compile(\n",
    "    optimizer = 'adam',\n",
    "    loss = 'binary_crossentropy',\n",
    "    metrics = ['accuracy']\n",
    ")"
   ]
  },
  {
   "cell_type": "code",
   "execution_count": 29,
   "id": "cd19940a-703d-4ae1-a456-7729daef1166",
   "metadata": {
    "collapsed": true,
    "jupyter": {
     "outputs_hidden": true
    },
    "tags": []
   },
   "outputs": [
    {
     "name": "stdout",
     "output_type": "stream",
     "text": [
      "Epoch 1/100\n",
      "250/250 [==============================] - 0s 750us/step - loss: 0.3943 - accuracy: 0.8314\n",
      "Epoch 2/100\n",
      "250/250 [==============================] - 0s 786us/step - loss: 0.3802 - accuracy: 0.8376\n",
      "Epoch 3/100\n",
      "250/250 [==============================] - 0s 787us/step - loss: 0.3716 - accuracy: 0.8446\n",
      "Epoch 4/100\n",
      "250/250 [==============================] - 0s 788us/step - loss: 0.3648 - accuracy: 0.8479\n",
      "Epoch 5/100\n",
      "250/250 [==============================] - 0s 827us/step - loss: 0.3611 - accuracy: 0.8494\n",
      "Epoch 6/100\n",
      "250/250 [==============================] - 0s 792us/step - loss: 0.3577 - accuracy: 0.8514\n",
      "Epoch 7/100\n",
      "250/250 [==============================] - 0s 802us/step - loss: 0.3547 - accuracy: 0.8526\n",
      "Epoch 8/100\n",
      "250/250 [==============================] - 0s 806us/step - loss: 0.3542 - accuracy: 0.8544\n",
      "Epoch 9/100\n",
      "250/250 [==============================] - 0s 761us/step - loss: 0.3517 - accuracy: 0.8528\n",
      "Epoch 10/100\n",
      "250/250 [==============================] - 0s 738us/step - loss: 0.3511 - accuracy: 0.8553\n",
      "Epoch 11/100\n",
      "250/250 [==============================] - 0s 813us/step - loss: 0.3504 - accuracy: 0.8541\n",
      "Epoch 12/100\n",
      "250/250 [==============================] - 0s 786us/step - loss: 0.3493 - accuracy: 0.8531\n",
      "Epoch 13/100\n",
      "250/250 [==============================] - 0s 775us/step - loss: 0.3488 - accuracy: 0.8543\n",
      "Epoch 14/100\n",
      "250/250 [==============================] - 0s 732us/step - loss: 0.3475 - accuracy: 0.8546\n",
      "Epoch 15/100\n",
      "250/250 [==============================] - 0s 732us/step - loss: 0.3487 - accuracy: 0.8556\n",
      "Epoch 16/100\n",
      "250/250 [==============================] - 0s 816us/step - loss: 0.3468 - accuracy: 0.8550\n",
      "Epoch 17/100\n",
      "250/250 [==============================] - 0s 818us/step - loss: 0.3453 - accuracy: 0.8558\n",
      "Epoch 18/100\n",
      "250/250 [==============================] - 0s 706us/step - loss: 0.3460 - accuracy: 0.8574\n",
      "Epoch 19/100\n",
      "250/250 [==============================] - 0s 681us/step - loss: 0.3449 - accuracy: 0.8553\n",
      "Epoch 20/100\n",
      "250/250 [==============================] - 0s 841us/step - loss: 0.3451 - accuracy: 0.8549\n",
      "Epoch 21/100\n",
      "250/250 [==============================] - 0s 742us/step - loss: 0.3436 - accuracy: 0.8572\n",
      "Epoch 22/100\n",
      "250/250 [==============================] - 0s 749us/step - loss: 0.3441 - accuracy: 0.8564\n",
      "Epoch 23/100\n",
      "250/250 [==============================] - 0s 695us/step - loss: 0.3430 - accuracy: 0.8577\n",
      "Epoch 24/100\n",
      "250/250 [==============================] - 0s 727us/step - loss: 0.3436 - accuracy: 0.8558\n",
      "Epoch 25/100\n",
      "250/250 [==============================] - 0s 729us/step - loss: 0.3431 - accuracy: 0.8576\n",
      "Epoch 26/100\n",
      "250/250 [==============================] - 0s 716us/step - loss: 0.3419 - accuracy: 0.8565\n",
      "Epoch 27/100\n",
      "250/250 [==============================] - 0s 715us/step - loss: 0.3424 - accuracy: 0.8565\n",
      "Epoch 28/100\n",
      "250/250 [==============================] - 0s 739us/step - loss: 0.3419 - accuracy: 0.8572\n",
      "Epoch 29/100\n",
      "250/250 [==============================] - 0s 685us/step - loss: 0.3415 - accuracy: 0.8580\n",
      "Epoch 30/100\n",
      "250/250 [==============================] - 0s 778us/step - loss: 0.3418 - accuracy: 0.8584\n",
      "Epoch 31/100\n",
      "250/250 [==============================] - 0s 712us/step - loss: 0.3405 - accuracy: 0.8551\n",
      "Epoch 32/100\n",
      "250/250 [==============================] - 0s 761us/step - loss: 0.3402 - accuracy: 0.8600\n",
      "Epoch 33/100\n",
      "250/250 [==============================] - 0s 693us/step - loss: 0.3398 - accuracy: 0.8584\n",
      "Epoch 34/100\n",
      "250/250 [==============================] - 0s 724us/step - loss: 0.3409 - accuracy: 0.8572\n",
      "Epoch 35/100\n",
      "250/250 [==============================] - 0s 699us/step - loss: 0.3392 - accuracy: 0.8595\n",
      "Epoch 36/100\n",
      "250/250 [==============================] - 0s 704us/step - loss: 0.3401 - accuracy: 0.8593\n",
      "Epoch 37/100\n",
      "250/250 [==============================] - 0s 706us/step - loss: 0.3391 - accuracy: 0.8586\n",
      "Epoch 38/100\n",
      "250/250 [==============================] - 0s 706us/step - loss: 0.3388 - accuracy: 0.8589\n",
      "Epoch 39/100\n",
      "250/250 [==============================] - 0s 694us/step - loss: 0.3386 - accuracy: 0.8615\n",
      "Epoch 40/100\n",
      "250/250 [==============================] - 0s 698us/step - loss: 0.3396 - accuracy: 0.8586\n",
      "Epoch 41/100\n",
      "250/250 [==============================] - 0s 719us/step - loss: 0.3389 - accuracy: 0.8591\n",
      "Epoch 42/100\n",
      "250/250 [==============================] - 0s 699us/step - loss: 0.3382 - accuracy: 0.8600\n",
      "Epoch 43/100\n",
      "250/250 [==============================] - 0s 688us/step - loss: 0.3377 - accuracy: 0.8597\n",
      "Epoch 44/100\n",
      "250/250 [==============================] - 0s 720us/step - loss: 0.3387 - accuracy: 0.8590\n",
      "Epoch 45/100\n",
      "250/250 [==============================] - 0s 714us/step - loss: 0.3382 - accuracy: 0.8587\n",
      "Epoch 46/100\n",
      "250/250 [==============================] - 0s 689us/step - loss: 0.3388 - accuracy: 0.8599\n",
      "Epoch 47/100\n",
      "250/250 [==============================] - 0s 735us/step - loss: 0.3378 - accuracy: 0.8596\n",
      "Epoch 48/100\n",
      "250/250 [==============================] - 0s 715us/step - loss: 0.3372 - accuracy: 0.8601\n",
      "Epoch 49/100\n",
      "250/250 [==============================] - 0s 727us/step - loss: 0.3369 - accuracy: 0.8615\n",
      "Epoch 50/100\n",
      "250/250 [==============================] - 0s 717us/step - loss: 0.3379 - accuracy: 0.8593\n",
      "Epoch 51/100\n",
      "250/250 [==============================] - 0s 717us/step - loss: 0.3370 - accuracy: 0.8583\n",
      "Epoch 52/100\n",
      "250/250 [==============================] - 0s 729us/step - loss: 0.3368 - accuracy: 0.8606\n",
      "Epoch 53/100\n",
      "250/250 [==============================] - 0s 705us/step - loss: 0.3365 - accuracy: 0.8620\n",
      "Epoch 54/100\n",
      "250/250 [==============================] - 0s 723us/step - loss: 0.3363 - accuracy: 0.8604\n",
      "Epoch 55/100\n",
      "250/250 [==============================] - 0s 791us/step - loss: 0.3371 - accuracy: 0.8594\n",
      "Epoch 56/100\n",
      "250/250 [==============================] - 0s 699us/step - loss: 0.3358 - accuracy: 0.8585\n",
      "Epoch 57/100\n",
      "250/250 [==============================] - 0s 697us/step - loss: 0.3355 - accuracy: 0.8627\n",
      "Epoch 58/100\n",
      "250/250 [==============================] - 0s 705us/step - loss: 0.3354 - accuracy: 0.8616\n",
      "Epoch 59/100\n",
      "250/250 [==============================] - 0s 708us/step - loss: 0.3347 - accuracy: 0.8610\n",
      "Epoch 60/100\n",
      "250/250 [==============================] - 0s 728us/step - loss: 0.3352 - accuracy: 0.8626\n",
      "Epoch 61/100\n",
      "250/250 [==============================] - 0s 702us/step - loss: 0.3350 - accuracy: 0.8621\n",
      "Epoch 62/100\n",
      "250/250 [==============================] - 0s 707us/step - loss: 0.3350 - accuracy: 0.8622\n",
      "Epoch 63/100\n",
      "250/250 [==============================] - 0s 700us/step - loss: 0.3350 - accuracy: 0.8609\n",
      "Epoch 64/100\n",
      "250/250 [==============================] - 0s 713us/step - loss: 0.3348 - accuracy: 0.8601\n",
      "Epoch 65/100\n",
      "250/250 [==============================] - 0s 713us/step - loss: 0.3340 - accuracy: 0.8635\n",
      "Epoch 66/100\n",
      "250/250 [==============================] - 0s 761us/step - loss: 0.3349 - accuracy: 0.8605\n",
      "Epoch 67/100\n",
      "250/250 [==============================] - 0s 714us/step - loss: 0.3338 - accuracy: 0.8620\n",
      "Epoch 68/100\n",
      "250/250 [==============================] - 0s 700us/step - loss: 0.3335 - accuracy: 0.8594\n",
      "Epoch 69/100\n",
      "250/250 [==============================] - 0s 718us/step - loss: 0.3334 - accuracy: 0.8618\n",
      "Epoch 70/100\n",
      "250/250 [==============================] - 0s 726us/step - loss: 0.3339 - accuracy: 0.8640\n",
      "Epoch 71/100\n",
      "250/250 [==============================] - 0s 710us/step - loss: 0.3325 - accuracy: 0.8619\n",
      "Epoch 72/100\n",
      "250/250 [==============================] - 0s 711us/step - loss: 0.3323 - accuracy: 0.8605\n",
      "Epoch 73/100\n",
      "250/250 [==============================] - 0s 707us/step - loss: 0.3333 - accuracy: 0.8608\n",
      "Epoch 74/100\n",
      "250/250 [==============================] - 0s 695us/step - loss: 0.3328 - accuracy: 0.8618\n",
      "Epoch 75/100\n",
      "250/250 [==============================] - 0s 711us/step - loss: 0.3327 - accuracy: 0.8618\n",
      "Epoch 76/100\n",
      "250/250 [==============================] - 0s 730us/step - loss: 0.3326 - accuracy: 0.8630\n",
      "Epoch 77/100\n",
      "250/250 [==============================] - 0s 696us/step - loss: 0.3325 - accuracy: 0.8610\n",
      "Epoch 78/100\n",
      "250/250 [==============================] - 0s 705us/step - loss: 0.3327 - accuracy: 0.8608\n",
      "Epoch 79/100\n",
      "250/250 [==============================] - 0s 707us/step - loss: 0.3322 - accuracy: 0.8624\n",
      "Epoch 80/100\n",
      "250/250 [==============================] - 0s 711us/step - loss: 0.3324 - accuracy: 0.8631\n",
      "Epoch 81/100\n",
      "250/250 [==============================] - 0s 685us/step - loss: 0.3319 - accuracy: 0.8637\n",
      "Epoch 82/100\n",
      "250/250 [==============================] - 0s 711us/step - loss: 0.3325 - accuracy: 0.8591\n",
      "Epoch 83/100\n",
      "250/250 [==============================] - 0s 731us/step - loss: 0.3322 - accuracy: 0.8635\n",
      "Epoch 84/100\n",
      "250/250 [==============================] - 0s 684us/step - loss: 0.3301 - accuracy: 0.8615\n",
      "Epoch 85/100\n",
      "250/250 [==============================] - 0s 769us/step - loss: 0.3327 - accuracy: 0.8625\n",
      "Epoch 86/100\n",
      "250/250 [==============================] - 0s 702us/step - loss: 0.3315 - accuracy: 0.8633\n",
      "Epoch 87/100\n",
      "250/250 [==============================] - 0s 680us/step - loss: 0.3323 - accuracy: 0.8634\n",
      "Epoch 88/100\n",
      "250/250 [==============================] - 0s 798us/step - loss: 0.3298 - accuracy: 0.8645\n",
      "Epoch 89/100\n",
      "250/250 [==============================] - 0s 723us/step - loss: 0.3307 - accuracy: 0.8644\n",
      "Epoch 90/100\n",
      "250/250 [==============================] - 0s 724us/step - loss: 0.3321 - accuracy: 0.8614\n",
      "Epoch 91/100\n",
      "250/250 [==============================] - 0s 692us/step - loss: 0.3305 - accuracy: 0.8644\n",
      "Epoch 92/100\n",
      "250/250 [==============================] - 0s 694us/step - loss: 0.3306 - accuracy: 0.8645\n",
      "Epoch 93/100\n",
      "250/250 [==============================] - 0s 764us/step - loss: 0.3307 - accuracy: 0.8640\n",
      "Epoch 94/100\n",
      "250/250 [==============================] - 0s 701us/step - loss: 0.3312 - accuracy: 0.8606\n",
      "Epoch 95/100\n",
      "250/250 [==============================] - 0s 703us/step - loss: 0.3294 - accuracy: 0.8616\n",
      "Epoch 96/100\n",
      "250/250 [==============================] - 0s 701us/step - loss: 0.3308 - accuracy: 0.8631\n",
      "Epoch 97/100\n",
      "250/250 [==============================] - 0s 717us/step - loss: 0.3299 - accuracy: 0.8641\n",
      "Epoch 98/100\n",
      "250/250 [==============================] - 0s 705us/step - loss: 0.3296 - accuracy: 0.8637\n",
      "Epoch 99/100\n",
      "250/250 [==============================] - 0s 707us/step - loss: 0.3299 - accuracy: 0.8656\n",
      "Epoch 100/100\n",
      "250/250 [==============================] - 0s 724us/step - loss: 0.3290 - accuracy: 0.8659\n"
     ]
    },
    {
     "data": {
      "text/plain": [
       "<keras.callbacks.History at 0x27713a05900>"
      ]
     },
     "execution_count": 29,
     "metadata": {},
     "output_type": "execute_result"
    }
   ],
   "source": [
    "model.fit(X_train, y_train, epochs=100)"
   ]
  },
  {
   "cell_type": "markdown",
   "id": "4dc4be90-0abe-4b70-9d22-c7cbb8955a13",
   "metadata": {
    "jp-MarkdownHeadingCollapsed": true,
    "tags": []
   },
   "source": [
    "## Model Evaluation"
   ]
  },
  {
   "cell_type": "code",
   "execution_count": 31,
   "id": "cd175bb3-67eb-48d7-b159-259cec40df4a",
   "metadata": {},
   "outputs": [
    {
     "name": "stdout",
     "output_type": "stream",
     "text": [
      "63/63 [==============================] - 0s 700us/step - loss: 0.3418 - accuracy: 0.8590\n"
     ]
    },
    {
     "data": {
      "text/plain": [
       "[0.3417956829071045, 0.859000027179718]"
      ]
     },
     "execution_count": 31,
     "metadata": {},
     "output_type": "execute_result"
    }
   ],
   "source": [
    "model.evaluate(X_test, y_test)"
   ]
  },
  {
   "cell_type": "code",
   "execution_count": 39,
   "id": "231843ee-247a-4ce2-8163-212a6e4ff730",
   "metadata": {},
   "outputs": [],
   "source": [
    "pred = model.predict(X_test)"
   ]
  },
  {
   "cell_type": "code",
   "execution_count": 40,
   "id": "dfa952db-8c49-4f55-a5d3-0985e8686dc3",
   "metadata": {},
   "outputs": [
    {
     "data": {
      "text/plain": [
       "array([[0.07297489],\n",
       "       [0.02328098],\n",
       "       [0.11457631],\n",
       "       [0.15820253],\n",
       "       [0.06186542]], dtype=float32)"
      ]
     },
     "execution_count": 40,
     "metadata": {},
     "output_type": "execute_result"
    }
   ],
   "source": [
    "pred[:5]"
   ]
  },
  {
   "cell_type": "code",
   "execution_count": 37,
   "id": "d62ff5e7-92c4-4eb7-80ef-c7e9529f67c1",
   "metadata": {},
   "outputs": [
    {
     "data": {
      "text/plain": [
       "6252    0\n",
       "4684    0\n",
       "1731    0\n",
       "4742    0\n",
       "4521    0\n",
       "Name: Exited, dtype: int64"
      ]
     },
     "execution_count": 37,
     "metadata": {},
     "output_type": "execute_result"
    }
   ],
   "source": [
    "y_test[:5]"
   ]
  },
  {
   "cell_type": "code",
   "execution_count": 42,
   "id": "e5894083-5297-45d9-80ea-b7870b0dc66c",
   "metadata": {},
   "outputs": [],
   "source": [
    "y_pred = []\n",
    "for yp in pred:\n",
    "    if yp >= 0.5:\n",
    "        y_pred.append(1)\n",
    "    else:\n",
    "        y_pred.append(0)\n",
    "        "
   ]
  },
  {
   "cell_type": "markdown",
   "id": "2995885e-c539-4dd7-8a92-1e51045f5648",
   "metadata": {
    "tags": []
   },
   "source": [
    "## Confusion Matrix"
   ]
  },
  {
   "cell_type": "code",
   "execution_count": 44,
   "id": "405d6fee-def6-4fb1-be65-b100ff506d6f",
   "metadata": {},
   "outputs": [
    {
     "name": "stdout",
     "output_type": "stream",
     "text": [
      "              precision    recall  f1-score   support\n",
      "\n",
      "           0       0.88      0.95      0.92      1607\n",
      "           1       0.70      0.49      0.58       393\n",
      "\n",
      "    accuracy                           0.86      2000\n",
      "   macro avg       0.79      0.72      0.75      2000\n",
      "weighted avg       0.85      0.86      0.85      2000\n",
      "\n"
     ]
    }
   ],
   "source": [
    "from sklearn.metrics import classification_report, confusion_matrix\n",
    "\n",
    "print(classification_report(y_test, y_pred))"
   ]
  },
  {
   "cell_type": "code",
   "execution_count": 63,
   "id": "8a0093a4-8b1a-4077-8e75-5b5f5a38cfb3",
   "metadata": {},
   "outputs": [
    {
     "data": {
      "image/png": "[encoded data removed]",
      "text/plain": [
       "<Figure size 720x576 with 2 Axes>"
      ]
     },
     "metadata": {},
     "output_type": "display_data"
    }
   ],
   "source": [
    "import seaborn as sns\n",
    "\n",
    "cm = tf.math.confusion_matrix(labels=y_test, predictions=y_pred)\n",
    "plt.figure(figsize = (10,8))\n",
    "\n",
    "sns.heatmap(cm, annot=True, fmt='d')\n",
    "plt.xlabel('Predicted')\n",
    "plt.ylabel('Truth')\n",
    "plt.title('Confusion Matrix')\n",
    "plt.show()"
   ]
  },
  {
   "cell_type": "markdown",
   "id": "e916c4fd-cd0b-44c3-8a28-f2f650a3ca09",
   "metadata": {
    "jp-MarkdownHeadingCollapsed": true,
    "tags": []
   },
   "source": [
    "### Acurracy"
   ]
  },
  {
   "cell_type": "code",
   "execution_count": 70,
   "id": "af32ee84-05a9-4818-8d88-d5e2ef74df42",
   "metadata": {},
   "outputs": [
    {
     "name": "stdout",
     "output_type": "stream",
     "text": [
      "Accuracy: 0.86\n"
     ]
    }
   ],
   "source": [
    "#Acurracy = (TP+TN) + (TP+TN+FP+FN)\n",
    "\n",
    "Accuracy = round((1527+191)/(1527+191+202+80), 2)\n",
    "print(f'Accuracy: {Accuracy}')"
   ]
  },
  {
   "cell_type": "markdown",
   "id": "7fd01dc8-5e84-4e87-8410-bf5526381334",
   "metadata": {
    "tags": []
   },
   "source": [
    "### Precision (Predicted)"
   ]
  },
  {
   "cell_type": "code",
   "execution_count": 79,
   "id": "c5bf031a-8905-4f34-ba7c-ad278bb7f803",
   "metadata": {},
   "outputs": [
    {
     "name": "stdout",
     "output_type": "stream",
     "text": [
      "Precision for Non-Exited(0): 0.88\n"
     ]
    }
   ],
   "source": [
    "#precision_0\n",
    "# p = TP/(TP+TN)\n",
    "\n",
    "TP = 1527\n",
    "TP_TN = (1527+202)\n",
    "prec_0 = TP/TP_TN\n",
    "\n",
    "print(f'Precision for Non-Exited(0): {round(prec_0, 2)}')"
   ]
  },
  {
   "cell_type": "code",
   "execution_count": 88,
   "id": "37e4ba76-6d6b-4dcb-b214-09d26c5ab857",
   "metadata": {},
   "outputs": [
    {
     "name": "stdout",
     "output_type": "stream",
     "text": [
      "Precision for Exited(1): 0.7\n"
     ]
    }
   ],
   "source": [
    "#precision_1\n",
    "# p = TP/(TP+TN)\n",
    "\n",
    "TN = 191\n",
    "FN_TN = (80+191)\n",
    "prec_1 = TN/FN_TN\n",
    "\n",
    "print(f'Precision for Exited(1): {round(prec_1, 2)}')"
   ]
  },
  {
   "cell_type": "markdown",
   "id": "e222b084-99c0-4f3b-a31a-a7e9f5687e28",
   "metadata": {},
   "source": [
    "### Recall (Truth)"
   ]
  },
  {
   "cell_type": "code",
   "execution_count": 89,
   "id": "2de6ada2-5198-4400-af3f-e60da022a21f",
   "metadata": {},
   "outputs": [
    {
     "name": "stdout",
     "output_type": "stream",
     "text": [
      "Recall for Non-Exited(0): 0.95\n"
     ]
    }
   ],
   "source": [
    "#recall_0\n",
    "#recall = TP/(TP+FN)\n",
    "\n",
    "TP=1527\n",
    "TP_FP=1527+80\n",
    "recall_0 = round(TP/(TP_FP),2)\n",
    "\n",
    "print(f'Recall for Non-Exited(0): {recall_0}')"
   ]
  },
  {
   "cell_type": "code",
   "execution_count": 90,
   "id": "167be41e-959e-4f94-9389-a9e85898baf3",
   "metadata": {},
   "outputs": [
    {
     "name": "stdout",
     "output_type": "stream",
     "text": [
      "Recall for Exited(1): 0.49\n"
     ]
    }
   ],
   "source": [
    "#recall_1\n",
    "#recall = TP/(TP+FN)\n",
    "\n",
    "TN=191\n",
    "TN_FP=202+191\n",
    "recall_1 = round(TN/(TN_FP),2)\n",
    "\n",
    "print(f'Recall for Exited(1): {recall_1}')"
   ]
  },
  {
   "cell_type": "markdown",
   "id": "1ea0d35f-5d91-437d-88d4-d53848c818e8",
   "metadata": {},
   "source": [
    "### f1-score"
   ]
  },
  {
   "cell_type": "code",
   "execution_count": 95,
   "id": "00a5964e-6484-4052-a16b-2af8ef2d2296",
   "metadata": {},
   "outputs": [
    {
     "name": "stdout",
     "output_type": "stream",
     "text": [
      "F1-score for Non-Exited(0): 0.92\n"
     ]
    }
   ],
   "source": [
    "#f1-score_0\n",
    "# (precision x recall)/(precision + recall)\n",
    "\n",
    "f1_score_0 = round(2*(prec_0 * recall_0)/(prec_0 + recall_0), 2)\n",
    "print(f'F1-score for Non-Exited(0): {f1_score_0}')"
   ]
  },
  {
   "cell_type": "code",
   "execution_count": 96,
   "id": "c7e51cbc-6942-471d-a5ad-8f5123d73838",
   "metadata": {},
   "outputs": [
    {
     "name": "stdout",
     "output_type": "stream",
     "text": [
      "F1-score for Exited(1): 0.58\n"
     ]
    }
   ],
   "source": [
    "#f1-score_1\n",
    "# (precision x recall)/(precision + recall)\n",
    "\n",
    "f1_score_1 = round(2*(prec_1 * recall_1)/(prec_1 + recall_1), 2)\n",
    "print(f'F1-score for Exited(1): {f1_score_1}')"
   ]
  }
 ],
 "metadata": {
  "kernelspec": {
   "display_name": "Python 3 (ipykernel)",
   "language": "python",
   "name": "python3"
  },
  "language_info": {
   "codemirror_mode": {
    "name": "ipython",
    "version": 3
   },
   "file_extension": ".py",
   "mimetype": "text/x-python",
   "name": "python",
   "nbconvert_exporter": "python",
   "pygments_lexer": "ipython3",
   "version": "3.10.4"
  },
  "widgets": {
   "application/vnd.jupyter.widget-state+json": {
    "state": {},
    "version_major": 2,
    "version_minor": 0
   }
  }
 },
 "nbformat": 4,
 "nbformat_minor": 5
}

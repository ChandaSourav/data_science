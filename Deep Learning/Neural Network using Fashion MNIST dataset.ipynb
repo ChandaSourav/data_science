{
  "nbformat": 4,
  "nbformat_minor": 0,
  "metadata": {
    "colab": {
      "provenance": [],
      "collapsed_sections": [],
      "authorship_tag": "ABX9TyNtBrCL4HvHQdredUfETxhy",
      "include_colab_link": true
    },
    "kernelspec": {
      "name": "python3",
      "display_name": "Python 3"
    },
    "language_info": {
      "name": "python"
    }
  },
  "cells": [
    {
      "cell_type": "markdown",
      "metadata": {
        "id": "view-in-github",
        "colab_type": "text"
      },
      "source": [
        "<a href=\"https://colab.research.google.com/github/dasdebjeet/data_science/blob/main/Deep%20Learning/Neural%20Network%20using%20Fashion%20MNIST%20dataset.ipynb\" target=\"_parent\"><img src=\"https://colab.research.google.com/assets/colab-badge.svg\" alt=\"Open In Colab\"/></a>"
      ]
    },
    {
      "cell_type": "markdown",
      "source": [
        "# DeepLearning using the Fashion MNIST dataset"
      ],
      "metadata": {
        "id": "u4HuLzhJprCy"
      }
    },
    {
      "cell_type": "markdown",
      "source": [
        "##<br> Import the nessecary modules"
      ],
      "metadata": {
        "id": "J_Pb7B8FpP7_"
      }
    },
    {
      "cell_type": "code",
      "execution_count": 2,
      "metadata": {
        "id": "oiP8_MAbjZYV"
      },
      "outputs": [],
      "source": [
        "import tensorflow as tf\n",
        "from tensorflow import keras\n",
        "\n",
        "import numpy as np\n",
        "import matplotlib.pyplot as plt"
      ]
    },
    {
      "cell_type": "markdown",
      "source": [
        "##<br> Load the Fashion MNIST dataset"
      ],
      "metadata": {
        "id": "eHUYT-yBpa-g"
      }
    },
    {
      "cell_type": "code",
      "source": [
        "f_mnist = keras.datasets.fashion_mnist"
      ],
      "metadata": {
        "id": "-G9gDW7tk5ho"
      },
      "execution_count": 3,
      "outputs": []
    },
    {
      "cell_type": "markdown",
      "source": [
        "Class of f-mnist \n",
        "\n",
        "* 0 T-shirt/top\n",
        "* 1 Trouser\n",
        "* 2 Pullover\n",
        "* 3 Dress\n",
        "* 4 Coat\n",
        "* 5 Sandal\n",
        "* 6 Shirt\n",
        "* 7 Sneaker\n",
        "* 8 Bag\n",
        "* 9 Ankle boot\n",
        "\n",
        "\n",
        "\n"
      ],
      "metadata": {
        "id": "4rmdxhQhlZgs"
      }
    },
    {
      "cell_type": "code",
      "source": [
        "# just naming the cloth names into a list for later use\n",
        "class_names = ['T-shirt/top', 'Trouser', 'Pullover', 'Dress', 'Coat', 'Sandal', 'Shirt', 'Sneaker', 'Bag', 'Ankle boot']"
      ],
      "metadata": {
        "id": "IH6s7WnFnHXO"
      },
      "execution_count": 4,
      "outputs": []
    },
    {
      "cell_type": "markdown",
      "source": [
        "##<br> Splitting the dataset into Test and Train"
      ],
      "metadata": {
        "id": "p6JjoPkzo54b"
      }
    },
    {
      "cell_type": "code",
      "source": [
        "(train_images, train_labels), (test_images, test_labels) = f_mnist.load_data()"
      ],
      "metadata": {
        "id": "TRuWcW2moDLp",
        "colab": {
          "base_uri": "https://localhost:8080/"
        },
        "outputId": "3f2c7da0-0c50-4ebf-9e18-5b2bfe6b68fd"
      },
      "execution_count": 5,
      "outputs": [
        {
          "output_type": "stream",
          "name": "stdout",
          "text": [
            "Downloading data from https://storage.googleapis.com/tensorflow/tf-keras-datasets/train-labels-idx1-ubyte.gz\n",
            "32768/29515 [=================================] - 0s 0us/step\n",
            "40960/29515 [=========================================] - 0s 0us/step\n",
            "Downloading data from https://storage.googleapis.com/tensorflow/tf-keras-datasets/train-images-idx3-ubyte.gz\n",
            "26427392/26421880 [==============================] - 0s 0us/step\n",
            "26435584/26421880 [==============================] - 0s 0us/step\n",
            "Downloading data from https://storage.googleapis.com/tensorflow/tf-keras-datasets/t10k-labels-idx1-ubyte.gz\n",
            "16384/5148 [===============================================================================================] - 0s 0us/step\n",
            "Downloading data from https://storage.googleapis.com/tensorflow/tf-keras-datasets/t10k-images-idx3-ubyte.gz\n",
            "4423680/4422102 [==============================] - 0s 0us/step\n",
            "4431872/4422102 [==============================] - 0s 0us/step\n"
          ]
        }
      ]
    },
    {
      "cell_type": "code",
      "source": [
        "train_images.shape"
      ],
      "metadata": {
        "colab": {
          "base_uri": "https://localhost:8080/"
        },
        "id": "PxnSstB_oyqY",
        "outputId": "24b59e00-096d-4327-aff5-e04f2aef46d5"
      },
      "execution_count": 6,
      "outputs": [
        {
          "output_type": "execute_result",
          "data": {
            "text/plain": [
              "(60000, 28, 28)"
            ]
          },
          "metadata": {},
          "execution_count": 6
        }
      ]
    },
    {
      "cell_type": "code",
      "source": [
        "train_labels.shape"
      ],
      "metadata": {
        "colab": {
          "base_uri": "https://localhost:8080/"
        },
        "id": "SP20l7BBr6Io",
        "outputId": "3ff330a1-2830-4bc1-ed58-8d2e9a73537c"
      },
      "execution_count": 7,
      "outputs": [
        {
          "output_type": "execute_result",
          "data": {
            "text/plain": [
              "(60000,)"
            ]
          },
          "metadata": {},
          "execution_count": 7
        }
      ]
    },
    {
      "cell_type": "markdown",
      "source": [
        "<br>Lets see now what image is in the index no. 0"
      ],
      "metadata": {
        "id": "HZVJBePRrUZo"
      }
    },
    {
      "cell_type": "code",
      "source": [
        "train_images[0]"
      ],
      "metadata": {
        "colab": {
          "base_uri": "https://localhost:8080/"
        },
        "id": "76OGcDkYqAbU",
        "outputId": "532ff7d8-9d5d-4f0b-fbe5-ce62b2888533"
      },
      "execution_count": 8,
      "outputs": [
        {
          "output_type": "execute_result",
          "data": {
            "text/plain": [
              "array([[  0,   0,   0,   0,   0,   0,   0,   0,   0,   0,   0,   0,   0,\n",
              "          0,   0,   0,   0,   0,   0,   0,   0,   0,   0,   0,   0,   0,\n",
              "          0,   0],\n",
              "       [  0,   0,   0,   0,   0,   0,   0,   0,   0,   0,   0,   0,   0,\n",
              "          0,   0,   0,   0,   0,   0,   0,   0,   0,   0,   0,   0,   0,\n",
              "          0,   0],\n",
              "       [  0,   0,   0,   0,   0,   0,   0,   0,   0,   0,   0,   0,   0,\n",
              "          0,   0,   0,   0,   0,   0,   0,   0,   0,   0,   0,   0,   0,\n",
              "          0,   0],\n",
              "       [  0,   0,   0,   0,   0,   0,   0,   0,   0,   0,   0,   0,   1,\n",
              "          0,   0,  13,  73,   0,   0,   1,   4,   0,   0,   0,   0,   1,\n",
              "          1,   0],\n",
              "       [  0,   0,   0,   0,   0,   0,   0,   0,   0,   0,   0,   0,   3,\n",
              "          0,  36, 136, 127,  62,  54,   0,   0,   0,   1,   3,   4,   0,\n",
              "          0,   3],\n",
              "       [  0,   0,   0,   0,   0,   0,   0,   0,   0,   0,   0,   0,   6,\n",
              "          0, 102, 204, 176, 134, 144, 123,  23,   0,   0,   0,   0,  12,\n",
              "         10,   0],\n",
              "       [  0,   0,   0,   0,   0,   0,   0,   0,   0,   0,   0,   0,   0,\n",
              "          0, 155, 236, 207, 178, 107, 156, 161, 109,  64,  23,  77, 130,\n",
              "         72,  15],\n",
              "       [  0,   0,   0,   0,   0,   0,   0,   0,   0,   0,   0,   1,   0,\n",
              "         69, 207, 223, 218, 216, 216, 163, 127, 121, 122, 146, 141,  88,\n",
              "        172,  66],\n",
              "       [  0,   0,   0,   0,   0,   0,   0,   0,   0,   1,   1,   1,   0,\n",
              "        200, 232, 232, 233, 229, 223, 223, 215, 213, 164, 127, 123, 196,\n",
              "        229,   0],\n",
              "       [  0,   0,   0,   0,   0,   0,   0,   0,   0,   0,   0,   0,   0,\n",
              "        183, 225, 216, 223, 228, 235, 227, 224, 222, 224, 221, 223, 245,\n",
              "        173,   0],\n",
              "       [  0,   0,   0,   0,   0,   0,   0,   0,   0,   0,   0,   0,   0,\n",
              "        193, 228, 218, 213, 198, 180, 212, 210, 211, 213, 223, 220, 243,\n",
              "        202,   0],\n",
              "       [  0,   0,   0,   0,   0,   0,   0,   0,   0,   1,   3,   0,  12,\n",
              "        219, 220, 212, 218, 192, 169, 227, 208, 218, 224, 212, 226, 197,\n",
              "        209,  52],\n",
              "       [  0,   0,   0,   0,   0,   0,   0,   0,   0,   0,   6,   0,  99,\n",
              "        244, 222, 220, 218, 203, 198, 221, 215, 213, 222, 220, 245, 119,\n",
              "        167,  56],\n",
              "       [  0,   0,   0,   0,   0,   0,   0,   0,   0,   4,   0,   0,  55,\n",
              "        236, 228, 230, 228, 240, 232, 213, 218, 223, 234, 217, 217, 209,\n",
              "         92,   0],\n",
              "       [  0,   0,   1,   4,   6,   7,   2,   0,   0,   0,   0,   0, 237,\n",
              "        226, 217, 223, 222, 219, 222, 221, 216, 223, 229, 215, 218, 255,\n",
              "         77,   0],\n",
              "       [  0,   3,   0,   0,   0,   0,   0,   0,   0,  62, 145, 204, 228,\n",
              "        207, 213, 221, 218, 208, 211, 218, 224, 223, 219, 215, 224, 244,\n",
              "        159,   0],\n",
              "       [  0,   0,   0,   0,  18,  44,  82, 107, 189, 228, 220, 222, 217,\n",
              "        226, 200, 205, 211, 230, 224, 234, 176, 188, 250, 248, 233, 238,\n",
              "        215,   0],\n",
              "       [  0,  57, 187, 208, 224, 221, 224, 208, 204, 214, 208, 209, 200,\n",
              "        159, 245, 193, 206, 223, 255, 255, 221, 234, 221, 211, 220, 232,\n",
              "        246,   0],\n",
              "       [  3, 202, 228, 224, 221, 211, 211, 214, 205, 205, 205, 220, 240,\n",
              "         80, 150, 255, 229, 221, 188, 154, 191, 210, 204, 209, 222, 228,\n",
              "        225,   0],\n",
              "       [ 98, 233, 198, 210, 222, 229, 229, 234, 249, 220, 194, 215, 217,\n",
              "        241,  65,  73, 106, 117, 168, 219, 221, 215, 217, 223, 223, 224,\n",
              "        229,  29],\n",
              "       [ 75, 204, 212, 204, 193, 205, 211, 225, 216, 185, 197, 206, 198,\n",
              "        213, 240, 195, 227, 245, 239, 223, 218, 212, 209, 222, 220, 221,\n",
              "        230,  67],\n",
              "       [ 48, 203, 183, 194, 213, 197, 185, 190, 194, 192, 202, 214, 219,\n",
              "        221, 220, 236, 225, 216, 199, 206, 186, 181, 177, 172, 181, 205,\n",
              "        206, 115],\n",
              "       [  0, 122, 219, 193, 179, 171, 183, 196, 204, 210, 213, 207, 211,\n",
              "        210, 200, 196, 194, 191, 195, 191, 198, 192, 176, 156, 167, 177,\n",
              "        210,  92],\n",
              "       [  0,   0,  74, 189, 212, 191, 175, 172, 175, 181, 185, 188, 189,\n",
              "        188, 193, 198, 204, 209, 210, 210, 211, 188, 188, 194, 192, 216,\n",
              "        170,   0],\n",
              "       [  2,   0,   0,   0,  66, 200, 222, 237, 239, 242, 246, 243, 244,\n",
              "        221, 220, 193, 191, 179, 182, 182, 181, 176, 166, 168,  99,  58,\n",
              "          0,   0],\n",
              "       [  0,   0,   0,   0,   0,   0,   0,  40,  61,  44,  72,  41,  35,\n",
              "          0,   0,   0,   0,   0,   0,   0,   0,   0,   0,   0,   0,   0,\n",
              "          0,   0],\n",
              "       [  0,   0,   0,   0,   0,   0,   0,   0,   0,   0,   0,   0,   0,\n",
              "          0,   0,   0,   0,   0,   0,   0,   0,   0,   0,   0,   0,   0,\n",
              "          0,   0],\n",
              "       [  0,   0,   0,   0,   0,   0,   0,   0,   0,   0,   0,   0,   0,\n",
              "          0,   0,   0,   0,   0,   0,   0,   0,   0,   0,   0,   0,   0,\n",
              "          0,   0]], dtype=uint8)"
            ]
          },
          "metadata": {},
          "execution_count": 8
        }
      ]
    },
    {
      "cell_type": "markdown",
      "source": [
        "<br>\n",
        "\n",
        "Plot the image at the index no. 0"
      ],
      "metadata": {
        "id": "9KJZkGQarkHa"
      }
    },
    {
      "cell_type": "code",
      "source": [
        "plt.style.use(['dark_background'])\n",
        "\n",
        "plt.imshow(train_images[0])\n",
        "plt.colorbar()\n",
        "plt.gray()"
      ],
      "metadata": {
        "colab": {
          "base_uri": "https://localhost:8080/",
          "height": 265
        },
        "id": "yuqfXqCZqFZd",
        "outputId": "fd4dfd8e-202c-411f-d476-f563a080a318"
      },
      "execution_count": 9,
      "outputs": [
        {
          "output_type": "display_data",
          "data": {
            "text/plain": [
              "<Figure size 432x288 with 2 Axes>"
            ],
            "image/png": "[encoded data removed]"
          },
          "metadata": {}
        }
      ]
    },
    {
      "cell_type": "code",
      "source": [
        "print(class_names[train_labels[0]])"
      ],
      "metadata": {
        "colab": {
          "base_uri": "https://localhost:8080/"
        },
        "id": "AWCXjHMqqTvx",
        "outputId": "9f0e606c-3860-4bff-fdf4-7fb859e5b0e1"
      },
      "execution_count": 10,
      "outputs": [
        {
          "output_type": "stream",
          "name": "stdout",
          "text": [
            "Ankle boot\n"
          ]
        }
      ]
    },
    {
      "cell_type": "markdown",
      "source": [
        "##<br>Preprocessing of Data"
      ],
      "metadata": {
        "id": "aTreJ132upY4"
      }
    },
    {
      "cell_type": "markdown",
      "source": [
        "We scale these values to a range of 0 to 1 before feeding to the neural network model. For this, cast the datatype of the image components from an integer to a\n",
        "float, and divide by 255."
      ],
      "metadata": {
        "id": "eDpNIyw7yly2"
      }
    },
    {
      "cell_type": "code",
      "source": [
        "train_images = train_images / 225.0\n",
        "test_images = test_images / 225.0 "
      ],
      "metadata": {
        "id": "Z7y8WMR8rDLg"
      },
      "execution_count": 11,
      "outputs": []
    },
    {
      "cell_type": "code",
      "source": [
        "train_images[0]"
      ],
      "metadata": {
        "colab": {
          "base_uri": "https://localhost:8080/"
        },
        "id": "dUH-RtYyuRIB",
        "outputId": "9080a858-8f40-415c-d018-183463c13421"
      },
      "execution_count": 12,
      "outputs": [
        {
          "output_type": "execute_result",
          "data": {
            "text/plain": [
              "array([[0.        , 0.        , 0.        , 0.        , 0.        ,\n",
              "        0.        , 0.        , 0.        , 0.        , 0.        ,\n",
              "        0.        , 0.        , 0.        , 0.        , 0.        ,\n",
              "        0.        , 0.        , 0.        , 0.        , 0.        ,\n",
              "        0.        , 0.        , 0.        , 0.        , 0.        ,\n",
              "        0.        , 0.        , 0.        ],\n",
              "       [0.        , 0.        , 0.        , 0.        , 0.        ,\n",
              "        0.        , 0.        , 0.        , 0.        , 0.        ,\n",
              "        0.        , 0.        , 0.        , 0.        , 0.        ,\n",
              "        0.        , 0.        , 0.        , 0.        , 0.        ,\n",
              "        0.        , 0.        , 0.        , 0.        , 0.        ,\n",
              "        0.        , 0.        , 0.        ],\n",
              "       [0.        , 0.        , 0.        , 0.        , 0.        ,\n",
              "        0.        , 0.        , 0.        , 0.        , 0.        ,\n",
              "        0.        , 0.        , 0.        , 0.        , 0.        ,\n",
              "        0.        , 0.        , 0.        , 0.        , 0.        ,\n",
              "        0.        , 0.        , 0.        , 0.        , 0.        ,\n",
              "        0.        , 0.        , 0.        ],\n",
              "       [0.        , 0.        , 0.        , 0.        , 0.        ,\n",
              "        0.        , 0.        , 0.        , 0.        , 0.        ,\n",
              "        0.        , 0.        , 0.00444444, 0.        , 0.        ,\n",
              "        0.05777778, 0.32444444, 0.        , 0.        , 0.00444444,\n",
              "        0.01777778, 0.        , 0.        , 0.        , 0.        ,\n",
              "        0.00444444, 0.00444444, 0.        ],\n",
              "       [0.        , 0.        , 0.        , 0.        , 0.        ,\n",
              "        0.        , 0.        , 0.        , 0.        , 0.        ,\n",
              "        0.        , 0.        , 0.01333333, 0.        , 0.16      ,\n",
              "        0.60444444, 0.56444444, 0.27555556, 0.24      , 0.        ,\n",
              "        0.        , 0.        , 0.00444444, 0.01333333, 0.01777778,\n",
              "        0.        , 0.        , 0.01333333],\n",
              "       [0.        , 0.        , 0.        , 0.        , 0.        ,\n",
              "        0.        , 0.        , 0.        , 0.        , 0.        ,\n",
              "        0.        , 0.        , 0.02666667, 0.        , 0.45333333,\n",
              "        0.90666667, 0.78222222, 0.59555556, 0.64      , 0.54666667,\n",
              "        0.10222222, 0.        , 0.        , 0.        , 0.        ,\n",
              "        0.05333333, 0.04444444, 0.        ],\n",
              "       [0.        , 0.        , 0.        , 0.        , 0.        ,\n",
              "        0.        , 0.        , 0.        , 0.        , 0.        ,\n",
              "        0.        , 0.        , 0.        , 0.        , 0.68888889,\n",
              "        1.04888889, 0.92      , 0.79111111, 0.47555556, 0.69333333,\n",
              "        0.71555556, 0.48444444, 0.28444444, 0.10222222, 0.34222222,\n",
              "        0.57777778, 0.32      , 0.06666667],\n",
              "       [0.        , 0.        , 0.        , 0.        , 0.        ,\n",
              "        0.        , 0.        , 0.        , 0.        , 0.        ,\n",
              "        0.        , 0.00444444, 0.        , 0.30666667, 0.92      ,\n",
              "        0.99111111, 0.96888889, 0.96      , 0.96      , 0.72444444,\n",
              "        0.56444444, 0.53777778, 0.54222222, 0.64888889, 0.62666667,\n",
              "        0.39111111, 0.76444444, 0.29333333],\n",
              "       [0.        , 0.        , 0.        , 0.        , 0.        ,\n",
              "        0.        , 0.        , 0.        , 0.        , 0.00444444,\n",
              "        0.00444444, 0.00444444, 0.        , 0.88888889, 1.03111111,\n",
              "        1.03111111, 1.03555556, 1.01777778, 0.99111111, 0.99111111,\n",
              "        0.95555556, 0.94666667, 0.72888889, 0.56444444, 0.54666667,\n",
              "        0.87111111, 1.01777778, 0.        ],\n",
              "       [0.        , 0.        , 0.        , 0.        , 0.        ,\n",
              "        0.        , 0.        , 0.        , 0.        , 0.        ,\n",
              "        0.        , 0.        , 0.        , 0.81333333, 1.        ,\n",
              "        0.96      , 0.99111111, 1.01333333, 1.04444444, 1.00888889,\n",
              "        0.99555556, 0.98666667, 0.99555556, 0.98222222, 0.99111111,\n",
              "        1.08888889, 0.76888889, 0.        ],\n",
              "       [0.        , 0.        , 0.        , 0.        , 0.        ,\n",
              "        0.        , 0.        , 0.        , 0.        , 0.        ,\n",
              "        0.        , 0.        , 0.        , 0.85777778, 1.01333333,\n",
              "        0.96888889, 0.94666667, 0.88      , 0.8       , 0.94222222,\n",
              "        0.93333333, 0.93777778, 0.94666667, 0.99111111, 0.97777778,\n",
              "        1.08      , 0.89777778, 0.        ],\n",
              "       [0.        , 0.        , 0.        , 0.        , 0.        ,\n",
              "        0.        , 0.        , 0.        , 0.        , 0.00444444,\n",
              "        0.01333333, 0.        , 0.05333333, 0.97333333, 0.97777778,\n",
              "        0.94222222, 0.96888889, 0.85333333, 0.75111111, 1.00888889,\n",
              "        0.92444444, 0.96888889, 0.99555556, 0.94222222, 1.00444444,\n",
              "        0.87555556, 0.92888889, 0.23111111],\n",
              "       [0.        , 0.        , 0.        , 0.        , 0.        ,\n",
              "        0.        , 0.        , 0.        , 0.        , 0.        ,\n",
              "        0.02666667, 0.        , 0.44      , 1.08444444, 0.98666667,\n",
              "        0.97777778, 0.96888889, 0.90222222, 0.88      , 0.98222222,\n",
              "        0.95555556, 0.94666667, 0.98666667, 0.97777778, 1.08888889,\n",
              "        0.52888889, 0.74222222, 0.24888889],\n",
              "       [0.        , 0.        , 0.        , 0.        , 0.        ,\n",
              "        0.        , 0.        , 0.        , 0.        , 0.01777778,\n",
              "        0.        , 0.        , 0.24444444, 1.04888889, 1.01333333,\n",
              "        1.02222222, 1.01333333, 1.06666667, 1.03111111, 0.94666667,\n",
              "        0.96888889, 0.99111111, 1.04      , 0.96444444, 0.96444444,\n",
              "        0.92888889, 0.40888889, 0.        ],\n",
              "       [0.        , 0.        , 0.00444444, 0.01777778, 0.02666667,\n",
              "        0.03111111, 0.00888889, 0.        , 0.        , 0.        ,\n",
              "        0.        , 0.        , 1.05333333, 1.00444444, 0.96444444,\n",
              "        0.99111111, 0.98666667, 0.97333333, 0.98666667, 0.98222222,\n",
              "        0.96      , 0.99111111, 1.01777778, 0.95555556, 0.96888889,\n",
              "        1.13333333, 0.34222222, 0.        ],\n",
              "       [0.        , 0.01333333, 0.        , 0.        , 0.        ,\n",
              "        0.        , 0.        , 0.        , 0.        , 0.27555556,\n",
              "        0.64444444, 0.90666667, 1.01333333, 0.92      , 0.94666667,\n",
              "        0.98222222, 0.96888889, 0.92444444, 0.93777778, 0.96888889,\n",
              "        0.99555556, 0.99111111, 0.97333333, 0.95555556, 0.99555556,\n",
              "        1.08444444, 0.70666667, 0.        ],\n",
              "       [0.        , 0.        , 0.        , 0.        , 0.08      ,\n",
              "        0.19555556, 0.36444444, 0.47555556, 0.84      , 1.01333333,\n",
              "        0.97777778, 0.98666667, 0.96444444, 1.00444444, 0.88888889,\n",
              "        0.91111111, 0.93777778, 1.02222222, 0.99555556, 1.04      ,\n",
              "        0.78222222, 0.83555556, 1.11111111, 1.10222222, 1.03555556,\n",
              "        1.05777778, 0.95555556, 0.        ],\n",
              "       [0.        , 0.25333333, 0.83111111, 0.92444444, 0.99555556,\n",
              "        0.98222222, 0.99555556, 0.92444444, 0.90666667, 0.95111111,\n",
              "        0.92444444, 0.92888889, 0.88888889, 0.70666667, 1.08888889,\n",
              "        0.85777778, 0.91555556, 0.99111111, 1.13333333, 1.13333333,\n",
              "        0.98222222, 1.04      , 0.98222222, 0.93777778, 0.97777778,\n",
              "        1.03111111, 1.09333333, 0.        ],\n",
              "       [0.01333333, 0.89777778, 1.01333333, 0.99555556, 0.98222222,\n",
              "        0.93777778, 0.93777778, 0.95111111, 0.91111111, 0.91111111,\n",
              "        0.91111111, 0.97777778, 1.06666667, 0.35555556, 0.66666667,\n",
              "        1.13333333, 1.01777778, 0.98222222, 0.83555556, 0.68444444,\n",
              "        0.84888889, 0.93333333, 0.90666667, 0.92888889, 0.98666667,\n",
              "        1.01333333, 1.        , 0.        ],\n",
              "       [0.43555556, 1.03555556, 0.88      , 0.93333333, 0.98666667,\n",
              "        1.01777778, 1.01777778, 1.04      , 1.10666667, 0.97777778,\n",
              "        0.86222222, 0.95555556, 0.96444444, 1.07111111, 0.28888889,\n",
              "        0.32444444, 0.47111111, 0.52      , 0.74666667, 0.97333333,\n",
              "        0.98222222, 0.95555556, 0.96444444, 0.99111111, 0.99111111,\n",
              "        0.99555556, 1.01777778, 0.12888889],\n",
              "       [0.33333333, 0.90666667, 0.94222222, 0.90666667, 0.85777778,\n",
              "        0.91111111, 0.93777778, 1.        , 0.96      , 0.82222222,\n",
              "        0.87555556, 0.91555556, 0.88      , 0.94666667, 1.06666667,\n",
              "        0.86666667, 1.00888889, 1.08888889, 1.06222222, 0.99111111,\n",
              "        0.96888889, 0.94222222, 0.92888889, 0.98666667, 0.97777778,\n",
              "        0.98222222, 1.02222222, 0.29777778],\n",
              "       [0.21333333, 0.90222222, 0.81333333, 0.86222222, 0.94666667,\n",
              "        0.87555556, 0.82222222, 0.84444444, 0.86222222, 0.85333333,\n",
              "        0.89777778, 0.95111111, 0.97333333, 0.98222222, 0.97777778,\n",
              "        1.04888889, 1.        , 0.96      , 0.88444444, 0.91555556,\n",
              "        0.82666667, 0.80444444, 0.78666667, 0.76444444, 0.80444444,\n",
              "        0.91111111, 0.91555556, 0.51111111],\n",
              "       [0.        , 0.54222222, 0.97333333, 0.85777778, 0.79555556,\n",
              "        0.76      , 0.81333333, 0.87111111, 0.90666667, 0.93333333,\n",
              "        0.94666667, 0.92      , 0.93777778, 0.93333333, 0.88888889,\n",
              "        0.87111111, 0.86222222, 0.84888889, 0.86666667, 0.84888889,\n",
              "        0.88      , 0.85333333, 0.78222222, 0.69333333, 0.74222222,\n",
              "        0.78666667, 0.93333333, 0.40888889],\n",
              "       [0.        , 0.        , 0.32888889, 0.84      , 0.94222222,\n",
              "        0.84888889, 0.77777778, 0.76444444, 0.77777778, 0.80444444,\n",
              "        0.82222222, 0.83555556, 0.84      , 0.83555556, 0.85777778,\n",
              "        0.88      , 0.90666667, 0.92888889, 0.93333333, 0.93333333,\n",
              "        0.93777778, 0.83555556, 0.83555556, 0.86222222, 0.85333333,\n",
              "        0.96      , 0.75555556, 0.        ],\n",
              "       [0.00888889, 0.        , 0.        , 0.        , 0.29333333,\n",
              "        0.88888889, 0.98666667, 1.05333333, 1.06222222, 1.07555556,\n",
              "        1.09333333, 1.08      , 1.08444444, 0.98222222, 0.97777778,\n",
              "        0.85777778, 0.84888889, 0.79555556, 0.80888889, 0.80888889,\n",
              "        0.80444444, 0.78222222, 0.73777778, 0.74666667, 0.44      ,\n",
              "        0.25777778, 0.        , 0.        ],\n",
              "       [0.        , 0.        , 0.        , 0.        , 0.        ,\n",
              "        0.        , 0.        , 0.17777778, 0.27111111, 0.19555556,\n",
              "        0.32      , 0.18222222, 0.15555556, 0.        , 0.        ,\n",
              "        0.        , 0.        , 0.        , 0.        , 0.        ,\n",
              "        0.        , 0.        , 0.        , 0.        , 0.        ,\n",
              "        0.        , 0.        , 0.        ],\n",
              "       [0.        , 0.        , 0.        , 0.        , 0.        ,\n",
              "        0.        , 0.        , 0.        , 0.        , 0.        ,\n",
              "        0.        , 0.        , 0.        , 0.        , 0.        ,\n",
              "        0.        , 0.        , 0.        , 0.        , 0.        ,\n",
              "        0.        , 0.        , 0.        , 0.        , 0.        ,\n",
              "        0.        , 0.        , 0.        ],\n",
              "       [0.        , 0.        , 0.        , 0.        , 0.        ,\n",
              "        0.        , 0.        , 0.        , 0.        , 0.        ,\n",
              "        0.        , 0.        , 0.        , 0.        , 0.        ,\n",
              "        0.        , 0.        , 0.        , 0.        , 0.        ,\n",
              "        0.        , 0.        , 0.        , 0.        , 0.        ,\n",
              "        0.        , 0.        , 0.        ]])"
            ]
          },
          "metadata": {},
          "execution_count": 12
        }
      ]
    },
    {
      "cell_type": "markdown",
      "source": [
        "<br> Now, lets see the first 25 images"
      ],
      "metadata": {
        "id": "9v0EeR_3yIxI"
      }
    },
    {
      "cell_type": "code",
      "source": [
        "plt.figure(figsize=(10,10))\n",
        "plt.style.use(['dark_background'])\n",
        "# %matplotlib inline\n",
        "\n",
        "for i in range(25):\n",
        "  plt.subplot(5, 5, i+1)\n",
        "  plt.xticks([])\n",
        "  plt.yticks([])\n",
        "  plt.imshow(train_images[i], cmap=plt.cm.binary)\n",
        "  plt.gray()\n",
        "  plt.grid(False)\n",
        "  plt.xlabel(class_names[train_labels[i]])"
      ],
      "metadata": {
        "colab": {
          "base_uri": "https://localhost:8080/",
          "height": 589
        },
        "id": "xGwjk66UuU3k",
        "outputId": "6e8b56be-47f3-4e74-9b8e-38a61be8e3dd"
      },
      "execution_count": 13,
      "outputs": [
        {
          "output_type": "display_data",
          "data": {
            "text/plain": [
              "<Figure size 720x720 with 25 Axes>"
            ],
            "image/png": "[encoded data removed]"
          },
          "metadata": {}
        }
      ]
    },
    {
      "cell_type": "markdown",
      "source": [
        "## **Build the Model**"
      ],
      "metadata": {
        "id": "oBcTmGXjy390"
      }
    },
    {
      "cell_type": "markdown",
      "source": [
        "Setup the layers of the NN"
      ],
      "metadata": {
        "id": "notqCrCgy-Pb"
      }
    },
    {
      "cell_type": "code",
      "source": [
        "model = keras.Sequential([\n",
        "    tf.keras.layers.Flatten(input_shape=(28,28)),       # flatten the 2D array (28x28) of image into 1D array i.e (784) \n",
        "    tf.keras.layers.Dense(128, activation='relu'),\n",
        "    tf.keras.layers.Dense(10, activation='sigmoid')     # output class --  probability distribution btw 0-1\n",
        "])"
      ],
      "metadata": {
        "id": "mQOnknfby5r7"
      },
      "execution_count": 60,
      "outputs": []
    },
    {
      "cell_type": "markdown",
      "source": [
        "<br> Complie the layers"
      ],
      "metadata": {
        "id": "6aE2Z5M80kN_"
      }
    },
    {
      "cell_type": "code",
      "source": [
        "model.compile(optimizer='adam',\n",
        "              loss = 'sparse_categorical_crossentropy',\n",
        "              metrics=['accuracy']\n",
        ")"
      ],
      "metadata": {
        "id": "uCNG4gqDvdsT"
      },
      "execution_count": 61,
      "outputs": []
    },
    {
      "cell_type": "markdown",
      "source": [
        "## <br>Train the Model"
      ],
      "metadata": {
        "id": "RnB2GPvY2kDG"
      }
    },
    {
      "cell_type": "code",
      "source": [
        "model.fit(train_images, train_labels, epochs=5)"
      ],
      "metadata": {
        "colab": {
          "base_uri": "https://localhost:8080/"
        },
        "id": "xBgslZR-0ExO",
        "outputId": "2ac12584-e316-402e-ec0e-13141b2ca0d9"
      },
      "execution_count": 62,
      "outputs": [
        {
          "output_type": "stream",
          "name": "stdout",
          "text": [
            "Epoch 1/5\n",
            "1875/1875 [==============================] - 6s 3ms/step - loss: 0.4965 - accuracy: 0.8249\n",
            "Epoch 2/5\n",
            "1875/1875 [==============================] - 6s 3ms/step - loss: 0.3755 - accuracy: 0.8654\n",
            "Epoch 3/5\n",
            "1875/1875 [==============================] - 6s 3ms/step - loss: 0.3368 - accuracy: 0.8774\n",
            "Epoch 4/5\n",
            "1875/1875 [==============================] - 6s 3ms/step - loss: 0.3137 - accuracy: 0.8854\n",
            "Epoch 5/5\n",
            "1875/1875 [==============================] - 5s 3ms/step - loss: 0.2973 - accuracy: 0.8900\n"
          ]
        },
        {
          "output_type": "execute_result",
          "data": {
            "text/plain": [
              "<keras.callbacks.History at 0x7fa503f3abd0>"
            ]
          },
          "metadata": {},
          "execution_count": 62
        }
      ]
    },
    {
      "cell_type": "code",
      "source": [
        "test_loss, test_acc = model.evaluate(test_images, test_labels)\n",
        "print(\"accuracy: \", test_acc)\n",
        "print(\"loss: \", test_loss)"
      ],
      "metadata": {
        "colab": {
          "base_uri": "https://localhost:8080/"
        },
        "id": "GXjf2der2uWs",
        "outputId": "197fef59-7f23-4760-9b80-13cf666fd567"
      },
      "execution_count": 63,
      "outputs": [
        {
          "output_type": "stream",
          "name": "stdout",
          "text": [
            "313/313 [==============================] - 1s 2ms/step - loss: 0.3482 - accuracy: 0.8769\n",
            "accuracy:  0.8769000172615051\n",
            "loss:  0.3481917381286621\n"
          ]
        }
      ]
    },
    {
      "cell_type": "markdown",
      "source": [
        "## <br>Make Prediction"
      ],
      "metadata": {
        "id": "gnY9Ay2UDRRA"
      }
    },
    {
      "cell_type": "code",
      "source": [
        "pred = model.predict(test_images)"
      ],
      "metadata": {
        "id": "8kmrjKa-BIw2"
      },
      "execution_count": 64,
      "outputs": []
    },
    {
      "cell_type": "code",
      "source": [
        "pred[0]"
      ],
      "metadata": {
        "colab": {
          "base_uri": "https://localhost:8080/"
        },
        "id": "DKZ4OyzRDdaW",
        "outputId": "0712c65f-9374-45ed-dfe4-6288a043c976"
      },
      "execution_count": 65,
      "outputs": [
        {
          "output_type": "execute_result",
          "data": {
            "text/plain": [
              "array([1.2681395e-02, 1.7663289e-05, 2.1704947e-05, 3.0611961e-06,\n",
              "       3.7869811e-04, 9.0929985e-01, 6.6804886e-04, 8.7650466e-01,\n",
              "       1.5541315e-03, 9.9817127e-01], dtype=float32)"
            ]
          },
          "metadata": {},
          "execution_count": 65
        }
      ]
    },
    {
      "cell_type": "markdown",
      "source": [
        "Predicted value of index 0"
      ],
      "metadata": {
        "id": "ME7XO5gfEUil"
      }
    },
    {
      "cell_type": "code",
      "source": [
        "p_res = np.argmax(pred[0])\n",
        "class_names[p_res]"
      ],
      "metadata": {
        "colab": {
          "base_uri": "https://localhost:8080/",
          "height": 36
        },
        "id": "lmOamZ6kDicB",
        "outputId": "f8ac3b26-6c10-40ab-dc02-201c4694c2d3"
      },
      "execution_count": 66,
      "outputs": [
        {
          "output_type": "execute_result",
          "data": {
            "text/plain": [
              "'Ankle boot'"
            ],
            "application/vnd.google.colaboratory.intrinsic+json": {
              "type": "string"
            }
          },
          "metadata": {},
          "execution_count": 66
        }
      ]
    },
    {
      "cell_type": "markdown",
      "source": [
        "Actual value of index 0"
      ],
      "metadata": {
        "id": "i_HqiGdYEZgI"
      }
    },
    {
      "cell_type": "code",
      "source": [
        "ac_res = test_labels[0]\n",
        "class_names[ac_res]"
      ],
      "metadata": {
        "colab": {
          "base_uri": "https://localhost:8080/",
          "height": 36
        },
        "id": "VsGWzBSRDvop",
        "outputId": "c3f3a3ca-1ba4-4bc4-9dbc-a0542eebc97d"
      },
      "execution_count": 67,
      "outputs": [
        {
          "output_type": "execute_result",
          "data": {
            "text/plain": [
              "'Ankle boot'"
            ],
            "application/vnd.google.colaboratory.intrinsic+json": {
              "type": "string"
            }
          },
          "metadata": {},
          "execution_count": 67
        }
      ]
    },
    {
      "cell_type": "markdown",
      "source": [
        "Seems, its a pretty good model "
      ],
      "metadata": {
        "id": "9-x2rmJSEglD"
      }
    },
    {
      "cell_type": "markdown",
      "source": [
        "<br> Confusion Matrix"
      ],
      "metadata": {
        "id": "JcRYjfFnUHCz"
      }
    },
    {
      "cell_type": "code",
      "source": [
        "# get the labels of the predicted labels from the predicted values\n",
        "pred_labels = [np.argmax(i) for i in pred]\n",
        "pred_labels[:5]"
      ],
      "metadata": {
        "colab": {
          "base_uri": "https://localhost:8080/"
        },
        "id": "oB-zP0sVWDyB",
        "outputId": "49e176aa-44de-4968-caf4-2c90363123ba"
      },
      "execution_count": 68,
      "outputs": [
        {
          "output_type": "execute_result",
          "data": {
            "text/plain": [
              "[9, 2, 1, 1, 6]"
            ]
          },
          "metadata": {},
          "execution_count": 68
        }
      ]
    },
    {
      "cell_type": "code",
      "source": [
        "cm = tf.math.confusion_matrix(labels=test_labels, predictions=pred_labels)\n",
        "cm"
      ],
      "metadata": {
        "id": "Xgwd02nqD1Wq",
        "colab": {
          "base_uri": "https://localhost:8080/"
        },
        "outputId": "3619a4c7-653b-4f9d-f7e4-4cbb82062322"
      },
      "execution_count": 69,
      "outputs": [
        {
          "output_type": "execute_result",
          "data": {
            "text/plain": [
              "<tf.Tensor: shape=(10, 10), dtype=int32, numpy=\n",
              "array([[905,   2,  14,  21,   3,   2,  46,   0,   7,   0],\n",
              "       [  5, 966,   2,  21,   3,   0,   1,   0,   2,   0],\n",
              "       [ 20,   0, 824,  14, 101,   0,  39,   0,   2,   0],\n",
              "       [ 45,   9,  10, 886,  33,   0,  13,   0,   4,   0],\n",
              "       [  0,   1, 122,  32, 811,   0,  33,   0,   1,   0],\n",
              "       [  0,   0,   0,   1,   0, 962,   0,  24,   1,  12],\n",
              "       [206,   3, 123,  34,  87,   1, 532,   0,  14,   0],\n",
              "       [  0,   0,   0,   0,   0,  16,   0, 957,   0,  27],\n",
              "       [  5,   1,   3,   7,   3,   1,   1,   6, 973,   0],\n",
              "       [  0,   0,   0,   1,   0,   7,   1,  38,   0, 953]], dtype=int32)>"
            ]
          },
          "metadata": {},
          "execution_count": 69
        }
      ]
    },
    {
      "cell_type": "code",
      "source": [
        "import seaborn as sns\n",
        "plt.figure(figsize=(12,10))\n",
        "\n",
        "colormap = sns.color_palette([ \"#080808\", \"#151116\", \"#4b444d\", \"#bc51ff\", \"#9d00ff\", \"#d797ff\"])\n",
        "sns.heatmap(cm, cmap=colormap, annot=True, fmt='d')\n",
        "plt.xlabel(\"Predicted\")\n",
        "plt.ylabel(\"Actual\")"
      ],
      "metadata": {
        "colab": {
          "base_uri": "https://localhost:8080/",
          "height": 623
        },
        "id": "0mg8Iu7vVU8I",
        "outputId": "67950f9d-0e2f-401a-c2d2-ad6e17c15292"
      },
      "execution_count": 70,
      "outputs": [
        {
          "output_type": "execute_result",
          "data": {
            "text/plain": [
              "Text(87.0, 0.5, 'Actual')"
            ]
          },
          "metadata": {},
          "execution_count": 70
        },
        {
          "output_type": "display_data",
          "data": {
            "text/plain": [
              "<Figure size 864x720 with 2 Axes>"
            ],
            "image/png": "[encoded data removed]"
          },
          "metadata": {}
        }
      ]
    },
    {
      "cell_type": "code",
      "source": [],
      "metadata": {
        "id": "BRU9fDMBYRp5"
      },
      "execution_count": 70,
      "outputs": []
    }
  ]
}
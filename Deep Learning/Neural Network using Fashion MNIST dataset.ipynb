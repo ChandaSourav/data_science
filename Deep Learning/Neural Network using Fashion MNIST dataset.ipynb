{
 "cells": [
  {
   "cell_type": "markdown",
   "metadata": {
    "colab_type": "text",
    "id": "view-in-github"
   },
   "source": [
    "<a href=\"https://colab.research.google.com/github/dasdebjeet/data_science/blob/main/Deep%20Learning/Neural%20Network%20using%20Fashion%20MNIST%20dataset.ipynb\" target=\"_parent\"><img src=\"https://colab.research.google.com/assets/colab-badge.svg\" alt=\"Open In Colab\"/></a>"
   ]
  },
  {
   "cell_type": "markdown",
   "metadata": {
    "id": "u4HuLzhJprCy"
   },
   "source": [
    "# DeepLearning using the Fashion MNIST dataset"
   ]
  },
  {
   "cell_type": "markdown",
   "metadata": {
    "id": "J_Pb7B8FpP7_"
   },
   "source": [
    "##<br> Import the nessecary modules"
   ]
  },
  {
   "cell_type": "code",
   "execution_count": null,
   "metadata": {
    "id": "oiP8_MAbjZYV"
   },
   "outputs": [],
   "source": [
    "import tensorflow as tf\n",
    "from tensorflow import keras\n",
    "\n",
    "import numpy as np\n",
    "import matplotlib.pyplot as plt"
   ]
  },
  {
   "cell_type": "markdown",
   "metadata": {
    "id": "eHUYT-yBpa-g"
   },
   "source": [
    "##<br> Load the Fashion MNIST dataset"
   ]
  },
  {
   "cell_type": "code",
   "execution_count": null,
   "metadata": {
    "id": "-G9gDW7tk5ho"
   },
   "outputs": [],
   "source": [
    "f_mnist = keras.datasets.fashion_mnist"
   ]
  },
  {
   "cell_type": "markdown",
   "metadata": {
    "id": "4rmdxhQhlZgs"
   },
   "source": [
    "Class of f-mnist \n",
    "\n",
    "* 0 T-shirt/top\n",
    "* 1 Trouser\n",
    "* 2 Pullover\n",
    "* 3 Dress\n",
    "* 4 Coat\n",
    "* 5 Sandal\n",
    "* 6 Shirt\n",
    "* 7 Sneaker\n",
    "* 8 Bag\n",
    "* 9 Ankle boot\n",
    "\n",
    "\n",
    "\n"
   ]
  },
  {
   "cell_type": "code",
   "execution_count": null,
   "metadata": {
    "id": "IH6s7WnFnHXO"
   },
   "outputs": [],
   "source": [
    "# just naming the cloth names into a list for later use\n",
    "class_names = ['T-shirt/top', 'Trouser', 'Pullover', 'Dress', 'Coat', 'Sandal', 'Shirt', 'Sneaker', 'Bag', 'Ankle boot']"
   ]
  },
  {
   "cell_type": "markdown",
   "metadata": {
    "id": "p6JjoPkzo54b"
   },
   "source": [
    "##<br> Splitting the dataset into Test and Train"
   ]
  },
  {
   "cell_type": "code",
   "execution_count": null,
   "metadata": {
    "colab": {
     "base_uri": "https://localhost:8080/"
    },
    "id": "TRuWcW2moDLp",
    "outputId": "3f2c7da0-0c50-4ebf-9e18-5b2bfe6b68fd"
   },
   "outputs": [
    {
     "name": "stdout",
     "output_type": "stream",
     "text": [
      "Downloading data from https://storage.googleapis.com/tensorflow/tf-keras-datasets/train-labels-idx1-ubyte.gz\n",
      "32768/29515 [=================================] - 0s 0us/step\n",
      "40960/29515 [=========================================] - 0s 0us/step\n",
      "Downloading data from https://storage.googleapis.com/tensorflow/tf-keras-datasets/train-images-idx3-ubyte.gz\n",
      "26427392/26421880 [==============================] - 0s 0us/step\n",
      "26435584/26421880 [==============================] - 0s 0us/step\n",
      "Downloading data from https://storage.googleapis.com/tensorflow/tf-keras-datasets/t10k-labels-idx1-ubyte.gz\n",
      "16384/5148 [===============================================================================================] - 0s 0us/step\n",
      "Downloading data from https://storage.googleapis.com/tensorflow/tf-keras-datasets/t10k-images-idx3-ubyte.gz\n",
      "4423680/4422102 [==============================] - 0s 0us/step\n",
      "4431872/4422102 [==============================] - 0s 0us/step\n"
     ]
    }
   ],
   "source": [
    "(train_images, train_labels), (test_images, test_labels) = f_mnist.load_data()"
   ]
  },
  {
   "cell_type": "code",
   "execution_count": null,
   "metadata": {
    "colab": {
     "base_uri": "https://localhost:8080/"
    },
    "id": "PxnSstB_oyqY",
    "outputId": "24b59e00-096d-4327-aff5-e04f2aef46d5"
   },
   "outputs": [
    {
     "data": {
      "text/plain": [
       "(60000, 28, 28)"
      ]
     },
     "execution_count": 6,
     "metadata": {},
     "output_type": "execute_result"
    }
   ],
   "source": [
    "train_images.shape"
   ]
  },
  {
   "cell_type": "code",
   "execution_count": null,
   "metadata": {
    "colab": {
     "base_uri": "https://localhost:8080/"
    },
    "id": "SP20l7BBr6Io",
    "outputId": "3ff330a1-2830-4bc1-ed58-8d2e9a73537c"
   },
   "outputs": [
    {
     "data": {
      "text/plain": [
       "(60000,)"
      ]
     },
     "execution_count": 7,
     "metadata": {},
     "output_type": "execute_result"
    }
   ],
   "source": [
    "train_labels.shape"
   ]
  },
  {
   "cell_type": "markdown",
   "metadata": {
    "id": "HZVJBePRrUZo"
   },
   "source": [
    "<br>Lets see now what image is in the index no. 0"
   ]
  },
  {
   "cell_type": "code",
   "execution_count": null,
   "metadata": {
    "colab": {
     "base_uri": "https://localhost:8080/"
    },
    "id": "76OGcDkYqAbU",
    "outputId": "532ff7d8-9d5d-4f0b-fbe5-ce62b2888533"
   },
   "outputs": [
    {
     "data": {
      "text/plain": [
       "array([[  0,   0,   0,   0,   0,   0,   0,   0,   0,   0,   0,   0,   0,\n",
       "          0,   0,   0,   0,   0,   0,   0,   0,   0,   0,   0,   0,   0,\n",
       "          0,   0],\n",
       "       [  0,   0,   0,   0,   0,   0,   0,   0,   0,   0,   0,   0,   0,\n",
       "          0,   0,   0,   0,   0,   0,   0,   0,   0,   0,   0,   0,   0,\n",
       "          0,   0],\n",
       "       [  0,   0,   0,   0,   0,   0,   0,   0,   0,   0,   0,   0,   0,\n",
       "          0,   0,   0,   0,   0,   0,   0,   0,   0,   0,   0,   0,   0,\n",
       "          0,   0],\n",
       "       [  0,   0,   0,   0,   0,   0,   0,   0,   0,   0,   0,   0,   1,\n",
       "          0,   0,  13,  73,   0,   0,   1,   4,   0,   0,   0,   0,   1,\n",
       "          1,   0],\n",
       "       [  0,   0,   0,   0,   0,   0,   0,   0,   0,   0,   0,   0,   3,\n",
       "          0,  36, 136, 127,  62,  54,   0,   0,   0,   1,   3,   4,   0,\n",
       "          0,   3],\n",
       "       [  0,   0,   0,   0,   0,   0,   0,   0,   0,   0,   0,   0,   6,\n",
       "          0, 102, 204, 176, 134, 144, 123,  23,   0,   0,   0,   0,  12,\n",
       "         10,   0],\n",
       "       [  0,   0,   0,   0,   0,   0,   0,   0,   0,   0,   0,   0,   0,\n",
       "          0, 155, 236, 207, 178, 107, 156, 161, 109,  64,  23,  77, 130,\n",
       "         72,  15],\n",
       "       [  0,   0,   0,   0,   0,   0,   0,   0,   0,   0,   0,   1,   0,\n",
       "         69, 207, 223, 218, 216, 216, 163, 127, 121, 122, 146, 141,  88,\n",
       "        172,  66],\n",
       "       [  0,   0,   0,   0,   0,   0,   0,   0,   0,   1,   1,   1,   0,\n",
       "        200, 232, 232, 233, 229, 223, 223, 215, 213, 164, 127, 123, 196,\n",
       "        229,   0],\n",
       "       [  0,   0,   0,   0,   0,   0,   0,   0,   0,   0,   0,   0,   0,\n",
       "        183, 225, 216, 223, 228, 235, 227, 224, 222, 224, 221, 223, 245,\n",
       "        173,   0],\n",
       "       [  0,   0,   0,   0,   0,   0,   0,   0,   0,   0,   0,   0,   0,\n",
       "        193, 228, 218, 213, 198, 180, 212, 210, 211, 213, 223, 220, 243,\n",
       "        202,   0],\n",
       "       [  0,   0,   0,   0,   0,   0,   0,   0,   0,   1,   3,   0,  12,\n",
       "        219, 220, 212, 218, 192, 169, 227, 208, 218, 224, 212, 226, 197,\n",
       "        209,  52],\n",
       "       [  0,   0,   0,   0,   0,   0,   0,   0,   0,   0,   6,   0,  99,\n",
       "        244, 222, 220, 218, 203, 198, 221, 215, 213, 222, 220, 245, 119,\n",
       "        167,  56],\n",
       "       [  0,   0,   0,   0,   0,   0,   0,   0,   0,   4,   0,   0,  55,\n",
       "        236, 228, 230, 228, 240, 232, 213, 218, 223, 234, 217, 217, 209,\n",
       "         92,   0],\n",
       "       [  0,   0,   1,   4,   6,   7,   2,   0,   0,   0,   0,   0, 237,\n",
       "        226, 217, 223, 222, 219, 222, 221, 216, 223, 229, 215, 218, 255,\n",
       "         77,   0],\n",
       "       [  0,   3,   0,   0,   0,   0,   0,   0,   0,  62, 145, 204, 228,\n",
       "        207, 213, 221, 218, 208, 211, 218, 224, 223, 219, 215, 224, 244,\n",
       "        159,   0],\n",
       "       [  0,   0,   0,   0,  18,  44,  82, 107, 189, 228, 220, 222, 217,\n",
       "        226, 200, 205, 211, 230, 224, 234, 176, 188, 250, 248, 233, 238,\n",
       "        215,   0],\n",
       "       [  0,  57, 187, 208, 224, 221, 224, 208, 204, 214, 208, 209, 200,\n",
       "        159, 245, 193, 206, 223, 255, 255, 221, 234, 221, 211, 220, 232,\n",
       "        246,   0],\n",
       "       [  3, 202, 228, 224, 221, 211, 211, 214, 205, 205, 205, 220, 240,\n",
       "         80, 150, 255, 229, 221, 188, 154, 191, 210, 204, 209, 222, 228,\n",
       "        225,   0],\n",
       "       [ 98, 233, 198, 210, 222, 229, 229, 234, 249, 220, 194, 215, 217,\n",
       "        241,  65,  73, 106, 117, 168, 219, 221, 215, 217, 223, 223, 224,\n",
       "        229,  29],\n",
       "       [ 75, 204, 212, 204, 193, 205, 211, 225, 216, 185, 197, 206, 198,\n",
       "        213, 240, 195, 227, 245, 239, 223, 218, 212, 209, 222, 220, 221,\n",
       "        230,  67],\n",
       "       [ 48, 203, 183, 194, 213, 197, 185, 190, 194, 192, 202, 214, 219,\n",
       "        221, 220, 236, 225, 216, 199, 206, 186, 181, 177, 172, 181, 205,\n",
       "        206, 115],\n",
       "       [  0, 122, 219, 193, 179, 171, 183, 196, 204, 210, 213, 207, 211,\n",
       "        210, 200, 196, 194, 191, 195, 191, 198, 192, 176, 156, 167, 177,\n",
       "        210,  92],\n",
       "       [  0,   0,  74, 189, 212, 191, 175, 172, 175, 181, 185, 188, 189,\n",
       "        188, 193, 198, 204, 209, 210, 210, 211, 188, 188, 194, 192, 216,\n",
       "        170,   0],\n",
       "       [  2,   0,   0,   0,  66, 200, 222, 237, 239, 242, 246, 243, 244,\n",
       "        221, 220, 193, 191, 179, 182, 182, 181, 176, 166, 168,  99,  58,\n",
       "          0,   0],\n",
       "       [  0,   0,   0,   0,   0,   0,   0,  40,  61,  44,  72,  41,  35,\n",
       "          0,   0,   0,   0,   0,   0,   0,   0,   0,   0,   0,   0,   0,\n",
       "          0,   0],\n",
       "       [  0,   0,   0,   0,   0,   0,   0,   0,   0,   0,   0,   0,   0,\n",
       "          0,   0,   0,   0,   0,   0,   0,   0,   0,   0,   0,   0,   0,\n",
       "          0,   0],\n",
       "       [  0,   0,   0,   0,   0,   0,   0,   0,   0,   0,   0,   0,   0,\n",
       "          0,   0,   0,   0,   0,   0,   0,   0,   0,   0,   0,   0,   0,\n",
       "          0,   0]], dtype=uint8)"
      ]
     },
     "execution_count": 8,
     "metadata": {},
     "output_type": "execute_result"
    }
   ],
   "source": [
    "train_images[0]"
   ]
  },
  {
   "cell_type": "markdown",
   "metadata": {
    "id": "9KJZkGQarkHa"
   },
   "source": [
    "<br>\n",
    "\n",
    "Plot the image at the index no. 0"
   ]
  },
  {
   "cell_type": "code",
   "execution_count": null,
   "metadata": {
    "colab": {
     "base_uri": "https://localhost:8080/",
     "height": 265
    },
    "id": "yuqfXqCZqFZd",
    "outputId": "fd4dfd8e-202c-411f-d476-f563a080a318"
   },
   "outputs": [
    {
     "data": {
      "image/png": "[encoded data removed]",
      "text/plain": [
       "<Figure size 432x288 with 2 Axes>"
      ]
     },
     "metadata": {},
     "output_type": "display_data"
    }
   ],
   "source": [
    "plt.style.use(['dark_background'])\n",
    "\n",
    "plt.imshow(train_images[0])\n",
    "plt.colorbar()\n",
    "plt.gray()"
   ]
  },
  {
   "cell_type": "code",
   "execution_count": null,
   "metadata": {
    "colab": {
     "base_uri": "https://localhost:8080/"
    },
    "id": "AWCXjHMqqTvx",
    "outputId": "9f0e606c-3860-4bff-fdf4-7fb859e5b0e1"
   },
   "outputs": [
    {
     "name": "stdout",
     "output_type": "stream",
     "text": [
      "Ankle boot\n"
     ]
    }
   ],
   "source": [
    "print(class_names[train_labels[0]])"
   ]
  },
  {
   "cell_type": "markdown",
   "metadata": {
    "id": "aTreJ132upY4"
   },
   "source": [
    "##<br>Preprocessing of Data"
   ]
  },
  {
   "cell_type": "markdown",
   "metadata": {
    "id": "eDpNIyw7yly2"
   },
   "source": [
    "We scale these values to a range of 0 to 1 before feeding to the neural network model. For this, cast the datatype of the image components from an integer to a\n",
    "float, and divide by 255."
   ]
  },
  {
   "cell_type": "code",
   "execution_count": null,
   "metadata": {
    "id": "Z7y8WMR8rDLg"
   },
   "outputs": [],
   "source": [
    "train_images = train_images / 225.0\n",
    "test_images = test_images / 225.0 "
   ]
  },
  {
   "cell_type": "code",
   "execution_count": null,
   "metadata": {
    "colab": {
     "base_uri": "https://localhost:8080/"
    },
    "id": "dUH-RtYyuRIB",
    "outputId": "9080a858-8f40-415c-d018-183463c13421"
   },
   "outputs": [
    {
     "data": {
      "text/plain": [
       "array([[0.        , 0.        , 0.        , 0.        , 0.        ,\n",
       "        0.        , 0.        , 0.        , 0.        , 0.        ,\n",
       "        0.        , 0.        , 0.        , 0.        , 0.        ,\n",
       "        0.        , 0.        , 0.        , 0.        , 0.        ,\n",
       "        0.        , 0.        , 0.        , 0.        , 0.        ,\n",
       "        0.        , 0.        , 0.        ],\n",
       "       [0.        , 0.        , 0.        , 0.        , 0.        ,\n",
       "        0.        , 0.        , 0.        , 0.        , 0.        ,\n",
       "        0.        , 0.        , 0.        , 0.        , 0.        ,\n",
       "        0.        , 0.        , 0.        , 0.        , 0.        ,\n",
       "        0.        , 0.        , 0.        , 0.        , 0.        ,\n",
       "        0.        , 0.        , 0.        ],\n",
       "       [0.        , 0.        , 0.        , 0.        , 0.        ,\n",
       "        0.        , 0.        , 0.        , 0.        , 0.        ,\n",
       "        0.        , 0.        , 0.        , 0.        , 0.        ,\n",
       "        0.        , 0.        , 0.        , 0.        , 0.        ,\n",
       "        0.        , 0.        , 0.        , 0.        , 0.        ,\n",
       "        0.        , 0.        , 0.        ],\n",
       "       [0.        , 0.        , 0.        , 0.        , 0.        ,\n",
       "        0.        , 0.        , 0.        , 0.        , 0.        ,\n",
       "        0.        , 0.        , 0.00444444, 0.        , 0.        ,\n",
       "        0.05777778, 0.32444444, 0.        , 0.        , 0.00444444,\n",
       "        0.01777778, 0.        , 0.        , 0.        , 0.        ,\n",
       "        0.00444444, 0.00444444, 0.        ],\n",
       "       [0.        , 0.        , 0.        , 0.        , 0.        ,\n",
       "        0.        , 0.        , 0.        , 0.        , 0.        ,\n",
       "        0.        , 0.        , 0.01333333, 0.        , 0.16      ,\n",
       "        0.60444444, 0.56444444, 0.27555556, 0.24      , 0.        ,\n",
       "        0.        , 0.        , 0.00444444, 0.01333333, 0.01777778,\n",
       "        0.        , 0.        , 0.01333333],\n",
       "       [0.        , 0.        , 0.        , 0.        , 0.        ,\n",
       "        0.        , 0.        , 0.        , 0.        , 0.        ,\n",
       "        0.        , 0.        , 0.02666667, 0.        , 0.45333333,\n",
       "        0.90666667, 0.78222222, 0.59555556, 0.64      , 0.54666667,\n",
       "        0.10222222, 0.        , 0.        , 0.        , 0.        ,\n",
       "        0.05333333, 0.04444444, 0.        ],\n",
       "       [0.        , 0.        , 0.        , 0.        , 0.        ,\n",
       "        0.        , 0.        , 0.        , 0.        , 0.        ,\n",
       "        0.        , 0.        , 0.        , 0.        , 0.68888889,\n",
       "        1.04888889, 0.92      , 0.79111111, 0.47555556, 0.69333333,\n",
       "        0.71555556, 0.48444444, 0.28444444, 0.10222222, 0.34222222,\n",
       "        0.57777778, 0.32      , 0.06666667],\n",
       "       [0.        , 0.        , 0.        , 0.        , 0.        ,\n",
       "        0.        , 0.        , 0.        , 0.        , 0.        ,\n",
       "        0.        , 0.00444444, 0.        , 0.30666667, 0.92      ,\n",
       "        0.99111111, 0.96888889, 0.96      , 0.96      , 0.72444444,\n",
       "        0.56444444, 0.53777778, 0.54222222, 0.64888889, 0.62666667,\n",
       "        0.39111111, 0.76444444, 0.29333333],\n",
       "       [0.        , 0.        , 0.        , 0.        , 0.        ,\n",
       "        0.        , 0.        , 0.        , 0.        , 0.00444444,\n",
       "        0.00444444, 0.00444444, 0.        , 0.88888889, 1.03111111,\n",
       "        1.03111111, 1.03555556, 1.01777778, 0.99111111, 0.99111111,\n",
       "        0.95555556, 0.94666667, 0.72888889, 0.56444444, 0.54666667,\n",
       "        0.87111111, 1.01777778, 0.        ],\n",
       "       [0.        , 0.        , 0.        , 0.        , 0.        ,\n",
       "        0.        , 0.        , 0.        , 0.        , 0.        ,\n",
       "        0.        , 0.        , 0.        , 0.81333333, 1.        ,\n",
       "        0.96      , 0.99111111, 1.01333333, 1.04444444, 1.00888889,\n",
       "        0.99555556, 0.98666667, 0.99555556, 0.98222222, 0.99111111,\n",
       "        1.08888889, 0.76888889, 0.        ],\n",
       "       [0.        , 0.        , 0.        , 0.        , 0.        ,\n",
       "        0.        , 0.        , 0.        , 0.        , 0.        ,\n",
       "        0.        , 0.        , 0.        , 0.85777778, 1.01333333,\n",
       "        0.96888889, 0.94666667, 0.88      , 0.8       , 0.94222222,\n",
       "        0.93333333, 0.93777778, 0.94666667, 0.99111111, 0.97777778,\n",
       "        1.08      , 0.89777778, 0.        ],\n",
       "       [0.        , 0.        , 0.        , 0.        , 0.        ,\n",
       "        0.        , 0.        , 0.        , 0.        , 0.00444444,\n",
       "        0.01333333, 0.        , 0.05333333, 0.97333333, 0.97777778,\n",
       "        0.94222222, 0.96888889, 0.85333333, 0.75111111, 1.00888889,\n",
       "        0.92444444, 0.96888889, 0.99555556, 0.94222222, 1.00444444,\n",
       "        0.87555556, 0.92888889, 0.23111111],\n",
       "       [0.        , 0.        , 0.        , 0.        , 0.        ,\n",
       "        0.        , 0.        , 0.        , 0.        , 0.        ,\n",
       "        0.02666667, 0.        , 0.44      , 1.08444444, 0.98666667,\n",
       "        0.97777778, 0.96888889, 0.90222222, 0.88      , 0.98222222,\n",
       "        0.95555556, 0.94666667, 0.98666667, 0.97777778, 1.08888889,\n",
       "        0.52888889, 0.74222222, 0.24888889],\n",
       "       [0.        , 0.        , 0.        , 0.        , 0.        ,\n",
       "        0.        , 0.        , 0.        , 0.        , 0.01777778,\n",
       "        0.        , 0.        , 0.24444444, 1.04888889, 1.01333333,\n",
       "        1.02222222, 1.01333333, 1.06666667, 1.03111111, 0.94666667,\n",
       "        0.96888889, 0.99111111, 1.04      , 0.96444444, 0.96444444,\n",
       "        0.92888889, 0.40888889, 0.        ],\n",
       "       [0.        , 0.        , 0.00444444, 0.01777778, 0.02666667,\n",
       "        0.03111111, 0.00888889, 0.        , 0.        , 0.        ,\n",
       "        0.        , 0.        , 1.05333333, 1.00444444, 0.96444444,\n",
       "        0.99111111, 0.98666667, 0.97333333, 0.98666667, 0.98222222,\n",
       "        0.96      , 0.99111111, 1.01777778, 0.95555556, 0.96888889,\n",
       "        1.13333333, 0.34222222, 0.        ],\n",
       "       [0.        , 0.01333333, 0.        , 0.        , 0.        ,\n",
       "        0.        , 0.        , 0.        , 0.        , 0.27555556,\n",
       "        0.64444444, 0.90666667, 1.01333333, 0.92      , 0.94666667,\n",
       "        0.98222222, 0.96888889, 0.92444444, 0.93777778, 0.96888889,\n",
       "        0.99555556, 0.99111111, 0.97333333, 0.95555556, 0.99555556,\n",
       "        1.08444444, 0.70666667, 0.        ],\n",
       "       [0.        , 0.        , 0.        , 0.        , 0.08      ,\n",
       "        0.19555556, 0.36444444, 0.47555556, 0.84      , 1.01333333,\n",
       "        0.97777778, 0.98666667, 0.96444444, 1.00444444, 0.88888889,\n",
       "        0.91111111, 0.93777778, 1.02222222, 0.99555556, 1.04      ,\n",
       "        0.78222222, 0.83555556, 1.11111111, 1.10222222, 1.03555556,\n",
       "        1.05777778, 0.95555556, 0.        ],\n",
       "       [0.        , 0.25333333, 0.83111111, 0.92444444, 0.99555556,\n",
       "        0.98222222, 0.99555556, 0.92444444, 0.90666667, 0.95111111,\n",
       "        0.92444444, 0.92888889, 0.88888889, 0.70666667, 1.08888889,\n",
       "        0.85777778, 0.91555556, 0.99111111, 1.13333333, 1.13333333,\n",
       "        0.98222222, 1.04      , 0.98222222, 0.93777778, 0.97777778,\n",
       "        1.03111111, 1.09333333, 0.        ],\n",
       "       [0.01333333, 0.89777778, 1.01333333, 0.99555556, 0.98222222,\n",
       "        0.93777778, 0.93777778, 0.95111111, 0.91111111, 0.91111111,\n",
       "        0.91111111, 0.97777778, 1.06666667, 0.35555556, 0.66666667,\n",
       "        1.13333333, 1.01777778, 0.98222222, 0.83555556, 0.68444444,\n",
       "        0.84888889, 0.93333333, 0.90666667, 0.92888889, 0.98666667,\n",
       "        1.01333333, 1.        , 0.        ],\n",
       "       [0.43555556, 1.03555556, 0.88      , 0.93333333, 0.98666667,\n",
       "        1.01777778, 1.01777778, 1.04      , 1.10666667, 0.97777778,\n",
       "        0.86222222, 0.95555556, 0.96444444, 1.07111111, 0.28888889,\n",
       "        0.32444444, 0.47111111, 0.52      , 0.74666667, 0.97333333,\n",
       "        0.98222222, 0.95555556, 0.96444444, 0.99111111, 0.99111111,\n",
       "        0.99555556, 1.01777778, 0.12888889],\n",
       "       [0.33333333, 0.90666667, 0.94222222, 0.90666667, 0.85777778,\n",
       "        0.91111111, 0.93777778, 1.        , 0.96      , 0.82222222,\n",
       "        0.87555556, 0.91555556, 0.88      , 0.94666667, 1.06666667,\n",
       "        0.86666667, 1.00888889, 1.08888889, 1.06222222, 0.99111111,\n",
       "        0.96888889, 0.94222222, 0.92888889, 0.98666667, 0.97777778,\n",
       "        0.98222222, 1.02222222, 0.29777778],\n",
       "       [0.21333333, 0.90222222, 0.81333333, 0.86222222, 0.94666667,\n",
       "        0.87555556, 0.82222222, 0.84444444, 0.86222222, 0.85333333,\n",
       "        0.89777778, 0.95111111, 0.97333333, 0.98222222, 0.97777778,\n",
       "        1.04888889, 1.        , 0.96      , 0.88444444, 0.91555556,\n",
       "        0.82666667, 0.80444444, 0.78666667, 0.76444444, 0.80444444,\n",
       "        0.91111111, 0.91555556, 0.51111111],\n",
       "       [0.        , 0.54222222, 0.97333333, 0.85777778, 0.79555556,\n",
       "        0.76      , 0.81333333, 0.87111111, 0.90666667, 0.93333333,\n",
       "        0.94666667, 0.92      , 0.93777778, 0.93333333, 0.88888889,\n",
       "        0.87111111, 0.86222222, 0.84888889, 0.86666667, 0.84888889,\n",
       "        0.88      , 0.85333333, 0.78222222, 0.69333333, 0.74222222,\n",
       "        0.78666667, 0.93333333, 0.40888889],\n",
       "       [0.        , 0.        , 0.32888889, 0.84      , 0.94222222,\n",
       "        0.84888889, 0.77777778, 0.76444444, 0.77777778, 0.80444444,\n",
       "        0.82222222, 0.83555556, 0.84      , 0.83555556, 0.85777778,\n",
       "        0.88      , 0.90666667, 0.92888889, 0.93333333, 0.93333333,\n",
       "        0.93777778, 0.83555556, 0.83555556, 0.86222222, 0.85333333,\n",
       "        0.96      , 0.75555556, 0.        ],\n",
       "       [0.00888889, 0.        , 0.        , 0.        , 0.29333333,\n",
       "        0.88888889, 0.98666667, 1.05333333, 1.06222222, 1.07555556,\n",
       "        1.09333333, 1.08      , 1.08444444, 0.98222222, 0.97777778,\n",
       "        0.85777778, 0.84888889, 0.79555556, 0.80888889, 0.80888889,\n",
       "        0.80444444, 0.78222222, 0.73777778, 0.74666667, 0.44      ,\n",
       "        0.25777778, 0.        , 0.        ],\n",
       "       [0.        , 0.        , 0.        , 0.        , 0.        ,\n",
       "        0.        , 0.        , 0.17777778, 0.27111111, 0.19555556,\n",
       "        0.32      , 0.18222222, 0.15555556, 0.        , 0.        ,\n",
       "        0.        , 0.        , 0.        , 0.        , 0.        ,\n",
       "        0.        , 0.        , 0.        , 0.        , 0.        ,\n",
       "        0.        , 0.        , 0.        ],\n",
       "       [0.        , 0.        , 0.        , 0.        , 0.        ,\n",
       "        0.        , 0.        , 0.        , 0.        , 0.        ,\n",
       "        0.        , 0.        , 0.        , 0.        , 0.        ,\n",
       "        0.        , 0.        , 0.        , 0.        , 0.        ,\n",
       "        0.        , 0.        , 0.        , 0.        , 0.        ,\n",
       "        0.        , 0.        , 0.        ],\n",
       "       [0.        , 0.        , 0.        , 0.        , 0.        ,\n",
       "        0.        , 0.        , 0.        , 0.        , 0.        ,\n",
       "        0.        , 0.        , 0.        , 0.        , 0.        ,\n",
       "        0.        , 0.        , 0.        , 0.        , 0.        ,\n",
       "        0.        , 0.        , 0.        , 0.        , 0.        ,\n",
       "        0.        , 0.        , 0.        ]])"
      ]
     },
     "execution_count": 12,
     "metadata": {},
     "output_type": "execute_result"
    }
   ],
   "source": [
    "train_images[0]"
   ]
  },
  {
   "cell_type": "markdown",
   "metadata": {
    "id": "9v0EeR_3yIxI"
   },
   "source": [
    "<br> Now, lets see the first 25 images"
   ]
  },
  {
   "cell_type": "code",
   "execution_count": null,
   "metadata": {
    "colab": {
     "base_uri": "https://localhost:8080/",
     "height": 589
    },
    "id": "xGwjk66UuU3k",
    "outputId": "6e8b56be-47f3-4e74-9b8e-38a61be8e3dd"
   },
   "outputs": [
    {
     "data": {
      "image/png": "[encoded data removed]",
      "text/plain": [
       "<Figure size 720x720 with 25 Axes>"
      ]
     },
     "metadata": {},
     "output_type": "display_data"
    }
   ],
   "source": [
    "plt.figure(figsize=(10,10))\n",
    "plt.style.use(['dark_background'])\n",
    "# %matplotlib inline\n",
    "\n",
    "for i in range(25):\n",
    "  plt.subplot(5, 5, i+1)\n",
    "  plt.xticks([])\n",
    "  plt.yticks([])\n",
    "  plt.imshow(train_images[i], cmap=plt.cm.binary)\n",
    "  plt.gray()\n",
    "  plt.grid(False)\n",
    "  plt.xlabel(class_names[train_labels[i]])"
   ]
  },
  {
   "cell_type": "markdown",
   "metadata": {
    "id": "oBcTmGXjy390"
   },
   "source": [
    "## **Build the Model**"
   ]
  },
  {
   "cell_type": "markdown",
   "metadata": {
    "id": "notqCrCgy-Pb"
   },
   "source": [
    "Setup the layers of the NN"
   ]
  },
  {
   "cell_type": "code",
   "execution_count": null,
   "metadata": {
    "id": "mQOnknfby5r7"
   },
   "outputs": [],
   "source": [
    "model = keras.Sequential([\n",
    "    tf.keras.layers.Flatten(input_shape=(28,28)),       # flatten the 2D array (28x28) of image into 1D array i.e (784) \n",
    "    tf.keras.layers.Dense(128, activation='relu'),\n",
    "    tf.keras.layers.Dense(10, activation='sigmoid')     # output class --  probability distribution btw 0-1\n",
    "])"
   ]
  },
  {
   "cell_type": "markdown",
   "metadata": {
    "id": "6aE2Z5M80kN_"
   },
   "source": [
    "<br> Complie the layers"
   ]
  },
  {
   "cell_type": "code",
   "execution_count": null,
   "metadata": {
    "id": "uCNG4gqDvdsT"
   },
   "outputs": [],
   "source": [
    "model.compile(optimizer='adam',\n",
    "              loss = 'sparse_categorical_crossentropy',\n",
    "              metrics=['accuracy']\n",
    ")"
   ]
  },
  {
   "cell_type": "markdown",
   "metadata": {
    "id": "RnB2GPvY2kDG"
   },
   "source": [
    "## <br>Train the Model"
   ]
  },
  {
   "cell_type": "code",
   "execution_count": null,
   "metadata": {
    "colab": {
     "base_uri": "https://localhost:8080/"
    },
    "id": "xBgslZR-0ExO",
    "outputId": "d3533d12-35ac-4114-dd0d-17de8618ce66"
   },
   "outputs": [
    {
     "name": "stdout",
     "output_type": "stream",
     "text": [
      "Epoch 1/10\n",
      "1875/1875 [==============================] - 6s 3ms/step - loss: 0.2800 - accuracy: 0.8964\n",
      "Epoch 2/10\n",
      "1875/1875 [==============================] - 5s 3ms/step - loss: 0.2686 - accuracy: 0.9002\n",
      "Epoch 3/10\n",
      "1875/1875 [==============================] - 5s 3ms/step - loss: 0.2561 - accuracy: 0.9047\n",
      "Epoch 4/10\n",
      "1875/1875 [==============================] - 5s 3ms/step - loss: 0.2468 - accuracy: 0.9088\n",
      "Epoch 5/10\n",
      "1875/1875 [==============================] - 5s 3ms/step - loss: 0.2394 - accuracy: 0.9112\n",
      "Epoch 6/10\n",
      "1875/1875 [==============================] - 5s 3ms/step - loss: 0.2312 - accuracy: 0.9142\n",
      "Epoch 7/10\n",
      "1875/1875 [==============================] - 6s 3ms/step - loss: 0.2210 - accuracy: 0.9183\n",
      "Epoch 8/10\n",
      "1875/1875 [==============================] - 5s 3ms/step - loss: 0.2166 - accuracy: 0.9192\n",
      "Epoch 9/10\n",
      "1875/1875 [==============================] - 5s 3ms/step - loss: 0.2096 - accuracy: 0.9213\n",
      "Epoch 10/10\n",
      "1875/1875 [==============================] - 6s 3ms/step - loss: 0.2040 - accuracy: 0.9241\n"
     ]
    },
    {
     "data": {
      "text/plain": [
       "<keras.callbacks.History at 0x7fa503e12990>"
      ]
     },
     "execution_count": 71,
     "metadata": {},
     "output_type": "execute_result"
    }
   ],
   "source": [
    "model.fit(train_images, train_labels, epochs=10)"
   ]
  },
  {
   "cell_type": "code",
   "execution_count": null,
   "metadata": {
    "colab": {
     "base_uri": "https://localhost:8080/"
    },
    "id": "GXjf2der2uWs",
    "outputId": "148b4f21-846a-4adf-f112-529c546d9a47"
   },
   "outputs": [
    {
     "name": "stdout",
     "output_type": "stream",
     "text": [
      "313/313 [==============================] - 1s 2ms/step - loss: 0.3468 - accuracy: 0.8897\n",
      "accuracy:  0.8896999955177307\n",
      "loss:  0.34676072001457214\n"
     ]
    }
   ],
   "source": [
    "test_loss, test_acc = model.evaluate(test_images, test_labels)\n",
    "print(\"accuracy: \", test_acc)\n",
    "print(\"loss: \", test_loss)"
   ]
  },
  {
   "cell_type": "markdown",
   "metadata": {
    "id": "gnY9Ay2UDRRA"
   },
   "source": [
    "## <br>Make Prediction"
   ]
  },
  {
   "cell_type": "code",
   "execution_count": null,
   "metadata": {
    "id": "8kmrjKa-BIw2"
   },
   "outputs": [],
   "source": [
    "pred = model.predict(test_images)"
   ]
  },
  {
   "cell_type": "code",
   "execution_count": null,
   "metadata": {
    "colab": {
     "base_uri": "https://localhost:8080/"
    },
    "id": "DKZ4OyzRDdaW",
    "outputId": "e2a67939-5cc0-4ca7-81b9-8727a9a69f9e"
   },
   "outputs": [
    {
     "data": {
      "text/plain": [
       "array([4.4787852e-05, 2.0179493e-11, 1.6544344e-09, 7.6794480e-11,\n",
       "       5.5683107e-09, 1.1382639e-02, 3.6543905e-05, 6.9692290e-01,\n",
       "       1.4730857e-08, 9.9924386e-01], dtype=float32)"
      ]
     },
     "execution_count": 74,
     "metadata": {},
     "output_type": "execute_result"
    }
   ],
   "source": [
    "pred[0]"
   ]
  },
  {
   "cell_type": "markdown",
   "metadata": {
    "id": "ME7XO5gfEUil"
   },
   "source": [
    "Predicted value of index 0"
   ]
  },
  {
   "cell_type": "code",
   "execution_count": null,
   "metadata": {
    "colab": {
     "base_uri": "https://localhost:8080/",
     "height": 36
    },
    "id": "lmOamZ6kDicB",
    "outputId": "85be0160-33da-4e97-db31-92b86b2f9854"
   },
   "outputs": [
    {
     "data": {
      "application/vnd.google.colaboratory.intrinsic+json": {
       "type": "string"
      },
      "text/plain": [
       "'Ankle boot'"
      ]
     },
     "execution_count": 75,
     "metadata": {},
     "output_type": "execute_result"
    }
   ],
   "source": [
    "p_res = np.argmax(pred[0])\n",
    "class_names[p_res]"
   ]
  },
  {
   "cell_type": "markdown",
   "metadata": {
    "id": "i_HqiGdYEZgI"
   },
   "source": [
    "Actual value of index 0"
   ]
  },
  {
   "cell_type": "code",
   "execution_count": null,
   "metadata": {
    "colab": {
     "base_uri": "https://localhost:8080/",
     "height": 36
    },
    "id": "VsGWzBSRDvop",
    "outputId": "85f98f37-b375-4b69-f111-135b6ad35e5b"
   },
   "outputs": [
    {
     "data": {
      "application/vnd.google.colaboratory.intrinsic+json": {
       "type": "string"
      },
      "text/plain": [
       "'Ankle boot'"
      ]
     },
     "execution_count": 76,
     "metadata": {},
     "output_type": "execute_result"
    }
   ],
   "source": [
    "ac_res = test_labels[0]\n",
    "class_names[ac_res]"
   ]
  },
  {
   "cell_type": "markdown",
   "metadata": {
    "id": "9-x2rmJSEglD"
   },
   "source": [
    "Seems, its a pretty good model "
   ]
  },
  {
   "cell_type": "markdown",
   "metadata": {
    "id": "JcRYjfFnUHCz"
   },
   "source": [
    "<br> Confusion Matrix"
   ]
  },
  {
   "cell_type": "code",
   "execution_count": null,
   "metadata": {
    "colab": {
     "base_uri": "https://localhost:8080/"
    },
    "id": "oB-zP0sVWDyB",
    "outputId": "7fa3fc25-2873-4355-b189-b95f5c9dbe57"
   },
   "outputs": [
    {
     "data": {
      "text/plain": [
       "[9, 2, 1, 1, 6]"
      ]
     },
     "execution_count": 77,
     "metadata": {},
     "output_type": "execute_result"
    }
   ],
   "source": [
    "# get the labels of the predicted labels from the predicted values\n",
    "pred_labels = [np.argmax(i) for i in pred]\n",
    "pred_labels[:5]"
   ]
  },
  {
   "cell_type": "code",
   "execution_count": null,
   "metadata": {
    "colab": {
     "base_uri": "https://localhost:8080/"
    },
    "id": "Xgwd02nqD1Wq",
    "outputId": "e6c8c878-9426-4184-f390-b1dc32986ad2"
   },
   "outputs": [
    {
     "data": {
      "text/plain": [
       "<tf.Tensor: shape=(10, 10), dtype=int32, numpy=\n",
       "array([[865,   0,  18,  14,   2,   0,  89,   0,  12,   0],\n",
       "       [  3, 971,   1,  16,   3,   0,   4,   0,   2,   0],\n",
       "       [ 21,   1, 822,  11, 108,   0,  35,   0,   2,   0],\n",
       "       [ 22,   2,  10, 920,  15,   0,  25,   0,   6,   0],\n",
       "       [  1,   0,  81,  41, 840,   0,  32,   0,   5,   0],\n",
       "       [  0,   0,   0,   0,   0, 938,   0,  33,   3,  26],\n",
       "       [139,   0, 103,  26,  91,   0, 625,   0,  16,   0],\n",
       "       [  0,   0,   0,   0,   0,   4,   0, 961,   2,  33],\n",
       "       [  5,   0,   3,   4,   4,   1,   1,   3, 979,   0],\n",
       "       [  0,   0,   0,   0,   0,   2,   1,  21,   0, 976]], dtype=int32)>"
      ]
     },
     "execution_count": 78,
     "metadata": {},
     "output_type": "execute_result"
    }
   ],
   "source": [
    "cm = tf.math.confusion_matrix(labels=test_labels, predictions=pred_labels)\n",
    "cm"
   ]
  },
  {
   "cell_type": "code",
   "execution_count": null,
   "metadata": {
    "colab": {
     "base_uri": "https://localhost:8080/",
     "height": 623
    },
    "id": "0mg8Iu7vVU8I",
    "outputId": "4d5264e9-437c-43a0-903a-74ccfdbf39ef"
   },
   "outputs": [
    {
     "data": {
      "text/plain": [
       "Text(87.0, 0.5, 'Actual')"
      ]
     },
     "execution_count": 93,
     "metadata": {},
     "output_type": "execute_result"
    },
    {
     "data": {
      "image/png": "[encoded data removed]",
      "text/plain": [
       "<Figure size 864x720 with 2 Axes>"
      ]
     },
     "metadata": {},
     "output_type": "display_data"
    }
   ],
   "source": [
    "import seaborn as sns\n",
    "plt.figure(figsize=(12,10))\n",
    "\n",
    "colormap = sns.color_palette([ \"#080808\", \"#151116\", \"#4b444d\", \"#bc51ff\", \"#9d00ff\", \"#d797ff\"])\n",
    "sns.heatmap(cm, cmap=colormap, annot=True, fmt='d', xticklabels=class_names, yticklabels=class_names, linewidths=0.1, linecolor=\"#cdcdcd33\")\n",
    "plt.xlabel(\"Predicted\")\n",
    "plt.ylabel(\"Actual\")"
   ]
  },
  {
   "cell_type": "code",
   "execution_count": null,
   "metadata": {
    "id": "BRU9fDMBYRp5"
   },
   "outputs": [],
   "source": []
  }
 ],
 "metadata": {
  "colab": {
   "authorship_tag": "ABX9TyNGEtJR5x5+D9OO41HnsX8m",
   "collapsed_sections": [],
   "include_colab_link": true,
   "provenance": []
  },
  "kernelspec": {
   "display_name": "Python 3 (ipykernel)",
   "language": "python",
   "name": "python3"
  },
  "language_info": {
   "codemirror_mode": {
    "name": "ipython",
    "version": 3
   },
   "file_extension": ".py",
   "mimetype": "text/x-python",
   "name": "python",
   "nbconvert_exporter": "python",
   "pygments_lexer": "ipython3",
   "version": "3.10.4"
  },
  "widgets": {
   "application/vnd.jupyter.widget-state+json": {
    "state": {},
    "version_major": 2,
    "version_minor": 0
   }
  }
 },
 "nbformat": 4,
 "nbformat_minor": 4
}

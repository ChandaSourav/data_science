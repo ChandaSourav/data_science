{
 "cells": [
  {
   "cell_type": "markdown",
   "id": "59d32ed8-5377-4908-9511-a908fe01ac5b",
   "metadata": {},
   "source": [
    "# GPU benchmark"
   ]
  },
  {
   "cell_type": "code",
   "execution_count": 1,
   "id": "0a356ffa-8c5e-42c4-a282-6ea816db97b8",
   "metadata": {},
   "outputs": [],
   "source": [
    "import tensorflow as tf\n",
    "from tensorflow import keras"
   ]
  },
  {
   "cell_type": "code",
   "execution_count": 2,
   "id": "82b254cd-7ab8-4249-b937-d0ca60bb4716",
   "metadata": {},
   "outputs": [
    {
     "data": {
      "text/plain": [
       "'2.10.0'"
      ]
     },
     "execution_count": 2,
     "metadata": {},
     "output_type": "execute_result"
    }
   ],
   "source": [
    "tf.__version__"
   ]
  },
  {
   "cell_type": "code",
   "execution_count": 3,
   "id": "ddd1ec9c-9740-4bd2-91a5-bfe52e766e18",
   "metadata": {},
   "outputs": [
    {
     "data": {
      "text/plain": [
       "[PhysicalDevice(name='/physical_device:CPU:0', device_type='CPU'),\n",
       " PhysicalDevice(name='/physical_device:GPU:0', device_type='GPU')]"
      ]
     },
     "execution_count": 3,
     "metadata": {},
     "output_type": "execute_result"
    }
   ],
   "source": [
    "tf.config.experimental.list_physical_devices()"
   ]
  },
  {
   "cell_type": "code",
   "execution_count": 4,
   "id": "bbe7f6ac-181c-4c00-9c72-bac7019176cf",
   "metadata": {},
   "outputs": [
    {
     "data": {
      "text/plain": [
       "True"
      ]
     },
     "execution_count": 4,
     "metadata": {},
     "output_type": "execute_result"
    }
   ],
   "source": [
    "tf.test.is_built_with_cuda()"
   ]
  },
  {
   "cell_type": "markdown",
   "id": "1bfd3658-2628-42a6-a114-c1399e7e4d28",
   "metadata": {
    "tags": []
   },
   "source": [
    "## Lets now test our GPU"
   ]
  },
  {
   "cell_type": "code",
   "execution_count": 5,
   "id": "0ab6bb42-4cce-448f-ba29-c991e96035a6",
   "metadata": {},
   "outputs": [
    {
     "name": "stdout",
     "output_type": "stream",
     "text": [
      "Downloading data from https://www.cs.toronto.edu/~kriz/cifar-10-python.tar.gz\n",
      "170498071/170498071 [==============================] - 1625s 10us/step\n"
     ]
    }
   ],
   "source": [
    "# load the cifar10 dataset\n",
    "(X_train, y_train), (X_test,y_test) = tf.keras.datasets.cifar10.load_data"
   ]
  },
  {
   "cell_type": "code",
   "execution_count": 6,
   "id": "d14b795c-08ea-4ccc-8185-36c457b2e606",
   "metadata": {},
   "outputs": [
    {
     "data": {
      "text/plain": [
       "(50000, 32, 32, 3)"
      ]
     },
     "execution_count": 6,
     "metadata": {},
     "output_type": "execute_result"
    }
   ],
   "source": [
    "X_train.shape"
   ]
  },
  {
   "cell_type": "code",
   "execution_count": 10,
   "id": "e18cabcc-19cc-4b18-9633-8bf1110ba835",
   "metadata": {},
   "outputs": [
    {
     "data": {
      "text/plain": [
       "(50000, 1)"
      ]
     },
     "execution_count": 10,
     "metadata": {},
     "output_type": "execute_result"
    }
   ],
   "source": [
    "y_train.shape"
   ]
  },
  {
   "cell_type": "code",
   "execution_count": 11,
   "id": "9234ec76-7eac-469d-9f77-81c2ff2ddbc3",
   "metadata": {},
   "outputs": [
    {
     "data": {
      "text/plain": [
       "array([[6],\n",
       "       [9],\n",
       "       [9],\n",
       "       [4],\n",
       "       [1]], dtype=uint8)"
      ]
     },
     "execution_count": 11,
     "metadata": {},
     "output_type": "execute_result"
    }
   ],
   "source": [
    "y_train[0:5]"
   ]
  },
  {
   "cell_type": "code",
   "execution_count": 36,
   "id": "cd17bc7e-6ba7-40d6-ae73-d0f49f6a120d",
   "metadata": {},
   "outputs": [],
   "source": [
    "classes = [\"airplane\",\"automobile\",\"bird\",\"cat\",\"deer\",\"dog\",\"frog\",\"horse\",\"ship\",\"truck\"]"
   ]
  },
  {
   "cell_type": "code",
   "execution_count": 43,
   "id": "77597d30-b13b-4f83-8667-14af76a39ed2",
   "metadata": {},
   "outputs": [],
   "source": [
    "import matplotlib.pyplot as plt\n",
    "\n",
    "def plot_sample(index):\n",
    "    plt.title(classes[y_train[index][0]])\n",
    "    plt.imshow(X_train[index])"
   ]
  },
  {
   "cell_type": "code",
   "execution_count": 44,
   "id": "5792f750-270c-45d8-bc66-ae4335b94c95",
   "metadata": {},
   "outputs": [
    {
     "data": {
      "image/png": "[encoded data removed]",
      "text/plain": [
       "<Figure size 432x288 with 1 Axes>"
      ]
     },
     "metadata": {
      "needs_background": "light"
     },
     "output_type": "display_data"
    }
   ],
   "source": [
    "plot_sample(0)"
   ]
  },
  {
   "cell_type": "code",
   "execution_count": 45,
   "id": "44476def-16e2-4abf-8345-b8e42ddd08c5",
   "metadata": {},
   "outputs": [
    {
     "data": {
      "image/png": "[encoded data removed]",
      "text/plain": [
       "<Figure size 432x288 with 1 Axes>"
      ]
     },
     "metadata": {
      "needs_background": "light"
     },
     "output_type": "display_data"
    }
   ],
   "source": [
    "plot_sample(1)"
   ]
  },
  {
   "cell_type": "code",
   "execution_count": 46,
   "id": "83b1d176-e36d-45e2-ae4a-720763fd17f4",
   "metadata": {},
   "outputs": [],
   "source": [
    "#preprocessing of images\n",
    "\n",
    "X_train_scaled = X_train / 255\n",
    "X_test_scaled = X_test / 255"
   ]
  },
  {
   "cell_type": "code",
   "execution_count": 47,
   "id": "0e6def6c-a384-417c-925c-ba75963784a6",
   "metadata": {},
   "outputs": [],
   "source": [
    "y_train_categorical = keras.utils.to_categorical(\n",
    "    y_train, num_classes=10, dtype='float32'\n",
    ")\n",
    "y_test_categorical = keras.utils.to_categorical(\n",
    "    y_test, num_classes=10, dtype='float32'\n",
    ")"
   ]
  },
  {
   "cell_type": "code",
   "execution_count": 48,
   "id": "d53b28e0-18fe-48ff-9d1e-50aa87af2991",
   "metadata": {},
   "outputs": [
    {
     "data": {
      "text/plain": [
       "array([[6],\n",
       "       [9],\n",
       "       [9],\n",
       "       [4],\n",
       "       [1]], dtype=uint8)"
      ]
     },
     "execution_count": 48,
     "metadata": {},
     "output_type": "execute_result"
    }
   ],
   "source": [
    "y_train[0:5]"
   ]
  },
  {
   "cell_type": "code",
   "execution_count": 49,
   "id": "f3716b6d-f55f-4fde-b031-0294ec009330",
   "metadata": {},
   "outputs": [
    {
     "data": {
      "text/plain": [
       "array([[0., 0., 0., 0., 0., 0., 1., 0., 0., 0.],\n",
       "       [0., 0., 0., 0., 0., 0., 0., 0., 0., 1.],\n",
       "       [0., 0., 0., 0., 0., 0., 0., 0., 0., 1.],\n",
       "       [0., 0., 0., 0., 1., 0., 0., 0., 0., 0.],\n",
       "       [0., 1., 0., 0., 0., 0., 0., 0., 0., 0.]], dtype=float32)"
      ]
     },
     "execution_count": 49,
     "metadata": {},
     "output_type": "execute_result"
    }
   ],
   "source": [
    "y_train_categorical[0:5]"
   ]
  },
  {
   "cell_type": "markdown",
   "id": "f455a255-ce83-49ba-b568-f0c934bd0aaa",
   "metadata": {},
   "source": [
    "## Model building and training"
   ]
  },
  {
   "cell_type": "code",
   "execution_count": 50,
   "id": "4252b127-6681-4d56-8124-bb4f1d2820d4",
   "metadata": {},
   "outputs": [
    {
     "name": "stdout",
     "output_type": "stream",
     "text": [
      "1563/1563 [==============================] - 8s 4ms/step - loss: 1.8128 - accuracy: 0.3515\n"
     ]
    },
    {
     "data": {
      "text/plain": [
       "<keras.callbacks.History at 0x27730982230>"
      ]
     },
     "execution_count": 50,
     "metadata": {},
     "output_type": "execute_result"
    }
   ],
   "source": [
    "model = keras.Sequential([\n",
    "        keras.layers.Flatten(input_shape=(32,32,3)),\n",
    "        keras.layers.Dense(3000, activation='relu'),\n",
    "        keras.layers.Dense(1000, activation='relu'),\n",
    "        keras.layers.Dense(10, activation='sigmoid')    \n",
    "])\n",
    "\n",
    "model.compile(optimizer='SGD',\n",
    "              loss='categorical_crossentropy',\n",
    "              metrics=['accuracy'])\n",
    "\n",
    "model.fit(X_train_scaled, y_train_categorical, epochs=1)"
   ]
  },
  {
   "cell_type": "code",
   "execution_count": 51,
   "id": "9cb73b34-0291-4f35-9875-dce56c5ea605",
   "metadata": {},
   "outputs": [],
   "source": [
    "# define the model seperately for run\n",
    "\n",
    "def get_model():\n",
    "    model = keras.Sequential([\n",
    "            keras.layers.Flatten(input_shape=(32,32,3)),\n",
    "            keras.layers.Dense(3000, activation='relu'),\n",
    "            keras.layers.Dense(1000, activation='relu'),\n",
    "            keras.layers.Dense(10, activation='sigmoid')    \n",
    "        ])\n",
    "\n",
    "    model.compile(optimizer='SGD',\n",
    "                  loss='categorical_crossentropy',\n",
    "                  metrics=['accuracy'])\n",
    "    return model"
   ]
  },
  {
   "cell_type": "markdown",
   "id": "8dff83f8-8049-448c-af86-134c0e49c036",
   "metadata": {
    "tags": []
   },
   "source": [
    "### Run the model with CPU (1 epoch)"
   ]
  },
  {
   "cell_type": "code",
   "execution_count": 98,
   "id": "3c8d2427-a241-44bb-be7c-836ed9e1915d",
   "metadata": {},
   "outputs": [
    {
     "name": "stdout",
     "output_type": "stream",
     "text": [
      "1563/1563 [==============================] - 39s 25ms/step - loss: 1.8134 - accuracy: 0.3538\n",
      "39.8 s ± 0 ns per loop (mean ± std. dev. of 1 run, 1 loop each)\n"
     ]
    }
   ],
   "source": [
    "%%timeit -n1 -r1\n",
    "with tf.device('/CPU:0'):\n",
    "    cpu_model = get_model()\n",
    "    cpu_model.fit(X_train_scaled, y_train_categorical, epochs=1)"
   ]
  },
  {
   "cell_type": "markdown",
   "id": "a73427c0-48c8-4a70-a7fe-877da46b5de6",
   "metadata": {},
   "source": [
    "### Run with GPU (1 epoch)"
   ]
  },
  {
   "cell_type": "code",
   "execution_count": 97,
   "id": "cbd7610d-c916-416f-ab8b-d5c8959aa434",
   "metadata": {},
   "outputs": [
    {
     "name": "stdout",
     "output_type": "stream",
     "text": [
      "1563/1563 [==============================] - 7s 4ms/step - loss: 1.8157 - accuracy: 0.3530\n",
      "7.66 s ± 0 ns per loop (mean ± std. dev. of 1 run, 1 loop each)\n"
     ]
    }
   ],
   "source": [
    "%%timeit -n1 -r1\n",
    "with tf.device('/GPU:0'):\n",
    "    cpu_model = get_model()\n",
    "    cpu_model.fit(X_train_scaled, y_train_categorical, epochs=1)"
   ]
  },
  {
   "cell_type": "markdown",
   "id": "8a8cc3e3-17fa-46d8-acdf-d0d84ad48197",
   "metadata": {},
   "source": [
    "### Lets run same test for 10 epocs"
   ]
  },
  {
   "cell_type": "code",
   "execution_count": 95,
   "id": "d75bb510-0f3a-4998-8514-3f338a8610e4",
   "metadata": {},
   "outputs": [
    {
     "name": "stdout",
     "output_type": "stream",
     "text": [
      "Epoch 1/10\n",
      "1563/1563 [==============================] - 40s 26ms/step - loss: 1.8154 - accuracy: 0.3545\n",
      "Epoch 2/10\n",
      "1563/1563 [==============================] - 41s 26ms/step - loss: 1.6267 - accuracy: 0.4232\n",
      "Epoch 3/10\n",
      "1563/1563 [==============================] - 41s 26ms/step - loss: 1.5418 - accuracy: 0.4538\n",
      "Epoch 4/10\n",
      "1563/1563 [==============================] - 41s 26ms/step - loss: 1.4822 - accuracy: 0.4789\n",
      "Epoch 5/10\n",
      "1563/1563 [==============================] - 41s 26ms/step - loss: 1.4314 - accuracy: 0.4968\n",
      "Epoch 6/10\n",
      "1563/1563 [==============================] - 40s 26ms/step - loss: 1.3894 - accuracy: 0.5123\n",
      "Epoch 7/10\n",
      "1563/1563 [==============================] - 40s 26ms/step - loss: 1.3518 - accuracy: 0.5242\n",
      "Epoch 8/10\n",
      "1563/1563 [==============================] - 40s 25ms/step - loss: 1.3185 - accuracy: 0.5381\n",
      "Epoch 9/10\n",
      "1563/1563 [==============================] - 40s 26ms/step - loss: 1.2847 - accuracy: 0.5500\n",
      "Epoch 10/10\n",
      "1563/1563 [==============================] - 40s 25ms/step - loss: 1.2549 - accuracy: 0.5602\n",
      "6min 43s ± 0 ns per loop (mean ± std. dev. of 1 run, 1 loop each)\n"
     ]
    }
   ],
   "source": [
    "%%timeit -n1 -r1 \n",
    "with tf.device('/CPU:0'):\n",
    "    cpu_model = get_model()\n",
    "    cpu_model.fit(X_train_scaled, y_train_categorical, epochs=10)"
   ]
  },
  {
   "cell_type": "code",
   "execution_count": 96,
   "id": "a1351796-d39f-4c65-bfd0-1b079b4d4b40",
   "metadata": {},
   "outputs": [
    {
     "name": "stdout",
     "output_type": "stream",
     "text": [
      "Epoch 1/10\n",
      "1563/1563 [==============================] - 7s 4ms/step - loss: 1.8101 - accuracy: 0.3556\n",
      "Epoch 2/10\n",
      "1563/1563 [==============================] - 7s 4ms/step - loss: 1.6229 - accuracy: 0.4277\n",
      "Epoch 3/10\n",
      "1563/1563 [==============================] - 7s 4ms/step - loss: 1.5391 - accuracy: 0.4585\n",
      "Epoch 4/10\n",
      "1563/1563 [==============================] - 7s 4ms/step - loss: 1.4809 - accuracy: 0.4776\n",
      "Epoch 5/10\n",
      "1563/1563 [==============================] - 7s 4ms/step - loss: 1.4302 - accuracy: 0.4970\n",
      "Epoch 6/10\n",
      "1563/1563 [==============================] - 7s 4ms/step - loss: 1.3907 - accuracy: 0.5103\n",
      "Epoch 7/10\n",
      "1563/1563 [==============================] - 7s 4ms/step - loss: 1.3529 - accuracy: 0.5231\n",
      "Epoch 8/10\n",
      "1563/1563 [==============================] - 7s 4ms/step - loss: 1.3166 - accuracy: 0.5378\n",
      "Epoch 9/10\n",
      "1563/1563 [==============================] - 7s 4ms/step - loss: 1.2831 - accuracy: 0.5492\n",
      "Epoch 10/10\n",
      "1563/1563 [==============================] - 7s 4ms/step - loss: 1.2512 - accuracy: 0.5612\n",
      "1min 8s ± 0 ns per loop (mean ± std. dev. of 1 run, 1 loop each)\n"
     ]
    }
   ],
   "source": [
    "%%timeit -n1 -r1 \n",
    "with tf.device('/GPU:0'):\n",
    "    cpu_model = get_model()\n",
    "    cpu_model.fit(X_train_scaled, y_train_categorical, epochs=10)"
   ]
  }
 ],
 "metadata": {
  "kernelspec": {
   "display_name": "Python 3 (ipykernel)",
   "language": "python",
   "name": "python3"
  },
  "language_info": {
   "codemirror_mode": {
    "name": "ipython",
    "version": 3
   },
   "file_extension": ".py",
   "mimetype": "text/x-python",
   "name": "python",
   "nbconvert_exporter": "python",
   "pygments_lexer": "ipython3",
   "version": "3.10.4"
  },
  "widgets": {
   "application/vnd.jupyter.widget-state+json": {
    "state": {},
    "version_major": 2,
    "version_minor": 0
   }
  }
 },
 "nbformat": 4,
 "nbformat_minor": 5
}

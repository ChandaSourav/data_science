{
 "cells": [
  {
   "cell_type": "markdown",
   "id": "14377147-bc91-4df7-9a98-2ddc2965460f",
   "metadata": {},
   "source": [
    "# Activation Functions \n",
    "\n",
    "    sigmoid function\n",
    "    step funtion\n",
    "    tanh function\n",
    "    \n",
    "    relu funtion\n",
    "    leaky relu function\n",
    "    \n",
    "<br>"
   ]
  },
  {
   "cell_type": "markdown",
   "id": "c67a4dce-c090-4a57-8c23-b968e0c46e11",
   "metadata": {},
   "source": [
    "## 1. _sigmoid function_"
   ]
  },
  {
   "cell_type": "code",
   "execution_count": null,
   "id": "e8552f35-8885-46eb-97d6-3c6d8418b4e7",
   "metadata": {},
   "outputs": [],
   "source": []
  }
 ],
 "metadata": {
  "kernelspec": {
   "display_name": "Python 3 (ipykernel)",
   "language": "python",
   "name": "python3"
  },
  "language_info": {
   "codemirror_mode": {
    "name": "ipython",
    "version": 3
   },
   "file_extension": ".py",
   "mimetype": "text/x-python",
   "name": "python",
   "nbconvert_exporter": "python",
   "pygments_lexer": "ipython3",
   "version": "3.10.4"
  },
  "widgets": {
   "application/vnd.jupyter.widget-state+json": {
    "state": {},
    "version_major": 2,
    "version_minor": 0
   }
  }
 },
 "nbformat": 4,
 "nbformat_minor": 5
}

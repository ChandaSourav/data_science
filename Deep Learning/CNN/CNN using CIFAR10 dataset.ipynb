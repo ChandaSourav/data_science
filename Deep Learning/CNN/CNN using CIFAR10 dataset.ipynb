{
 "cells": [
  {
   "cell_type": "markdown",
   "id": "b3b480ed-5d49-4483-b7fb-df92e0dc716f",
   "metadata": {},
   "source": [
    "# CNN using CIFAR10 dataset"
   ]
  },
  {
   "cell_type": "code",
   "execution_count": 1,
   "id": "0cc1fc19-9189-4967-9d52-cdd8047fc836",
   "metadata": {},
   "outputs": [],
   "source": [
    "import numpy as np\n",
    "import tensorflow as tf\n",
    "from tensorflow.keras import datasets, models, layers\n",
    "\n",
    "import matplotlib.pyplot as plt"
   ]
  },
  {
   "cell_type": "code",
   "execution_count": 3,
   "id": "9ad5b847-2e02-4538-838a-c2082d095087",
   "metadata": {},
   "outputs": [
    {
     "name": "stdout",
     "output_type": "stream",
     "text": [
      "Downloading data from https://www.cs.toronto.edu/~kriz/cifar-10-python.tar.gz\n",
      "170498071/170498071 [==============================] - 1919s 11us/step\n"
     ]
    }
   ],
   "source": [
    "(X_train, y_train), (X_test, y_test) = datasets.cifar10.load_data()"
   ]
  },
  {
   "cell_type": "code",
   "execution_count": 9,
   "id": "c7a9c33c-5c4a-4bfb-bd29-e9570ab35cfb",
   "metadata": {},
   "outputs": [],
   "source": [
    "classes = ['airplanes', 'cars', 'birds', 'cats', 'deer', 'dogs', 'frogs', 'horses', 'ships', 'trucks']"
   ]
  },
  {
   "cell_type": "code",
   "execution_count": 5,
   "id": "99949ad3-f339-4f3a-8c26-fa4b8daeaf1c",
   "metadata": {},
   "outputs": [
    {
     "data": {
      "text/plain": [
       "(50000, 32, 32, 3)"
      ]
     },
     "execution_count": 5,
     "metadata": {},
     "output_type": "execute_result"
    }
   ],
   "source": [
    "X_train.shape"
   ]
  },
  {
   "cell_type": "markdown",
   "id": "fb9d7614-7188-4fb4-9b01-a3f8f31fd1ee",
   "metadata": {},
   "source": [
    "## Preprocessing"
   ]
  },
  {
   "cell_type": "code",
   "execution_count": 50,
   "id": "dec1ad71-859c-4ca0-972b-ed692ed3c10d",
   "metadata": {},
   "outputs": [
    {
     "data": {
      "text/plain": [
       "array([3, 8, 8, ..., 5, 1, 7], dtype=uint8)"
      ]
     },
     "execution_count": 50,
     "metadata": {},
     "output_type": "execute_result"
    }
   ],
   "source": [
    "y_train = y_train.reshape(-1)\n",
    "y_test = y_test.reshape(-1)\n",
    "y_test"
   ]
  },
  {
   "cell_type": "code",
   "execution_count": 51,
   "id": "7a127763-4504-4f92-a55c-0e34d81effaf",
   "metadata": {},
   "outputs": [],
   "source": [
    "plt.style.use(['dark_background'])\n",
    "def plot_images(x, y, index):\n",
    "    plt.figure(figsize=(10, 2))\n",
    "    plt.imshow(x[index])\n",
    "    plt.xlabel(classes[y[index]])    "
   ]
  },
  {
   "cell_type": "code",
   "execution_count": 52,
   "id": "6a4a9c13-e410-4eeb-8fd1-6706f7e29fa2",
   "metadata": {},
   "outputs": [
    {
     "data": {
      "image/png": "[encoded data removed]",
      "text/plain": [
       "<Figure size 720x144 with 1 Axes>"
      ]
     },
     "metadata": {},
     "output_type": "display_data"
    }
   ],
   "source": [
    "plot_images(X_test, y_test, 0)"
   ]
  },
  {
   "cell_type": "code",
   "execution_count": 53,
   "id": "bd3b5acc-efcb-48dc-bc43-93b64b8b44f9",
   "metadata": {},
   "outputs": [
    {
     "data": {
      "image/png": "[encoded data removed]",
      "text/plain": [
       "<Figure size 720x144 with 1 Axes>"
      ]
     },
     "metadata": {},
     "output_type": "display_data"
    }
   ],
   "source": [
    "plot_images(X_test, y_test, 3)"
   ]
  },
  {
   "cell_type": "markdown",
   "id": "e17c68cf-b05c-4b78-9ecb-64e3f37898a6",
   "metadata": {
    "tags": []
   },
   "source": [
    "## Normalize"
   ]
  },
  {
   "cell_type": "code",
   "execution_count": 62,
   "id": "ae8ea2cc-99d3-44f2-bc80-e817e7b70b6b",
   "metadata": {},
   "outputs": [],
   "source": [
    "X_train = X_train / 255.0\n",
    "X_test = X_test / 255.0"
   ]
  },
  {
   "cell_type": "markdown",
   "id": "37ed6c96-e554-414e-b8a1-6a44bf5e443b",
   "metadata": {
    "jp-MarkdownHeadingCollapsed": true,
    "tags": []
   },
   "source": [
    "## ANN Model"
   ]
  },
  {
   "cell_type": "code",
   "execution_count": 69,
   "id": "eefb143f-687b-4099-9de2-a38308dde033",
   "metadata": {},
   "outputs": [],
   "source": [
    "ann_model = models.Sequential([\n",
    "    layers.Flatten(input_shape=X_train.shape[1:]),\n",
    "    layers.Dense(3000, activation='relu'),\n",
    "    layers.Dense(1000, activation='relu'),\n",
    "    layers.Dense(10, activation='softmax')    \n",
    "])"
   ]
  },
  {
   "cell_type": "code",
   "execution_count": 70,
   "id": "fbba8274-7150-4783-b947-93f5484967e5",
   "metadata": {},
   "outputs": [],
   "source": [
    "ann_model.compile(optimizer='SGD', loss='sparse_categorical_crossentropy', metrics=['accuracy'])"
   ]
  },
  {
   "cell_type": "code",
   "execution_count": 71,
   "id": "f9fac288-9a6e-4d55-b37a-5ff400d8453b",
   "metadata": {},
   "outputs": [
    {
     "name": "stdout",
     "output_type": "stream",
     "text": [
      "Epoch 1/10\n",
      "1563/1563 [==============================] - 99s 63ms/step - loss: 1.8115 - accuracy: 0.3526\n",
      "Epoch 2/10\n",
      "1563/1563 [==============================] - 99s 63ms/step - loss: 1.6194 - accuracy: 0.4276\n",
      "Epoch 3/10\n",
      "1563/1563 [==============================] - 104s 67ms/step - loss: 1.5402 - accuracy: 0.4582\n",
      "Epoch 4/10\n",
      "1563/1563 [==============================] - 113s 72ms/step - loss: 1.4811 - accuracy: 0.4770\n",
      "Epoch 5/10\n",
      "1563/1563 [==============================] - 108s 69ms/step - loss: 1.4312 - accuracy: 0.4972\n",
      "Epoch 6/10\n",
      "1563/1563 [==============================] - 102s 65ms/step - loss: 1.3886 - accuracy: 0.5126\n",
      "Epoch 7/10\n",
      "1563/1563 [==============================] - 102s 65ms/step - loss: 1.3503 - accuracy: 0.5255\n",
      "Epoch 8/10\n",
      "1563/1563 [==============================] - 119s 76ms/step - loss: 1.3157 - accuracy: 0.5373\n",
      "Epoch 9/10\n",
      "1563/1563 [==============================] - 113s 72ms/step - loss: 1.2852 - accuracy: 0.5501\n",
      "Epoch 10/10\n",
      "1563/1563 [==============================] - 111s 71ms/step - loss: 1.2533 - accuracy: 0.5613\n"
     ]
    },
    {
     "data": {
      "text/plain": [
       "<keras.callbacks.History at 0x255e5fbaf50>"
      ]
     },
     "execution_count": 71,
     "metadata": {},
     "output_type": "execute_result"
    }
   ],
   "source": [
    "ann_model.fit(X_train, y_train, epochs=10, batch_size=32)"
   ]
  },
  {
   "cell_type": "code",
   "execution_count": 75,
   "id": "ecc2976e-a8fa-424d-97b5-d1ef6e8876d8",
   "metadata": {},
   "outputs": [
    {
     "name": "stdout",
     "output_type": "stream",
     "text": [
      "313/313 [==============================] - 6s 19ms/step\n"
     ]
    }
   ],
   "source": [
    "ann_yPred = ann_model.predict(X_test)"
   ]
  },
  {
   "cell_type": "code",
   "execution_count": 84,
   "id": "845f69d7-1f30-42b4-8f24-2d82fab25a59",
   "metadata": {},
   "outputs": [
    {
     "data": {
      "text/plain": [
       "'dogs'"
      ]
     },
     "execution_count": 84,
     "metadata": {},
     "output_type": "execute_result"
    },
    {
     "data": {
      "image/png": "[encoded data removed]",
      "text/plain": [
       "<Figure size 720x144 with 1 Axes>"
      ]
     },
     "metadata": {},
     "output_type": "display_data"
    }
   ],
   "source": [
    "ind = 100\n",
    "plot_images(X_test, y_test, ind)\n",
    "classes[np.argmax(ann_yPred[ind])]"
   ]
  },
  {
   "cell_type": "code",
   "execution_count": 92,
   "id": "726ac685-ba90-4400-8ca8-86770631ed59",
   "metadata": {},
   "outputs": [
    {
     "name": "stdout",
     "output_type": "stream",
     "text": [
      "              precision    recall  f1-score   support\n",
      "\n",
      "           0       0.60      0.60      0.60      1000\n",
      "           1       0.60      0.73      0.66      1000\n",
      "           2       0.36      0.52      0.42      1000\n",
      "           3       0.33      0.37      0.35      1000\n",
      "           4       0.48      0.36      0.41      1000\n",
      "           5       0.35      0.54      0.42      1000\n",
      "           6       0.67      0.41      0.51      1000\n",
      "           7       0.60      0.56      0.58      1000\n",
      "           8       0.78      0.50      0.61      1000\n",
      "           9       0.64      0.48      0.55      1000\n",
      "\n",
      "    accuracy                           0.51     10000\n",
      "   macro avg       0.54      0.51      0.51     10000\n",
      "weighted avg       0.54      0.51      0.51     10000\n",
      "\n"
     ]
    }
   ],
   "source": [
    "from sklearn.metrics import classification_report\n",
    "\n",
    "ann_pred_classes = [np.argmax(i) for i in ann_yPred]\n",
    "print(classification_report(y_test, ann_pred_classes))"
   ]
  },
  {
   "cell_type": "markdown",
   "id": "31130cf4-26c7-4a6f-86c4-22a9b2456146",
   "metadata": {
    "jp-MarkdownHeadingCollapsed": true,
    "tags": []
   },
   "source": [
    "## CNN model"
   ]
  },
  {
   "cell_type": "code",
   "execution_count": 101,
   "id": "7f5e9f72-7a61-4880-8ce2-1d472d7f1297",
   "metadata": {},
   "outputs": [],
   "source": [
    "cnn_model = models.Sequential([\n",
    "    layers.Conv2D(filters=32, kernel_size=(3, 3), activation='relu', input_shape=(32, 32, 3)),\n",
    "    layers.MaxPooling2D((2, 2)),\n",
    "    \n",
    "    layers.Conv2D(filters=64, kernel_size=(3, 3), activation='relu'),\n",
    "    layers.MaxPooling2D((2, 2)),\n",
    "    \n",
    "    layers.Flatten(),\n",
    "    layers.Dense(128, activation='relu'),\n",
    "    layers.Dense(64, activation='relu'),\n",
    "    layers.Dense(32, activation='relu'),\n",
    "    \n",
    "    layers.Dense(10, activation='softmax')\n",
    "])"
   ]
  },
  {
   "cell_type": "code",
   "execution_count": 104,
   "id": "e89e0825-24d2-43f8-94c3-c926bc80063b",
   "metadata": {},
   "outputs": [],
   "source": [
    "cnn_model.compile(optimizer='adam', loss='sparse_categorical_crossentropy', metrics=['accuracy'])"
   ]
  },
  {
   "cell_type": "code",
   "execution_count": 105,
   "id": "cc61d1ea-3d16-4af3-b4f1-21b0bec4c039",
   "metadata": {},
   "outputs": [
    {
     "name": "stdout",
     "output_type": "stream",
     "text": [
      "Epoch 1/10\n",
      "1563/1563 [==============================] - 48s 31ms/step - loss: 1.0389 - accuracy: 0.6352\n",
      "Epoch 2/10\n",
      "1563/1563 [==============================] - 50s 32ms/step - loss: 0.8495 - accuracy: 0.7025\n",
      "Epoch 3/10\n",
      "1563/1563 [==============================] - 52s 33ms/step - loss: 0.7060 - accuracy: 0.7519\n",
      "Epoch 4/10\n",
      "1563/1563 [==============================] - 51s 32ms/step - loss: 0.5815 - accuracy: 0.7940\n",
      "Epoch 5/10\n",
      "1563/1563 [==============================] - 43s 27ms/step - loss: 0.4718 - accuracy: 0.8333\n",
      "Epoch 6/10\n",
      "1563/1563 [==============================] - 55s 35ms/step - loss: 0.3817 - accuracy: 0.8645\n",
      "Epoch 7/10\n",
      "1563/1563 [==============================] - 56s 36ms/step - loss: 0.3103 - accuracy: 0.8904\n",
      "Epoch 8/10\n",
      "1563/1563 [==============================] - 64s 41ms/step - loss: 0.2544 - accuracy: 0.9100\n",
      "Epoch 9/10\n",
      "1563/1563 [==============================] - 57s 37ms/step - loss: 0.2200 - accuracy: 0.9221\n",
      "Epoch 10/10\n",
      "1563/1563 [==============================] - 59s 38ms/step - loss: 0.1860 - accuracy: 0.9343\n"
     ]
    },
    {
     "data": {
      "text/plain": [
       "<keras.callbacks.History at 0x25532bc85b0>"
      ]
     },
     "execution_count": 105,
     "metadata": {},
     "output_type": "execute_result"
    }
   ],
   "source": [
    "cnn_model.fit(X_train, y_train, epochs=10, batch_size=32)"
   ]
  },
  {
   "cell_type": "code",
   "execution_count": 108,
   "id": "cd771209-adc7-4b8d-ad63-aad3bc344858",
   "metadata": {},
   "outputs": [
    {
     "name": "stdout",
     "output_type": "stream",
     "text": [
      "313/313 [==============================] - 5s 8ms/step - loss: 1.4762 - accuracy: 0.6775\n"
     ]
    },
    {
     "data": {
      "text/plain": [
       "[1.4762240648269653, 0.6775000095367432]"
      ]
     },
     "execution_count": 108,
     "metadata": {},
     "output_type": "execute_result"
    }
   ],
   "source": [
    "cnn_model.evaluate(X_test, y_test)"
   ]
  },
  {
   "cell_type": "code",
   "execution_count": 106,
   "id": "eb709b15-bc74-4998-977d-416ea286eabb",
   "metadata": {},
   "outputs": [
    {
     "name": "stdout",
     "output_type": "stream",
     "text": [
      "313/313 [==============================] - 3s 9ms/step\n"
     ]
    }
   ],
   "source": [
    "cnn_yPred = cnn_model.predict(X_test)"
   ]
  },
  {
   "cell_type": "code",
   "execution_count": 107,
   "id": "9dfb2b28-9c77-4a9c-9e42-44105688bbc5",
   "metadata": {},
   "outputs": [
    {
     "name": "stdout",
     "output_type": "stream",
     "text": [
      "              precision    recall  f1-score   support\n",
      "\n",
      "           0       0.76      0.67      0.71      1000\n",
      "           1       0.88      0.73      0.80      1000\n",
      "           2       0.57      0.58      0.58      1000\n",
      "           3       0.46      0.53      0.50      1000\n",
      "           4       0.61      0.66      0.64      1000\n",
      "           5       0.56      0.59      0.58      1000\n",
      "           6       0.73      0.76      0.74      1000\n",
      "           7       0.74      0.70      0.72      1000\n",
      "           8       0.78      0.80      0.79      1000\n",
      "           9       0.77      0.75      0.76      1000\n",
      "\n",
      "    accuracy                           0.68     10000\n",
      "   macro avg       0.69      0.68      0.68     10000\n",
      "weighted avg       0.69      0.68      0.68     10000\n",
      "\n"
     ]
    }
   ],
   "source": [
    "cnn_pred_classes = [np.argmax(i) for i in cnn_yPred]\n",
    "print(classification_report(y_test, cnn_pred_classes))"
   ]
  }
 ],
 "metadata": {
  "kernelspec": {
   "display_name": "Python 3 (ipykernel)",
   "language": "python",
   "name": "python3"
  },
  "language_info": {
   "codemirror_mode": {
    "name": "ipython",
    "version": 3
   },
   "file_extension": ".py",
   "mimetype": "text/x-python",
   "name": "python",
   "nbconvert_exporter": "python",
   "pygments_lexer": "ipython3",
   "version": "3.10.4"
  },
  "widgets": {
   "application/vnd.jupyter.widget-state+json": {
    "state": {},
    "version_major": 2,
    "version_minor": 0
   }
  }
 },
 "nbformat": 4,
 "nbformat_minor": 5
}

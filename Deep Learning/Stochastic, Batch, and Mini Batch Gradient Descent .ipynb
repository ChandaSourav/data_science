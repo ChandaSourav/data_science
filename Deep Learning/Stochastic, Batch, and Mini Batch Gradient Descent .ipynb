{
 "cells": [
  {
   "cell_type": "markdown",
   "id": "22434bba-dbd7-4475-94d4-4397ccc43a66",
   "metadata": {},
   "source": [
    "# Batch Gradient Descent, Stochastic Gradient Descent, and Mini Batch Gradient Descent \n",
    "\n",
    "\n",
    "Gradient descent is a first-order iterative optimization algorithm for finding the minimum of a function"
   ]
  },
  {
   "cell_type": "code",
   "execution_count": 5,
   "id": "e95983d7-ba88-4d19-9ac9-d6f57747fa05",
   "metadata": {},
   "outputs": [],
   "source": [
    "import numpy as np\n",
    "import pandas as pd\n",
    "import matplotlib.pyplot as plt"
   ]
  },
  {
   "cell_type": "code",
   "execution_count": 13,
   "id": "a2d8c673-e25e-4090-a0d5-9b1c7a72fa32",
   "metadata": {},
   "outputs": [],
   "source": [
    "df = pd.read_csv('../datasets/homeprices_banglore.csv')"
   ]
  },
  {
   "cell_type": "code",
   "execution_count": 14,
   "id": "13d9b0ab-2fde-408c-a52f-31d03ca74f51",
   "metadata": {},
   "outputs": [
    {
     "data": {
      "text/html": [
       "<div>\n",
       "<style scoped>\n",
       "    .dataframe tbody tr th:only-of-type {\n",
       "        vertical-align: middle;\n",
       "    }\n",
       "\n",
       "    .dataframe tbody tr th {\n",
       "        vertical-align: top;\n",
       "    }\n",
       "\n",
       "    .dataframe thead th {\n",
       "        text-align: right;\n",
       "    }\n",
       "</style>\n",
       "<table border=\"1\" class=\"dataframe\">\n",
       "  <thead>\n",
       "    <tr style=\"text-align: right;\">\n",
       "      <th></th>\n",
       "      <th>area</th>\n",
       "      <th>bedrooms</th>\n",
       "      <th>price</th>\n",
       "    </tr>\n",
       "  </thead>\n",
       "  <tbody>\n",
       "    <tr>\n",
       "      <th>0</th>\n",
       "      <td>1056</td>\n",
       "      <td>2</td>\n",
       "      <td>39.07</td>\n",
       "    </tr>\n",
       "    <tr>\n",
       "      <th>1</th>\n",
       "      <td>2600</td>\n",
       "      <td>4</td>\n",
       "      <td>120.00</td>\n",
       "    </tr>\n",
       "    <tr>\n",
       "      <th>2</th>\n",
       "      <td>1440</td>\n",
       "      <td>3</td>\n",
       "      <td>62.00</td>\n",
       "    </tr>\n",
       "    <tr>\n",
       "      <th>3</th>\n",
       "      <td>1521</td>\n",
       "      <td>3</td>\n",
       "      <td>75.00</td>\n",
       "    </tr>\n",
       "    <tr>\n",
       "      <th>4</th>\n",
       "      <td>1200</td>\n",
       "      <td>2</td>\n",
       "      <td>51.00</td>\n",
       "    </tr>\n",
       "  </tbody>\n",
       "</table>\n",
       "</div>"
      ],
      "text/plain": [
       "   area  bedrooms   price\n",
       "0  1056         2   39.07\n",
       "1  2600         4  120.00\n",
       "2  1440         3   62.00\n",
       "3  1521         3   75.00\n",
       "4  1200         2   51.00"
      ]
     },
     "execution_count": 14,
     "metadata": {},
     "output_type": "execute_result"
    }
   ],
   "source": [
    "df.head()"
   ]
  },
  {
   "cell_type": "code",
   "execution_count": 42,
   "id": "03b52899-1993-40f0-a063-86a8a14e67f4",
   "metadata": {},
   "outputs": [],
   "source": [
    "from sklearn import preprocessing\n",
    "sx = preprocessing.MinMaxScaler()\n",
    "sy = preprocessing.MinMaxScaler()\n",
    "\n",
    "X_scaled = sx.fit_transform(df.drop('price', axis=1))\n",
    "y_scaled = sy.fit_transform(df['price'].values.reshape(len(df.price), 1))"
   ]
  },
  {
   "cell_type": "code",
   "execution_count": 43,
   "id": "5affdbff-5c14-407d-a27f-04ce379a397c",
   "metadata": {},
   "outputs": [
    {
     "data": {
      "text/plain": [
       "(array([[0.08827586, 0.25      ],\n",
       "        [0.62068966, 0.75      ],\n",
       "        [0.22068966, 0.5       ],\n",
       "        [0.24862069, 0.5       ],\n",
       "        [0.13793103, 0.25      ],\n",
       "        [0.12758621, 0.25      ],\n",
       "        [0.6662069 , 0.75      ],\n",
       "        [0.86206897, 0.75      ],\n",
       "        [0.17586207, 0.5       ],\n",
       "        [1.        , 1.        ],\n",
       "        [0.34482759, 0.5       ],\n",
       "        [0.68448276, 0.75      ],\n",
       "        [0.06896552, 0.25      ],\n",
       "        [0.10344828, 0.25      ],\n",
       "        [0.5       , 0.5       ],\n",
       "        [0.12931034, 0.25      ],\n",
       "        [0.13103448, 0.5       ],\n",
       "        [0.25517241, 0.5       ],\n",
       "        [0.67931034, 0.5       ],\n",
       "        [0.        , 0.        ]]),\n",
       " array([[0.05237037],\n",
       "        [0.65185185],\n",
       "        [0.22222222],\n",
       "        [0.31851852],\n",
       "        [0.14074074],\n",
       "        [0.04444444],\n",
       "        [0.76296296],\n",
       "        [0.91111111],\n",
       "        [0.13333333],\n",
       "        [1.        ],\n",
       "        [0.37037037],\n",
       "        [0.8       ],\n",
       "        [0.04444444],\n",
       "        [0.05925926],\n",
       "        [0.51111111],\n",
       "        [0.07407407],\n",
       "        [0.11851852],\n",
       "        [0.20740741],\n",
       "        [0.51851852],\n",
       "        [0.        ]]))"
      ]
     },
     "execution_count": 43,
     "metadata": {},
     "output_type": "execute_result"
    }
   ],
   "source": [
    "X_scaled, y_scaled"
   ]
  },
  {
   "cell_type": "markdown",
   "id": "4f6675b8-77d7-451f-a1da-6ba6875ffb91",
   "metadata": {},
   "source": [
    "## 2. Batch Gradient Descent\n",
    "\n",
    "\n",
    "In Batch Gradient Descent, all the training data is taken into consideration to take a single step. We take the average of the gradients of all the training examples and then use that mean gradient to update our parameters. So that’s just one step of gradient descent in one epoch."
   ]
  },
  {
   "cell_type": "code",
   "execution_count": 52,
   "id": "5fb2299a-6eca-4ca6-b2b1-9e09dccf8367",
   "metadata": {},
   "outputs": [],
   "source": [
    "def batch_grad(X, y_true, epochs, l_rate = 0.01):\n",
    "    num_features = X.shape[1]\n",
    "    w = np.ones(shape=num_features) # defining the weight\n",
    "    bias = 0                        # defining the bias\n",
    "    total_samples = X.shape[0]\n",
    "    \n",
    "    eph_arr, cost_arr = [], []\n",
    "    \n",
    "    for i in range(epochs):\n",
    "        y_pred = np.dot(w, X.T) + bias\n",
    "        \n",
    "        w_grad = -(2/total_samples)*(X.T.dot(y_true - y_pred))\n",
    "        b_grad = -(2/total_samples)*np.sum(y_true-y_pred)\n",
    "        \n",
    "        w = w - l_rate * w_grad\n",
    "        bias = bias - l_rate * b_grad\n",
    "        \n",
    "        cost = np.mean(np.square(y_true-y_pred)) # MSE (Mean Squared Error)\n",
    "        \n",
    "        if i%10==0:\n",
    "            cost_arr.append(cost)\n",
    "            eph_arr.append(i)\n",
    "        \n",
    "    return w, bias, cost, cost_arr, eph_arr"
   ]
  },
  {
   "cell_type": "code",
   "execution_count": 54,
   "id": "7185c3b9-c527-40e0-9031-3c9961ebbf0d",
   "metadata": {},
   "outputs": [
    {
     "data": {
      "text/plain": [
       "(array([0.70712464, 0.67456527]), -0.23034857438407427, 0.0068641890429808105)"
      ]
     },
     "execution_count": 54,
     "metadata": {},
     "output_type": "execute_result"
    }
   ],
   "source": [
    "w, b, cost, cost_list, epoch_list = batch_grad(X_scaled, y_scaled.reshape(y_scaled.shape[0],), 500)\n",
    "w, b, cost "
   ]
  },
  {
   "cell_type": "code",
   "execution_count": 61,
   "id": "b2144b7d-47f7-4778-b9f3-34c2136bcc26",
   "metadata": {},
   "outputs": [
    {
     "data": {
      "text/plain": [
       "[<matplotlib.lines.Line2D at 0x20ff5a0b190>]"
      ]
     },
     "execution_count": 61,
     "metadata": {},
     "output_type": "execute_result"
    },
    {
     "data": {
      "image/png": "[encoded data removed]",
      "text/plain": [
       "<Figure size 720x360 with 1 Axes>"
      ]
     },
     "metadata": {},
     "output_type": "display_data"
    }
   ],
   "source": [
    "plt.style.use(['dark_background'])\n",
    "plt.figure(figsize=(10, 5))\n",
    "\n",
    "plt.title(\"Batch Gradient Descent\")\n",
    "plt.xlabel(\"epoch\")\n",
    "plt.ylabel(\"cost\")\n",
    "plt.plot(epoch_list, cost_list)    "
   ]
  },
  {
   "cell_type": "markdown",
   "id": "18e4cd19-225f-43b1-8a03-11b95aae9744",
   "metadata": {},
   "source": [
    "## 2. Stochastic Gradient Descent\n",
    "\n",
    "“Stochastic”, in plain terms means “random”"
   ]
  },
  {
   "cell_type": "code",
   "execution_count": null,
   "id": "cbe069c7-70df-4667-8728-b7dea7a84726",
   "metadata": {},
   "outputs": [],
   "source": []
  }
 ],
 "metadata": {
  "kernelspec": {
   "display_name": "Python 3 (ipykernel)",
   "language": "python",
   "name": "python3"
  },
  "language_info": {
   "codemirror_mode": {
    "name": "ipython",
    "version": 3
   },
   "file_extension": ".py",
   "mimetype": "text/x-python",
   "name": "python",
   "nbconvert_exporter": "python",
   "pygments_lexer": "ipython3",
   "version": "3.10.4"
  },
  "widgets": {
   "application/vnd.jupyter.widget-state+json": {
    "state": {},
    "version_major": 2,
    "version_minor": 0
   }
  }
 },
 "nbformat": 4,
 "nbformat_minor": 5
}

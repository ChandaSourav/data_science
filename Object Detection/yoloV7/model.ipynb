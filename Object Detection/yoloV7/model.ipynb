{
 "cells": [
  {
   "cell_type": "code",
   "execution_count": 1,
   "id": "d1200082-a74d-407e-9d9e-23b327a70182",
   "metadata": {},
   "outputs": [],
   "source": [
    "import pandas as pd\n",
    "import numpy as np\n",
    "\n",
    "import cv2\n",
    "\n",
    "import matplotlib.pyplot as plt\n",
    "plt.style.use(['dark_background'])"
   ]
  },
  {
   "cell_type": "code",
   "execution_count": 2,
   "id": "e451a01f-924a-4e43-8a9b-e3ce6537ff70",
   "metadata": {},
   "outputs": [],
   "source": [
    "train_img_path = \"./car_img_dataset/training_images\"\n",
    "test_img_path = \"./car_img_dataset/testing_images\""
   ]
  },
  {
   "cell_type": "code",
   "execution_count": 3,
   "id": "f6a3ca33-dc4a-455e-988e-987cb1450bdb",
   "metadata": {},
   "outputs": [
    {
     "data": {
      "text/html": [
       "<div>\n",
       "<style scoped>\n",
       "    .dataframe tbody tr th:only-of-type {\n",
       "        vertical-align: middle;\n",
       "    }\n",
       "\n",
       "    .dataframe tbody tr th {\n",
       "        vertical-align: top;\n",
       "    }\n",
       "\n",
       "    .dataframe thead th {\n",
       "        text-align: right;\n",
       "    }\n",
       "</style>\n",
       "<table border=\"1\" class=\"dataframe\">\n",
       "  <thead>\n",
       "    <tr style=\"text-align: right;\">\n",
       "      <th></th>\n",
       "      <th>image</th>\n",
       "      <th>xmin</th>\n",
       "      <th>ymin</th>\n",
       "      <th>xmax</th>\n",
       "      <th>ymax</th>\n",
       "    </tr>\n",
       "  </thead>\n",
       "  <tbody>\n",
       "    <tr>\n",
       "      <th>0</th>\n",
       "      <td>vid_4_1000.jpg</td>\n",
       "      <td>281.259045</td>\n",
       "      <td>187.035071</td>\n",
       "      <td>327.727931</td>\n",
       "      <td>223.225547</td>\n",
       "    </tr>\n",
       "    <tr>\n",
       "      <th>1</th>\n",
       "      <td>vid_4_10000.jpg</td>\n",
       "      <td>15.163531</td>\n",
       "      <td>187.035071</td>\n",
       "      <td>120.329957</td>\n",
       "      <td>236.430180</td>\n",
       "    </tr>\n",
       "    <tr>\n",
       "      <th>2</th>\n",
       "      <td>vid_4_10040.jpg</td>\n",
       "      <td>239.192475</td>\n",
       "      <td>176.764801</td>\n",
       "      <td>361.968162</td>\n",
       "      <td>236.430180</td>\n",
       "    </tr>\n",
       "    <tr>\n",
       "      <th>3</th>\n",
       "      <td>vid_4_10020.jpg</td>\n",
       "      <td>496.483358</td>\n",
       "      <td>172.363256</td>\n",
       "      <td>630.020260</td>\n",
       "      <td>231.539575</td>\n",
       "    </tr>\n",
       "    <tr>\n",
       "      <th>4</th>\n",
       "      <td>vid_4_10060.jpg</td>\n",
       "      <td>16.630970</td>\n",
       "      <td>186.546010</td>\n",
       "      <td>132.558611</td>\n",
       "      <td>238.386422</td>\n",
       "    </tr>\n",
       "  </tbody>\n",
       "</table>\n",
       "</div>"
      ],
      "text/plain": [
       "             image        xmin        ymin        xmax        ymax\n",
       "0   vid_4_1000.jpg  281.259045  187.035071  327.727931  223.225547\n",
       "1  vid_4_10000.jpg   15.163531  187.035071  120.329957  236.430180\n",
       "2  vid_4_10040.jpg  239.192475  176.764801  361.968162  236.430180\n",
       "3  vid_4_10020.jpg  496.483358  172.363256  630.020260  231.539575\n",
       "4  vid_4_10060.jpg   16.630970  186.546010  132.558611  238.386422"
      ]
     },
     "execution_count": 3,
     "metadata": {},
     "output_type": "execute_result"
    }
   ],
   "source": [
    "df = pd.read_csv(\"./car_img_dataset/train_solution_bounding_boxes.csv\")\n",
    "df.head()"
   ]
  },
  {
   "cell_type": "code",
   "execution_count": 66,
   "id": "12e5829a-8301-4a5c-af70-09b52fdfb378",
   "metadata": {},
   "outputs": [],
   "source": [
    "df1 = df.copy()\n",
    "df1['class'] = 0\n",
    "df1['bboxes'] = df1[['xmin', 'ymin', 'xmax', 'ymax']].apply(list, axis=1)\n",
    "df1 = df1.drop(columns=['xmin', 'ymin', 'xmax', 'ymax']).groupby('image', as_index=False).agg(list)\n",
    "\n",
    "df1.to_csv('new_df1.csv')"
   ]
  },
  {
   "cell_type": "code",
   "execution_count": 67,
   "id": "1720472f-b9d4-48f4-a864-46543ab8dc80",
   "metadata": {
    "tags": []
   },
   "outputs": [
    {
     "data": {
      "text/html": [
       "<div>\n",
       "<style scoped>\n",
       "    .dataframe tbody tr th:only-of-type {\n",
       "        vertical-align: middle;\n",
       "    }\n",
       "\n",
       "    .dataframe tbody tr th {\n",
       "        vertical-align: top;\n",
       "    }\n",
       "\n",
       "    .dataframe thead th {\n",
       "        text-align: right;\n",
       "    }\n",
       "</style>\n",
       "<table border=\"1\" class=\"dataframe\">\n",
       "  <thead>\n",
       "    <tr style=\"text-align: right;\">\n",
       "      <th></th>\n",
       "      <th>image</th>\n",
       "      <th>class</th>\n",
       "      <th>bboxes</th>\n",
       "    </tr>\n",
       "  </thead>\n",
       "  <tbody>\n",
       "    <tr>\n",
       "      <th>0</th>\n",
       "      <td>vid_4_1000.jpg</td>\n",
       "      <td>[0]</td>\n",
       "      <td>[[281.2590449, 187.0350708, 327.7279305, 223.2...</td>\n",
       "    </tr>\n",
       "    <tr>\n",
       "      <th>1</th>\n",
       "      <td>vid_4_10000.jpg</td>\n",
       "      <td>[0]</td>\n",
       "      <td>[[15.16353111, 187.0350708, 120.3299566, 236.4...</td>\n",
       "    </tr>\n",
       "    <tr>\n",
       "      <th>2</th>\n",
       "      <td>vid_4_10020.jpg</td>\n",
       "      <td>[0]</td>\n",
       "      <td>[[496.4833575, 172.3632561, 630.0202605, 231.5...</td>\n",
       "    </tr>\n",
       "    <tr>\n",
       "      <th>3</th>\n",
       "      <td>vid_4_10040.jpg</td>\n",
       "      <td>[0]</td>\n",
       "      <td>[[239.1924747, 176.7648005, 361.9681621, 236.4...</td>\n",
       "    </tr>\n",
       "    <tr>\n",
       "      <th>4</th>\n",
       "      <td>vid_4_10060.jpg</td>\n",
       "      <td>[0]</td>\n",
       "      <td>[[16.63096961, 186.5460103, 132.5586107, 238.3...</td>\n",
       "    </tr>\n",
       "    <tr>\n",
       "      <th>...</th>\n",
       "      <td>...</td>\n",
       "      <td>...</td>\n",
       "      <td>...</td>\n",
       "    </tr>\n",
       "    <tr>\n",
       "      <th>350</th>\n",
       "      <td>vid_4_9860.jpg</td>\n",
       "      <td>[0]</td>\n",
       "      <td>[[0.0, 198.3217293, 49.23525127, 236.2232837]]</td>\n",
       "    </tr>\n",
       "    <tr>\n",
       "      <th>351</th>\n",
       "      <td>vid_4_9880.jpg</td>\n",
       "      <td>[0]</td>\n",
       "      <td>[[329.8761835, 156.482351, 536.6642389, 250.49...</td>\n",
       "    </tr>\n",
       "    <tr>\n",
       "      <th>352</th>\n",
       "      <td>vid_4_9900.jpg</td>\n",
       "      <td>[0]</td>\n",
       "      <td>[[0.0, 168.2958225, 141.7975237, 239.1766516]]</td>\n",
       "    </tr>\n",
       "    <tr>\n",
       "      <th>353</th>\n",
       "      <td>vid_4_9960.jpg</td>\n",
       "      <td>[0]</td>\n",
       "      <td>[[487.4289876, 172.2336464, 616.9176985, 228.8...</td>\n",
       "    </tr>\n",
       "    <tr>\n",
       "      <th>354</th>\n",
       "      <td>vid_4_9980.jpg</td>\n",
       "      <td>[0]</td>\n",
       "      <td>[[221.5586307, 182.5704339, 348.585579, 238.19...</td>\n",
       "    </tr>\n",
       "  </tbody>\n",
       "</table>\n",
       "<p>355 rows × 3 columns</p>\n",
       "</div>"
      ],
      "text/plain": [
       "               image class                                             bboxes\n",
       "0     vid_4_1000.jpg   [0]  [[281.2590449, 187.0350708, 327.7279305, 223.2...\n",
       "1    vid_4_10000.jpg   [0]  [[15.16353111, 187.0350708, 120.3299566, 236.4...\n",
       "2    vid_4_10020.jpg   [0]  [[496.4833575, 172.3632561, 630.0202605, 231.5...\n",
       "3    vid_4_10040.jpg   [0]  [[239.1924747, 176.7648005, 361.9681621, 236.4...\n",
       "4    vid_4_10060.jpg   [0]  [[16.63096961, 186.5460103, 132.5586107, 238.3...\n",
       "..               ...   ...                                                ...\n",
       "350   vid_4_9860.jpg   [0]     [[0.0, 198.3217293, 49.23525127, 236.2232837]]\n",
       "351   vid_4_9880.jpg   [0]  [[329.8761835, 156.482351, 536.6642389, 250.49...\n",
       "352   vid_4_9900.jpg   [0]     [[0.0, 168.2958225, 141.7975237, 239.1766516]]\n",
       "353   vid_4_9960.jpg   [0]  [[487.4289876, 172.2336464, 616.9176985, 228.8...\n",
       "354   vid_4_9980.jpg   [0]  [[221.5586307, 182.5704339, 348.585579, 238.19...\n",
       "\n",
       "[355 rows x 3 columns]"
      ]
     },
     "execution_count": 67,
     "metadata": {},
     "output_type": "execute_result"
    }
   ],
   "source": [
    "df1"
   ]
  },
  {
   "cell_type": "code",
   "execution_count": 101,
   "id": "71d95d57-81f0-48f0-a41f-500fbd367ae3",
   "metadata": {},
   "outputs": [],
   "source": [
    "from random import randint\n",
    "import matplotlib.patches as patches\n",
    "def draw_img_with_box(df_index):\n",
    "    color = (113, 252, 170)\n",
    "    img = cv2.imread(train_img_path +\"/\"+ df1.iloc[df_index]['image'])\n",
    "    img = cv2.cvtColor(img, cv2.COLOR_BGRA2RGB)\n",
    "    # fig, ax = plt.subplots(figsize=(8, 5))\n",
    "    boxes = df1.loc[df_index, 'bboxes']\n",
    "    # print(boxes)\n",
    "    for bbox in boxes:\n",
    "        plt.subplots(5, 2)\n",
    "        rect = patches.Rectangle((int(bbox[0]), int(bbox[1])), int(bbox[2]) - int(bbox[0]), int(bbox[3]) - int(bbox[1]),\n",
    "                                 linewidth=1.5, edgecolor='#7CFFBB', facecolor='none')\n",
    "        ax.add_patch(rect)\n",
    "        cv2.putText(img, 'Car', (int(bbox[0]), int(bbox[1]) - 10), cv2.FONT_ITALIC, 1, color, 2)\n",
    "    plt.imshow(img)\n",
    "    plt.title(df1.loc[df_index, 'image'])\n",
    "    plt.axis('off')\n",
    "    plt.show()"
   ]
  },
  {
   "cell_type": "code",
   "execution_count": 102,
   "id": "34a61704-ab75-4545-a633-4475db0d72bc",
   "metadata": {},
   "outputs": [
    {
     "ename": "NameError",
     "evalue": "name 'ax' is not defined",
     "output_type": "error",
     "traceback": [
      "\u001b[1;31m---------------------------------------------------------------------------\u001b[0m",
      "\u001b[1;31mNameError\u001b[0m                                 Traceback (most recent call last)",
      "Input \u001b[1;32mIn [102]\u001b[0m, in \u001b[0;36m<cell line: 1>\u001b[1;34m()\u001b[0m\n\u001b[0;32m      1\u001b[0m \u001b[38;5;28;01mfor\u001b[39;00m _ \u001b[38;5;129;01min\u001b[39;00m \u001b[38;5;28mrange\u001b[39m(\u001b[38;5;241m5\u001b[39m):\n\u001b[1;32m----> 2\u001b[0m     \u001b[43mdraw_img_with_box\u001b[49m\u001b[43m(\u001b[49m\u001b[43mrandint\u001b[49m\u001b[43m(\u001b[49m\u001b[38;5;241;43m0\u001b[39;49m\u001b[43m,\u001b[49m\u001b[43m \u001b[49m\u001b[38;5;28;43mlen\u001b[39;49m\u001b[43m(\u001b[49m\u001b[43mdf1\u001b[49m\u001b[43m)\u001b[49m\u001b[43m)\u001b[49m\u001b[43m)\u001b[49m\n",
      "Input \u001b[1;32mIn [101]\u001b[0m, in \u001b[0;36mdraw_img_with_box\u001b[1;34m(df_index)\u001b[0m\n\u001b[0;32m     11\u001b[0m     plt\u001b[38;5;241m.\u001b[39msubplots(\u001b[38;5;241m5\u001b[39m, \u001b[38;5;241m2\u001b[39m)\n\u001b[0;32m     12\u001b[0m     rect \u001b[38;5;241m=\u001b[39m patches\u001b[38;5;241m.\u001b[39mRectangle((\u001b[38;5;28mint\u001b[39m(bbox[\u001b[38;5;241m0\u001b[39m]), \u001b[38;5;28mint\u001b[39m(bbox[\u001b[38;5;241m1\u001b[39m])), \u001b[38;5;28mint\u001b[39m(bbox[\u001b[38;5;241m2\u001b[39m]) \u001b[38;5;241m-\u001b[39m \u001b[38;5;28mint\u001b[39m(bbox[\u001b[38;5;241m0\u001b[39m]), \u001b[38;5;28mint\u001b[39m(bbox[\u001b[38;5;241m3\u001b[39m]) \u001b[38;5;241m-\u001b[39m \u001b[38;5;28mint\u001b[39m(bbox[\u001b[38;5;241m1\u001b[39m]),\n\u001b[0;32m     13\u001b[0m                              linewidth\u001b[38;5;241m=\u001b[39m\u001b[38;5;241m1.5\u001b[39m, edgecolor\u001b[38;5;241m=\u001b[39m\u001b[38;5;124m'\u001b[39m\u001b[38;5;124m#7CFFBB\u001b[39m\u001b[38;5;124m'\u001b[39m, facecolor\u001b[38;5;241m=\u001b[39m\u001b[38;5;124m'\u001b[39m\u001b[38;5;124mnone\u001b[39m\u001b[38;5;124m'\u001b[39m)\n\u001b[1;32m---> 14\u001b[0m     \u001b[43max\u001b[49m\u001b[38;5;241m.\u001b[39madd_patch(rect)\n\u001b[0;32m     15\u001b[0m     cv2\u001b[38;5;241m.\u001b[39mputText(img, \u001b[38;5;124m'\u001b[39m\u001b[38;5;124mCar\u001b[39m\u001b[38;5;124m'\u001b[39m, (\u001b[38;5;28mint\u001b[39m(bbox[\u001b[38;5;241m0\u001b[39m]), \u001b[38;5;28mint\u001b[39m(bbox[\u001b[38;5;241m1\u001b[39m]) \u001b[38;5;241m-\u001b[39m \u001b[38;5;241m10\u001b[39m), cv2\u001b[38;5;241m.\u001b[39mFONT_ITALIC, \u001b[38;5;241m1\u001b[39m, color, \u001b[38;5;241m2\u001b[39m)\n\u001b[0;32m     16\u001b[0m plt\u001b[38;5;241m.\u001b[39mimshow(img)\n",
      "\u001b[1;31mNameError\u001b[0m: name 'ax' is not defined"
     ]
    },
    {
     "data": {
      "image/png": "[encoded data removed]",
      "text/plain": [
       "<Figure size 1080x720 with 10 Axes>"
      ]
     },
     "metadata": {},
     "output_type": "display_data"
    }
   ],
   "source": [
    "for _ in range(5):\n",
    "    draw_img_with_box(randint(0, len(df1)))"
   ]
  },
  {
   "cell_type": "code",
   "execution_count": null,
   "id": "4220bd21-1b6b-4ba7-97c8-ce9e4923371c",
   "metadata": {},
   "outputs": [],
   "source": []
  }
 ],
 "metadata": {
  "kernelspec": {
   "display_name": "Python 3 (ipykernel)",
   "language": "python",
   "name": "python3"
  },
  "language_info": {
   "codemirror_mode": {
    "name": "ipython",
    "version": 3
   },
   "file_extension": ".py",
   "mimetype": "text/x-python",
   "name": "python",
   "nbconvert_exporter": "python",
   "pygments_lexer": "ipython3",
   "version": "3.10.4"
  },
  "widgets": {
   "application/vnd.jupyter.widget-state+json": {
    "state": {},
    "version_major": 2,
    "version_minor": 0
   }
  }
 },
 "nbformat": 4,
 "nbformat_minor": 5
}

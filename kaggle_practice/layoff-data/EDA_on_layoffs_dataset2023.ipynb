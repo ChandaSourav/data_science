{
 "cells": [
  {
   "cell_type": "markdown",
   "id": "28180023",
   "metadata": {
    "papermill": {
     "duration": 0.013813,
     "end_time": "2023-02-01T19:24:11.799985",
     "exception": false,
     "start_time": "2023-02-01T19:24:11.786172",
     "status": "completed"
    },
    "tags": []
   },
   "source": [
    "<img src=\"https://raw.githubusercontent.com/dasdebjeet/data_science/74c7b929664a7e6757de30a1c7769b7398f99851/kaggle_practice/layoff-data/EDA_notebook_banner.png\" style=\"width:100%\">"
   ]
  },
  {
   "cell_type": "markdown",
   "id": "e2b81beb",
   "metadata": {
    "papermill": {
     "duration": 0.013081,
     "end_time": "2023-02-01T19:24:11.825577",
     "exception": false,
     "start_time": "2023-02-01T19:24:11.812496",
     "status": "completed"
    },
    "tags": []
   },
   "source": [
    "<strong>Google, Microsoft, Amazon and other tech companies have laid off more than 70,000 employees in the last year\n",
    "The job cuts in tech land are piling up, as companies that led the 10-year bull market adapt to a new reality.<br><br>\n",
    "Google announced plans to lay off 12,000 people from its workforce Friday, while Microsoft said Wednesday that it’s letting go of 10,000 employees. Amazon also began a fresh round of job cuts that are expected to eliminate more than 18,000 employees and become the largest workforce reduction in the e-retailer’s 28-year history.\n",
    "The layoffs come in a period of slowing growth, higher interest rates to battle inflation, and fears of a possible recession next year.</strong><br><br>"
   ]
  },
  {
   "cell_type": "markdown",
   "id": "8e8256cb",
   "metadata": {
    "papermill": {
     "duration": 0.012969,
     "end_time": "2023-02-01T19:24:11.851840",
     "exception": false,
     "start_time": "2023-02-01T19:24:11.838871",
     "status": "completed"
    },
    "tags": []
   },
   "source": [
    "<h2 style=\"background-color:#E1F8FF; margin-bottom:0px;padding:20px; color:#000; border:5px solid #4AD3FF\"> Table of Contents</h2>\n",
    "\n",
    "1. [Import necessary Libaries](#imports)\n",
    "2. [Read the Dataset](#dataset)<br>\n",
    "    2.1. [Dataset Description](#dataset_des)\n",
    "3. [Data Exploration](#data_expo)\n",
    "4. [Feature Enginnering](#feat_eng)\n",
    "5. [Data Cleaning](#data_clean)\n",
    "6. [Data Analysis](#data_ana)<br>\n",
    "    6.1. [Visualize the number Layoffs in these Years](#v1)<br>\n",
    "    6.2. [Get the insights of the Layoffs groupby to their Continents](#insi1)<br>\n",
    "    6.3. [Lets, visualize these countries](#v2)<br>\n",
    "    6.4. [Get the insights of the company with 100% layoff rate](#insi2)<br>\n",
    "    6.5. [Visualize the locations of tthe companies with 100% layoff rate](#geoloc)<br>\n",
    "    6.6. [Divide the dataframe into 4 Groups](#divide_4grp)<br>\n",
    "    6.6.1 [Visualize the different types of Industries in the Group 4](#v3)<br>\n",
    "    6.6.2 [Lets, see the Top 10 companies with the most layoffs in the group 4 (154-11000 layoff count)](#insi3)<br>\n",
    "    6.6.2a [Visualize the Top10 Layoff Count and Location](#v4)<br>\n",
    "    6.6.2b [Visualize the Top16 Companies Location](#v5)<br>\n",
    "    6.6.2c [Visualize the Top10 Layoff Companies Funds Raised](#v6)<br>\n",
    "7. [Conclusion](#conclusion)"
   ]
  },
  {
   "cell_type": "markdown",
   "id": "e456ad89",
   "metadata": {
    "papermill": {
     "duration": 0.011864,
     "end_time": "2023-02-01T19:24:11.876237",
     "exception": false,
     "start_time": "2023-02-01T19:24:11.864373",
     "status": "completed"
    },
    "tags": []
   },
   "source": [
    "<a id=\"imports\"></a>\n",
    "<h2 style=\"background-color:#E1F8FF; margin-bottom:0px;padding:20px; color:#000; border-bottom:5px solid #4AD3FF\">1. Import necessary Libaries</h2>"
   ]
  },
  {
   "cell_type": "code",
   "execution_count": 78,
   "id": "6cfddb4a",
   "metadata": {
    "papermill": {
     "duration": 1.821976,
     "end_time": "2023-02-01T19:24:13.711175",
     "exception": false,
     "start_time": "2023-02-01T19:24:11.889199",
     "status": "completed"
    },
    "tags": []
   },
   "outputs": [],
   "source": [
    "import numpy as np\n",
    "import pandas as pd\n",
    "\n",
    "import matplotlib.pyplot as plt\n",
    "import plotly_express as px\n",
    "\n",
    "import seaborn as sns\n",
    "\n",
    "palette = sns.color_palette(\"rainbow\", 8)"
   ]
  },
  {
   "cell_type": "markdown",
   "id": "50c56b0a",
   "metadata": {
    "papermill": {
     "duration": 0.010512,
     "end_time": "2023-02-01T19:24:13.733438",
     "exception": false,
     "start_time": "2023-02-01T19:24:13.722926",
     "status": "completed"
    },
    "tags": []
   },
   "source": [
    "<a id=\"dataset\"></a>\n",
    "<h2 style=\"background-color:#E1F8FF; margin-bottom:0px;padding:20px; color:#000; border-bottom:5px solid #4AD3FF\">2. Read the Dataset</h2>"
   ]
  },
  {
   "cell_type": "code",
   "execution_count": 2,
   "id": "ec220aae",
   "metadata": {
    "papermill": {
     "duration": 0.174274,
     "end_time": "2023-02-01T19:24:13.918784",
     "exception": false,
     "start_time": "2023-02-01T19:24:13.744510",
     "status": "completed"
    },
    "tags": []
   },
   "outputs": [
    {
     "data": {
      "text/html": [
       "<style type=\"text/css\">\n",
       "#T_727a0_row0_col0, #T_727a0_row0_col1, #T_727a0_row0_col2, #T_727a0_row0_col3, #T_727a0_row0_col4, #T_727a0_row0_col5, #T_727a0_row0_col6, #T_727a0_row0_col7, #T_727a0_row0_col8, #T_727a0_row0_col9, #T_727a0_row0_col10, #T_727a0_row0_col11, #T_727a0_row1_col0, #T_727a0_row1_col1, #T_727a0_row1_col2, #T_727a0_row1_col3, #T_727a0_row1_col4, #T_727a0_row1_col5, #T_727a0_row1_col6, #T_727a0_row1_col7, #T_727a0_row1_col8, #T_727a0_row1_col9, #T_727a0_row1_col10, #T_727a0_row1_col11, #T_727a0_row2_col0, #T_727a0_row2_col1, #T_727a0_row2_col2, #T_727a0_row2_col3, #T_727a0_row2_col4, #T_727a0_row2_col5, #T_727a0_row2_col6, #T_727a0_row2_col7, #T_727a0_row2_col8, #T_727a0_row2_col9, #T_727a0_row2_col10, #T_727a0_row2_col11, #T_727a0_row3_col0, #T_727a0_row3_col1, #T_727a0_row3_col2, #T_727a0_row3_col3, #T_727a0_row3_col4, #T_727a0_row3_col5, #T_727a0_row3_col6, #T_727a0_row3_col7, #T_727a0_row3_col8, #T_727a0_row3_col9, #T_727a0_row3_col10, #T_727a0_row3_col11, #T_727a0_row4_col0, #T_727a0_row4_col1, #T_727a0_row4_col2, #T_727a0_row4_col3, #T_727a0_row4_col4, #T_727a0_row4_col5, #T_727a0_row4_col6, #T_727a0_row4_col7, #T_727a0_row4_col8, #T_727a0_row4_col9, #T_727a0_row4_col10, #T_727a0_row4_col11 {\n",
       "  background-color: #E1F8FF;\n",
       "  color: #000;\n",
       "  border: 1px solid #4AD3FF;\n",
       "}\n",
       "</style>\n",
       "<table id=\"T_727a0\">\n",
       "  <thead>\n",
       "    <tr>\n",
       "      <th class=\"blank level0\" >&nbsp;</th>\n",
       "      <th id=\"T_727a0_level0_col0\" class=\"col_heading level0 col0\" >Company</th>\n",
       "      <th id=\"T_727a0_level0_col1\" class=\"col_heading level0 col1\" >Location_HQ</th>\n",
       "      <th id=\"T_727a0_level0_col2\" class=\"col_heading level0 col2\" >Industry</th>\n",
       "      <th id=\"T_727a0_level0_col3\" class=\"col_heading level0 col3\" >Laid_Off_Count</th>\n",
       "      <th id=\"T_727a0_level0_col4\" class=\"col_heading level0 col4\" >Percentage</th>\n",
       "      <th id=\"T_727a0_level0_col5\" class=\"col_heading level0 col5\" >Date</th>\n",
       "      <th id=\"T_727a0_level0_col6\" class=\"col_heading level0 col6\" >Source</th>\n",
       "      <th id=\"T_727a0_level0_col7\" class=\"col_heading level0 col7\" >Funds_Raised</th>\n",
       "      <th id=\"T_727a0_level0_col8\" class=\"col_heading level0 col8\" >Stage</th>\n",
       "      <th id=\"T_727a0_level0_col9\" class=\"col_heading level0 col9\" >Date_Added</th>\n",
       "      <th id=\"T_727a0_level0_col10\" class=\"col_heading level0 col10\" >Country</th>\n",
       "      <th id=\"T_727a0_level0_col11\" class=\"col_heading level0 col11\" >List_of_Employees_Laid_Off</th>\n",
       "    </tr>\n",
       "  </thead>\n",
       "  <tbody>\n",
       "    <tr>\n",
       "      <th id=\"T_727a0_level0_row0\" class=\"row_heading level0 row0\" >0</th>\n",
       "      <td id=\"T_727a0_row0_col0\" class=\"data row0 col0\" >Wix</td>\n",
       "      <td id=\"T_727a0_row0_col1\" class=\"data row0 col1\" >Tel Aviv</td>\n",
       "      <td id=\"T_727a0_row0_col2\" class=\"data row0 col2\" >Marketing</td>\n",
       "      <td id=\"T_727a0_row0_col3\" class=\"data row0 col3\" >370.000000</td>\n",
       "      <td id=\"T_727a0_row0_col4\" class=\"data row0 col4\" >0.060000</td>\n",
       "      <td id=\"T_727a0_row0_col5\" class=\"data row0 col5\" >2023-02-15 00:00:00</td>\n",
       "      <td id=\"T_727a0_row0_col6\" class=\"data row0 col6\" >https://www.calcalistech.com/ctechnews/article/s1lsqn5as</td>\n",
       "      <td id=\"T_727a0_row0_col7\" class=\"data row0 col7\" >58.000000</td>\n",
       "      <td id=\"T_727a0_row0_col8\" class=\"data row0 col8\" >Post-IPO</td>\n",
       "      <td id=\"T_727a0_row0_col9\" class=\"data row0 col9\" >2023-02-15 21:00:06</td>\n",
       "      <td id=\"T_727a0_row0_col10\" class=\"data row0 col10\" >Israel</td>\n",
       "      <td id=\"T_727a0_row0_col11\" class=\"data row0 col11\" >Unknown</td>\n",
       "    </tr>\n",
       "    <tr>\n",
       "      <th id=\"T_727a0_level0_row1\" class=\"row_heading level0 row1\" >1</th>\n",
       "      <td id=\"T_727a0_row1_col0\" class=\"data row1 col0\" >Neon</td>\n",
       "      <td id=\"T_727a0_row1_col1\" class=\"data row1 col1\" >Sao Paulo</td>\n",
       "      <td id=\"T_727a0_row1_col2\" class=\"data row1 col2\" >Finance</td>\n",
       "      <td id=\"T_727a0_row1_col3\" class=\"data row1 col3\" >210.000000</td>\n",
       "      <td id=\"T_727a0_row1_col4\" class=\"data row1 col4\" >0.090000</td>\n",
       "      <td id=\"T_727a0_row1_col5\" class=\"data row1 col5\" >2023-02-15 00:00:00</td>\n",
       "      <td id=\"T_727a0_row1_col6\" class=\"data row1 col6\" >https://www.seudinheiro.com/2023/empresas/unicornio-neon-banco-digital-demissao-em-massa-lils/</td>\n",
       "      <td id=\"T_727a0_row1_col7\" class=\"data row1 col7\" >720.000000</td>\n",
       "      <td id=\"T_727a0_row1_col8\" class=\"data row1 col8\" >Series D</td>\n",
       "      <td id=\"T_727a0_row1_col9\" class=\"data row1 col9\" >2023-02-15 21:58:53</td>\n",
       "      <td id=\"T_727a0_row1_col10\" class=\"data row1 col10\" >Brazil</td>\n",
       "      <td id=\"T_727a0_row1_col11\" class=\"data row1 col11\" >https://docs.google.com/spreadsheets/d/1HPjbndRJEq8OppLnQ17gjLKWGTLDCihH88KJ3ERr_10/htmlview#gid=0</td>\n",
       "    </tr>\n",
       "    <tr>\n",
       "      <th id=\"T_727a0_level0_row2\" class=\"row_heading level0 row2\" >2</th>\n",
       "      <td id=\"T_727a0_row2_col0\" class=\"data row2 col0\" >DigitalOcean</td>\n",
       "      <td id=\"T_727a0_row2_col1\" class=\"data row2 col1\" >New York City</td>\n",
       "      <td id=\"T_727a0_row2_col2\" class=\"data row2 col2\" >Infrastructure</td>\n",
       "      <td id=\"T_727a0_row2_col3\" class=\"data row2 col3\" >200.000000</td>\n",
       "      <td id=\"T_727a0_row2_col4\" class=\"data row2 col4\" >0.110000</td>\n",
       "      <td id=\"T_727a0_row2_col5\" class=\"data row2 col5\" >2023-02-15 00:00:00</td>\n",
       "      <td id=\"T_727a0_row2_col6\" class=\"data row2 col6\" >https://www.theregister.com/2023/02/15/digitalocean_layoffs/</td>\n",
       "      <td id=\"T_727a0_row2_col7\" class=\"data row2 col7\" >491.000000</td>\n",
       "      <td id=\"T_727a0_row2_col8\" class=\"data row2 col8\" >Post-IPO</td>\n",
       "      <td id=\"T_727a0_row2_col9\" class=\"data row2 col9\" >2023-02-15 22:55:04</td>\n",
       "      <td id=\"T_727a0_row2_col10\" class=\"data row2 col10\" >United States</td>\n",
       "      <td id=\"T_727a0_row2_col11\" class=\"data row2 col11\" >Unknown</td>\n",
       "    </tr>\n",
       "    <tr>\n",
       "      <th id=\"T_727a0_level0_row3\" class=\"row_heading level0 row3\" >3</th>\n",
       "      <td id=\"T_727a0_row3_col0\" class=\"data row3 col0\" >Sprinklr</td>\n",
       "      <td id=\"T_727a0_row3_col1\" class=\"data row3 col1\" >New York City</td>\n",
       "      <td id=\"T_727a0_row3_col2\" class=\"data row3 col2\" >Support</td>\n",
       "      <td id=\"T_727a0_row3_col3\" class=\"data row3 col3\" >100.000000</td>\n",
       "      <td id=\"T_727a0_row3_col4\" class=\"data row3 col4\" >0.040000</td>\n",
       "      <td id=\"T_727a0_row3_col5\" class=\"data row3 col5\" >2023-02-15 00:00:00</td>\n",
       "      <td id=\"T_727a0_row3_col6\" class=\"data row3 col6\" >https://techcrunch.com/2023/02/15/sprinklr-layoffs-2023/</td>\n",
       "      <td id=\"T_727a0_row3_col7\" class=\"data row3 col7\" >429.000000</td>\n",
       "      <td id=\"T_727a0_row3_col8\" class=\"data row3 col8\" >Post-IPO</td>\n",
       "      <td id=\"T_727a0_row3_col9\" class=\"data row3 col9\" >2023-02-15 19:05:49</td>\n",
       "      <td id=\"T_727a0_row3_col10\" class=\"data row3 col10\" >United States</td>\n",
       "      <td id=\"T_727a0_row3_col11\" class=\"data row3 col11\" >Unknown</td>\n",
       "    </tr>\n",
       "    <tr>\n",
       "      <th id=\"T_727a0_level0_row4\" class=\"row_heading level0 row4\" >4</th>\n",
       "      <td id=\"T_727a0_row4_col0\" class=\"data row4 col0\" >Milkrun</td>\n",
       "      <td id=\"T_727a0_row4_col1\" class=\"data row4 col1\" >Sydney</td>\n",
       "      <td id=\"T_727a0_row4_col2\" class=\"data row4 col2\" >Food</td>\n",
       "      <td id=\"T_727a0_row4_col3\" class=\"data row4 col3\" >nan</td>\n",
       "      <td id=\"T_727a0_row4_col4\" class=\"data row4 col4\" >0.200000</td>\n",
       "      <td id=\"T_727a0_row4_col5\" class=\"data row4 col5\" >2023-02-15 00:00:00</td>\n",
       "      <td id=\"T_727a0_row4_col6\" class=\"data row4 col6\" >https://www.smh.com.au/technology/milkrun-slashes-workforce-closes-delivery-hubs-in-cash-crunch-20230215-p5ckny.html</td>\n",
       "      <td id=\"T_727a0_row4_col7\" class=\"data row4 col7\" >86.000000</td>\n",
       "      <td id=\"T_727a0_row4_col8\" class=\"data row4 col8\" >Series A</td>\n",
       "      <td id=\"T_727a0_row4_col9\" class=\"data row4 col9\" >2023-02-15 19:04:56</td>\n",
       "      <td id=\"T_727a0_row4_col10\" class=\"data row4 col10\" >Australia</td>\n",
       "      <td id=\"T_727a0_row4_col11\" class=\"data row4 col11\" >Unknown</td>\n",
       "    </tr>\n",
       "  </tbody>\n",
       "</table>\n"
      ],
      "text/plain": [
       "<pandas.io.formats.style.Styler at 0x1dc5bcddfc0>"
      ]
     },
     "execution_count": 2,
     "metadata": {},
     "output_type": "execute_result"
    }
   ],
   "source": [
    "df = pd.read_csv(\"./layoffs_data.csv\")\n",
    "df.head().style.set_properties(**{'background-color': '#E1F8FF','color': '#000','border': '1px solid #4AD3FF'})"
   ]
  },
  {
   "cell_type": "markdown",
   "id": "77d1777a",
   "metadata": {
    "papermill": {
     "duration": 0.014272,
     "end_time": "2023-02-01T19:24:13.944829",
     "exception": false,
     "start_time": "2023-02-01T19:24:13.930557",
     "status": "completed"
    },
    "tags": []
   },
   "source": [
    "<a id=\"dataset_des\"></a>\n",
    "<h3 style=\"background-color:#E1F8FF; margin-bottom:0px;padding:10px; color:#000\">2.1 Dataset Description</h3>\n",
    "\n",
    "1. Company - Name of the Company\n",
    "2. Location - Location of the Company\n",
    "3. Industry - Type of Industry the company is\n",
    "4. Laid_Off_Count - Total count\n",
    "5. Percentage - Percentage of layoff\n",
    "6. Date - Date of layoff\n",
    "7. Source - Data gathered from source\n",
    "8. Funds_Raised - Total funds raised\n",
    "9. Stage - Stage of the company\n",
    "10. Date_Added - data added in database\n",
    "11. Country - Country of company located\n",
    "12. List_of_Employees_Laid_Off - link to g_docs of employee list"
   ]
  },
  {
   "cell_type": "code",
   "execution_count": 3,
   "id": "eff04231",
   "metadata": {
    "papermill": {
     "duration": 0.026581,
     "end_time": "2023-02-01T19:24:13.983025",
     "exception": false,
     "start_time": "2023-02-01T19:24:13.956444",
     "status": "completed"
    },
    "tags": []
   },
   "outputs": [
    {
     "data": {
      "text/plain": [
       "(2252, 12)"
      ]
     },
     "execution_count": 3,
     "metadata": {},
     "output_type": "execute_result"
    }
   ],
   "source": [
    "df.shape"
   ]
  },
  {
   "cell_type": "markdown",
   "id": "f59381d7",
   "metadata": {
    "papermill": {
     "duration": 0.01169,
     "end_time": "2023-02-01T19:24:14.005844",
     "exception": false,
     "start_time": "2023-02-01T19:24:13.994154",
     "status": "completed"
    },
    "tags": []
   },
   "source": [
    "<a id=\"data_expo\"></a>\n",
    "<h2 style=\"background-color:#E1F8FF; margin-bottom:0px;padding:20px; color:#000; border-bottom:5px solid #4AD3FF\">3. Data Exploration</h2>"
   ]
  },
  {
   "cell_type": "code",
   "execution_count": 4,
   "id": "f857bf8b",
   "metadata": {
    "papermill": {
     "duration": 0.046552,
     "end_time": "2023-02-01T19:24:14.064784",
     "exception": false,
     "start_time": "2023-02-01T19:24:14.018232",
     "status": "completed"
    },
    "tags": []
   },
   "outputs": [
    {
     "name": "stdout",
     "output_type": "stream",
     "text": [
      "<class 'pandas.core.frame.DataFrame'>\n",
      "RangeIndex: 2252 entries, 0 to 2251\n",
      "Data columns (total 12 columns):\n",
      " #   Column                      Non-Null Count  Dtype  \n",
      "---  ------                      --------------  -----  \n",
      " 0   Company                     2252 non-null   object \n",
      " 1   Location_HQ                 2252 non-null   object \n",
      " 2   Industry                    2252 non-null   object \n",
      " 3   Laid_Off_Count              1546 non-null   float64\n",
      " 4   Percentage                  1517 non-null   float64\n",
      " 5   Date                        2251 non-null   object \n",
      " 6   Source                      2252 non-null   object \n",
      " 7   Funds_Raised                2055 non-null   float64\n",
      " 8   Stage                       2252 non-null   object \n",
      " 9   Date_Added                  2252 non-null   object \n",
      " 10  Country                     2252 non-null   object \n",
      " 11  List_of_Employees_Laid_Off  2251 non-null   object \n",
      "dtypes: float64(3), object(9)\n",
      "memory usage: 211.2+ KB\n"
     ]
    }
   ],
   "source": [
    "df.info()"
   ]
  },
  {
   "cell_type": "code",
   "execution_count": 5,
   "id": "c2014752",
   "metadata": {
    "papermill": {
     "duration": 0.031165,
     "end_time": "2023-02-01T19:24:14.107394",
     "exception": false,
     "start_time": "2023-02-01T19:24:14.076229",
     "status": "completed"
    },
    "tags": []
   },
   "outputs": [
    {
     "data": {
      "text/plain": [
       "Company                         0\n",
       "Location_HQ                     0\n",
       "Industry                        0\n",
       "Laid_Off_Count                706\n",
       "Percentage                    735\n",
       "Date                            1\n",
       "Source                          0\n",
       "Funds_Raised                  197\n",
       "Stage                           0\n",
       "Date_Added                      0\n",
       "Country                         0\n",
       "List_of_Employees_Laid_Off      1\n",
       "dtype: int64"
      ]
     },
     "execution_count": 5,
     "metadata": {},
     "output_type": "execute_result"
    }
   ],
   "source": [
    "df.isna().sum()"
   ]
  },
  {
   "cell_type": "code",
   "execution_count": 6,
   "id": "c4345609",
   "metadata": {
    "papermill": {
     "duration": 0.026436,
     "end_time": "2023-02-01T19:24:14.145333",
     "exception": false,
     "start_time": "2023-02-01T19:24:14.118897",
     "status": "completed"
    },
    "tags": []
   },
   "outputs": [
    {
     "data": {
      "text/plain": [
       "(2252, 12)"
      ]
     },
     "execution_count": 6,
     "metadata": {},
     "output_type": "execute_result"
    }
   ],
   "source": [
    "df.shape"
   ]
  },
  {
   "cell_type": "code",
   "execution_count": 7,
   "id": "51e38da3",
   "metadata": {
    "papermill": {
     "duration": 0.052937,
     "end_time": "2023-02-01T19:24:14.210473",
     "exception": false,
     "start_time": "2023-02-01T19:24:14.157536",
     "status": "completed"
    },
    "tags": []
   },
   "outputs": [
    {
     "data": {
      "text/html": [
       "<div>\n",
       "<style scoped>\n",
       "    .dataframe tbody tr th:only-of-type {\n",
       "        vertical-align: middle;\n",
       "    }\n",
       "\n",
       "    .dataframe tbody tr th {\n",
       "        vertical-align: top;\n",
       "    }\n",
       "\n",
       "    .dataframe thead th {\n",
       "        text-align: right;\n",
       "    }\n",
       "</style>\n",
       "<table border=\"1\" class=\"dataframe\">\n",
       "  <thead>\n",
       "    <tr style=\"text-align: right;\">\n",
       "      <th></th>\n",
       "      <th>Laid_Off_Count</th>\n",
       "      <th>Percentage</th>\n",
       "      <th>Funds_Raised</th>\n",
       "    </tr>\n",
       "  </thead>\n",
       "  <tbody>\n",
       "    <tr>\n",
       "      <th>count</th>\n",
       "      <td>1546.000000</td>\n",
       "      <td>1517.000000</td>\n",
       "      <td>2055.000000</td>\n",
       "    </tr>\n",
       "    <tr>\n",
       "      <th>mean</th>\n",
       "      <td>234.755498</td>\n",
       "      <td>0.258607</td>\n",
       "      <td>817.473623</td>\n",
       "    </tr>\n",
       "    <tr>\n",
       "      <th>std</th>\n",
       "      <td>757.824391</td>\n",
       "      <td>0.255065</td>\n",
       "      <td>5701.925802</td>\n",
       "    </tr>\n",
       "    <tr>\n",
       "      <th>min</th>\n",
       "      <td>3.000000</td>\n",
       "      <td>0.000000</td>\n",
       "      <td>0.000000</td>\n",
       "    </tr>\n",
       "    <tr>\n",
       "      <th>25%</th>\n",
       "      <td>35.000000</td>\n",
       "      <td>0.100000</td>\n",
       "      <td>48.000000</td>\n",
       "    </tr>\n",
       "    <tr>\n",
       "      <th>50%</th>\n",
       "      <td>76.500000</td>\n",
       "      <td>0.170000</td>\n",
       "      <td>152.000000</td>\n",
       "    </tr>\n",
       "    <tr>\n",
       "      <th>75%</th>\n",
       "      <td>164.000000</td>\n",
       "      <td>0.300000</td>\n",
       "      <td>426.000000</td>\n",
       "    </tr>\n",
       "    <tr>\n",
       "      <th>max</th>\n",
       "      <td>12000.000000</td>\n",
       "      <td>1.000000</td>\n",
       "      <td>121900.000000</td>\n",
       "    </tr>\n",
       "  </tbody>\n",
       "</table>\n",
       "</div>"
      ],
      "text/plain": [
       "       Laid_Off_Count   Percentage   Funds_Raised\n",
       "count     1546.000000  1517.000000    2055.000000\n",
       "mean       234.755498     0.258607     817.473623\n",
       "std        757.824391     0.255065    5701.925802\n",
       "min          3.000000     0.000000       0.000000\n",
       "25%         35.000000     0.100000      48.000000\n",
       "50%         76.500000     0.170000     152.000000\n",
       "75%        164.000000     0.300000     426.000000\n",
       "max      12000.000000     1.000000  121900.000000"
      ]
     },
     "execution_count": 7,
     "metadata": {},
     "output_type": "execute_result"
    }
   ],
   "source": [
    "df.describe()"
   ]
  },
  {
   "cell_type": "markdown",
   "id": "b59d5197",
   "metadata": {
    "papermill": {
     "duration": 0.012244,
     "end_time": "2023-02-01T19:24:14.235362",
     "exception": false,
     "start_time": "2023-02-01T19:24:14.223118",
     "status": "completed"
    },
    "tags": []
   },
   "source": [
    "<a id=\"feat_eng\"></a>\n",
    "<h2 style=\"background-color:#E1F8FF; margin-bottom:0px;padding:20px; color:#000; border-bottom:5px solid #4AD3FF\">4. Feature Engineering</h2>"
   ]
  },
  {
   "cell_type": "markdown",
   "id": "817b2daf",
   "metadata": {
    "papermill": {
     "duration": 0.011567,
     "end_time": "2023-02-01T19:24:14.259350",
     "exception": false,
     "start_time": "2023-02-01T19:24:14.247783",
     "status": "completed"
    },
    "tags": []
   },
   "source": [
    "Now, lets create a new column named 'year_of_laidoff' which will tell us on which layoff happend"
   ]
  },
  {
   "cell_type": "code",
   "execution_count": 11,
   "id": "693927cb",
   "metadata": {
    "papermill": {
     "duration": 0.044968,
     "end_time": "2023-02-01T19:24:14.317037",
     "exception": false,
     "start_time": "2023-02-01T19:24:14.272069",
     "status": "completed"
    },
    "tags": []
   },
   "outputs": [],
   "source": [
    "def get_date():\n",
    "    year_list = []\n",
    "    \n",
    "    col = df['Date_Added']\n",
    "    for i in range(len(col)):\n",
    "        date = col[i]\n",
    "        year = col[i].split(\"-\", 1)[0]\n",
    "        year_list.append(year)\n",
    "        # break\n",
    "    return year_list\n",
    "\n",
    "layoff_year_list = get_date()"
   ]
  },
  {
   "cell_type": "code",
   "execution_count": 12,
   "id": "13f8be0e",
   "metadata": {
    "papermill": {
     "duration": 0.025399,
     "end_time": "2023-02-01T19:24:14.355125",
     "exception": false,
     "start_time": "2023-02-01T19:24:14.329726",
     "status": "completed"
    },
    "tags": []
   },
   "outputs": [],
   "source": [
    "df['year_of_laidOff'] = layoff_year_list"
   ]
  },
  {
   "cell_type": "markdown",
   "id": "eeee6670",
   "metadata": {
    "papermill": {
     "duration": 0.011388,
     "end_time": "2023-02-01T19:24:14.379499",
     "exception": false,
     "start_time": "2023-02-01T19:24:14.368111",
     "status": "completed"
    },
    "tags": []
   },
   "source": [
    "<a id=\"data_clean\"></a>\n",
    "<h2 style=\"background-color:#E1F8FF; margin-bottom:0px;padding:20px; color:#000; border-bottom:5px solid #4AD3FF\">5. Data Cleaning</h2>\n",
    "\n",
    "<br>\n",
    "Lets, with some cleanup...<br>\n",
    "We don't need the Source(data gathered from source), Date_Added(data added in database), and List_of_Employees_Laid_Off - link to g_docs of employee list"
   ]
  },
  {
   "cell_type": "code",
   "execution_count": 13,
   "id": "46ef1662",
   "metadata": {
    "papermill": {
     "duration": 0.026407,
     "end_time": "2023-02-01T19:24:14.417700",
     "exception": false,
     "start_time": "2023-02-01T19:24:14.391293",
     "status": "completed"
    },
    "tags": []
   },
   "outputs": [],
   "source": [
    "df.drop(['Source', 'Date_Added', 'List_of_Employees_Laid_Off'], axis=1, inplace=True)"
   ]
  },
  {
   "cell_type": "markdown",
   "id": "2dca5ae6",
   "metadata": {
    "papermill": {
     "duration": 0.011094,
     "end_time": "2023-02-01T19:24:14.440496",
     "exception": false,
     "start_time": "2023-02-01T19:24:14.429402",
     "status": "completed"
    },
    "tags": []
   },
   "source": [
    "<br>Drop the rows which Layoff count NAN, we don't need those rows"
   ]
  },
  {
   "cell_type": "code",
   "execution_count": 14,
   "id": "ace20df3",
   "metadata": {
    "papermill": {
     "duration": 0.027934,
     "end_time": "2023-02-01T19:24:14.481590",
     "exception": false,
     "start_time": "2023-02-01T19:24:14.453656",
     "status": "completed"
    },
    "tags": []
   },
   "outputs": [],
   "source": [
    "df = df[df['Laid_Off_Count'].notna()]"
   ]
  },
  {
   "cell_type": "code",
   "execution_count": 15,
   "id": "bdf5b5f9",
   "metadata": {
    "papermill": {
     "duration": 0.036797,
     "end_time": "2023-02-01T19:24:14.531107",
     "exception": false,
     "start_time": "2023-02-01T19:24:14.494310",
     "status": "completed"
    },
    "tags": []
   },
   "outputs": [
    {
     "data": {
      "text/html": [
       "<div>\n",
       "<style scoped>\n",
       "    .dataframe tbody tr th:only-of-type {\n",
       "        vertical-align: middle;\n",
       "    }\n",
       "\n",
       "    .dataframe tbody tr th {\n",
       "        vertical-align: top;\n",
       "    }\n",
       "\n",
       "    .dataframe thead th {\n",
       "        text-align: right;\n",
       "    }\n",
       "</style>\n",
       "<table border=\"1\" class=\"dataframe\">\n",
       "  <thead>\n",
       "    <tr style=\"text-align: right;\">\n",
       "      <th></th>\n",
       "      <th>Company</th>\n",
       "      <th>Location_HQ</th>\n",
       "      <th>Industry</th>\n",
       "      <th>Laid_Off_Count</th>\n",
       "      <th>Percentage</th>\n",
       "      <th>Date</th>\n",
       "      <th>Funds_Raised</th>\n",
       "      <th>Stage</th>\n",
       "      <th>Country</th>\n",
       "      <th>year_of_laidOff</th>\n",
       "    </tr>\n",
       "  </thead>\n",
       "  <tbody>\n",
       "    <tr>\n",
       "      <th>0</th>\n",
       "      <td>Wix</td>\n",
       "      <td>Tel Aviv</td>\n",
       "      <td>Marketing</td>\n",
       "      <td>370.0</td>\n",
       "      <td>0.06</td>\n",
       "      <td>2023-02-15 00:00:00</td>\n",
       "      <td>58.0</td>\n",
       "      <td>Post-IPO</td>\n",
       "      <td>Israel</td>\n",
       "      <td>2023</td>\n",
       "    </tr>\n",
       "    <tr>\n",
       "      <th>1</th>\n",
       "      <td>Neon</td>\n",
       "      <td>Sao Paulo</td>\n",
       "      <td>Finance</td>\n",
       "      <td>210.0</td>\n",
       "      <td>0.09</td>\n",
       "      <td>2023-02-15 00:00:00</td>\n",
       "      <td>720.0</td>\n",
       "      <td>Series D</td>\n",
       "      <td>Brazil</td>\n",
       "      <td>2023</td>\n",
       "    </tr>\n",
       "    <tr>\n",
       "      <th>2</th>\n",
       "      <td>DigitalOcean</td>\n",
       "      <td>New York City</td>\n",
       "      <td>Infrastructure</td>\n",
       "      <td>200.0</td>\n",
       "      <td>0.11</td>\n",
       "      <td>2023-02-15 00:00:00</td>\n",
       "      <td>491.0</td>\n",
       "      <td>Post-IPO</td>\n",
       "      <td>United States</td>\n",
       "      <td>2023</td>\n",
       "    </tr>\n",
       "    <tr>\n",
       "      <th>3</th>\n",
       "      <td>Sprinklr</td>\n",
       "      <td>New York City</td>\n",
       "      <td>Support</td>\n",
       "      <td>100.0</td>\n",
       "      <td>0.04</td>\n",
       "      <td>2023-02-15 00:00:00</td>\n",
       "      <td>429.0</td>\n",
       "      <td>Post-IPO</td>\n",
       "      <td>United States</td>\n",
       "      <td>2023</td>\n",
       "    </tr>\n",
       "    <tr>\n",
       "      <th>6</th>\n",
       "      <td>CommerceHub</td>\n",
       "      <td>Albany</td>\n",
       "      <td>Retail</td>\n",
       "      <td>371.0</td>\n",
       "      <td>0.31</td>\n",
       "      <td>2023-02-14 00:00:00</td>\n",
       "      <td>NaN</td>\n",
       "      <td>Acquired</td>\n",
       "      <td>United States</td>\n",
       "      <td>2023</td>\n",
       "    </tr>\n",
       "  </tbody>\n",
       "</table>\n",
       "</div>"
      ],
      "text/plain": [
       "        Company    Location_HQ        Industry  Laid_Off_Count  Percentage  \\\n",
       "0           Wix       Tel Aviv       Marketing           370.0        0.06   \n",
       "1          Neon      Sao Paulo         Finance           210.0        0.09   \n",
       "2  DigitalOcean  New York City  Infrastructure           200.0        0.11   \n",
       "3      Sprinklr  New York City         Support           100.0        0.04   \n",
       "6   CommerceHub         Albany          Retail           371.0        0.31   \n",
       "\n",
       "                  Date  Funds_Raised     Stage        Country year_of_laidOff  \n",
       "0  2023-02-15 00:00:00          58.0  Post-IPO         Israel            2023  \n",
       "1  2023-02-15 00:00:00         720.0  Series D         Brazil            2023  \n",
       "2  2023-02-15 00:00:00         491.0  Post-IPO  United States            2023  \n",
       "3  2023-02-15 00:00:00         429.0  Post-IPO  United States            2023  \n",
       "6  2023-02-14 00:00:00           NaN  Acquired  United States            2023  "
      ]
     },
     "execution_count": 15,
     "metadata": {},
     "output_type": "execute_result"
    }
   ],
   "source": [
    "df.head()"
   ]
  },
  {
   "cell_type": "markdown",
   "id": "1008abeb",
   "metadata": {
    "papermill": {
     "duration": 0.012985,
     "end_time": "2023-02-01T19:24:14.557066",
     "exception": false,
     "start_time": "2023-02-01T19:24:14.544081",
     "status": "completed"
    },
    "tags": []
   },
   "source": [
    "<a id=\"data_ana\"></a>\n",
    "<h2 style=\"background-color:#E1F8FF; margin-bottom:0px;padding:20px; color:#000; border-bottom:5px solid #4AD3FF\">6. Data Analytics</h2>"
   ]
  },
  {
   "cell_type": "markdown",
   "id": "11ed9ad5",
   "metadata": {
    "papermill": {
     "duration": 0.011702,
     "end_time": "2023-02-01T19:24:14.581859",
     "exception": false,
     "start_time": "2023-02-01T19:24:14.570157",
     "status": "completed"
    },
    "tags": []
   },
   "source": [
    "<a id=\"v1\"></a>\n",
    "<h3 style=\"background-color:#E1F8FF; margin-bottom:0px;padding:10px; color:#000\">6.1. Visualize the number Layoffs in these Years</h3>"
   ]
  },
  {
   "cell_type": "code",
   "execution_count": 16,
   "id": "674bb2ef",
   "metadata": {
    "papermill": {
     "duration": 0.448844,
     "end_time": "2023-02-01T19:24:15.042632",
     "exception": false,
     "start_time": "2023-02-01T19:24:14.593788",
     "status": "completed"
    },
    "tags": []
   },
   "outputs": [
    {
     "data": {
      "image/png": "[encoded data removed]",
      "text/plain": [
       "<Figure size 1800x576 with 2 Axes>"
      ]
     },
     "metadata": {
      "needs_background": "light"
     },
     "output_type": "display_data"
    }
   ],
   "source": [
    "plt.figure(figsize=(25, 8))\n",
    "laidOff_countYear = df.groupby('year_of_laidOff', as_index=False).sum()\n",
    "\n",
    "plt.subplot(1, 2, 1)\n",
    "\n",
    "plt.plot(laidOff_countYear['year_of_laidOff'], laidOff_countYear['Laid_Off_Count'], marker=\"o\", linestyle='--', color='#10a2f0', \n",
    "         markerfacecolor='#dfe2ff', markersize=8)\n",
    "plt.xlabel('Year'), plt.ylabel('Layoff count')\n",
    "plt.title(\"Layoff count vs Years\")\n",
    "\n",
    "plt.subplot(1, 2, 2)\n",
    "\n",
    "plt.pie(data=laidOff_countYear, x=laidOff_countYear['Laid_Off_Count'], labels=laidOff_countYear['year_of_laidOff'], autopct='%.f%%',\n",
    "        explode = [0, 0, 0.08, 0], colors=palette)\n",
    "plt.title(\"Mass layoffs in this years\")\n",
    "\n",
    "plt.show()"
   ]
  },
  {
   "cell_type": "markdown",
   "id": "2e51daee",
   "metadata": {
    "papermill": {
     "duration": 0.013332,
     "end_time": "2023-02-01T19:24:15.069374",
     "exception": false,
     "start_time": "2023-02-01T19:24:15.056042",
     "status": "completed"
    },
    "tags": []
   },
   "source": [
    "<a id=\"insi1\"></a>\n",
    "<h3 style=\"background-color:#E1F8FF; margin-bottom:0px;padding:10px; color:#000\">6.2. Get the insights of the layoffs groupby to their Continents</h3>"
   ]
  },
  {
   "cell_type": "code",
   "execution_count": 17,
   "id": "25f2db6c",
   "metadata": {
    "papermill": {
     "duration": 0.025652,
     "end_time": "2023-02-01T19:24:15.107636",
     "exception": false,
     "start_time": "2023-02-01T19:24:15.081984",
     "status": "completed"
    },
    "tags": []
   },
   "outputs": [],
   "source": [
    "laidOff_countByCountry = df.groupby('Country', as_index=False).sum()"
   ]
  },
  {
   "cell_type": "code",
   "execution_count": 18,
   "id": "1398583c",
   "metadata": {
    "papermill": {
     "duration": 0.024521,
     "end_time": "2023-02-01T19:24:15.144706",
     "exception": false,
     "start_time": "2023-02-01T19:24:15.120185",
     "status": "completed"
    },
    "tags": []
   },
   "outputs": [],
   "source": [
    "asia = ['China', 'Hong Kong', 'India', 'Indonesia', 'Malaysia', 'Myanmar', 'Singapore', 'Thailand', 'United Arab Emirates', 'Israel']\n",
    "europe = ['Austria', 'Bulgaria','Denmark', 'Finland', 'France', 'Germany', 'Ireland', 'Lithuania', 'Luxembourg', 'Norway', \n",
    "          'Poland', 'Portugal', 'Romania', 'Russia', 'Sweden', 'Switzerland', 'Netherlands', 'United Kingdom']\n",
    "\n",
    "n_america = ['Canada', 'Mexico', 'United States']\n",
    "s_america = ['Argentina', 'Brazil', 'Chile', 'Colombia']\n",
    "\n",
    "africa = ['Estonia', 'Kenya', 'Nigeria', 'Senegal', 'Seychelles']\n",
    "oceania = ['Australia', 'New Zealand']"
   ]
  },
  {
   "cell_type": "code",
   "execution_count": 19,
   "id": "67db86a7",
   "metadata": {
    "papermill": {
     "duration": 0.027459,
     "end_time": "2023-02-01T19:24:15.184846",
     "exception": false,
     "start_time": "2023-02-01T19:24:15.157387",
     "status": "completed"
    },
    "tags": []
   },
   "outputs": [],
   "source": [
    "asia_insight = laidOff_countByCountry.loc[laidOff_countByCountry['Country'].isin(asia)]\n",
    "europe_insight = laidOff_countByCountry.loc[laidOff_countByCountry['Country'].isin(europe)]\n",
    "\n",
    "nAmerica_insight = laidOff_countByCountry.loc[laidOff_countByCountry['Country'].isin(n_america)]\n",
    "sAmerica_insight = laidOff_countByCountry.loc[laidOff_countByCountry['Country'].isin(s_america)]\n",
    "\n",
    "africa_insight = laidOff_countByCountry.loc[laidOff_countByCountry['Country'].isin(africa)]\n",
    "oceania_insight = laidOff_countByCountry.loc[laidOff_countByCountry['Country'].isin(oceania)]"
   ]
  },
  {
   "cell_type": "code",
   "execution_count": 20,
   "id": "5ccd112e",
   "metadata": {
    "papermill": {
     "duration": 1.742639,
     "end_time": "2023-02-01T19:24:16.940113",
     "exception": false,
     "start_time": "2023-02-01T19:24:15.197474",
     "status": "completed"
    },
    "tags": []
   },
   "outputs": [
    {
     "data": {
      "image/png": "[encoded data removed]",
      "text/plain": [
       "<Figure size 1440x1440 with 6 Axes>"
      ]
     },
     "metadata": {
      "needs_background": "light"
     },
     "output_type": "display_data"
    }
   ],
   "source": [
    "plt.figure(figsize=(20, 20))\n",
    "\n",
    "plt.subplot(3, 2, 1)\n",
    "sns.barplot(data=asia_insight, y=asia_insight['Laid_Off_Count'], x=asia_insight['Country'], palette=palette)\n",
    "plt.xticks(rotation = 60)\n",
    "plt.xlabel('Country'), plt.ylabel('Layoff count')\n",
    "plt.title(\"Layoff count in Asia\", fontsize=14), plt.xticks(fontsize=14), plt.yticks(fontsize=14)\n",
    "\n",
    "plt.subplot(3, 2, 2)\n",
    "sns.barplot(data=europe_insight, y=europe_insight['Laid_Off_Count'], x=europe_insight['Country'], palette=palette)\n",
    "plt.xticks(rotation = 60)\n",
    "plt.xlabel('Country'), plt.ylabel('Layoff count')\n",
    "plt.title(\"Layoff count in Europe\", fontsize=14), plt.xticks(fontsize=14), plt.yticks(fontsize=14)\n",
    "\n",
    "plt.subplot(3, 2, 3)\n",
    "sns.barplot(data=nAmerica_insight, y=nAmerica_insight['Laid_Off_Count'], x=nAmerica_insight['Country'], palette=palette)\n",
    "plt.xticks(rotation = 60)\n",
    "plt.xlabel('Country'), plt.ylabel('Layoff count')\n",
    "plt.title(\"Layoff count in North America\", fontsize=14), plt.xticks(fontsize=14), plt.yticks(fontsize=14)\n",
    "\n",
    "plt.subplot(3, 2, 4)\n",
    "sns.barplot(data=sAmerica_insight, y=sAmerica_insight['Laid_Off_Count'], x=sAmerica_insight['Country'], palette=palette)\n",
    "plt.xticks(rotation = 60)\n",
    "plt.xlabel('Country'), plt.ylabel('Layoff count')\n",
    "plt.title(\"Layoff count in South America\", fontsize=14), plt.xticks(fontsize=14), plt.yticks(fontsize=14)\n",
    "\n",
    "plt.subplot(3, 2, 5)\n",
    "sns.barplot(data=africa_insight, y=africa_insight['Laid_Off_Count'], x=africa_insight['Country'], palette=palette)\n",
    "plt.xticks(rotation = 60)\n",
    "plt.xlabel('Country'), plt.ylabel('Layoff count')\n",
    "plt.title(\"Layoff count in Africa\", fontsize=14), plt.xticks(fontsize=14), plt.yticks(fontsize=14)\n",
    "\n",
    "plt.subplot(3, 2, 6)\n",
    "sns.barplot(data=oceania_insight, y=oceania_insight['Laid_Off_Count'], x=oceania_insight['Country'], palette=palette)\n",
    "plt.xticks(rotation = 60)\n",
    "plt.xlabel('Country'), plt.ylabel('Layoff count')\n",
    "plt.title(\"Layoff count in Oceania\", fontsize=14), plt.xticks(fontsize=14), plt.yticks(fontsize=14)\n",
    "\n",
    "plt.tight_layout()\n",
    "plt.show()"
   ]
  },
  {
   "cell_type": "markdown",
   "id": "cb693ff4",
   "metadata": {
    "papermill": {
     "duration": 0.019127,
     "end_time": "2023-02-01T19:24:16.977305",
     "exception": false,
     "start_time": "2023-02-01T19:24:16.958178",
     "status": "completed"
    },
    "tags": []
   },
   "source": [
    "so, from the above visualization we can see that ***India, Germany, Netherlands, Sweden, United Kingdom, United States, Nigeria, and Australia*** are the countries to get most of the layoffs\n",
    "\n",
    "\n",
    "<a id=\"v2\"></a>\n",
    "<h2 style=\"background-color:#E1F8FF; margin-bottom:0px;padding:20px; color:#000; border-bottom:5px solid #4AD3FF\">6.3. Lets, visualize these countries</h2>"
   ]
  },
  {
   "cell_type": "code",
   "execution_count": 21,
   "id": "b4db6e59",
   "metadata": {
    "papermill": {
     "duration": 0.49147,
     "end_time": "2023-02-01T19:24:17.484642",
     "exception": false,
     "start_time": "2023-02-01T19:24:16.993172",
     "status": "completed"
    },
    "tags": []
   },
   "outputs": [
    {
     "data": {
      "image/png": "[encoded data removed]",
      "text/plain": [
       "<Figure size 1080x1440 with 1 Axes>"
      ]
     },
     "metadata": {},
     "output_type": "display_data"
    }
   ],
   "source": [
    "mass_layoff_countries_list = ['India', 'Germany', 'Netherlands', 'Sweden', 'United Kingdom', 'United States', 'Nigeria', 'Australia']\n",
    "\n",
    "mass_layoff_countries = laidOff_countByCountry.loc[laidOff_countByCountry['Country'].isin(mass_layoff_countries_list)]\n",
    "\n",
    "plt.figure(figsize=(15, 20))\n",
    "plt.pie(data=mass_layoff_countries, x=mass_layoff_countries['Laid_Off_Count'], labels=mass_layoff_countries['Country'],\n",
    "        autopct='%.f%%', colors=palette, rotatelabels=True, wedgeprops = {'linewidth': 3})\n",
    "plt.legend(mass_layoff_countries['Laid_Off_Count'], loc='center left', bbox_to_anchor=(-0.35, .5), fontsize=15)\n",
    "plt.xticks(fontsize=50), plt.yticks(fontsize=50)\n",
    "plt.tight_layout()\n",
    "plt.show()"
   ]
  },
  {
   "cell_type": "markdown",
   "id": "58a86052",
   "metadata": {
    "papermill": {
     "duration": 0.017245,
     "end_time": "2023-02-01T19:24:17.519974",
     "exception": false,
     "start_time": "2023-02-01T19:24:17.502729",
     "status": "completed"
    },
    "tags": []
   },
   "source": [
    "<a id=\"insi2\"></a>\n",
    "<h2 style=\"background-color:#E1F8FF; margin-bottom:0px;padding:20px; color:#000; border-bottom:5px solid #4AD3FF\">6.4. Get the insights of the company with <strong>100% layoff rate</strong> </h2>"
   ]
  },
  {
   "cell_type": "code",
   "execution_count": 22,
   "id": "e7fab95a",
   "metadata": {
    "papermill": {
     "duration": 0.048395,
     "end_time": "2023-02-01T19:24:17.587134",
     "exception": false,
     "start_time": "2023-02-01T19:24:17.538739",
     "status": "completed"
    },
    "tags": []
   },
   "outputs": [
    {
     "data": {
      "text/html": [
       "<div>\n",
       "<style scoped>\n",
       "    .dataframe tbody tr th:only-of-type {\n",
       "        vertical-align: middle;\n",
       "    }\n",
       "\n",
       "    .dataframe tbody tr th {\n",
       "        vertical-align: top;\n",
       "    }\n",
       "\n",
       "    .dataframe thead th {\n",
       "        text-align: right;\n",
       "    }\n",
       "</style>\n",
       "<table border=\"1\" class=\"dataframe\">\n",
       "  <thead>\n",
       "    <tr style=\"text-align: right;\">\n",
       "      <th></th>\n",
       "      <th>Company</th>\n",
       "      <th>Location_HQ</th>\n",
       "      <th>Industry</th>\n",
       "      <th>Laid_Off_Count</th>\n",
       "      <th>Percentage</th>\n",
       "      <th>Date</th>\n",
       "      <th>Funds_Raised</th>\n",
       "      <th>Stage</th>\n",
       "      <th>Country</th>\n",
       "      <th>year_of_laidOff</th>\n",
       "    </tr>\n",
       "  </thead>\n",
       "  <tbody>\n",
       "    <tr>\n",
       "      <th>49</th>\n",
       "      <td>Openpay</td>\n",
       "      <td>Melbourne</td>\n",
       "      <td>Finance</td>\n",
       "      <td>83.0</td>\n",
       "      <td>1.0</td>\n",
       "      <td>2023-02-07 00:00:00</td>\n",
       "      <td>299.0</td>\n",
       "      <td>Post-IPO</td>\n",
       "      <td>Australia</td>\n",
       "      <td>2023</td>\n",
       "    </tr>\n",
       "    <tr>\n",
       "      <th>240</th>\n",
       "      <td>Britishvolt</td>\n",
       "      <td>London</td>\n",
       "      <td>Transportation</td>\n",
       "      <td>206.0</td>\n",
       "      <td>1.0</td>\n",
       "      <td>2023-01-17 00:00:00</td>\n",
       "      <td>2400.0</td>\n",
       "      <td>Unknown</td>\n",
       "      <td>United Kingdom</td>\n",
       "      <td>2023</td>\n",
       "    </tr>\n",
       "    <tr>\n",
       "      <th>598</th>\n",
       "      <td>Deliveroo Australia</td>\n",
       "      <td>Melbourne</td>\n",
       "      <td>Food</td>\n",
       "      <td>120.0</td>\n",
       "      <td>1.0</td>\n",
       "      <td>2022-11-15 00:00:00</td>\n",
       "      <td>1700.0</td>\n",
       "      <td>Post-IPO</td>\n",
       "      <td>Australia</td>\n",
       "      <td>2022</td>\n",
       "    </tr>\n",
       "    <tr>\n",
       "      <th>682</th>\n",
       "      <td>Planetly</td>\n",
       "      <td>Berlin</td>\n",
       "      <td>Other</td>\n",
       "      <td>200.0</td>\n",
       "      <td>1.0</td>\n",
       "      <td>2022-11-04 00:00:00</td>\n",
       "      <td>5.0</td>\n",
       "      <td>Acquired</td>\n",
       "      <td>Germany</td>\n",
       "      <td>2022</td>\n",
       "    </tr>\n",
       "    <tr>\n",
       "      <th>729</th>\n",
       "      <td>Fifth Season</td>\n",
       "      <td>Pittsburgh</td>\n",
       "      <td>Food</td>\n",
       "      <td>100.0</td>\n",
       "      <td>1.0</td>\n",
       "      <td>2022-10-28 00:00:00</td>\n",
       "      <td>35.0</td>\n",
       "      <td>Series B</td>\n",
       "      <td>United States</td>\n",
       "      <td>2022</td>\n",
       "    </tr>\n",
       "  </tbody>\n",
       "</table>\n",
       "</div>"
      ],
      "text/plain": [
       "                 Company Location_HQ        Industry  Laid_Off_Count  \\\n",
       "49               Openpay   Melbourne         Finance            83.0   \n",
       "240          Britishvolt      London  Transportation           206.0   \n",
       "598  Deliveroo Australia   Melbourne            Food           120.0   \n",
       "682             Planetly      Berlin           Other           200.0   \n",
       "729         Fifth Season  Pittsburgh            Food           100.0   \n",
       "\n",
       "     Percentage                 Date  Funds_Raised     Stage         Country  \\\n",
       "49          1.0  2023-02-07 00:00:00         299.0  Post-IPO       Australia   \n",
       "240         1.0  2023-01-17 00:00:00        2400.0   Unknown  United Kingdom   \n",
       "598         1.0  2022-11-15 00:00:00        1700.0  Post-IPO       Australia   \n",
       "682         1.0  2022-11-04 00:00:00           5.0  Acquired         Germany   \n",
       "729         1.0  2022-10-28 00:00:00          35.0  Series B   United States   \n",
       "\n",
       "    year_of_laidOff  \n",
       "49             2023  \n",
       "240            2023  \n",
       "598            2022  \n",
       "682            2022  \n",
       "729            2022  "
      ]
     },
     "execution_count": 22,
     "metadata": {},
     "output_type": "execute_result"
    }
   ],
   "source": [
    "insight_1 = df.loc[df['Percentage'] == 1.00].dropna()\n",
    "insight_1.head()"
   ]
  },
  {
   "cell_type": "code",
   "execution_count": 23,
   "id": "c27c0127",
   "metadata": {
    "papermill": {
     "duration": 0.519115,
     "end_time": "2023-02-01T19:24:18.124365",
     "exception": false,
     "start_time": "2023-02-01T19:24:17.605250",
     "status": "completed"
    },
    "tags": []
   },
   "outputs": [
    {
     "data": {
      "image/png": "[encoded data removed]",
      "text/plain": [
       "<Figure size 1800x360 with 1 Axes>"
      ]
     },
     "metadata": {
      "needs_background": "light"
     },
     "output_type": "display_data"
    }
   ],
   "source": [
    "plt.figure(figsize=(25,5))\n",
    "\n",
    "plt.plot(insight_1['Company'], insight_1['Laid_Off_Count'], marker=\"o\", linestyle='--', color='#10a2f0', \n",
    "         markerfacecolor='#dfe2ff', markersize=8)\n",
    "plt.xticks(rotation = 90)\n",
    "\n",
    "plt.show()"
   ]
  },
  {
   "cell_type": "markdown",
   "id": "8258aa3e-33f8-4d8c-8f31-45e10dd8ab7d",
   "metadata": {},
   "source": [
    "<a id=\"geoloc_4grp\"></a>\n",
    "<h2 style=\"background-color:#E1F8FF; margin-bottom:0px; padding:20px; color:#000; border-bottom:5px solid #4AD3FF\">6.5. Visualize the locations of tthe companies with<strong> 100%  </strong> layoff rate</h2>"
   ]
  },
  {
   "cell_type": "code",
   "execution_count": 148,
   "id": "90fe5725-2a35-4300-8ed0-1ad6135b23ea",
   "metadata": {},
   "outputs": [],
   "source": [
    "from geopy.geocoders import Nominatim\n",
    "geolocator = Nominatim(user_agent=\"layoff_data\")\n",
    "\n",
    "for i in range(len(insight_1['Location_HQ'])):\n",
    "    def find_lat(i):\n",
    "        return geolocator.geocode(i).latitude\n",
    "    \n",
    "    def find_long(i):\n",
    "        return geolocator.geocode(i).longitude\n",
    "    \n",
    "insight_1['latitude'] = insight_1['Location_HQ'].apply(find_lat)\n",
    "insight_1['longitude'] = insight_1['Location_HQ'].apply(find_long)\n",
    "\n",
    "insight_1 = insight_1.fillna(0)"
   ]
  },
  {
   "cell_type": "code",
   "execution_count": 162,
   "id": "2f2ee6e8-0d75-4205-9228-5bdcead056bf",
   "metadata": {},
   "outputs": [
    {
     "data": {
      "application/vnd.plotly.v1+json": {
       "config": {
        "plotlyServerURL": "https://plot.ly"
       },
       "data": [
        {
         "customdata": [
          [
           83,
           "Openpay"
          ],
          [
           206,
           "Britishvolt"
          ],
          [
           120,
           "Deliveroo Australia"
          ],
          [
           200,
           "Planetly"
          ],
          [
           100,
           "Fifth Season"
          ],
          [
           65,
           "Playdots"
          ],
          [
           100,
           "Kitty Hawk"
          ],
          [
           150,
           "Simple Feast"
          ],
          [
           140,
           "Reali"
          ],
          [
           75,
           "Metigy"
          ],
          [
           120,
           "Soluto"
          ],
          [
           1000,
           "Butler Hospitality"
          ],
          [
           85,
           "WanderJaunt"
          ],
          [
           170,
           "Crejo.Fun"
          ],
          [
           101,
           "SummerBio"
          ],
          [
           40,
           "The Grommet"
          ],
          [
           100,
           "Udayy"
          ],
          [
           65,
           "BeyondMinds"
          ],
          [
           300,
           "SEND"
          ],
          [
           44,
           "Ahead"
          ],
          [
           2434,
           "Katerra"
          ],
          [
           45,
           "Hubba"
          ],
          [
           21,
           "Pocketmath"
          ],
          [
           154,
           "Bridge Connector"
          ],
          [
           20,
           "Eatsy"
          ],
          [
           87,
           "Buy.com / Rakuten"
          ],
          [
           6,
           "Dark"
          ],
          [
           137,
           "Bluprint"
          ],
          [
           221,
           "Stay Alfred"
          ],
          [
           669,
           "Deliv"
          ],
          [
           500,
           "Jump"
          ],
          [
           4,
           "TutorMundi"
          ],
          [
           6,
           "Atsu"
          ],
          [
           17,
           "Amplero"
          ],
          [
           250,
           "HOOQ"
          ],
          [
           13,
           "Consider.co"
          ],
          [
           16,
           "Help.com"
          ]
         ],
         "hovertemplate": "<b>%{hovertext}</b><br><br>Laid_Off_Count=%{marker.color}<br>latitude=%{lat}<br>longitude=%{lon}<br>Company=%{customdata[1]}<extra></extra>",
         "hovertext": [
          "Melbourne",
          "London",
          "Melbourne",
          "Berlin",
          "Pittsburgh",
          "New York City",
          "SF Bay Area",
          "Copenhagen",
          "SF Bay Area",
          "Sydney",
          "Tel Aviv",
          "New York City",
          "SF Bay Area",
          "Bengaluru",
          "SF Bay Area",
          "Boston",
          "Gurugram",
          "Tel Aviv",
          "Sydney",
          "SF Bay Area",
          "SF Bay Area",
          "Toronto",
          "Singapore",
          "Nashville",
          "Singapore",
          "SF Bay Area",
          "SF Bay Area",
          "Denver",
          "Spokane",
          "SF Bay Area",
          "New York City",
          "Sao Paulo",
          "Seattle",
          "Seattle",
          "Singapore",
          "SF Bay Area",
          "Austin"
         ],
         "lat": [
          -37.8142176,
          51.5073359,
          -37.8142176,
          52.5170365,
          40.4416941,
          40.7127281,
          37.7884969,
          55.6867243,
          37.7884969,
          -33.8698439,
          32.0852997,
          40.7127281,
          37.7884969,
          12.9767936,
          37.7884969,
          42.3554334,
          28.4646148,
          32.0852997,
          -33.8698439,
          37.7884969,
          37.7884969,
          43.6534817,
          1.357107,
          36.1622767,
          1.357107,
          37.7884969,
          37.7884969,
          39.7392364,
          47.6571934,
          37.7884969,
          40.7127281,
          -23.5506507,
          47.6038321,
          47.6038321,
          1.357107,
          37.7884969,
          30.2711286
         ],
         "legendgroup": "",
         "lon": [
          144.9631608,
          -0.12765,
          144.9631608,
          13.3888599,
          -79.9900861,
          -74.0060152,
          -122.3558473,
          12.5700724,
          -122.3558473,
          151.2082848,
          34.7818064,
          -74.0060152,
          -122.3558473,
          77.590082,
          -122.3558473,
          -71.060511,
          77.0299194,
          34.7818064,
          151.2082848,
          -122.3558473,
          -122.3558473,
          -79.3839347,
          103.8194992,
          -86.7742984,
          103.8194992,
          -122.3558473,
          -122.3558473,
          -104.984862,
          -117.42351,
          -122.3558473,
          -74.0060152,
          -46.6333824,
          -122.330062,
          -122.330062,
          103.8194992,
          -122.3558473,
          -97.7436995
         ],
         "marker": {
          "color": [
           83,
           206,
           120,
           200,
           100,
           65,
           100,
           150,
           140,
           75,
           120,
           1000,
           85,
           170,
           101,
           40,
           100,
           65,
           300,
           44,
           2434,
           45,
           21,
           154,
           20,
           87,
           6,
           137,
           221,
           669,
           500,
           4,
           6,
           17,
           250,
           13,
           16
          ],
          "coloraxis": "coloraxis",
          "opacity": 0.4,
          "size": [
           83,
           206,
           120,
           200,
           100,
           65,
           100,
           150,
           140,
           75,
           120,
           1000,
           85,
           170,
           101,
           40,
           100,
           65,
           300,
           44,
           2434,
           45,
           21,
           154,
           20,
           87,
           6,
           137,
           221,
           669,
           500,
           4,
           6,
           17,
           250,
           13,
           16
          ],
          "sizemode": "area",
          "sizeref": 0.9736
         },
         "mode": "markers",
         "name": "",
         "showlegend": false,
         "subplot": "mapbox",
         "type": "scattermapbox"
        }
       ],
       "layout": {
        "coloraxis": {
         "colorbar": {
          "title": {
           "text": "Laid_Off_Count"
          }
         },
         "colorscale": [
          [
           0,
           "#00224e"
          ],
          [
           0.1111111111111111,
           "#123570"
          ],
          [
           0.2222222222222222,
           "#3b496c"
          ],
          [
           0.3333333333333333,
           "#575d6d"
          ],
          [
           0.4444444444444444,
           "#707173"
          ],
          [
           0.5555555555555556,
           "#8a8678"
          ],
          [
           0.6666666666666666,
           "#a59c74"
          ],
          [
           0.7777777777777778,
           "#c3b369"
          ],
          [
           0.8888888888888888,
           "#e1cc55"
          ],
          [
           1,
           "#fee838"
          ]
         ]
        },
        "height": 400,
        "legend": {
         "itemsizing": "constant",
         "tracegroupgap": 0
        },
        "mapbox": {
         "center": {
          "lat": 10,
          "lon": 30
         },
         "domain": {
          "x": [
           0,
           1
          ],
          "y": [
           0,
           1
          ]
         },
         "style": "carto-positron",
         "zoom": 1
        },
        "margin": {
         "b": 0,
         "l": 0,
         "r": 0,
         "t": 0
        },
        "template": {
         "data": {
          "bar": [
           {
            "error_x": {
             "color": "#2a3f5f"
            },
            "error_y": {
             "color": "#2a3f5f"
            },
            "marker": {
             "line": {
              "color": "#E5ECF6",
              "width": 0.5
             },
             "pattern": {
              "fillmode": "overlay",
              "size": 10,
              "solidity": 0.2
             }
            },
            "type": "bar"
           }
          ],
          "barpolar": [
           {
            "marker": {
             "line": {
              "color": "#E5ECF6",
              "width": 0.5
             },
             "pattern": {
              "fillmode": "overlay",
              "size": 10,
              "solidity": 0.2
             }
            },
            "type": "barpolar"
           }
          ],
          "carpet": [
           {
            "aaxis": {
             "endlinecolor": "#2a3f5f",
             "gridcolor": "white",
             "linecolor": "white",
             "minorgridcolor": "white",
             "startlinecolor": "#2a3f5f"
            },
            "baxis": {
             "endlinecolor": "#2a3f5f",
             "gridcolor": "white",
             "linecolor": "white",
             "minorgridcolor": "white",
             "startlinecolor": "#2a3f5f"
            },
            "type": "carpet"
           }
          ],
          "choropleth": [
           {
            "colorbar": {
             "outlinewidth": 0,
             "ticks": ""
            },
            "type": "choropleth"
           }
          ],
          "contour": [
           {
            "colorbar": {
             "outlinewidth": 0,
             "ticks": ""
            },
            "colorscale": [
             [
              0,
              "#0d0887"
             ],
             [
              0.1111111111111111,
              "#46039f"
             ],
             [
              0.2222222222222222,
              "#7201a8"
             ],
             [
              0.3333333333333333,
              "#9c179e"
             ],
             [
              0.4444444444444444,
              "#bd3786"
             ],
             [
              0.5555555555555556,
              "#d8576b"
             ],
             [
              0.6666666666666666,
              "#ed7953"
             ],
             [
              0.7777777777777778,
              "#fb9f3a"
             ],
             [
              0.8888888888888888,
              "#fdca26"
             ],
             [
              1,
              "#f0f921"
             ]
            ],
            "type": "contour"
           }
          ],
          "contourcarpet": [
           {
            "colorbar": {
             "outlinewidth": 0,
             "ticks": ""
            },
            "type": "contourcarpet"
           }
          ],
          "heatmap": [
           {
            "colorbar": {
             "outlinewidth": 0,
             "ticks": ""
            },
            "colorscale": [
             [
              0,
              "#0d0887"
             ],
             [
              0.1111111111111111,
              "#46039f"
             ],
             [
              0.2222222222222222,
              "#7201a8"
             ],
             [
              0.3333333333333333,
              "#9c179e"
             ],
             [
              0.4444444444444444,
              "#bd3786"
             ],
             [
              0.5555555555555556,
              "#d8576b"
             ],
             [
              0.6666666666666666,
              "#ed7953"
             ],
             [
              0.7777777777777778,
              "#fb9f3a"
             ],
             [
              0.8888888888888888,
              "#fdca26"
             ],
             [
              1,
              "#f0f921"
             ]
            ],
            "type": "heatmap"
           }
          ],
          "heatmapgl": [
           {
            "colorbar": {
             "outlinewidth": 0,
             "ticks": ""
            },
            "colorscale": [
             [
              0,
              "#0d0887"
             ],
             [
              0.1111111111111111,
              "#46039f"
             ],
             [
              0.2222222222222222,
              "#7201a8"
             ],
             [
              0.3333333333333333,
              "#9c179e"
             ],
             [
              0.4444444444444444,
              "#bd3786"
             ],
             [
              0.5555555555555556,
              "#d8576b"
             ],
             [
              0.6666666666666666,
              "#ed7953"
             ],
             [
              0.7777777777777778,
              "#fb9f3a"
             ],
             [
              0.8888888888888888,
              "#fdca26"
             ],
             [
              1,
              "#f0f921"
             ]
            ],
            "type": "heatmapgl"
           }
          ],
          "histogram": [
           {
            "marker": {
             "pattern": {
              "fillmode": "overlay",
              "size": 10,
              "solidity": 0.2
             }
            },
            "type": "histogram"
           }
          ],
          "histogram2d": [
           {
            "colorbar": {
             "outlinewidth": 0,
             "ticks": ""
            },
            "colorscale": [
             [
              0,
              "#0d0887"
             ],
             [
              0.1111111111111111,
              "#46039f"
             ],
             [
              0.2222222222222222,
              "#7201a8"
             ],
             [
              0.3333333333333333,
              "#9c179e"
             ],
             [
              0.4444444444444444,
              "#bd3786"
             ],
             [
              0.5555555555555556,
              "#d8576b"
             ],
             [
              0.6666666666666666,
              "#ed7953"
             ],
             [
              0.7777777777777778,
              "#fb9f3a"
             ],
             [
              0.8888888888888888,
              "#fdca26"
             ],
             [
              1,
              "#f0f921"
             ]
            ],
            "type": "histogram2d"
           }
          ],
          "histogram2dcontour": [
           {
            "colorbar": {
             "outlinewidth": 0,
             "ticks": ""
            },
            "colorscale": [
             [
              0,
              "#0d0887"
             ],
             [
              0.1111111111111111,
              "#46039f"
             ],
             [
              0.2222222222222222,
              "#7201a8"
             ],
             [
              0.3333333333333333,
              "#9c179e"
             ],
             [
              0.4444444444444444,
              "#bd3786"
             ],
             [
              0.5555555555555556,
              "#d8576b"
             ],
             [
              0.6666666666666666,
              "#ed7953"
             ],
             [
              0.7777777777777778,
              "#fb9f3a"
             ],
             [
              0.8888888888888888,
              "#fdca26"
             ],
             [
              1,
              "#f0f921"
             ]
            ],
            "type": "histogram2dcontour"
           }
          ],
          "mesh3d": [
           {
            "colorbar": {
             "outlinewidth": 0,
             "ticks": ""
            },
            "type": "mesh3d"
           }
          ],
          "parcoords": [
           {
            "line": {
             "colorbar": {
              "outlinewidth": 0,
              "ticks": ""
             }
            },
            "type": "parcoords"
           }
          ],
          "pie": [
           {
            "automargin": true,
            "type": "pie"
           }
          ],
          "scatter": [
           {
            "fillpattern": {
             "fillmode": "overlay",
             "size": 10,
             "solidity": 0.2
            },
            "type": "scatter"
           }
          ],
          "scatter3d": [
           {
            "line": {
             "colorbar": {
              "outlinewidth": 0,
              "ticks": ""
             }
            },
            "marker": {
             "colorbar": {
              "outlinewidth": 0,
              "ticks": ""
             }
            },
            "type": "scatter3d"
           }
          ],
          "scattercarpet": [
           {
            "marker": {
             "colorbar": {
              "outlinewidth": 0,
              "ticks": ""
             }
            },
            "type": "scattercarpet"
           }
          ],
          "scattergeo": [
           {
            "marker": {
             "colorbar": {
              "outlinewidth": 0,
              "ticks": ""
             }
            },
            "type": "scattergeo"
           }
          ],
          "scattergl": [
           {
            "marker": {
             "colorbar": {
              "outlinewidth": 0,
              "ticks": ""
             }
            },
            "type": "scattergl"
           }
          ],
          "scattermapbox": [
           {
            "marker": {
             "colorbar": {
              "outlinewidth": 0,
              "ticks": ""
             }
            },
            "type": "scattermapbox"
           }
          ],
          "scatterpolar": [
           {
            "marker": {
             "colorbar": {
              "outlinewidth": 0,
              "ticks": ""
             }
            },
            "type": "scatterpolar"
           }
          ],
          "scatterpolargl": [
           {
            "marker": {
             "colorbar": {
              "outlinewidth": 0,
              "ticks": ""
             }
            },
            "type": "scatterpolargl"
           }
          ],
          "scatterternary": [
           {
            "marker": {
             "colorbar": {
              "outlinewidth": 0,
              "ticks": ""
             }
            },
            "type": "scatterternary"
           }
          ],
          "surface": [
           {
            "colorbar": {
             "outlinewidth": 0,
             "ticks": ""
            },
            "colorscale": [
             [
              0,
              "#0d0887"
             ],
             [
              0.1111111111111111,
              "#46039f"
             ],
             [
              0.2222222222222222,
              "#7201a8"
             ],
             [
              0.3333333333333333,
              "#9c179e"
             ],
             [
              0.4444444444444444,
              "#bd3786"
             ],
             [
              0.5555555555555556,
              "#d8576b"
             ],
             [
              0.6666666666666666,
              "#ed7953"
             ],
             [
              0.7777777777777778,
              "#fb9f3a"
             ],
             [
              0.8888888888888888,
              "#fdca26"
             ],
             [
              1,
              "#f0f921"
             ]
            ],
            "type": "surface"
           }
          ],
          "table": [
           {
            "cells": {
             "fill": {
              "color": "#EBF0F8"
             },
             "line": {
              "color": "white"
             }
            },
            "header": {
             "fill": {
              "color": "#C8D4E3"
             },
             "line": {
              "color": "white"
             }
            },
            "type": "table"
           }
          ]
         },
         "layout": {
          "annotationdefaults": {
           "arrowcolor": "#2a3f5f",
           "arrowhead": 0,
           "arrowwidth": 1
          },
          "autotypenumbers": "strict",
          "coloraxis": {
           "colorbar": {
            "outlinewidth": 0,
            "ticks": ""
           }
          },
          "colorscale": {
           "diverging": [
            [
             0,
             "#8e0152"
            ],
            [
             0.1,
             "#c51b7d"
            ],
            [
             0.2,
             "#de77ae"
            ],
            [
             0.3,
             "#f1b6da"
            ],
            [
             0.4,
             "#fde0ef"
            ],
            [
             0.5,
             "#f7f7f7"
            ],
            [
             0.6,
             "#e6f5d0"
            ],
            [
             0.7,
             "#b8e186"
            ],
            [
             0.8,
             "#7fbc41"
            ],
            [
             0.9,
             "#4d9221"
            ],
            [
             1,
             "#276419"
            ]
           ],
           "sequential": [
            [
             0,
             "#0d0887"
            ],
            [
             0.1111111111111111,
             "#46039f"
            ],
            [
             0.2222222222222222,
             "#7201a8"
            ],
            [
             0.3333333333333333,
             "#9c179e"
            ],
            [
             0.4444444444444444,
             "#bd3786"
            ],
            [
             0.5555555555555556,
             "#d8576b"
            ],
            [
             0.6666666666666666,
             "#ed7953"
            ],
            [
             0.7777777777777778,
             "#fb9f3a"
            ],
            [
             0.8888888888888888,
             "#fdca26"
            ],
            [
             1,
             "#f0f921"
            ]
           ],
           "sequentialminus": [
            [
             0,
             "#0d0887"
            ],
            [
             0.1111111111111111,
             "#46039f"
            ],
            [
             0.2222222222222222,
             "#7201a8"
            ],
            [
             0.3333333333333333,
             "#9c179e"
            ],
            [
             0.4444444444444444,
             "#bd3786"
            ],
            [
             0.5555555555555556,
             "#d8576b"
            ],
            [
             0.6666666666666666,
             "#ed7953"
            ],
            [
             0.7777777777777778,
             "#fb9f3a"
            ],
            [
             0.8888888888888888,
             "#fdca26"
            ],
            [
             1,
             "#f0f921"
            ]
           ]
          },
          "colorway": [
           "#636efa",
           "#EF553B",
           "#00cc96",
           "#ab63fa",
           "#FFA15A",
           "#19d3f3",
           "#FF6692",
           "#B6E880",
           "#FF97FF",
           "#FECB52"
          ],
          "font": {
           "color": "#2a3f5f"
          },
          "geo": {
           "bgcolor": "white",
           "lakecolor": "white",
           "landcolor": "#E5ECF6",
           "showlakes": true,
           "showland": true,
           "subunitcolor": "white"
          },
          "hoverlabel": {
           "align": "left"
          },
          "hovermode": "closest",
          "mapbox": {
           "style": "light"
          },
          "paper_bgcolor": "white",
          "plot_bgcolor": "#E5ECF6",
          "polar": {
           "angularaxis": {
            "gridcolor": "white",
            "linecolor": "white",
            "ticks": ""
           },
           "bgcolor": "#E5ECF6",
           "radialaxis": {
            "gridcolor": "white",
            "linecolor": "white",
            "ticks": ""
           }
          },
          "scene": {
           "xaxis": {
            "backgroundcolor": "#E5ECF6",
            "gridcolor": "white",
            "gridwidth": 2,
            "linecolor": "white",
            "showbackground": true,
            "ticks": "",
            "zerolinecolor": "white"
           },
           "yaxis": {
            "backgroundcolor": "#E5ECF6",
            "gridcolor": "white",
            "gridwidth": 2,
            "linecolor": "white",
            "showbackground": true,
            "ticks": "",
            "zerolinecolor": "white"
           },
           "zaxis": {
            "backgroundcolor": "#E5ECF6",
            "gridcolor": "white",
            "gridwidth": 2,
            "linecolor": "white",
            "showbackground": true,
            "ticks": "",
            "zerolinecolor": "white"
           }
          },
          "shapedefaults": {
           "line": {
            "color": "#2a3f5f"
           }
          },
          "ternary": {
           "aaxis": {
            "gridcolor": "white",
            "linecolor": "white",
            "ticks": ""
           },
           "baxis": {
            "gridcolor": "white",
            "linecolor": "white",
            "ticks": ""
           },
           "bgcolor": "#E5ECF6",
           "caxis": {
            "gridcolor": "white",
            "linecolor": "white",
            "ticks": ""
           }
          },
          "title": {
           "x": 0.05
          },
          "xaxis": {
           "automargin": true,
           "gridcolor": "white",
           "linecolor": "white",
           "ticks": "",
           "title": {
            "standoff": 15
           },
           "zerolinecolor": "white",
           "zerolinewidth": 2
          },
          "yaxis": {
           "automargin": true,
           "gridcolor": "white",
           "linecolor": "white",
           "ticks": "",
           "title": {
            "standoff": 15
           },
           "zerolinecolor": "white",
           "zerolinewidth": 2
          }
         }
        },
        "title": {
         "text": "Population of each cities"
        },
        "width": 1400
       }
      },
      "image/png": "[encoded data removed]",
      "text/html": [
       "<div>                            <div id=\"aca7b38b-db23-4667-abfa-87454cab9828\" class=\"plotly-graph-div\" style=\"height:400px; width:1400px;\"></div>            <script type=\"text/javascript\">                require([\"plotly\"], function(Plotly) {                    window.PLOTLYENV=window.PLOTLYENV || {};                                    if (document.getElementById(\"aca7b38b-db23-4667-abfa-87454cab9828\")) {                    Plotly.newPlot(                        \"aca7b38b-db23-4667-abfa-87454cab9828\",                        [{\"customdata\":[[83.0,\"Openpay\"],[206.0,\"Britishvolt\"],[120.0,\"Deliveroo Australia\"],[200.0,\"Planetly\"],[100.0,\"Fifth Season\"],[65.0,\"Playdots\"],[100.0,\"Kitty Hawk\"],[150.0,\"Simple Feast\"],[140.0,\"Reali\"],[75.0,\"Metigy\"],[120.0,\"Soluto\"],[1000.0,\"Butler Hospitality\"],[85.0,\"WanderJaunt\"],[170.0,\"Crejo.Fun\"],[101.0,\"SummerBio\"],[40.0,\"The Grommet\"],[100.0,\"Udayy\"],[65.0,\"BeyondMinds\"],[300.0,\"SEND\"],[44.0,\"Ahead\"],[2434.0,\"Katerra\"],[45.0,\"Hubba\"],[21.0,\"Pocketmath\"],[154.0,\"Bridge Connector\"],[20.0,\"Eatsy\"],[87.0,\"Buy.com / Rakuten\"],[6.0,\"Dark\"],[137.0,\"Bluprint\"],[221.0,\"Stay Alfred\"],[669.0,\"Deliv\"],[500.0,\"Jump\"],[4.0,\"TutorMundi\"],[6.0,\"Atsu\"],[17.0,\"Amplero\"],[250.0,\"HOOQ\"],[13.0,\"Consider.co\"],[16.0,\"Help.com\"]],\"hovertemplate\":\"<b>%{hovertext}</b><br><br>Laid_Off_Count=%{marker.color}<br>latitude=%{lat}<br>longitude=%{lon}<br>Company=%{customdata[1]}<extra></extra>\",\"hovertext\":[\"Melbourne\",\"London\",\"Melbourne\",\"Berlin\",\"Pittsburgh\",\"New York City\",\"SF Bay Area\",\"Copenhagen\",\"SF Bay Area\",\"Sydney\",\"Tel Aviv\",\"New York City\",\"SF Bay Area\",\"Bengaluru\",\"SF Bay Area\",\"Boston\",\"Gurugram\",\"Tel Aviv\",\"Sydney\",\"SF Bay Area\",\"SF Bay Area\",\"Toronto\",\"Singapore\",\"Nashville\",\"Singapore\",\"SF Bay Area\",\"SF Bay Area\",\"Denver\",\"Spokane\",\"SF Bay Area\",\"New York City\",\"Sao Paulo\",\"Seattle\",\"Seattle\",\"Singapore\",\"SF Bay Area\",\"Austin\"],\"lat\":[-37.8142176,51.5073359,-37.8142176,52.5170365,40.4416941,40.7127281,37.7884969,55.6867243,37.7884969,-33.8698439,32.0852997,40.7127281,37.7884969,12.9767936,37.7884969,42.3554334,28.4646148,32.0852997,-33.8698439,37.7884969,37.7884969,43.6534817,1.357107,36.1622767,1.357107,37.7884969,37.7884969,39.7392364,47.6571934,37.7884969,40.7127281,-23.5506507,47.6038321,47.6038321,1.357107,37.7884969,30.2711286],\"legendgroup\":\"\",\"lon\":[144.9631608,-0.12765,144.9631608,13.3888599,-79.9900861,-74.0060152,-122.3558473,12.5700724,-122.3558473,151.2082848,34.7818064,-74.0060152,-122.3558473,77.590082,-122.3558473,-71.060511,77.0299194,34.7818064,151.2082848,-122.3558473,-122.3558473,-79.3839347,103.8194992,-86.7742984,103.8194992,-122.3558473,-122.3558473,-104.984862,-117.42351,-122.3558473,-74.0060152,-46.6333824,-122.330062,-122.330062,103.8194992,-122.3558473,-97.7436995],\"marker\":{\"color\":[83.0,206.0,120.0,200.0,100.0,65.0,100.0,150.0,140.0,75.0,120.0,1000.0,85.0,170.0,101.0,40.0,100.0,65.0,300.0,44.0,2434.0,45.0,21.0,154.0,20.0,87.0,6.0,137.0,221.0,669.0,500.0,4.0,6.0,17.0,250.0,13.0,16.0],\"coloraxis\":\"coloraxis\",\"opacity\":0.4,\"size\":[83.0,206.0,120.0,200.0,100.0,65.0,100.0,150.0,140.0,75.0,120.0,1000.0,85.0,170.0,101.0,40.0,100.0,65.0,300.0,44.0,2434.0,45.0,21.0,154.0,20.0,87.0,6.0,137.0,221.0,669.0,500.0,4.0,6.0,17.0,250.0,13.0,16.0],\"sizemode\":\"area\",\"sizeref\":0.9736},\"mode\":\"markers\",\"name\":\"\",\"showlegend\":false,\"subplot\":\"mapbox\",\"type\":\"scattermapbox\"}],                        {\"template\":{\"data\":{\"histogram2dcontour\":[{\"type\":\"histogram2dcontour\",\"colorbar\":{\"outlinewidth\":0,\"ticks\":\"\"},\"colorscale\":[[0.0,\"#0d0887\"],[0.1111111111111111,\"#46039f\"],[0.2222222222222222,\"#7201a8\"],[0.3333333333333333,\"#9c179e\"],[0.4444444444444444,\"#bd3786\"],[0.5555555555555556,\"#d8576b\"],[0.6666666666666666,\"#ed7953\"],[0.7777777777777778,\"#fb9f3a\"],[0.8888888888888888,\"#fdca26\"],[1.0,\"#f0f921\"]]}],\"choropleth\":[{\"type\":\"choropleth\",\"colorbar\":{\"outlinewidth\":0,\"ticks\":\"\"}}],\"histogram2d\":[{\"type\":\"histogram2d\",\"colorbar\":{\"outlinewidth\":0,\"ticks\":\"\"},\"colorscale\":[[0.0,\"#0d0887\"],[0.1111111111111111,\"#46039f\"],[0.2222222222222222,\"#7201a8\"],[0.3333333333333333,\"#9c179e\"],[0.4444444444444444,\"#bd3786\"],[0.5555555555555556,\"#d8576b\"],[0.6666666666666666,\"#ed7953\"],[0.7777777777777778,\"#fb9f3a\"],[0.8888888888888888,\"#fdca26\"],[1.0,\"#f0f921\"]]}],\"heatmap\":[{\"type\":\"heatmap\",\"colorbar\":{\"outlinewidth\":0,\"ticks\":\"\"},\"colorscale\":[[0.0,\"#0d0887\"],[0.1111111111111111,\"#46039f\"],[0.2222222222222222,\"#7201a8\"],[0.3333333333333333,\"#9c179e\"],[0.4444444444444444,\"#bd3786\"],[0.5555555555555556,\"#d8576b\"],[0.6666666666666666,\"#ed7953\"],[0.7777777777777778,\"#fb9f3a\"],[0.8888888888888888,\"#fdca26\"],[1.0,\"#f0f921\"]]}],\"heatmapgl\":[{\"type\":\"heatmapgl\",\"colorbar\":{\"outlinewidth\":0,\"ticks\":\"\"},\"colorscale\":[[0.0,\"#0d0887\"],[0.1111111111111111,\"#46039f\"],[0.2222222222222222,\"#7201a8\"],[0.3333333333333333,\"#9c179e\"],[0.4444444444444444,\"#bd3786\"],[0.5555555555555556,\"#d8576b\"],[0.6666666666666666,\"#ed7953\"],[0.7777777777777778,\"#fb9f3a\"],[0.8888888888888888,\"#fdca26\"],[1.0,\"#f0f921\"]]}],\"contourcarpet\":[{\"type\":\"contourcarpet\",\"colorbar\":{\"outlinewidth\":0,\"ticks\":\"\"}}],\"contour\":[{\"type\":\"contour\",\"colorbar\":{\"outlinewidth\":0,\"ticks\":\"\"},\"colorscale\":[[0.0,\"#0d0887\"],[0.1111111111111111,\"#46039f\"],[0.2222222222222222,\"#7201a8\"],[0.3333333333333333,\"#9c179e\"],[0.4444444444444444,\"#bd3786\"],[0.5555555555555556,\"#d8576b\"],[0.6666666666666666,\"#ed7953\"],[0.7777777777777778,\"#fb9f3a\"],[0.8888888888888888,\"#fdca26\"],[1.0,\"#f0f921\"]]}],\"surface\":[{\"type\":\"surface\",\"colorbar\":{\"outlinewidth\":0,\"ticks\":\"\"},\"colorscale\":[[0.0,\"#0d0887\"],[0.1111111111111111,\"#46039f\"],[0.2222222222222222,\"#7201a8\"],[0.3333333333333333,\"#9c179e\"],[0.4444444444444444,\"#bd3786\"],[0.5555555555555556,\"#d8576b\"],[0.6666666666666666,\"#ed7953\"],[0.7777777777777778,\"#fb9f3a\"],[0.8888888888888888,\"#fdca26\"],[1.0,\"#f0f921\"]]}],\"mesh3d\":[{\"type\":\"mesh3d\",\"colorbar\":{\"outlinewidth\":0,\"ticks\":\"\"}}],\"scatter\":[{\"fillpattern\":{\"fillmode\":\"overlay\",\"size\":10,\"solidity\":0.2},\"type\":\"scatter\"}],\"parcoords\":[{\"type\":\"parcoords\",\"line\":{\"colorbar\":{\"outlinewidth\":0,\"ticks\":\"\"}}}],\"scatterpolargl\":[{\"type\":\"scatterpolargl\",\"marker\":{\"colorbar\":{\"outlinewidth\":0,\"ticks\":\"\"}}}],\"bar\":[{\"error_x\":{\"color\":\"#2a3f5f\"},\"error_y\":{\"color\":\"#2a3f5f\"},\"marker\":{\"line\":{\"color\":\"#E5ECF6\",\"width\":0.5},\"pattern\":{\"fillmode\":\"overlay\",\"size\":10,\"solidity\":0.2}},\"type\":\"bar\"}],\"scattergeo\":[{\"type\":\"scattergeo\",\"marker\":{\"colorbar\":{\"outlinewidth\":0,\"ticks\":\"\"}}}],\"scatterpolar\":[{\"type\":\"scatterpolar\",\"marker\":{\"colorbar\":{\"outlinewidth\":0,\"ticks\":\"\"}}}],\"histogram\":[{\"marker\":{\"pattern\":{\"fillmode\":\"overlay\",\"size\":10,\"solidity\":0.2}},\"type\":\"histogram\"}],\"scattergl\":[{\"type\":\"scattergl\",\"marker\":{\"colorbar\":{\"outlinewidth\":0,\"ticks\":\"\"}}}],\"scatter3d\":[{\"type\":\"scatter3d\",\"line\":{\"colorbar\":{\"outlinewidth\":0,\"ticks\":\"\"}},\"marker\":{\"colorbar\":{\"outlinewidth\":0,\"ticks\":\"\"}}}],\"scattermapbox\":[{\"type\":\"scattermapbox\",\"marker\":{\"colorbar\":{\"outlinewidth\":0,\"ticks\":\"\"}}}],\"scatterternary\":[{\"type\":\"scatterternary\",\"marker\":{\"colorbar\":{\"outlinewidth\":0,\"ticks\":\"\"}}}],\"scattercarpet\":[{\"type\":\"scattercarpet\",\"marker\":{\"colorbar\":{\"outlinewidth\":0,\"ticks\":\"\"}}}],\"carpet\":[{\"aaxis\":{\"endlinecolor\":\"#2a3f5f\",\"gridcolor\":\"white\",\"linecolor\":\"white\",\"minorgridcolor\":\"white\",\"startlinecolor\":\"#2a3f5f\"},\"baxis\":{\"endlinecolor\":\"#2a3f5f\",\"gridcolor\":\"white\",\"linecolor\":\"white\",\"minorgridcolor\":\"white\",\"startlinecolor\":\"#2a3f5f\"},\"type\":\"carpet\"}],\"table\":[{\"cells\":{\"fill\":{\"color\":\"#EBF0F8\"},\"line\":{\"color\":\"white\"}},\"header\":{\"fill\":{\"color\":\"#C8D4E3\"},\"line\":{\"color\":\"white\"}},\"type\":\"table\"}],\"barpolar\":[{\"marker\":{\"line\":{\"color\":\"#E5ECF6\",\"width\":0.5},\"pattern\":{\"fillmode\":\"overlay\",\"size\":10,\"solidity\":0.2}},\"type\":\"barpolar\"}],\"pie\":[{\"automargin\":true,\"type\":\"pie\"}]},\"layout\":{\"autotypenumbers\":\"strict\",\"colorway\":[\"#636efa\",\"#EF553B\",\"#00cc96\",\"#ab63fa\",\"#FFA15A\",\"#19d3f3\",\"#FF6692\",\"#B6E880\",\"#FF97FF\",\"#FECB52\"],\"font\":{\"color\":\"#2a3f5f\"},\"hovermode\":\"closest\",\"hoverlabel\":{\"align\":\"left\"},\"paper_bgcolor\":\"white\",\"plot_bgcolor\":\"#E5ECF6\",\"polar\":{\"bgcolor\":\"#E5ECF6\",\"angularaxis\":{\"gridcolor\":\"white\",\"linecolor\":\"white\",\"ticks\":\"\"},\"radialaxis\":{\"gridcolor\":\"white\",\"linecolor\":\"white\",\"ticks\":\"\"}},\"ternary\":{\"bgcolor\":\"#E5ECF6\",\"aaxis\":{\"gridcolor\":\"white\",\"linecolor\":\"white\",\"ticks\":\"\"},\"baxis\":{\"gridcolor\":\"white\",\"linecolor\":\"white\",\"ticks\":\"\"},\"caxis\":{\"gridcolor\":\"white\",\"linecolor\":\"white\",\"ticks\":\"\"}},\"coloraxis\":{\"colorbar\":{\"outlinewidth\":0,\"ticks\":\"\"}},\"colorscale\":{\"sequential\":[[0.0,\"#0d0887\"],[0.1111111111111111,\"#46039f\"],[0.2222222222222222,\"#7201a8\"],[0.3333333333333333,\"#9c179e\"],[0.4444444444444444,\"#bd3786\"],[0.5555555555555556,\"#d8576b\"],[0.6666666666666666,\"#ed7953\"],[0.7777777777777778,\"#fb9f3a\"],[0.8888888888888888,\"#fdca26\"],[1.0,\"#f0f921\"]],\"sequentialminus\":[[0.0,\"#0d0887\"],[0.1111111111111111,\"#46039f\"],[0.2222222222222222,\"#7201a8\"],[0.3333333333333333,\"#9c179e\"],[0.4444444444444444,\"#bd3786\"],[0.5555555555555556,\"#d8576b\"],[0.6666666666666666,\"#ed7953\"],[0.7777777777777778,\"#fb9f3a\"],[0.8888888888888888,\"#fdca26\"],[1.0,\"#f0f921\"]],\"diverging\":[[0,\"#8e0152\"],[0.1,\"#c51b7d\"],[0.2,\"#de77ae\"],[0.3,\"#f1b6da\"],[0.4,\"#fde0ef\"],[0.5,\"#f7f7f7\"],[0.6,\"#e6f5d0\"],[0.7,\"#b8e186\"],[0.8,\"#7fbc41\"],[0.9,\"#4d9221\"],[1,\"#276419\"]]},\"xaxis\":{\"gridcolor\":\"white\",\"linecolor\":\"white\",\"ticks\":\"\",\"title\":{\"standoff\":15},\"zerolinecolor\":\"white\",\"automargin\":true,\"zerolinewidth\":2},\"yaxis\":{\"gridcolor\":\"white\",\"linecolor\":\"white\",\"ticks\":\"\",\"title\":{\"standoff\":15},\"zerolinecolor\":\"white\",\"automargin\":true,\"zerolinewidth\":2},\"scene\":{\"xaxis\":{\"backgroundcolor\":\"#E5ECF6\",\"gridcolor\":\"white\",\"linecolor\":\"white\",\"showbackground\":true,\"ticks\":\"\",\"zerolinecolor\":\"white\",\"gridwidth\":2},\"yaxis\":{\"backgroundcolor\":\"#E5ECF6\",\"gridcolor\":\"white\",\"linecolor\":\"white\",\"showbackground\":true,\"ticks\":\"\",\"zerolinecolor\":\"white\",\"gridwidth\":2},\"zaxis\":{\"backgroundcolor\":\"#E5ECF6\",\"gridcolor\":\"white\",\"linecolor\":\"white\",\"showbackground\":true,\"ticks\":\"\",\"zerolinecolor\":\"white\",\"gridwidth\":2}},\"shapedefaults\":{\"line\":{\"color\":\"#2a3f5f\"}},\"annotationdefaults\":{\"arrowcolor\":\"#2a3f5f\",\"arrowhead\":0,\"arrowwidth\":1},\"geo\":{\"bgcolor\":\"white\",\"landcolor\":\"#E5ECF6\",\"subunitcolor\":\"white\",\"showland\":true,\"showlakes\":true,\"lakecolor\":\"white\"},\"title\":{\"x\":0.05},\"mapbox\":{\"style\":\"light\"}}},\"mapbox\":{\"domain\":{\"x\":[0.0,1.0],\"y\":[0.0,1.0]},\"center\":{\"lat\":10,\"lon\":30},\"zoom\":1,\"style\":\"carto-positron\"},\"coloraxis\":{\"colorbar\":{\"title\":{\"text\":\"Laid_Off_Count\"}},\"colorscale\":[[0.0,\"#00224e\"],[0.1111111111111111,\"#123570\"],[0.2222222222222222,\"#3b496c\"],[0.3333333333333333,\"#575d6d\"],[0.4444444444444444,\"#707173\"],[0.5555555555555556,\"#8a8678\"],[0.6666666666666666,\"#a59c74\"],[0.7777777777777778,\"#c3b369\"],[0.8888888888888888,\"#e1cc55\"],[1.0,\"#fee838\"]]},\"legend\":{\"tracegroupgap\":0,\"itemsizing\":\"constant\"},\"margin\":{\"t\":0,\"r\":0,\"l\":0,\"b\":0},\"height\":400,\"width\":1400,\"title\":{\"text\":\"Population of each cities\"}},                        {\"responsive\": true}                    ).then(function(){\n",
       "                            \n",
       "var gd = document.getElementById('aca7b38b-db23-4667-abfa-87454cab9828');\n",
       "var x = new MutationObserver(function (mutations, observer) {{\n",
       "        var display = window.getComputedStyle(gd).display;\n",
       "        if (!display || display === 'none') {{\n",
       "            console.log([gd, 'removed!']);\n",
       "            Plotly.purge(gd);\n",
       "            observer.disconnect();\n",
       "        }}\n",
       "}});\n",
       "\n",
       "// Listen for the removal of the full notebook cells\n",
       "var notebookContainer = gd.closest('#notebook-container');\n",
       "if (notebookContainer) {{\n",
       "    x.observe(notebookContainer, {childList: true});\n",
       "}}\n",
       "\n",
       "// Listen for the clearing of the current output cell\n",
       "var outputEl = gd.closest('.output');\n",
       "if (outputEl) {{\n",
       "    x.observe(outputEl, {childList: true});\n",
       "}}\n",
       "\n",
       "                        })                };                });            </script>        </div>"
      ]
     },
     "metadata": {},
     "output_type": "display_data"
    }
   ],
   "source": [
    "insight1_fig = px.scatter_mapbox(insight_1,lat='latitude',lon='longitude', hover_name='Location_HQ', hover_data=['Laid_Off_Count', \"Company\"], \n",
    "    color='Laid_Off_Count',color_continuous_scale=px.colors.sequential.Cividis,\n",
    "    size=\"Laid_Off_Count\", size_max=50, opacity=0.4,\n",
    "    center={'lat':10, 'lon':30},\n",
    "    zoom=1,\n",
    "    height=400,width=1400,\n",
    "    mapbox_style=\"carto-positron\")\n",
    "insight1_fig.update_layout(margin={\"r\": 0, \"t\": 0, \"l\": 0, \"b\": 0})\n",
    "insight1_fig.update_layout(title_text=\"Population of each cities\")\n",
    "insight1_fig.show()"
   ]
  },
  {
   "cell_type": "markdown",
   "id": "b03aec5c",
   "metadata": {
    "papermill": {
     "duration": 0.024319,
     "end_time": "2023-02-01T19:24:18.178585",
     "exception": false,
     "start_time": "2023-02-01T19:24:18.154266",
     "status": "completed"
    },
    "tags": []
   },
   "source": [
    "<a id=\"divide_4grp\"></a>\n",
    "<h2 style=\"background-color:#E1F8FF; margin-bottom:0px; padding:20px; color:#000; border-bottom:5px solid #4AD3FF\">6.6. Divide the dataframe into <strong>4 Groups</strong></h2>\n",
    "So, we can divide the data into <strong>4 groups</strong> according to their <strong>Layoff count</strong> from 3-35, 35-73, 73-154, and 154-11000"
   ]
  },
  {
   "cell_type": "code",
   "execution_count": 150,
   "id": "3c921047",
   "metadata": {
    "papermill": {
     "duration": 0.041237,
     "end_time": "2023-02-01T19:24:18.240712",
     "exception": false,
     "start_time": "2023-02-01T19:24:18.199475",
     "status": "completed"
    },
    "tags": []
   },
   "outputs": [],
   "source": [
    "grp1_insight = df.loc[(df['Laid_Off_Count'] <= 35)]\n",
    "grp2_insight = df.loc[(df['Laid_Off_Count'] > 35) & (df['Laid_Off_Count'] <= 73)]\n",
    "grp3_insight = df.loc[(df['Laid_Off_Count'] > 75) & (df['Laid_Off_Count'] <= 153)]\n",
    "grp4_insight = df.loc[(df['Laid_Off_Count'] > 153)]"
   ]
  },
  {
   "cell_type": "markdown",
   "id": "b3cc15e5",
   "metadata": {
    "papermill": {
     "duration": 0.020527,
     "end_time": "2023-02-01T19:24:18.281978",
     "exception": false,
     "start_time": "2023-02-01T19:24:18.261451",
     "status": "completed"
    },
    "tags": []
   },
   "source": [
    "<a id=\"v3\"></a>\n",
    "<h4 style=\"background-color:#efefef; margin-bottom:0px;padding:10px; color:#000\">6.6.1 Visualize the different types of Industries in the Group 4</h4>"
   ]
  },
  {
   "cell_type": "code",
   "execution_count": 151,
   "id": "e5cece73",
   "metadata": {
    "papermill": {
     "duration": 0.564192,
     "end_time": "2023-02-01T19:24:18.865900",
     "exception": false,
     "start_time": "2023-02-01T19:24:18.301708",
     "status": "completed"
    },
    "tags": []
   },
   "outputs": [
    {
     "data": {
      "image/png": "[encoded data removed]",
      "text/plain": [
       "<Figure size 1800x720 with 1 Axes>"
      ]
     },
     "metadata": {
      "needs_background": "light"
     },
     "output_type": "display_data"
    }
   ],
   "source": [
    "plt.figure(figsize=(25,10))\n",
    "\n",
    "sns.countplot(y='Industry', data=grp4_insight)\n",
    "plt.xlabel('Industry'), plt.ylabel('Count')\n",
    "plt.xticks(fontsize=12), plt.yticks(rotation=40, fontsize=12)\n",
    "plt.title(\"\\nDifferent types of Industries in the Group 4\\n\", fontsize=18)\n",
    "\n",
    "plt.show()"
   ]
  },
  {
   "cell_type": "markdown",
   "id": "c2edb057",
   "metadata": {
    "papermill": {
     "duration": 0.023924,
     "end_time": "2023-02-01T19:24:18.915258",
     "exception": false,
     "start_time": "2023-02-01T19:24:18.891334",
     "status": "completed"
    },
    "tags": []
   },
   "source": [
    "<a id=\"insi3\"></a>\n",
    "<h4 style=\"background-color:#efefef; margin-bottom:0px;padding:10px; color:#000\">6.6.2 Lets, see the <strong>Top 10</strong> companies with the most layoffs in the group 4 (154-11000 layoff count)</h4>"
   ]
  },
  {
   "cell_type": "code",
   "execution_count": 152,
   "id": "11597c6e",
   "metadata": {
    "papermill": {
     "duration": 0.058611,
     "end_time": "2023-02-01T19:24:18.997634",
     "exception": false,
     "start_time": "2023-02-01T19:24:18.939023",
     "status": "completed"
    },
    "tags": []
   },
   "outputs": [
    {
     "data": {
      "text/html": [
       "<div>\n",
       "<style scoped>\n",
       "    .dataframe tbody tr th:only-of-type {\n",
       "        vertical-align: middle;\n",
       "    }\n",
       "\n",
       "    .dataframe tbody tr th {\n",
       "        vertical-align: top;\n",
       "    }\n",
       "\n",
       "    .dataframe thead th {\n",
       "        text-align: right;\n",
       "    }\n",
       "</style>\n",
       "<table border=\"1\" class=\"dataframe\">\n",
       "  <thead>\n",
       "    <tr style=\"text-align: right;\">\n",
       "      <th></th>\n",
       "      <th>Company</th>\n",
       "      <th>Location_HQ</th>\n",
       "      <th>Industry</th>\n",
       "      <th>Laid_Off_Count</th>\n",
       "      <th>Percentage</th>\n",
       "      <th>Date</th>\n",
       "      <th>Funds_Raised</th>\n",
       "      <th>Stage</th>\n",
       "      <th>Country</th>\n",
       "      <th>year_of_laidOff</th>\n",
       "    </tr>\n",
       "  </thead>\n",
       "  <tbody>\n",
       "    <tr>\n",
       "      <th>183</th>\n",
       "      <td>Google</td>\n",
       "      <td>SF Bay Area</td>\n",
       "      <td>Consumer</td>\n",
       "      <td>12000.0</td>\n",
       "      <td>0.06</td>\n",
       "      <td>2023-01-20 00:00:00</td>\n",
       "      <td>26.0</td>\n",
       "      <td>Post-IPO</td>\n",
       "      <td>United States</td>\n",
       "      <td>2023</td>\n",
       "    </tr>\n",
       "    <tr>\n",
       "      <th>648</th>\n",
       "      <td>Meta</td>\n",
       "      <td>SF Bay Area</td>\n",
       "      <td>Consumer</td>\n",
       "      <td>11000.0</td>\n",
       "      <td>0.13</td>\n",
       "      <td>2022-11-09 00:00:00</td>\n",
       "      <td>26000.0</td>\n",
       "      <td>Post-IPO</td>\n",
       "      <td>United States</td>\n",
       "      <td>2022</td>\n",
       "    </tr>\n",
       "    <tr>\n",
       "      <th>580</th>\n",
       "      <td>Amazon</td>\n",
       "      <td>Seattle</td>\n",
       "      <td>Retail</td>\n",
       "      <td>10000.0</td>\n",
       "      <td>0.03</td>\n",
       "      <td>2022-11-16 00:00:00</td>\n",
       "      <td>108.0</td>\n",
       "      <td>Post-IPO</td>\n",
       "      <td>United States</td>\n",
       "      <td>2022</td>\n",
       "    </tr>\n",
       "    <tr>\n",
       "      <th>215</th>\n",
       "      <td>Microsoft</td>\n",
       "      <td>Seattle</td>\n",
       "      <td>Other</td>\n",
       "      <td>10000.0</td>\n",
       "      <td>0.05</td>\n",
       "      <td>2023-01-18 00:00:00</td>\n",
       "      <td>1.0</td>\n",
       "      <td>Post-IPO</td>\n",
       "      <td>United States</td>\n",
       "      <td>2023</td>\n",
       "    </tr>\n",
       "    <tr>\n",
       "      <th>353</th>\n",
       "      <td>Amazon</td>\n",
       "      <td>Seattle</td>\n",
       "      <td>Retail</td>\n",
       "      <td>8000.0</td>\n",
       "      <td>0.02</td>\n",
       "      <td>2023-01-04 00:00:00</td>\n",
       "      <td>108.0</td>\n",
       "      <td>Post-IPO</td>\n",
       "      <td>United States</td>\n",
       "      <td>2023</td>\n",
       "    </tr>\n",
       "    <tr>\n",
       "      <th>354</th>\n",
       "      <td>Salesforce</td>\n",
       "      <td>SF Bay Area</td>\n",
       "      <td>Sales</td>\n",
       "      <td>8000.0</td>\n",
       "      <td>0.10</td>\n",
       "      <td>2023-01-04 00:00:00</td>\n",
       "      <td>65.0</td>\n",
       "      <td>Post-IPO</td>\n",
       "      <td>United States</td>\n",
       "      <td>2023</td>\n",
       "    </tr>\n",
       "    <tr>\n",
       "      <th>52</th>\n",
       "      <td>Dell</td>\n",
       "      <td>Austin</td>\n",
       "      <td>Hardware</td>\n",
       "      <td>6650.0</td>\n",
       "      <td>0.05</td>\n",
       "      <td>2023-02-06 00:00:00</td>\n",
       "      <td>NaN</td>\n",
       "      <td>Post-IPO</td>\n",
       "      <td>United States</td>\n",
       "      <td>2023</td>\n",
       "    </tr>\n",
       "    <tr>\n",
       "      <th>112</th>\n",
       "      <td>Philips</td>\n",
       "      <td>Amsterdam</td>\n",
       "      <td>Healthcare</td>\n",
       "      <td>6000.0</td>\n",
       "      <td>0.13</td>\n",
       "      <td>2023-01-30 00:00:00</td>\n",
       "      <td>NaN</td>\n",
       "      <td>Post-IPO</td>\n",
       "      <td>Netherlands</td>\n",
       "      <td>2023</td>\n",
       "    </tr>\n",
       "    <tr>\n",
       "      <th>1675</th>\n",
       "      <td>Booking.com</td>\n",
       "      <td>Amsterdam</td>\n",
       "      <td>Travel</td>\n",
       "      <td>4375.0</td>\n",
       "      <td>0.25</td>\n",
       "      <td>2020-07-30 00:00:00</td>\n",
       "      <td>NaN</td>\n",
       "      <td>Acquired</td>\n",
       "      <td>Netherlands</td>\n",
       "      <td>2020</td>\n",
       "    </tr>\n",
       "    <tr>\n",
       "      <th>581</th>\n",
       "      <td>Cisco</td>\n",
       "      <td>SF Bay Area</td>\n",
       "      <td>Infrastructure</td>\n",
       "      <td>4100.0</td>\n",
       "      <td>0.05</td>\n",
       "      <td>2022-11-16 00:00:00</td>\n",
       "      <td>2.0</td>\n",
       "      <td>Post-IPO</td>\n",
       "      <td>United States</td>\n",
       "      <td>2022</td>\n",
       "    </tr>\n",
       "  </tbody>\n",
       "</table>\n",
       "</div>"
      ],
      "text/plain": [
       "          Company  Location_HQ        Industry  Laid_Off_Count  Percentage  \\\n",
       "183        Google  SF Bay Area        Consumer         12000.0        0.06   \n",
       "648          Meta  SF Bay Area        Consumer         11000.0        0.13   \n",
       "580        Amazon      Seattle          Retail         10000.0        0.03   \n",
       "215     Microsoft      Seattle           Other         10000.0        0.05   \n",
       "353        Amazon      Seattle          Retail          8000.0        0.02   \n",
       "354    Salesforce  SF Bay Area           Sales          8000.0        0.10   \n",
       "52           Dell       Austin        Hardware          6650.0        0.05   \n",
       "112       Philips    Amsterdam      Healthcare          6000.0        0.13   \n",
       "1675  Booking.com    Amsterdam          Travel          4375.0        0.25   \n",
       "581         Cisco  SF Bay Area  Infrastructure          4100.0        0.05   \n",
       "\n",
       "                     Date  Funds_Raised     Stage        Country  \\\n",
       "183   2023-01-20 00:00:00          26.0  Post-IPO  United States   \n",
       "648   2022-11-09 00:00:00       26000.0  Post-IPO  United States   \n",
       "580   2022-11-16 00:00:00         108.0  Post-IPO  United States   \n",
       "215   2023-01-18 00:00:00           1.0  Post-IPO  United States   \n",
       "353   2023-01-04 00:00:00         108.0  Post-IPO  United States   \n",
       "354   2023-01-04 00:00:00          65.0  Post-IPO  United States   \n",
       "52    2023-02-06 00:00:00           NaN  Post-IPO  United States   \n",
       "112   2023-01-30 00:00:00           NaN  Post-IPO    Netherlands   \n",
       "1675  2020-07-30 00:00:00           NaN  Acquired    Netherlands   \n",
       "581   2022-11-16 00:00:00           2.0  Post-IPO  United States   \n",
       "\n",
       "     year_of_laidOff  \n",
       "183             2023  \n",
       "648             2022  \n",
       "580             2022  \n",
       "215             2023  \n",
       "353             2023  \n",
       "354             2023  \n",
       "52              2023  \n",
       "112             2023  \n",
       "1675            2020  \n",
       "581             2022  "
      ]
     },
     "execution_count": 152,
     "metadata": {},
     "output_type": "execute_result"
    }
   ],
   "source": [
    "top10_comp = grp4_insight.sort_values('Laid_Off_Count', ascending=False)\n",
    "top10_comp = top10_comp.head(10)\n",
    "top10_comp"
   ]
  },
  {
   "cell_type": "markdown",
   "id": "6c45d076",
   "metadata": {
    "papermill": {
     "duration": 0.023393,
     "end_time": "2023-02-01T19:24:19.046744",
     "exception": false,
     "start_time": "2023-02-01T19:24:19.023351",
     "status": "completed"
    },
    "tags": []
   },
   "source": [
    "<a id=\"v4\"></a>\n",
    "<h5 style=\"background-color:#efefef; margin-bottom:0px;padding:10px; color:#000\">6.6.2a Visualize the Top10 <strong>Layoff Count and Location</strong></h5>"
   ]
  },
  {
   "cell_type": "code",
   "execution_count": 153,
   "id": "946ecc69",
   "metadata": {
    "papermill": {
     "duration": 0.621196,
     "end_time": "2023-02-01T19:24:19.692331",
     "exception": false,
     "start_time": "2023-02-01T19:24:19.071135",
     "status": "completed"
    },
    "tags": []
   },
   "outputs": [
    {
     "data": {
      "image/png": "[encoded data removed]",
      "text/plain": [
       "<Figure size 1800x504 with 2 Axes>"
      ]
     },
     "metadata": {
      "needs_background": "light"
     },
     "output_type": "display_data"
    }
   ],
   "source": [
    "plt.figure(figsize=(25,7))\n",
    "\n",
    "plt.subplot(1, 2, 1)\n",
    "sns.barplot(data=top10_comp, x=top10_comp['Company'], y=top10_comp['Laid_Off_Count'], palette=palette)\n",
    "plt.xlabel('Company'), plt.ylabel('Count')\n",
    "plt.xticks(rotation=40, fontsize=12), plt.yticks(rotation=40, fontsize=12)\n",
    "plt.title(\"\\nLayoff in Top10\\n\", fontsize=18)\n",
    "\n",
    "plt.subplot(1, 2, 2)\n",
    "top10_comp_loca = top10_comp['Location_HQ'].value_counts()\n",
    "plt.pie(data=top10_comp, x=top10_comp_loca.values, labels=top10_comp_loca.index, autopct='%.f%%',  explode = [0.08, 0, 0, 0], colors=palette)\n",
    "plt.title(\"\\nLocations of the Top10 companies\\n\", fontsize=18)\n",
    "\n",
    "plt.show()"
   ]
  },
  {
   "cell_type": "markdown",
   "id": "25cfe4b3-5a57-49dd-9a1a-8195b92883b9",
   "metadata": {},
   "source": [
    "<a id=\"v5\"></a>\n",
    "<h5 style=\"background-color:#efefef; margin-bottom:0px;padding:10px; color:#000\">6.6.2b Visualize the Top10 Companies <strong>Location</strong></h5>"
   ]
  },
  {
   "cell_type": "code",
   "execution_count": 154,
   "id": "e051d175-aa56-40c3-9709-58c408af8290",
   "metadata": {},
   "outputs": [],
   "source": [
    "for i in range(len(top10_comp['Location_HQ'])):\n",
    "    def find_lat(i):\n",
    "        return geolocator.geocode(i).latitude\n",
    "    \n",
    "    def find_long(i):\n",
    "        return geolocator.geocode(i).longitude"
   ]
  },
  {
   "cell_type": "code",
   "execution_count": 155,
   "id": "b8993fc5-ef1e-41d7-b4a2-e6bd22be5ba3",
   "metadata": {},
   "outputs": [],
   "source": [
    "top10_comp['latitude'] = top10_comp['Location_HQ'].apply(find_lat)\n",
    "top10_comp['longitude'] = top10_comp['Location_HQ'].apply(find_long)"
   ]
  },
  {
   "cell_type": "code",
   "execution_count": 156,
   "id": "b027ec31-9874-4c0c-9344-e1175406a538",
   "metadata": {},
   "outputs": [],
   "source": [
    "top10_comp = top10_comp.fillna(0)"
   ]
  },
  {
   "cell_type": "code",
   "execution_count": 157,
   "id": "0e8a72a8-98b4-4be7-8c62-758c77c11850",
   "metadata": {},
   "outputs": [
    {
     "data": {
      "text/html": [
       "<div>\n",
       "<style scoped>\n",
       "    .dataframe tbody tr th:only-of-type {\n",
       "        vertical-align: middle;\n",
       "    }\n",
       "\n",
       "    .dataframe tbody tr th {\n",
       "        vertical-align: top;\n",
       "    }\n",
       "\n",
       "    .dataframe thead th {\n",
       "        text-align: right;\n",
       "    }\n",
       "</style>\n",
       "<table border=\"1\" class=\"dataframe\">\n",
       "  <thead>\n",
       "    <tr style=\"text-align: right;\">\n",
       "      <th></th>\n",
       "      <th>Company</th>\n",
       "      <th>Location_HQ</th>\n",
       "      <th>Industry</th>\n",
       "      <th>Laid_Off_Count</th>\n",
       "      <th>Percentage</th>\n",
       "      <th>Date</th>\n",
       "      <th>Funds_Raised</th>\n",
       "      <th>Stage</th>\n",
       "      <th>Country</th>\n",
       "      <th>year_of_laidOff</th>\n",
       "      <th>latitude</th>\n",
       "      <th>longitude</th>\n",
       "    </tr>\n",
       "  </thead>\n",
       "  <tbody>\n",
       "    <tr>\n",
       "      <th>183</th>\n",
       "      <td>Google</td>\n",
       "      <td>SF Bay Area</td>\n",
       "      <td>Consumer</td>\n",
       "      <td>12000.0</td>\n",
       "      <td>0.06</td>\n",
       "      <td>2023-01-20 00:00:00</td>\n",
       "      <td>26.0</td>\n",
       "      <td>Post-IPO</td>\n",
       "      <td>United States</td>\n",
       "      <td>2023</td>\n",
       "      <td>37.788497</td>\n",
       "      <td>-122.355847</td>\n",
       "    </tr>\n",
       "    <tr>\n",
       "      <th>648</th>\n",
       "      <td>Meta</td>\n",
       "      <td>SF Bay Area</td>\n",
       "      <td>Consumer</td>\n",
       "      <td>11000.0</td>\n",
       "      <td>0.13</td>\n",
       "      <td>2022-11-09 00:00:00</td>\n",
       "      <td>26000.0</td>\n",
       "      <td>Post-IPO</td>\n",
       "      <td>United States</td>\n",
       "      <td>2022</td>\n",
       "      <td>37.788497</td>\n",
       "      <td>-122.355847</td>\n",
       "    </tr>\n",
       "    <tr>\n",
       "      <th>580</th>\n",
       "      <td>Amazon</td>\n",
       "      <td>Seattle</td>\n",
       "      <td>Retail</td>\n",
       "      <td>10000.0</td>\n",
       "      <td>0.03</td>\n",
       "      <td>2022-11-16 00:00:00</td>\n",
       "      <td>108.0</td>\n",
       "      <td>Post-IPO</td>\n",
       "      <td>United States</td>\n",
       "      <td>2022</td>\n",
       "      <td>47.603832</td>\n",
       "      <td>-122.330062</td>\n",
       "    </tr>\n",
       "    <tr>\n",
       "      <th>215</th>\n",
       "      <td>Microsoft</td>\n",
       "      <td>Seattle</td>\n",
       "      <td>Other</td>\n",
       "      <td>10000.0</td>\n",
       "      <td>0.05</td>\n",
       "      <td>2023-01-18 00:00:00</td>\n",
       "      <td>1.0</td>\n",
       "      <td>Post-IPO</td>\n",
       "      <td>United States</td>\n",
       "      <td>2023</td>\n",
       "      <td>47.603832</td>\n",
       "      <td>-122.330062</td>\n",
       "    </tr>\n",
       "    <tr>\n",
       "      <th>353</th>\n",
       "      <td>Amazon</td>\n",
       "      <td>Seattle</td>\n",
       "      <td>Retail</td>\n",
       "      <td>8000.0</td>\n",
       "      <td>0.02</td>\n",
       "      <td>2023-01-04 00:00:00</td>\n",
       "      <td>108.0</td>\n",
       "      <td>Post-IPO</td>\n",
       "      <td>United States</td>\n",
       "      <td>2023</td>\n",
       "      <td>47.603832</td>\n",
       "      <td>-122.330062</td>\n",
       "    </tr>\n",
       "  </tbody>\n",
       "</table>\n",
       "</div>"
      ],
      "text/plain": [
       "       Company  Location_HQ  Industry  Laid_Off_Count  Percentage  \\\n",
       "183     Google  SF Bay Area  Consumer         12000.0        0.06   \n",
       "648       Meta  SF Bay Area  Consumer         11000.0        0.13   \n",
       "580     Amazon      Seattle    Retail         10000.0        0.03   \n",
       "215  Microsoft      Seattle     Other         10000.0        0.05   \n",
       "353     Amazon      Seattle    Retail          8000.0        0.02   \n",
       "\n",
       "                    Date  Funds_Raised     Stage        Country  \\\n",
       "183  2023-01-20 00:00:00          26.0  Post-IPO  United States   \n",
       "648  2022-11-09 00:00:00       26000.0  Post-IPO  United States   \n",
       "580  2022-11-16 00:00:00         108.0  Post-IPO  United States   \n",
       "215  2023-01-18 00:00:00           1.0  Post-IPO  United States   \n",
       "353  2023-01-04 00:00:00         108.0  Post-IPO  United States   \n",
       "\n",
       "    year_of_laidOff   latitude   longitude  \n",
       "183            2023  37.788497 -122.355847  \n",
       "648            2022  37.788497 -122.355847  \n",
       "580            2022  47.603832 -122.330062  \n",
       "215            2023  47.603832 -122.330062  \n",
       "353            2023  47.603832 -122.330062  "
      ]
     },
     "execution_count": 157,
     "metadata": {},
     "output_type": "execute_result"
    }
   ],
   "source": [
    "top10_comp.head()"
   ]
  },
  {
   "cell_type": "code",
   "execution_count": 161,
   "id": "47e63c4a-adce-4b25-9b9b-2661cf90bb48",
   "metadata": {
    "tags": []
   },
   "outputs": [
    {
     "data": {
      "application/vnd.plotly.v1+json": {
       "config": {
        "plotlyServerURL": "https://plot.ly"
       },
       "data": [
        {
         "customdata": [
          [
           12000,
           "Google"
          ],
          [
           11000,
           "Meta"
          ],
          [
           10000,
           "Amazon"
          ],
          [
           10000,
           "Microsoft"
          ],
          [
           8000,
           "Amazon"
          ],
          [
           8000,
           "Salesforce"
          ],
          [
           6650,
           "Dell"
          ],
          [
           6000,
           "Philips"
          ],
          [
           4375,
           "Booking.com"
          ],
          [
           4100,
           "Cisco"
          ]
         ],
         "hovertemplate": "<b>%{hovertext}</b><br><br>Laid_Off_Count=%{marker.color}<br>latitude=%{lat}<br>longitude=%{lon}<br>Company=%{customdata[1]}<extra></extra>",
         "hovertext": [
          "SF Bay Area",
          "SF Bay Area",
          "Seattle",
          "Seattle",
          "Seattle",
          "SF Bay Area",
          "Austin",
          "Amsterdam",
          "Amsterdam",
          "SF Bay Area"
         ],
         "lat": [
          37.7884969,
          37.7884969,
          47.6038321,
          47.6038321,
          47.6038321,
          37.7884969,
          30.2711286,
          52.3730796,
          52.3730796,
          37.7884969
         ],
         "legendgroup": "",
         "lon": [
          -122.3558473,
          -122.3558473,
          -122.330062,
          -122.330062,
          -122.330062,
          -122.3558473,
          -97.7436995,
          4.8924534,
          4.8924534,
          -122.3558473
         ],
         "marker": {
          "color": [
           12000,
           11000,
           10000,
           10000,
           8000,
           8000,
           6650,
           6000,
           4375,
           4100
          ],
          "coloraxis": "coloraxis",
          "opacity": 0.4,
          "size": [
           12000,
           11000,
           10000,
           10000,
           8000,
           8000,
           6650,
           6000,
           4375,
           4100
          ],
          "sizemode": "area",
          "sizeref": 4.8
         },
         "mode": "markers",
         "name": "",
         "showlegend": false,
         "subplot": "mapbox",
         "type": "scattermapbox"
        }
       ],
       "layout": {
        "coloraxis": {
         "colorbar": {
          "title": {
           "text": "Laid_Off_Count"
          }
         },
         "colorscale": [
          [
           0,
           "#00224e"
          ],
          [
           0.1111111111111111,
           "#123570"
          ],
          [
           0.2222222222222222,
           "#3b496c"
          ],
          [
           0.3333333333333333,
           "#575d6d"
          ],
          [
           0.4444444444444444,
           "#707173"
          ],
          [
           0.5555555555555556,
           "#8a8678"
          ],
          [
           0.6666666666666666,
           "#a59c74"
          ],
          [
           0.7777777777777778,
           "#c3b369"
          ],
          [
           0.8888888888888888,
           "#e1cc55"
          ],
          [
           1,
           "#fee838"
          ]
         ]
        },
        "height": 400,
        "legend": {
         "itemsizing": "constant",
         "tracegroupgap": 0
        },
        "mapbox": {
         "center": {
          "lat": 10,
          "lon": 30
         },
         "domain": {
          "x": [
           0,
           1
          ],
          "y": [
           0,
           1
          ]
         },
         "style": "carto-positron",
         "zoom": 1
        },
        "margin": {
         "b": 0,
         "l": 0,
         "r": 0,
         "t": 0
        },
        "template": {
         "data": {
          "bar": [
           {
            "error_x": {
             "color": "#2a3f5f"
            },
            "error_y": {
             "color": "#2a3f5f"
            },
            "marker": {
             "line": {
              "color": "#E5ECF6",
              "width": 0.5
             },
             "pattern": {
              "fillmode": "overlay",
              "size": 10,
              "solidity": 0.2
             }
            },
            "type": "bar"
           }
          ],
          "barpolar": [
           {
            "marker": {
             "line": {
              "color": "#E5ECF6",
              "width": 0.5
             },
             "pattern": {
              "fillmode": "overlay",
              "size": 10,
              "solidity": 0.2
             }
            },
            "type": "barpolar"
           }
          ],
          "carpet": [
           {
            "aaxis": {
             "endlinecolor": "#2a3f5f",
             "gridcolor": "white",
             "linecolor": "white",
             "minorgridcolor": "white",
             "startlinecolor": "#2a3f5f"
            },
            "baxis": {
             "endlinecolor": "#2a3f5f",
             "gridcolor": "white",
             "linecolor": "white",
             "minorgridcolor": "white",
             "startlinecolor": "#2a3f5f"
            },
            "type": "carpet"
           }
          ],
          "choropleth": [
           {
            "colorbar": {
             "outlinewidth": 0,
             "ticks": ""
            },
            "type": "choropleth"
           }
          ],
          "contour": [
           {
            "colorbar": {
             "outlinewidth": 0,
             "ticks": ""
            },
            "colorscale": [
             [
              0,
              "#0d0887"
             ],
             [
              0.1111111111111111,
              "#46039f"
             ],
             [
              0.2222222222222222,
              "#7201a8"
             ],
             [
              0.3333333333333333,
              "#9c179e"
             ],
             [
              0.4444444444444444,
              "#bd3786"
             ],
             [
              0.5555555555555556,
              "#d8576b"
             ],
             [
              0.6666666666666666,
              "#ed7953"
             ],
             [
              0.7777777777777778,
              "#fb9f3a"
             ],
             [
              0.8888888888888888,
              "#fdca26"
             ],
             [
              1,
              "#f0f921"
             ]
            ],
            "type": "contour"
           }
          ],
          "contourcarpet": [
           {
            "colorbar": {
             "outlinewidth": 0,
             "ticks": ""
            },
            "type": "contourcarpet"
           }
          ],
          "heatmap": [
           {
            "colorbar": {
             "outlinewidth": 0,
             "ticks": ""
            },
            "colorscale": [
             [
              0,
              "#0d0887"
             ],
             [
              0.1111111111111111,
              "#46039f"
             ],
             [
              0.2222222222222222,
              "#7201a8"
             ],
             [
              0.3333333333333333,
              "#9c179e"
             ],
             [
              0.4444444444444444,
              "#bd3786"
             ],
             [
              0.5555555555555556,
              "#d8576b"
             ],
             [
              0.6666666666666666,
              "#ed7953"
             ],
             [
              0.7777777777777778,
              "#fb9f3a"
             ],
             [
              0.8888888888888888,
              "#fdca26"
             ],
             [
              1,
              "#f0f921"
             ]
            ],
            "type": "heatmap"
           }
          ],
          "heatmapgl": [
           {
            "colorbar": {
             "outlinewidth": 0,
             "ticks": ""
            },
            "colorscale": [
             [
              0,
              "#0d0887"
             ],
             [
              0.1111111111111111,
              "#46039f"
             ],
             [
              0.2222222222222222,
              "#7201a8"
             ],
             [
              0.3333333333333333,
              "#9c179e"
             ],
             [
              0.4444444444444444,
              "#bd3786"
             ],
             [
              0.5555555555555556,
              "#d8576b"
             ],
             [
              0.6666666666666666,
              "#ed7953"
             ],
             [
              0.7777777777777778,
              "#fb9f3a"
             ],
             [
              0.8888888888888888,
              "#fdca26"
             ],
             [
              1,
              "#f0f921"
             ]
            ],
            "type": "heatmapgl"
           }
          ],
          "histogram": [
           {
            "marker": {
             "pattern": {
              "fillmode": "overlay",
              "size": 10,
              "solidity": 0.2
             }
            },
            "type": "histogram"
           }
          ],
          "histogram2d": [
           {
            "colorbar": {
             "outlinewidth": 0,
             "ticks": ""
            },
            "colorscale": [
             [
              0,
              "#0d0887"
             ],
             [
              0.1111111111111111,
              "#46039f"
             ],
             [
              0.2222222222222222,
              "#7201a8"
             ],
             [
              0.3333333333333333,
              "#9c179e"
             ],
             [
              0.4444444444444444,
              "#bd3786"
             ],
             [
              0.5555555555555556,
              "#d8576b"
             ],
             [
              0.6666666666666666,
              "#ed7953"
             ],
             [
              0.7777777777777778,
              "#fb9f3a"
             ],
             [
              0.8888888888888888,
              "#fdca26"
             ],
             [
              1,
              "#f0f921"
             ]
            ],
            "type": "histogram2d"
           }
          ],
          "histogram2dcontour": [
           {
            "colorbar": {
             "outlinewidth": 0,
             "ticks": ""
            },
            "colorscale": [
             [
              0,
              "#0d0887"
             ],
             [
              0.1111111111111111,
              "#46039f"
             ],
             [
              0.2222222222222222,
              "#7201a8"
             ],
             [
              0.3333333333333333,
              "#9c179e"
             ],
             [
              0.4444444444444444,
              "#bd3786"
             ],
             [
              0.5555555555555556,
              "#d8576b"
             ],
             [
              0.6666666666666666,
              "#ed7953"
             ],
             [
              0.7777777777777778,
              "#fb9f3a"
             ],
             [
              0.8888888888888888,
              "#fdca26"
             ],
             [
              1,
              "#f0f921"
             ]
            ],
            "type": "histogram2dcontour"
           }
          ],
          "mesh3d": [
           {
            "colorbar": {
             "outlinewidth": 0,
             "ticks": ""
            },
            "type": "mesh3d"
           }
          ],
          "parcoords": [
           {
            "line": {
             "colorbar": {
              "outlinewidth": 0,
              "ticks": ""
             }
            },
            "type": "parcoords"
           }
          ],
          "pie": [
           {
            "automargin": true,
            "type": "pie"
           }
          ],
          "scatter": [
           {
            "fillpattern": {
             "fillmode": "overlay",
             "size": 10,
             "solidity": 0.2
            },
            "type": "scatter"
           }
          ],
          "scatter3d": [
           {
            "line": {
             "colorbar": {
              "outlinewidth": 0,
              "ticks": ""
             }
            },
            "marker": {
             "colorbar": {
              "outlinewidth": 0,
              "ticks": ""
             }
            },
            "type": "scatter3d"
           }
          ],
          "scattercarpet": [
           {
            "marker": {
             "colorbar": {
              "outlinewidth": 0,
              "ticks": ""
             }
            },
            "type": "scattercarpet"
           }
          ],
          "scattergeo": [
           {
            "marker": {
             "colorbar": {
              "outlinewidth": 0,
              "ticks": ""
             }
            },
            "type": "scattergeo"
           }
          ],
          "scattergl": [
           {
            "marker": {
             "colorbar": {
              "outlinewidth": 0,
              "ticks": ""
             }
            },
            "type": "scattergl"
           }
          ],
          "scattermapbox": [
           {
            "marker": {
             "colorbar": {
              "outlinewidth": 0,
              "ticks": ""
             }
            },
            "type": "scattermapbox"
           }
          ],
          "scatterpolar": [
           {
            "marker": {
             "colorbar": {
              "outlinewidth": 0,
              "ticks": ""
             }
            },
            "type": "scatterpolar"
           }
          ],
          "scatterpolargl": [
           {
            "marker": {
             "colorbar": {
              "outlinewidth": 0,
              "ticks": ""
             }
            },
            "type": "scatterpolargl"
           }
          ],
          "scatterternary": [
           {
            "marker": {
             "colorbar": {
              "outlinewidth": 0,
              "ticks": ""
             }
            },
            "type": "scatterternary"
           }
          ],
          "surface": [
           {
            "colorbar": {
             "outlinewidth": 0,
             "ticks": ""
            },
            "colorscale": [
             [
              0,
              "#0d0887"
             ],
             [
              0.1111111111111111,
              "#46039f"
             ],
             [
              0.2222222222222222,
              "#7201a8"
             ],
             [
              0.3333333333333333,
              "#9c179e"
             ],
             [
              0.4444444444444444,
              "#bd3786"
             ],
             [
              0.5555555555555556,
              "#d8576b"
             ],
             [
              0.6666666666666666,
              "#ed7953"
             ],
             [
              0.7777777777777778,
              "#fb9f3a"
             ],
             [
              0.8888888888888888,
              "#fdca26"
             ],
             [
              1,
              "#f0f921"
             ]
            ],
            "type": "surface"
           }
          ],
          "table": [
           {
            "cells": {
             "fill": {
              "color": "#EBF0F8"
             },
             "line": {
              "color": "white"
             }
            },
            "header": {
             "fill": {
              "color": "#C8D4E3"
             },
             "line": {
              "color": "white"
             }
            },
            "type": "table"
           }
          ]
         },
         "layout": {
          "annotationdefaults": {
           "arrowcolor": "#2a3f5f",
           "arrowhead": 0,
           "arrowwidth": 1
          },
          "autotypenumbers": "strict",
          "coloraxis": {
           "colorbar": {
            "outlinewidth": 0,
            "ticks": ""
           }
          },
          "colorscale": {
           "diverging": [
            [
             0,
             "#8e0152"
            ],
            [
             0.1,
             "#c51b7d"
            ],
            [
             0.2,
             "#de77ae"
            ],
            [
             0.3,
             "#f1b6da"
            ],
            [
             0.4,
             "#fde0ef"
            ],
            [
             0.5,
             "#f7f7f7"
            ],
            [
             0.6,
             "#e6f5d0"
            ],
            [
             0.7,
             "#b8e186"
            ],
            [
             0.8,
             "#7fbc41"
            ],
            [
             0.9,
             "#4d9221"
            ],
            [
             1,
             "#276419"
            ]
           ],
           "sequential": [
            [
             0,
             "#0d0887"
            ],
            [
             0.1111111111111111,
             "#46039f"
            ],
            [
             0.2222222222222222,
             "#7201a8"
            ],
            [
             0.3333333333333333,
             "#9c179e"
            ],
            [
             0.4444444444444444,
             "#bd3786"
            ],
            [
             0.5555555555555556,
             "#d8576b"
            ],
            [
             0.6666666666666666,
             "#ed7953"
            ],
            [
             0.7777777777777778,
             "#fb9f3a"
            ],
            [
             0.8888888888888888,
             "#fdca26"
            ],
            [
             1,
             "#f0f921"
            ]
           ],
           "sequentialminus": [
            [
             0,
             "#0d0887"
            ],
            [
             0.1111111111111111,
             "#46039f"
            ],
            [
             0.2222222222222222,
             "#7201a8"
            ],
            [
             0.3333333333333333,
             "#9c179e"
            ],
            [
             0.4444444444444444,
             "#bd3786"
            ],
            [
             0.5555555555555556,
             "#d8576b"
            ],
            [
             0.6666666666666666,
             "#ed7953"
            ],
            [
             0.7777777777777778,
             "#fb9f3a"
            ],
            [
             0.8888888888888888,
             "#fdca26"
            ],
            [
             1,
             "#f0f921"
            ]
           ]
          },
          "colorway": [
           "#636efa",
           "#EF553B",
           "#00cc96",
           "#ab63fa",
           "#FFA15A",
           "#19d3f3",
           "#FF6692",
           "#B6E880",
           "#FF97FF",
           "#FECB52"
          ],
          "font": {
           "color": "#2a3f5f"
          },
          "geo": {
           "bgcolor": "white",
           "lakecolor": "white",
           "landcolor": "#E5ECF6",
           "showlakes": true,
           "showland": true,
           "subunitcolor": "white"
          },
          "hoverlabel": {
           "align": "left"
          },
          "hovermode": "closest",
          "mapbox": {
           "style": "light"
          },
          "paper_bgcolor": "white",
          "plot_bgcolor": "#E5ECF6",
          "polar": {
           "angularaxis": {
            "gridcolor": "white",
            "linecolor": "white",
            "ticks": ""
           },
           "bgcolor": "#E5ECF6",
           "radialaxis": {
            "gridcolor": "white",
            "linecolor": "white",
            "ticks": ""
           }
          },
          "scene": {
           "xaxis": {
            "backgroundcolor": "#E5ECF6",
            "gridcolor": "white",
            "gridwidth": 2,
            "linecolor": "white",
            "showbackground": true,
            "ticks": "",
            "zerolinecolor": "white"
           },
           "yaxis": {
            "backgroundcolor": "#E5ECF6",
            "gridcolor": "white",
            "gridwidth": 2,
            "linecolor": "white",
            "showbackground": true,
            "ticks": "",
            "zerolinecolor": "white"
           },
           "zaxis": {
            "backgroundcolor": "#E5ECF6",
            "gridcolor": "white",
            "gridwidth": 2,
            "linecolor": "white",
            "showbackground": true,
            "ticks": "",
            "zerolinecolor": "white"
           }
          },
          "shapedefaults": {
           "line": {
            "color": "#2a3f5f"
           }
          },
          "ternary": {
           "aaxis": {
            "gridcolor": "white",
            "linecolor": "white",
            "ticks": ""
           },
           "baxis": {
            "gridcolor": "white",
            "linecolor": "white",
            "ticks": ""
           },
           "bgcolor": "#E5ECF6",
           "caxis": {
            "gridcolor": "white",
            "linecolor": "white",
            "ticks": ""
           }
          },
          "title": {
           "x": 0.05
          },
          "xaxis": {
           "automargin": true,
           "gridcolor": "white",
           "linecolor": "white",
           "ticks": "",
           "title": {
            "standoff": 15
           },
           "zerolinecolor": "white",
           "zerolinewidth": 2
          },
          "yaxis": {
           "automargin": true,
           "gridcolor": "white",
           "linecolor": "white",
           "ticks": "",
           "title": {
            "standoff": 15
           },
           "zerolinecolor": "white",
           "zerolinewidth": 2
          }
         }
        },
        "title": {
         "text": "Population of each cities"
        },
        "width": 1400
       }
      },
      "image/png": "[encoded data removed]",
      "text/html": [
       "<div>                            <div id=\"80b702e5-ab3f-457b-9a8e-49bfcf7db84a\" class=\"plotly-graph-div\" style=\"height:400px; width:1400px;\"></div>            <script type=\"text/javascript\">                require([\"plotly\"], function(Plotly) {                    window.PLOTLYENV=window.PLOTLYENV || {};                                    if (document.getElementById(\"80b702e5-ab3f-457b-9a8e-49bfcf7db84a\")) {                    Plotly.newPlot(                        \"80b702e5-ab3f-457b-9a8e-49bfcf7db84a\",                        [{\"customdata\":[[12000.0,\"Google\"],[11000.0,\"Meta\"],[10000.0,\"Amazon\"],[10000.0,\"Microsoft\"],[8000.0,\"Amazon\"],[8000.0,\"Salesforce\"],[6650.0,\"Dell\"],[6000.0,\"Philips\"],[4375.0,\"Booking.com\"],[4100.0,\"Cisco\"]],\"hovertemplate\":\"<b>%{hovertext}</b><br><br>Laid_Off_Count=%{marker.color}<br>latitude=%{lat}<br>longitude=%{lon}<br>Company=%{customdata[1]}<extra></extra>\",\"hovertext\":[\"SF Bay Area\",\"SF Bay Area\",\"Seattle\",\"Seattle\",\"Seattle\",\"SF Bay Area\",\"Austin\",\"Amsterdam\",\"Amsterdam\",\"SF Bay Area\"],\"lat\":[37.7884969,37.7884969,47.6038321,47.6038321,47.6038321,37.7884969,30.2711286,52.3730796,52.3730796,37.7884969],\"legendgroup\":\"\",\"lon\":[-122.3558473,-122.3558473,-122.330062,-122.330062,-122.330062,-122.3558473,-97.7436995,4.8924534,4.8924534,-122.3558473],\"marker\":{\"color\":[12000.0,11000.0,10000.0,10000.0,8000.0,8000.0,6650.0,6000.0,4375.0,4100.0],\"coloraxis\":\"coloraxis\",\"opacity\":0.4,\"size\":[12000.0,11000.0,10000.0,10000.0,8000.0,8000.0,6650.0,6000.0,4375.0,4100.0],\"sizemode\":\"area\",\"sizeref\":4.8},\"mode\":\"markers\",\"name\":\"\",\"showlegend\":false,\"subplot\":\"mapbox\",\"type\":\"scattermapbox\"}],                        {\"template\":{\"data\":{\"histogram2dcontour\":[{\"type\":\"histogram2dcontour\",\"colorbar\":{\"outlinewidth\":0,\"ticks\":\"\"},\"colorscale\":[[0.0,\"#0d0887\"],[0.1111111111111111,\"#46039f\"],[0.2222222222222222,\"#7201a8\"],[0.3333333333333333,\"#9c179e\"],[0.4444444444444444,\"#bd3786\"],[0.5555555555555556,\"#d8576b\"],[0.6666666666666666,\"#ed7953\"],[0.7777777777777778,\"#fb9f3a\"],[0.8888888888888888,\"#fdca26\"],[1.0,\"#f0f921\"]]}],\"choropleth\":[{\"type\":\"choropleth\",\"colorbar\":{\"outlinewidth\":0,\"ticks\":\"\"}}],\"histogram2d\":[{\"type\":\"histogram2d\",\"colorbar\":{\"outlinewidth\":0,\"ticks\":\"\"},\"colorscale\":[[0.0,\"#0d0887\"],[0.1111111111111111,\"#46039f\"],[0.2222222222222222,\"#7201a8\"],[0.3333333333333333,\"#9c179e\"],[0.4444444444444444,\"#bd3786\"],[0.5555555555555556,\"#d8576b\"],[0.6666666666666666,\"#ed7953\"],[0.7777777777777778,\"#fb9f3a\"],[0.8888888888888888,\"#fdca26\"],[1.0,\"#f0f921\"]]}],\"heatmap\":[{\"type\":\"heatmap\",\"colorbar\":{\"outlinewidth\":0,\"ticks\":\"\"},\"colorscale\":[[0.0,\"#0d0887\"],[0.1111111111111111,\"#46039f\"],[0.2222222222222222,\"#7201a8\"],[0.3333333333333333,\"#9c179e\"],[0.4444444444444444,\"#bd3786\"],[0.5555555555555556,\"#d8576b\"],[0.6666666666666666,\"#ed7953\"],[0.7777777777777778,\"#fb9f3a\"],[0.8888888888888888,\"#fdca26\"],[1.0,\"#f0f921\"]]}],\"heatmapgl\":[{\"type\":\"heatmapgl\",\"colorbar\":{\"outlinewidth\":0,\"ticks\":\"\"},\"colorscale\":[[0.0,\"#0d0887\"],[0.1111111111111111,\"#46039f\"],[0.2222222222222222,\"#7201a8\"],[0.3333333333333333,\"#9c179e\"],[0.4444444444444444,\"#bd3786\"],[0.5555555555555556,\"#d8576b\"],[0.6666666666666666,\"#ed7953\"],[0.7777777777777778,\"#fb9f3a\"],[0.8888888888888888,\"#fdca26\"],[1.0,\"#f0f921\"]]}],\"contourcarpet\":[{\"type\":\"contourcarpet\",\"colorbar\":{\"outlinewidth\":0,\"ticks\":\"\"}}],\"contour\":[{\"type\":\"contour\",\"colorbar\":{\"outlinewidth\":0,\"ticks\":\"\"},\"colorscale\":[[0.0,\"#0d0887\"],[0.1111111111111111,\"#46039f\"],[0.2222222222222222,\"#7201a8\"],[0.3333333333333333,\"#9c179e\"],[0.4444444444444444,\"#bd3786\"],[0.5555555555555556,\"#d8576b\"],[0.6666666666666666,\"#ed7953\"],[0.7777777777777778,\"#fb9f3a\"],[0.8888888888888888,\"#fdca26\"],[1.0,\"#f0f921\"]]}],\"surface\":[{\"type\":\"surface\",\"colorbar\":{\"outlinewidth\":0,\"ticks\":\"\"},\"colorscale\":[[0.0,\"#0d0887\"],[0.1111111111111111,\"#46039f\"],[0.2222222222222222,\"#7201a8\"],[0.3333333333333333,\"#9c179e\"],[0.4444444444444444,\"#bd3786\"],[0.5555555555555556,\"#d8576b\"],[0.6666666666666666,\"#ed7953\"],[0.7777777777777778,\"#fb9f3a\"],[0.8888888888888888,\"#fdca26\"],[1.0,\"#f0f921\"]]}],\"mesh3d\":[{\"type\":\"mesh3d\",\"colorbar\":{\"outlinewidth\":0,\"ticks\":\"\"}}],\"scatter\":[{\"fillpattern\":{\"fillmode\":\"overlay\",\"size\":10,\"solidity\":0.2},\"type\":\"scatter\"}],\"parcoords\":[{\"type\":\"parcoords\",\"line\":{\"colorbar\":{\"outlinewidth\":0,\"ticks\":\"\"}}}],\"scatterpolargl\":[{\"type\":\"scatterpolargl\",\"marker\":{\"colorbar\":{\"outlinewidth\":0,\"ticks\":\"\"}}}],\"bar\":[{\"error_x\":{\"color\":\"#2a3f5f\"},\"error_y\":{\"color\":\"#2a3f5f\"},\"marker\":{\"line\":{\"color\":\"#E5ECF6\",\"width\":0.5},\"pattern\":{\"fillmode\":\"overlay\",\"size\":10,\"solidity\":0.2}},\"type\":\"bar\"}],\"scattergeo\":[{\"type\":\"scattergeo\",\"marker\":{\"colorbar\":{\"outlinewidth\":0,\"ticks\":\"\"}}}],\"scatterpolar\":[{\"type\":\"scatterpolar\",\"marker\":{\"colorbar\":{\"outlinewidth\":0,\"ticks\":\"\"}}}],\"histogram\":[{\"marker\":{\"pattern\":{\"fillmode\":\"overlay\",\"size\":10,\"solidity\":0.2}},\"type\":\"histogram\"}],\"scattergl\":[{\"type\":\"scattergl\",\"marker\":{\"colorbar\":{\"outlinewidth\":0,\"ticks\":\"\"}}}],\"scatter3d\":[{\"type\":\"scatter3d\",\"line\":{\"colorbar\":{\"outlinewidth\":0,\"ticks\":\"\"}},\"marker\":{\"colorbar\":{\"outlinewidth\":0,\"ticks\":\"\"}}}],\"scattermapbox\":[{\"type\":\"scattermapbox\",\"marker\":{\"colorbar\":{\"outlinewidth\":0,\"ticks\":\"\"}}}],\"scatterternary\":[{\"type\":\"scatterternary\",\"marker\":{\"colorbar\":{\"outlinewidth\":0,\"ticks\":\"\"}}}],\"scattercarpet\":[{\"type\":\"scattercarpet\",\"marker\":{\"colorbar\":{\"outlinewidth\":0,\"ticks\":\"\"}}}],\"carpet\":[{\"aaxis\":{\"endlinecolor\":\"#2a3f5f\",\"gridcolor\":\"white\",\"linecolor\":\"white\",\"minorgridcolor\":\"white\",\"startlinecolor\":\"#2a3f5f\"},\"baxis\":{\"endlinecolor\":\"#2a3f5f\",\"gridcolor\":\"white\",\"linecolor\":\"white\",\"minorgridcolor\":\"white\",\"startlinecolor\":\"#2a3f5f\"},\"type\":\"carpet\"}],\"table\":[{\"cells\":{\"fill\":{\"color\":\"#EBF0F8\"},\"line\":{\"color\":\"white\"}},\"header\":{\"fill\":{\"color\":\"#C8D4E3\"},\"line\":{\"color\":\"white\"}},\"type\":\"table\"}],\"barpolar\":[{\"marker\":{\"line\":{\"color\":\"#E5ECF6\",\"width\":0.5},\"pattern\":{\"fillmode\":\"overlay\",\"size\":10,\"solidity\":0.2}},\"type\":\"barpolar\"}],\"pie\":[{\"automargin\":true,\"type\":\"pie\"}]},\"layout\":{\"autotypenumbers\":\"strict\",\"colorway\":[\"#636efa\",\"#EF553B\",\"#00cc96\",\"#ab63fa\",\"#FFA15A\",\"#19d3f3\",\"#FF6692\",\"#B6E880\",\"#FF97FF\",\"#FECB52\"],\"font\":{\"color\":\"#2a3f5f\"},\"hovermode\":\"closest\",\"hoverlabel\":{\"align\":\"left\"},\"paper_bgcolor\":\"white\",\"plot_bgcolor\":\"#E5ECF6\",\"polar\":{\"bgcolor\":\"#E5ECF6\",\"angularaxis\":{\"gridcolor\":\"white\",\"linecolor\":\"white\",\"ticks\":\"\"},\"radialaxis\":{\"gridcolor\":\"white\",\"linecolor\":\"white\",\"ticks\":\"\"}},\"ternary\":{\"bgcolor\":\"#E5ECF6\",\"aaxis\":{\"gridcolor\":\"white\",\"linecolor\":\"white\",\"ticks\":\"\"},\"baxis\":{\"gridcolor\":\"white\",\"linecolor\":\"white\",\"ticks\":\"\"},\"caxis\":{\"gridcolor\":\"white\",\"linecolor\":\"white\",\"ticks\":\"\"}},\"coloraxis\":{\"colorbar\":{\"outlinewidth\":0,\"ticks\":\"\"}},\"colorscale\":{\"sequential\":[[0.0,\"#0d0887\"],[0.1111111111111111,\"#46039f\"],[0.2222222222222222,\"#7201a8\"],[0.3333333333333333,\"#9c179e\"],[0.4444444444444444,\"#bd3786\"],[0.5555555555555556,\"#d8576b\"],[0.6666666666666666,\"#ed7953\"],[0.7777777777777778,\"#fb9f3a\"],[0.8888888888888888,\"#fdca26\"],[1.0,\"#f0f921\"]],\"sequentialminus\":[[0.0,\"#0d0887\"],[0.1111111111111111,\"#46039f\"],[0.2222222222222222,\"#7201a8\"],[0.3333333333333333,\"#9c179e\"],[0.4444444444444444,\"#bd3786\"],[0.5555555555555556,\"#d8576b\"],[0.6666666666666666,\"#ed7953\"],[0.7777777777777778,\"#fb9f3a\"],[0.8888888888888888,\"#fdca26\"],[1.0,\"#f0f921\"]],\"diverging\":[[0,\"#8e0152\"],[0.1,\"#c51b7d\"],[0.2,\"#de77ae\"],[0.3,\"#f1b6da\"],[0.4,\"#fde0ef\"],[0.5,\"#f7f7f7\"],[0.6,\"#e6f5d0\"],[0.7,\"#b8e186\"],[0.8,\"#7fbc41\"],[0.9,\"#4d9221\"],[1,\"#276419\"]]},\"xaxis\":{\"gridcolor\":\"white\",\"linecolor\":\"white\",\"ticks\":\"\",\"title\":{\"standoff\":15},\"zerolinecolor\":\"white\",\"automargin\":true,\"zerolinewidth\":2},\"yaxis\":{\"gridcolor\":\"white\",\"linecolor\":\"white\",\"ticks\":\"\",\"title\":{\"standoff\":15},\"zerolinecolor\":\"white\",\"automargin\":true,\"zerolinewidth\":2},\"scene\":{\"xaxis\":{\"backgroundcolor\":\"#E5ECF6\",\"gridcolor\":\"white\",\"linecolor\":\"white\",\"showbackground\":true,\"ticks\":\"\",\"zerolinecolor\":\"white\",\"gridwidth\":2},\"yaxis\":{\"backgroundcolor\":\"#E5ECF6\",\"gridcolor\":\"white\",\"linecolor\":\"white\",\"showbackground\":true,\"ticks\":\"\",\"zerolinecolor\":\"white\",\"gridwidth\":2},\"zaxis\":{\"backgroundcolor\":\"#E5ECF6\",\"gridcolor\":\"white\",\"linecolor\":\"white\",\"showbackground\":true,\"ticks\":\"\",\"zerolinecolor\":\"white\",\"gridwidth\":2}},\"shapedefaults\":{\"line\":{\"color\":\"#2a3f5f\"}},\"annotationdefaults\":{\"arrowcolor\":\"#2a3f5f\",\"arrowhead\":0,\"arrowwidth\":1},\"geo\":{\"bgcolor\":\"white\",\"landcolor\":\"#E5ECF6\",\"subunitcolor\":\"white\",\"showland\":true,\"showlakes\":true,\"lakecolor\":\"white\"},\"title\":{\"x\":0.05},\"mapbox\":{\"style\":\"light\"}}},\"mapbox\":{\"domain\":{\"x\":[0.0,1.0],\"y\":[0.0,1.0]},\"center\":{\"lat\":10,\"lon\":30},\"zoom\":1,\"style\":\"carto-positron\"},\"coloraxis\":{\"colorbar\":{\"title\":{\"text\":\"Laid_Off_Count\"}},\"colorscale\":[[0.0,\"#00224e\"],[0.1111111111111111,\"#123570\"],[0.2222222222222222,\"#3b496c\"],[0.3333333333333333,\"#575d6d\"],[0.4444444444444444,\"#707173\"],[0.5555555555555556,\"#8a8678\"],[0.6666666666666666,\"#a59c74\"],[0.7777777777777778,\"#c3b369\"],[0.8888888888888888,\"#e1cc55\"],[1.0,\"#fee838\"]]},\"legend\":{\"tracegroupgap\":0,\"itemsizing\":\"constant\"},\"margin\":{\"t\":0,\"r\":0,\"l\":0,\"b\":0},\"height\":400,\"width\":1400,\"title\":{\"text\":\"Population of each cities\"}},                        {\"responsive\": true}                    ).then(function(){\n",
       "                            \n",
       "var gd = document.getElementById('80b702e5-ab3f-457b-9a8e-49bfcf7db84a');\n",
       "var x = new MutationObserver(function (mutations, observer) {{\n",
       "        var display = window.getComputedStyle(gd).display;\n",
       "        if (!display || display === 'none') {{\n",
       "            console.log([gd, 'removed!']);\n",
       "            Plotly.purge(gd);\n",
       "            observer.disconnect();\n",
       "        }}\n",
       "}});\n",
       "\n",
       "// Listen for the removal of the full notebook cells\n",
       "var notebookContainer = gd.closest('#notebook-container');\n",
       "if (notebookContainer) {{\n",
       "    x.observe(notebookContainer, {childList: true});\n",
       "}}\n",
       "\n",
       "// Listen for the clearing of the current output cell\n",
       "var outputEl = gd.closest('.output');\n",
       "if (outputEl) {{\n",
       "    x.observe(outputEl, {childList: true});\n",
       "}}\n",
       "\n",
       "                        })                };                });            </script>        </div>"
      ]
     },
     "metadata": {},
     "output_type": "display_data"
    }
   ],
   "source": [
    "top10_comp_fig = px.scatter_mapbox(top10_comp,lat='latitude',lon='longitude', hover_name='Location_HQ', hover_data=['Laid_Off_Count', \"Company\"], \n",
    "    color='Laid_Off_Count',color_continuous_scale=px.colors.sequential.Cividis,\n",
    "    size=\"Laid_Off_Count\", size_max=50, opacity=0.4,\n",
    "    center={'lat':10, 'lon':30},\n",
    "    zoom=1,\n",
    "    height=400,width=1400,\n",
    "    mapbox_style=\"carto-positron\")\n",
    "top10_comp_fig.update_layout(margin={\"r\": 0, \"t\": 0, \"l\": 0, \"b\": 0})\n",
    "top10_comp_fig.update_layout(title_text=\"Population of each cities\")\n",
    "top10_comp_fig.show()"
   ]
  },
  {
   "cell_type": "markdown",
   "id": "075e49bf",
   "metadata": {
    "papermill": {
     "duration": 0.026045,
     "end_time": "2023-02-01T19:24:19.747788",
     "exception": false,
     "start_time": "2023-02-01T19:24:19.721743",
     "status": "completed"
    },
    "tags": []
   },
   "source": [
    "<a id=\"v6\"></a>\n",
    "<h5 style=\"background-color:#efefef; margin-bottom:0px;padding:10px; color:#000\">6.6.2c Visualize the Top10 Layoff Companies <strong>Funds Raised</strong></h5>"
   ]
  },
  {
   "cell_type": "code",
   "execution_count": 160,
   "id": "776c5e8e",
   "metadata": {
    "papermill": {
     "duration": 0.482229,
     "end_time": "2023-02-01T19:24:20.256158",
     "exception": false,
     "start_time": "2023-02-01T19:24:19.773929",
     "status": "completed"
    },
    "tags": []
   },
   "outputs": [
    {
     "data": {
      "image/png": "[encoded data removed]",
      "text/plain": [
       "<Figure size 1800x504 with 1 Axes>"
      ]
     },
     "metadata": {
      "needs_background": "light"
     },
     "output_type": "display_data"
    }
   ],
   "source": [
    "plt.figure(figsize=(25,7))\n",
    "\n",
    "sns.barplot(data=top10_comp, y=top10_comp['Company'], x=top10_comp['Funds_Raised'].astype(str).astype(float), palette=palette)\n",
    "plt.ylabel('Company'), plt.xlabel('Fund Raised')\n",
    "plt.xticks(rotation=40, fontsize=12), plt.yticks(rotation=40, fontsize=12)\n",
    "plt.title(\"\\nFund Raised in Top10\\n\", fontsize=18)\n",
    "\n",
    "plt.show()"
   ]
  },
  {
   "cell_type": "markdown",
   "id": "4e5cda41",
   "metadata": {
    "papermill": {
     "duration": 0.025547,
     "end_time": "2023-02-01T19:24:20.314313",
     "exception": false,
     "start_time": "2023-02-01T19:24:20.288766",
     "status": "completed"
    },
    "tags": []
   },
   "source": [
    "<br><br><br>\n",
    "<a id=\"conclusion\"></a>\n",
    "<div style=\"background:#4AD3FF; color:#000; padding: 20px; text-align:center\">Thankyou! For viewing this Notebook, do upvote if you liked it. Please feel free to provide any feedback!… 😄</div>"
   ]
  }
 ],
 "metadata": {
  "kernelspec": {
   "display_name": "Python 3 (ipykernel)",
   "language": "python",
   "name": "python3"
  },
  "language_info": {
   "codemirror_mode": {
    "name": "ipython",
    "version": 3
   },
   "file_extension": ".py",
   "mimetype": "text/x-python",
   "name": "python",
   "nbconvert_exporter": "python",
   "pygments_lexer": "ipython3",
   "version": "3.10.4"
  },
  "papermill": {
   "default_parameters": {},
   "duration": 22.449522,
   "end_time": "2023-02-01T19:24:21.830978",
   "environment_variables": {},
   "exception": null,
   "input_path": "__notebook__.ipynb",
   "output_path": "__notebook__.ipynb",
   "parameters": {},
   "start_time": "2023-02-01T19:23:59.381456",
   "version": "2.3.4"
  },
  "vscode": {
   "interpreter": {
    "hash": "26de051ba29f2982a8de78e945f0abaf191376122a1563185a90213a26c5da77"
   }
  },
  "widgets": {
   "application/vnd.jupyter.widget-state+json": {
    "state": {
     "51bc00d1e7f04e228ad300b9e45b3529": {
      "model_module": "@jupyter-widgets/base",
      "model_module_version": "1.2.0",
      "model_name": "LayoutModel",
      "state": {}
     },
     "8d66dabb8a414ea19a5dd6b50b6bf664": {
      "model_module": "keplergl-jupyter",
      "model_module_version": "^0.3.2",
      "model_name": "KeplerGlModal",
      "state": {
       "_model_module_version": "^0.3.2",
       "_view_module_version": "^0.3.2",
       "config": {
        "config": {
         "mapState": {
          "bearing": 0,
          "dragRotate": false,
          "isSplit": false,
          "latitude": 36.5978891330702,
          "longitude": -13.594249412842869,
          "pitch": 0,
          "zoom": 0
         },
         "mapStyle": {
          "mapStyles": {},
          "styleType": "light",
          "threeDBuildingColor": [
           9.665468314072013,
           17.18305478057247,
           31.1442867897876
          ],
          "topLayerGroups": {},
          "visibleLayerGroups": {
           "3d building": false,
           "border": true,
           "building": true,
           "label": false,
           "land": true,
           "road": true,
           "water": true
          }
         },
         "visState": {
          "animationConfig": {
           "currentTime": null,
           "speed": 1
          },
          "filters": [],
          "interactionConfig": {
           "brush": {
            "enabled": false,
            "size": 0.5
           },
           "coordinate": {
            "enabled": false
           },
           "geocoder": {
            "enabled": false
           },
           "tooltip": {
            "compareMode": false,
            "compareType": "absolute",
            "enabled": true,
            "fieldsToShow": {
             "layoff": [
              {
               "format": null,
               "name": "Company"
              },
              {
               "format": null,
               "name": "Industry"
              },
              {
               "format": null,
               "name": "Laid_Off_Count"
              },
              {
               "format": null,
               "name": "Percentage"
              }
             ]
            }
           }
          },
          "layerBlending": "normal",
          "layers": [
           {
            "config": {
             "color": [
              77,
              193,
              156
             ],
             "columns": {
              "lat": "latitude",
              "lng": "longitude"
             },
             "dataId": "layoff",
             "hidden": false,
             "highlightColor": [
              252,
              242,
              26,
              255
             ],
             "isVisible": true,
             "label": "Point",
             "textLabel": [],
             "visConfig": {
              "clusterRadius": 1,
              "colorAggregation": "maximum",
              "colorRange": {
               "category": "ColorBrewer",
               "colors": [
                "#fee5d9",
                "#fcbba1",
                "#fc9272",
                "#fb6a4a",
                "#de2d26",
                "#a50f15"
               ],
               "name": "ColorBrewer Reds-6",
               "type": "singlehue"
              },
              "opacity": 0.23,
              "radiusRange": [
               1,
               17.1
              ]
             }
            },
            "id": "98ws6m",
            "type": "cluster",
            "visualChannels": {
             "colorField": {
              "name": "Laid_Off_Count",
              "type": "integer"
             },
             "colorScale": "quantile"
            }
           }
          ],
          "splitMaps": []
         }
        },
        "version": "v1"
       },
       "data": {
        "layoff": {
         "columns": [
          "Company",
          "Location_HQ",
          "Industry",
          "Laid_Off_Count",
          "Percentage",
          "Date",
          "Funds_Raised",
          "Stage",
          "Country",
          "year_of_laidOff",
          "latitude",
          "longitude"
         ],
         "data": [
          [
           "Openpay",
           "Melbourne",
           "Finance",
           83,
           1,
           "2023-02-07 00:00:00",
           299,
           "Post-IPO",
           "Australia",
           "2023",
           -37.8142176,
           144.9631608
          ],
          [
           "Britishvolt",
           "London",
           "Transportation",
           206,
           1,
           "2023-01-17 00:00:00",
           2400,
           "Unknown",
           "United Kingdom",
           "2023",
           51.5073359,
           -0.12765
          ],
          [
           "Deliveroo Australia",
           "Melbourne",
           "Food",
           120,
           1,
           "2022-11-15 00:00:00",
           1700,
           "Post-IPO",
           "Australia",
           "2022",
           -37.8142176,
           144.9631608
          ],
          [
           "Planetly",
           "Berlin",
           "Other",
           200,
           1,
           "2022-11-04 00:00:00",
           5,
           "Acquired",
           "Germany",
           "2022",
           52.5170365,
           13.3888599
          ],
          [
           "Fifth Season",
           "Pittsburgh",
           "Food",
           100,
           1,
           "2022-10-28 00:00:00",
           35,
           "Series B",
           "United States",
           "2022",
           40.4416941,
           -79.9900861
          ],
          [
           "Playdots",
           "New York City",
           "Consumer",
           65,
           1,
           "2022-10-13 00:00:00",
           10,
           "Acquired",
           "United States",
           "2022",
           40.7127281,
           -74.0060152
          ],
          [
           "Kitty Hawk",
           "SF Bay Area",
           "Aerospace",
           100,
           1,
           "2022-09-21 00:00:00",
           1,
           "Unknown",
           "United States",
           "2022",
           37.7884969,
           -122.3558473
          ],
          [
           "Simple Feast",
           "Copenhagen",
           "Food",
           150,
           1,
           "2022-09-07 00:00:00",
           173,
           "Unknown",
           "Denmark",
           "2022",
           55.6867243,
           12.5700724
          ],
          [
           "Reali",
           "SF Bay Area",
           "Real Estate",
           140,
           1,
           "2022-08-24 00:00:00",
           117,
           "Series B",
           "United States",
           "2022",
           37.7884969,
           -122.3558473
          ],
          [
           "Metigy",
           "Sydney",
           "Marketing",
           75,
           1,
           "2022-07-31 00:00:00",
           18,
           "Series B",
           "Australia",
           "2022",
           -33.8698439,
           151.2082848
          ],
          [
           "Soluto",
           "Tel Aviv",
           "Support",
           120,
           1,
           "2022-07-24 00:00:00",
           18,
           "Acquired",
           "Israel",
           "2022",
           32.0852997,
           34.7818064
          ],
          [
           "Butler Hospitality",
           "New York City",
           "Food",
           1000,
           1,
           "2022-07-08 00:00:00",
           50,
           "Series B",
           "United States",
           "2022",
           40.7127281,
           -74.0060152
          ],
          [
           "WanderJaunt",
           "SF Bay Area",
           "Travel",
           85,
           1,
           "2022-07-01 00:00:00",
           26,
           "Series B",
           "United States",
           "2022",
           37.7884969,
           -122.3558473
          ],
          [
           "Crejo.Fun",
           "Bengaluru",
           "Education",
           170,
           1,
           "2022-06-30 00:00:00",
           3,
           "Seed",
           "India",
           "2022",
           12.9767936,
           77.590082
          ],
          [
           "SummerBio",
           "SF Bay Area",
           "Healthcare",
           101,
           1,
           "2022-06-20 00:00:00",
           7,
           "Unknown",
           "United States",
           "2022",
           37.7884969,
           -122.3558473
          ],
          [
           "The Grommet",
           "Boston",
           "Retail",
           40,
           1,
           "2022-06-09 00:00:00",
           5,
           "Acquired",
           "United States",
           "2022",
           42.3554334,
           -71.060511
          ],
          [
           "Udayy",
           "Gurugram",
           "Education",
           100,
           1,
           "2022-06-01 00:00:00",
           2,
           "Seed",
           "India",
           "2022",
           28.4646148,
           77.0299194
          ],
          [
           "BeyondMinds",
           "Tel Aviv",
           "Data",
           65,
           1,
           "2022-05-23 00:00:00",
           16,
           "Series A",
           "Israel",
           "2022",
           32.0852997,
           34.7818064
          ],
          [
           "SEND",
           "Sydney",
           "Food",
           300,
           1,
           "2022-05-04 00:00:00",
           3,
           "Seed",
           "Australia",
           "2022",
           -33.8698439,
           151.2082848
          ],
          [
           "Ahead",
           "SF Bay Area",
           "Healthcare",
           44,
           1,
           "2022-04-14 00:00:00",
           9,
           "Unknown",
           "United States",
           "2022",
           37.7884969,
           -122.3558473
          ],
          [
           "Katerra",
           "SF Bay Area",
           "Construction",
           2434,
           1,
           "2021-06-01 00:00:00",
           1600,
           "Unknown",
           "United States",
           "2021",
           37.7884969,
           -122.3558473
          ],
          [
           "Hubba",
           "Toronto",
           "Retail",
           45,
           1,
           "2021-02-01 00:00:00",
           61,
           "Series B",
           "Canada",
           "2021",
           43.6534817,
           -79.3839347
          ],
          [
           "Pocketmath",
           "Singapore",
           "Marketing",
           21,
           1,
           "2021-01-20 00:00:00",
           20,
           "Unknown",
           "Singapore",
           "2021",
           1.357107,
           103.8194992
          ],
          [
           "Bridge Connector",
           "Nashville",
           "Healthcare",
           154,
           1,
           "2020-11-17 00:00:00",
           45,
           "Series B",
           "United States",
           "2020",
           36.1622767,
           -86.7742984
          ],
          [
           "Eatsy",
           "Singapore",
           "Food",
           20,
           1,
           "2020-08-08 00:00:00",
           0.9755,
           "Seed",
           "Singapore",
           "2020",
           1.357107,
           103.8194992
          ],
          [
           "Buy.com / Rakuten",
           "SF Bay Area",
           "Retail",
           87,
           1,
           "2020-07-30 00:00:00",
           42.4,
           "Acquired",
           "United States",
           "2020",
           37.7884969,
           -122.3558473
          ],
          [
           "Dark",
           "SF Bay Area",
           "Product",
           6,
           1,
           "2020-06-23 00:00:00",
           3,
           "Seed",
           "United States",
           "2020",
           37.7884969,
           -122.3558473
          ],
          [
           "Bluprint",
           "Denver",
           "Education",
           137,
           1,
           "2020-05-26 00:00:00",
           108,
           "Acquired",
           "United States",
           "2020",
           39.7392364,
           -104.984862
          ],
          [
           "Stay Alfred",
           "Spokane",
           "Travel",
           221,
           1,
           "2020-05-20 00:00:00",
           62,
           "Series B",
           "United States",
           "2020",
           47.6571934,
           -117.42351
          ],
          [
           "Deliv",
           "SF Bay Area",
           "Retail",
           669,
           1,
           "2020-05-13 00:00:00",
           80,
           "Series C",
           "United States",
           "2020",
           37.7884969,
           -122.3558473
          ],
          [
           "Jump",
           "New York City",
           "Transportation",
           500,
           1,
           "2020-05-07 00:00:00",
           11,
           "Acquired",
           "United States",
           "2020",
           40.7127281,
           -74.0060152
          ],
          [
           "TutorMundi",
           "Sao Paulo",
           "Education",
           4,
           1,
           "2020-04-24 00:00:00",
           2,
           "Series A",
           "Brazil",
           "2020",
           -23.5506507,
           -46.6333824
          ],
          [
           "Atsu",
           "Seattle",
           "Infrastructure",
           6,
           1,
           "2020-04-10 00:00:00",
           1,
           "Unknown",
           "United States",
           "2020",
           47.6038321,
           -122.330062
          ],
          [
           "Amplero",
           "Seattle",
           "Marketing",
           17,
           1,
           "2020-03-29 00:00:00",
           25,
           "Series B",
           "United States",
           "2020",
           47.6038321,
           -122.330062
          ],
          [
           "HOOQ",
           "Singapore",
           "Consumer",
           250,
           1,
           "2020-03-27 00:00:00",
           95,
           "Unknown",
           "Singapore",
           "2020",
           1.357107,
           103.8194992
          ],
          [
           "Consider.co",
           "SF Bay Area",
           "Other",
           13,
           1,
           "2020-03-26 00:00:00",
           5,
           "Seed",
           "United States",
           "2020",
           37.7884969,
           -122.3558473
          ],
          [
           "Help.com",
           "Austin",
           "Support",
           16,
           1,
           "2020-03-16 00:00:00",
           6,
           "Seed",
           "United States",
           "2020",
           30.2711286,
           -97.7436995
          ]
         ],
         "index": [
          49,
          240,
          598,
          682,
          729,
          786,
          850,
          900,
          949,
          1079,
          1117,
          1201,
          1234,
          1240,
          1321,
          1378,
          1426,
          1469,
          1502,
          1528,
          1589,
          1606,
          1612,
          1624,
          1670,
          1676,
          1717,
          1761,
          1771,
          1799,
          1817,
          1895,
          1990,
          2160,
          2167,
          2195,
          2245
         ]
        }
       },
       "height": 400,
       "layout": "IPY_MODEL_51bc00d1e7f04e228ad300b9e45b3529",
       "value": "Hello World!"
      }
     }
    },
    "version_major": 2,
    "version_minor": 0
   }
  }
 },
 "nbformat": 4,
 "nbformat_minor": 5
}

{
 "cells": [
  {
   "cell_type": "code",
   "execution_count": 1,
   "id": "f8128d40-a31d-4af6-a20b-bd22c198e4da",
   "metadata": {},
   "outputs": [],
   "source": [
    "import numpy as np\n",
    "import pandas as pd\n",
    "\n",
    "import matplotlib.pyplot as plt\n",
    "import seaborn as sns\n",
    "\n",
    "plt.style.use(\"dark_background\")"
   ]
  },
  {
   "cell_type": "code",
   "execution_count": 2,
   "id": "cffe47f5-6b73-4df6-8cec-3a43d78a8ba2",
   "metadata": {},
   "outputs": [
    {
     "data": {
      "text/html": [
       "<div>\n",
       "<style scoped>\n",
       "    .dataframe tbody tr th:only-of-type {\n",
       "        vertical-align: middle;\n",
       "    }\n",
       "\n",
       "    .dataframe tbody tr th {\n",
       "        vertical-align: top;\n",
       "    }\n",
       "\n",
       "    .dataframe thead th {\n",
       "        text-align: right;\n",
       "    }\n",
       "</style>\n",
       "<table border=\"1\" class=\"dataframe\">\n",
       "  <thead>\n",
       "    <tr style=\"text-align: right;\">\n",
       "      <th></th>\n",
       "      <th>youtuber</th>\n",
       "      <th>id</th>\n",
       "      <th>uploads</th>\n",
       "      <th>subscribers</th>\n",
       "      <th>video views</th>\n",
       "      <th>country</th>\n",
       "      <th>account created</th>\n",
       "      <th>estimated monthly income</th>\n",
       "    </tr>\n",
       "  </thead>\n",
       "  <tbody>\n",
       "    <tr>\n",
       "      <th>0</th>\n",
       "      <td>3Blue1Brown</td>\n",
       "      <td>@3blue1brown</td>\n",
       "      <td>127</td>\n",
       "      <td>4.91M</td>\n",
       "      <td>316927667</td>\n",
       "      <td>US</td>\n",
       "      <td>Mar 3rd, 2015</td>\n",
       "      <td>$844 - $13.5K</td>\n",
       "    </tr>\n",
       "    <tr>\n",
       "      <th>1</th>\n",
       "      <td>Joma Tech</td>\n",
       "      <td>@jomaoppa</td>\n",
       "      <td>107</td>\n",
       "      <td>2.06M</td>\n",
       "      <td>164892515</td>\n",
       "      <td>US</td>\n",
       "      <td>Aug 31st, 2016</td>\n",
       "      <td>$711 - $11.4K</td>\n",
       "    </tr>\n",
       "    <tr>\n",
       "      <th>2</th>\n",
       "      <td>The Coding Train</td>\n",
       "      <td>@thecodingtrain</td>\n",
       "      <td>1210</td>\n",
       "      <td>1.54M</td>\n",
       "      <td>110960063</td>\n",
       "      <td>US</td>\n",
       "      <td>Jul 3rd, 2006</td>\n",
       "      <td>$229 - $3.7K</td>\n",
       "    </tr>\n",
       "    <tr>\n",
       "      <th>3</th>\n",
       "      <td>sentdex</td>\n",
       "      <td>@sentdex</td>\n",
       "      <td>1233</td>\n",
       "      <td>1.2M</td>\n",
       "      <td>107212166</td>\n",
       "      <td>US</td>\n",
       "      <td>Dec 16th, 2012</td>\n",
       "      <td>$214 - $3.4K</td>\n",
       "    </tr>\n",
       "    <tr>\n",
       "      <th>4</th>\n",
       "      <td>Tech With Tim</td>\n",
       "      <td>@techwithtim</td>\n",
       "      <td>772</td>\n",
       "      <td>1.14M</td>\n",
       "      <td>102224704</td>\n",
       "      <td>CA</td>\n",
       "      <td>Apr 23rd, 2014</td>\n",
       "      <td>$516 - $8.3K</td>\n",
       "    </tr>\n",
       "  </tbody>\n",
       "</table>\n",
       "</div>"
      ],
      "text/plain": [
       "           youtuber               id  uploads subscribers  video views  \\\n",
       "0       3Blue1Brown     @3blue1brown      127       4.91M    316927667   \n",
       "1         Joma Tech        @jomaoppa      107       2.06M    164892515   \n",
       "2  The Coding Train  @thecodingtrain     1210       1.54M    110960063   \n",
       "3           sentdex         @sentdex     1233        1.2M    107212166   \n",
       "4     Tech With Tim     @techwithtim      772       1.14M    102224704   \n",
       "\n",
       "  country account created estimated monthly income  \n",
       "0      US   Mar 3rd, 2015            $844 - $13.5K  \n",
       "1      US  Aug 31st, 2016            $711 - $11.4K  \n",
       "2      US   Jul 3rd, 2006             $229 - $3.7K  \n",
       "3      US  Dec 16th, 2012             $214 - $3.4K  \n",
       "4      CA  Apr 23rd, 2014             $516 - $8.3K  "
      ]
     },
     "execution_count": 2,
     "metadata": {},
     "output_type": "execute_result"
    }
   ],
   "source": [
    "df = pd.read_csv(\"YT_ds_channels.csv\")\n",
    "df.head()"
   ]
  },
  {
   "cell_type": "markdown",
   "id": "3cb6603f-7fad-4453-a829-5bb9dc1f8b03",
   "metadata": {
    "tags": []
   },
   "source": [
    "## Data Description\n",
    "\n",
    "\n",
    "1. youtuber – Name of the YouTube channel\n",
    "2. id – Channel ID\n",
    "3. uploads – number of videos uploaded on the channels\n",
    "4. subscribers – of subscribers of the channel\n",
    "5. video views – total count of all videos in the channel\n",
    "6. country - the two-letter country abbreviation\n",
    "7. account created – date of creation of the channel\n",
    "8. estimated monthly income - This is the range of estimated monthly income based on CPM, or cost per mille, and shows how much advertisers pay"
   ]
  },
  {
   "cell_type": "code",
   "execution_count": 3,
   "id": "540dfed5-6b35-487a-b4d6-3c1cdd8a5d65",
   "metadata": {},
   "outputs": [
    {
     "name": "stdout",
     "output_type": "stream",
     "text": [
      "<class 'pandas.core.frame.DataFrame'>\n",
      "RangeIndex: 30 entries, 0 to 29\n",
      "Data columns (total 8 columns):\n",
      " #   Column                    Non-Null Count  Dtype \n",
      "---  ------                    --------------  ----- \n",
      " 0   youtuber                  30 non-null     object\n",
      " 1   id                        30 non-null     object\n",
      " 2   uploads                   30 non-null     int64 \n",
      " 3   subscribers               30 non-null     object\n",
      " 4   video views               30 non-null     int64 \n",
      " 5   country                   30 non-null     object\n",
      " 6   account created           30 non-null     object\n",
      " 7   estimated monthly income  30 non-null     object\n",
      "dtypes: int64(2), object(6)\n",
      "memory usage: 2.0+ KB\n"
     ]
    }
   ],
   "source": [
    "df.info()"
   ]
  },
  {
   "cell_type": "markdown",
   "id": "6a4090c6-e5e8-4b5a-b808-2dc5a1795dd2",
   "metadata": {
    "tags": []
   },
   "source": [
    "## Data Cleaning"
   ]
  },
  {
   "cell_type": "markdown",
   "id": "1390936e-aa85-4752-bd8e-7edfa80c4733",
   "metadata": {
    "tags": []
   },
   "source": [
    "### Lets start with ***subscribers*** coloum"
   ]
  },
  {
   "cell_type": "code",
   "execution_count": 4,
   "id": "ae8e50c8-3f61-47c3-928e-aff221d6cfda",
   "metadata": {
    "scrolled": true,
    "tags": []
   },
   "outputs": [],
   "source": [
    "subs_arr = df[\"subscribers\"]\n",
    "new_subs = []\n",
    "for i in range(len(subs_arr)):\n",
    "    # print(subs_arr[i][-1])\n",
    "    prefix = subs_arr[i][-1]\n",
    "    sub_count = subs_arr[i][:-1]\n",
    "    if prefix == \"M\":\n",
    "        new_subs.append(float(sub_count) * 1000000)\n",
    "    if prefix == \"K\":\n",
    "        new_subs.append(float(sub_count) * 1000)        \n",
    "\n",
    "df_copy = df.copy()\n",
    "df_copy[\"subscribers\"] = new_subs"
   ]
  },
  {
   "cell_type": "markdown",
   "id": "e68408b3-21bb-4728-9ec7-f82ce89cb7f4",
   "metadata": {},
   "source": [
    "### Now, lets the ***year*** in the channel was created"
   ]
  },
  {
   "cell_type": "code",
   "execution_count": 5,
   "id": "a045d136-3ea2-4034-879f-b499f6e9b0db",
   "metadata": {},
   "outputs": [],
   "source": [
    "yrs_arr = df[\"account created\"]\n",
    "new_yrs = []\n",
    "for i in range(len(yrs_arr)):\n",
    "    new_yrs.append(yrs_arr[i].split(\" \", -1)[-1])\n",
    "    # break\n",
    "\n",
    "df_copy[\"year_created\"] = new_yrs"
   ]
  },
  {
   "cell_type": "markdown",
   "id": "609a1b8b-641b-45ab-9848-e16ea15bf78d",
   "metadata": {
    "tags": []
   },
   "source": [
    "### Lets, get some ***min, max, avg. of the monthly income***"
   ]
  },
  {
   "cell_type": "code",
   "execution_count": 6,
   "id": "eb09f1d7-c91a-48de-bbb2-089af6cf8f26",
   "metadata": {},
   "outputs": [],
   "source": [
    "import re\n",
    "\n",
    "income = df[\"estimated monthly income\"]\n",
    "min_income, max_income, avg_income = [],[],[]\n",
    "for i in range(len(income)):\n",
    "    \n",
    "    min_val = float(re.findall(r'\\d+', income[i])[0])\n",
    "    min_income.append(min_val)\n",
    "    \n",
    "    inc1 = income[i].split(\"- \", 1)[-1]\n",
    "    inc1 = inc1[1:]\n",
    "    \n",
    "    if inc1[-1] == \"K\":\n",
    "        max_val = float(inc1[0:-1])*1000\n",
    "        \n",
    "    max_income.append(max_val)\n",
    "\n",
    "    avg_income.append((min_val+max_val)/2)\n",
    "df_copy[\"min_income\"], df_copy[\"max_income\"], df_copy[\"avg_income\"] = min_income, max_income, avg_income"
   ]
  },
  {
   "cell_type": "markdown",
   "id": "317c3361-de70-4436-b803-be34a1ac62fc",
   "metadata": {
    "tags": []
   },
   "source": [
    "### Rename and change the data type of the coloumns"
   ]
  },
  {
   "cell_type": "code",
   "execution_count": 7,
   "id": "3ad11764-1c0a-40e0-8891-d711b34cfbe7",
   "metadata": {},
   "outputs": [],
   "source": [
    "df_copy = df_copy.rename(columns={\"video views\": \"total_veiws\"})\n",
    "\n",
    "df_copy['subscribers'] = df_copy['subscribers'].astype(int)\n",
    "df_copy['min_income'] = df_copy['min_income'].astype(int)\n",
    "df_copy['max_income'] = df_copy['max_income'].astype(int)\n",
    "df_copy['avg_income'] = df_copy['avg_income'].astype(int)"
   ]
  },
  {
   "cell_type": "markdown",
   "id": "7ba21f1c-110e-40b8-aa35-c94fbdc761c2",
   "metadata": {
    "tags": []
   },
   "source": [
    "### Drop the unnecessary coloumns"
   ]
  },
  {
   "cell_type": "code",
   "execution_count": 8,
   "id": "8850eccf-d887-4e02-b9e8-ac33fb02e483",
   "metadata": {},
   "outputs": [],
   "source": [
    "df_copy.drop(['account created', 'estimated monthly income'], axis=1, inplace=True)"
   ]
  },
  {
   "cell_type": "code",
   "execution_count": 9,
   "id": "5211c499-c396-4eb9-b57c-1ff8e585fdbb",
   "metadata": {},
   "outputs": [
    {
     "name": "stdout",
     "output_type": "stream",
     "text": [
      "<class 'pandas.core.frame.DataFrame'>\n",
      "RangeIndex: 30 entries, 0 to 29\n",
      "Data columns (total 10 columns):\n",
      " #   Column        Non-Null Count  Dtype \n",
      "---  ------        --------------  ----- \n",
      " 0   youtuber      30 non-null     object\n",
      " 1   id            30 non-null     object\n",
      " 2   uploads       30 non-null     int64 \n",
      " 3   subscribers   30 non-null     int32 \n",
      " 4   total_veiws   30 non-null     int64 \n",
      " 5   country       30 non-null     object\n",
      " 6   year_created  30 non-null     object\n",
      " 7   min_income    30 non-null     int32 \n",
      " 8   max_income    30 non-null     int32 \n",
      " 9   avg_income    30 non-null     int32 \n",
      "dtypes: int32(4), int64(2), object(4)\n",
      "memory usage: 2.0+ KB\n"
     ]
    }
   ],
   "source": [
    "df_copy.info()"
   ]
  },
  {
   "cell_type": "code",
   "execution_count": 10,
   "id": "30ec84b4-5797-430f-b446-2aa03caebe73",
   "metadata": {},
   "outputs": [
    {
     "data": {
      "text/html": [
       "<div>\n",
       "<style scoped>\n",
       "    .dataframe tbody tr th:only-of-type {\n",
       "        vertical-align: middle;\n",
       "    }\n",
       "\n",
       "    .dataframe tbody tr th {\n",
       "        vertical-align: top;\n",
       "    }\n",
       "\n",
       "    .dataframe thead th {\n",
       "        text-align: right;\n",
       "    }\n",
       "</style>\n",
       "<table border=\"1\" class=\"dataframe\">\n",
       "  <thead>\n",
       "    <tr style=\"text-align: right;\">\n",
       "      <th></th>\n",
       "      <th>uploads</th>\n",
       "      <th>subscribers</th>\n",
       "      <th>total_veiws</th>\n",
       "      <th>min_income</th>\n",
       "      <th>max_income</th>\n",
       "      <th>avg_income</th>\n",
       "    </tr>\n",
       "  </thead>\n",
       "  <tbody>\n",
       "    <tr>\n",
       "      <th>count</th>\n",
       "      <td>30.000000</td>\n",
       "      <td>3.000000e+01</td>\n",
       "      <td>3.000000e+01</td>\n",
       "      <td>30.000000</td>\n",
       "      <td>30.000000</td>\n",
       "      <td>30.000000</td>\n",
       "    </tr>\n",
       "    <tr>\n",
       "      <th>mean</th>\n",
       "      <td>387.633333</td>\n",
       "      <td>5.923737e+05</td>\n",
       "      <td>4.099272e+07</td>\n",
       "      <td>158.866667</td>\n",
       "      <td>3800.000000</td>\n",
       "      <td>1979.233333</td>\n",
       "    </tr>\n",
       "    <tr>\n",
       "      <th>std</th>\n",
       "      <td>403.531094</td>\n",
       "      <td>9.654415e+05</td>\n",
       "      <td>6.722583e+07</td>\n",
       "      <td>212.030696</td>\n",
       "      <td>2816.943807</td>\n",
       "      <td>1505.008436</td>\n",
       "    </tr>\n",
       "    <tr>\n",
       "      <th>min</th>\n",
       "      <td>32.000000</td>\n",
       "      <td>6.150000e+03</td>\n",
       "      <td>2.521440e+05</td>\n",
       "      <td>0.000000</td>\n",
       "      <td>1600.000000</td>\n",
       "      <td>850.000000</td>\n",
       "    </tr>\n",
       "    <tr>\n",
       "      <th>25%</th>\n",
       "      <td>137.500000</td>\n",
       "      <td>5.717500e+04</td>\n",
       "      <td>2.771000e+06</td>\n",
       "      <td>11.750000</td>\n",
       "      <td>1700.000000</td>\n",
       "      <td>860.250000</td>\n",
       "    </tr>\n",
       "    <tr>\n",
       "      <th>50%</th>\n",
       "      <td>226.500000</td>\n",
       "      <td>2.515000e+05</td>\n",
       "      <td>1.110823e+07</td>\n",
       "      <td>77.500000</td>\n",
       "      <td>3500.000000</td>\n",
       "      <td>1858.500000</td>\n",
       "    </tr>\n",
       "    <tr>\n",
       "      <th>75%</th>\n",
       "      <td>427.500000</td>\n",
       "      <td>7.210000e+05</td>\n",
       "      <td>4.828713e+07</td>\n",
       "      <td>217.500000</td>\n",
       "      <td>4000.000000</td>\n",
       "      <td>2014.500000</td>\n",
       "    </tr>\n",
       "    <tr>\n",
       "      <th>max</th>\n",
       "      <td>1600.000000</td>\n",
       "      <td>4.910000e+06</td>\n",
       "      <td>3.169277e+08</td>\n",
       "      <td>844.000000</td>\n",
       "      <td>13500.000000</td>\n",
       "      <td>7172.000000</td>\n",
       "    </tr>\n",
       "  </tbody>\n",
       "</table>\n",
       "</div>"
      ],
      "text/plain": [
       "           uploads   subscribers   total_veiws  min_income    max_income  \\\n",
       "count    30.000000  3.000000e+01  3.000000e+01   30.000000     30.000000   \n",
       "mean    387.633333  5.923737e+05  4.099272e+07  158.866667   3800.000000   \n",
       "std     403.531094  9.654415e+05  6.722583e+07  212.030696   2816.943807   \n",
       "min      32.000000  6.150000e+03  2.521440e+05    0.000000   1600.000000   \n",
       "25%     137.500000  5.717500e+04  2.771000e+06   11.750000   1700.000000   \n",
       "50%     226.500000  2.515000e+05  1.110823e+07   77.500000   3500.000000   \n",
       "75%     427.500000  7.210000e+05  4.828713e+07  217.500000   4000.000000   \n",
       "max    1600.000000  4.910000e+06  3.169277e+08  844.000000  13500.000000   \n",
       "\n",
       "        avg_income  \n",
       "count    30.000000  \n",
       "mean   1979.233333  \n",
       "std    1505.008436  \n",
       "min     850.000000  \n",
       "25%     860.250000  \n",
       "50%    1858.500000  \n",
       "75%    2014.500000  \n",
       "max    7172.000000  "
      ]
     },
     "execution_count": 10,
     "metadata": {},
     "output_type": "execute_result"
    }
   ],
   "source": [
    "df_copy.describe()"
   ]
  },
  {
   "cell_type": "markdown",
   "id": "3d883e4b-71c7-4d04-b2b6-867b2dd2919b",
   "metadata": {
    "tags": []
   },
   "source": [
    "## Data Visualization"
   ]
  },
  {
   "cell_type": "code",
   "execution_count": 11,
   "id": "5e7f4fd0-cd7c-4bc1-8394-56386f699f30",
   "metadata": {},
   "outputs": [
    {
     "data": {
      "text/html": [
       "<div>\n",
       "<style scoped>\n",
       "    .dataframe tbody tr th:only-of-type {\n",
       "        vertical-align: middle;\n",
       "    }\n",
       "\n",
       "    .dataframe tbody tr th {\n",
       "        vertical-align: top;\n",
       "    }\n",
       "\n",
       "    .dataframe thead th {\n",
       "        text-align: right;\n",
       "    }\n",
       "</style>\n",
       "<table border=\"1\" class=\"dataframe\">\n",
       "  <thead>\n",
       "    <tr style=\"text-align: right;\">\n",
       "      <th></th>\n",
       "      <th>youtuber</th>\n",
       "      <th>id</th>\n",
       "      <th>uploads</th>\n",
       "      <th>subscribers</th>\n",
       "      <th>total_veiws</th>\n",
       "      <th>country</th>\n",
       "      <th>year_created</th>\n",
       "      <th>min_income</th>\n",
       "      <th>max_income</th>\n",
       "      <th>avg_income</th>\n",
       "    </tr>\n",
       "  </thead>\n",
       "  <tbody>\n",
       "    <tr>\n",
       "      <th>0</th>\n",
       "      <td>3Blue1Brown</td>\n",
       "      <td>@3blue1brown</td>\n",
       "      <td>127</td>\n",
       "      <td>4910000</td>\n",
       "      <td>316927667</td>\n",
       "      <td>US</td>\n",
       "      <td>2015</td>\n",
       "      <td>844</td>\n",
       "      <td>13500</td>\n",
       "      <td>7172</td>\n",
       "    </tr>\n",
       "    <tr>\n",
       "      <th>1</th>\n",
       "      <td>Joma Tech</td>\n",
       "      <td>@jomaoppa</td>\n",
       "      <td>107</td>\n",
       "      <td>2060000</td>\n",
       "      <td>164892515</td>\n",
       "      <td>US</td>\n",
       "      <td>2016</td>\n",
       "      <td>711</td>\n",
       "      <td>11400</td>\n",
       "      <td>6055</td>\n",
       "    </tr>\n",
       "    <tr>\n",
       "      <th>2</th>\n",
       "      <td>The Coding Train</td>\n",
       "      <td>@thecodingtrain</td>\n",
       "      <td>1210</td>\n",
       "      <td>1540000</td>\n",
       "      <td>110960063</td>\n",
       "      <td>US</td>\n",
       "      <td>2006</td>\n",
       "      <td>229</td>\n",
       "      <td>3700</td>\n",
       "      <td>1964</td>\n",
       "    </tr>\n",
       "    <tr>\n",
       "      <th>3</th>\n",
       "      <td>sentdex</td>\n",
       "      <td>@sentdex</td>\n",
       "      <td>1233</td>\n",
       "      <td>1200000</td>\n",
       "      <td>107212166</td>\n",
       "      <td>US</td>\n",
       "      <td>2012</td>\n",
       "      <td>214</td>\n",
       "      <td>3400</td>\n",
       "      <td>1807</td>\n",
       "    </tr>\n",
       "    <tr>\n",
       "      <th>4</th>\n",
       "      <td>Tech With Tim</td>\n",
       "      <td>@techwithtim</td>\n",
       "      <td>772</td>\n",
       "      <td>1140000</td>\n",
       "      <td>102224704</td>\n",
       "      <td>CA</td>\n",
       "      <td>2014</td>\n",
       "      <td>516</td>\n",
       "      <td>8300</td>\n",
       "      <td>4408</td>\n",
       "    </tr>\n",
       "  </tbody>\n",
       "</table>\n",
       "</div>"
      ],
      "text/plain": [
       "           youtuber               id  uploads  subscribers  total_veiws  \\\n",
       "0       3Blue1Brown     @3blue1brown      127      4910000    316927667   \n",
       "1         Joma Tech        @jomaoppa      107      2060000    164892515   \n",
       "2  The Coding Train  @thecodingtrain     1210      1540000    110960063   \n",
       "3           sentdex         @sentdex     1233      1200000    107212166   \n",
       "4     Tech With Tim     @techwithtim      772      1140000    102224704   \n",
       "\n",
       "  country year_created  min_income  max_income  avg_income  \n",
       "0      US         2015         844       13500        7172  \n",
       "1      US         2016         711       11400        6055  \n",
       "2      US         2006         229        3700        1964  \n",
       "3      US         2012         214        3400        1807  \n",
       "4      CA         2014         516        8300        4408  "
      ]
     },
     "execution_count": 11,
     "metadata": {},
     "output_type": "execute_result"
    }
   ],
   "source": [
    "df_copy.head()"
   ]
  },
  {
   "cell_type": "code",
   "execution_count": null,
   "id": "b3e5c16b-fd81-4dd3-92ba-3a4f9e65e159",
   "metadata": {},
   "outputs": [],
   "source": []
  }
 ],
 "metadata": {
  "kernelspec": {
   "display_name": "Python 3 (ipykernel)",
   "language": "python",
   "name": "python3"
  },
  "language_info": {
   "codemirror_mode": {
    "name": "ipython",
    "version": 3
   },
   "file_extension": ".py",
   "mimetype": "text/x-python",
   "name": "python",
   "nbconvert_exporter": "python",
   "pygments_lexer": "ipython3",
   "version": "3.10.4"
  },
  "widgets": {
   "application/vnd.jupyter.widget-state+json": {
    "state": {},
    "version_major": 2,
    "version_minor": 0
   }
  }
 },
 "nbformat": 4,
 "nbformat_minor": 5
}

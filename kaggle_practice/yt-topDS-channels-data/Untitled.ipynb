{
 "cells": [
  {
   "cell_type": "code",
   "execution_count": 1,
   "id": "f8128d40-a31d-4af6-a20b-bd22c198e4da",
   "metadata": {},
   "outputs": [],
   "source": [
    "import numpy as np\n",
    "import pandas as pd\n",
    "\n",
    "import matplotlib.pyplot as plt\n",
    "import seaborn as sns\n",
    "\n",
    "plt.style.use(\"dark_background\")"
   ]
  },
  {
   "cell_type": "code",
   "execution_count": 2,
   "id": "cffe47f5-6b73-4df6-8cec-3a43d78a8ba2",
   "metadata": {},
   "outputs": [
    {
     "data": {
      "text/html": [
       "<div>\n",
       "<style scoped>\n",
       "    .dataframe tbody tr th:only-of-type {\n",
       "        vertical-align: middle;\n",
       "    }\n",
       "\n",
       "    .dataframe tbody tr th {\n",
       "        vertical-align: top;\n",
       "    }\n",
       "\n",
       "    .dataframe thead th {\n",
       "        text-align: right;\n",
       "    }\n",
       "</style>\n",
       "<table border=\"1\" class=\"dataframe\">\n",
       "  <thead>\n",
       "    <tr style=\"text-align: right;\">\n",
       "      <th></th>\n",
       "      <th>youtuber</th>\n",
       "      <th>id</th>\n",
       "      <th>uploads</th>\n",
       "      <th>subscribers</th>\n",
       "      <th>video views</th>\n",
       "      <th>country</th>\n",
       "      <th>account created</th>\n",
       "      <th>estimated monthly income</th>\n",
       "    </tr>\n",
       "  </thead>\n",
       "  <tbody>\n",
       "    <tr>\n",
       "      <th>0</th>\n",
       "      <td>3Blue1Brown</td>\n",
       "      <td>@3blue1brown</td>\n",
       "      <td>127</td>\n",
       "      <td>4.91M</td>\n",
       "      <td>316927667</td>\n",
       "      <td>US</td>\n",
       "      <td>Mar 3rd, 2015</td>\n",
       "      <td>$844 - $13.5K</td>\n",
       "    </tr>\n",
       "    <tr>\n",
       "      <th>1</th>\n",
       "      <td>Joma Tech</td>\n",
       "      <td>@jomaoppa</td>\n",
       "      <td>107</td>\n",
       "      <td>2.06M</td>\n",
       "      <td>164892515</td>\n",
       "      <td>US</td>\n",
       "      <td>Aug 31st, 2016</td>\n",
       "      <td>$711 - $11.4K</td>\n",
       "    </tr>\n",
       "    <tr>\n",
       "      <th>2</th>\n",
       "      <td>The Coding Train</td>\n",
       "      <td>@thecodingtrain</td>\n",
       "      <td>1210</td>\n",
       "      <td>1.54M</td>\n",
       "      <td>110960063</td>\n",
       "      <td>US</td>\n",
       "      <td>Jul 3rd, 2006</td>\n",
       "      <td>$229 - $3.7K</td>\n",
       "    </tr>\n",
       "    <tr>\n",
       "      <th>3</th>\n",
       "      <td>sentdex</td>\n",
       "      <td>@sentdex</td>\n",
       "      <td>1233</td>\n",
       "      <td>1.2M</td>\n",
       "      <td>107212166</td>\n",
       "      <td>US</td>\n",
       "      <td>Dec 16th, 2012</td>\n",
       "      <td>$214 - $3.4K</td>\n",
       "    </tr>\n",
       "    <tr>\n",
       "      <th>4</th>\n",
       "      <td>Tech With Tim</td>\n",
       "      <td>@techwithtim</td>\n",
       "      <td>772</td>\n",
       "      <td>1.14M</td>\n",
       "      <td>102224704</td>\n",
       "      <td>CA</td>\n",
       "      <td>Apr 23rd, 2014</td>\n",
       "      <td>$516 - $8.3K</td>\n",
       "    </tr>\n",
       "  </tbody>\n",
       "</table>\n",
       "</div>"
      ],
      "text/plain": [
       "           youtuber               id  uploads subscribers  video views  \\\n",
       "0       3Blue1Brown     @3blue1brown      127       4.91M    316927667   \n",
       "1         Joma Tech        @jomaoppa      107       2.06M    164892515   \n",
       "2  The Coding Train  @thecodingtrain     1210       1.54M    110960063   \n",
       "3           sentdex         @sentdex     1233        1.2M    107212166   \n",
       "4     Tech With Tim     @techwithtim      772       1.14M    102224704   \n",
       "\n",
       "  country account created estimated monthly income  \n",
       "0      US   Mar 3rd, 2015            $844 - $13.5K  \n",
       "1      US  Aug 31st, 2016            $711 - $11.4K  \n",
       "2      US   Jul 3rd, 2006             $229 - $3.7K  \n",
       "3      US  Dec 16th, 2012             $214 - $3.4K  \n",
       "4      CA  Apr 23rd, 2014             $516 - $8.3K  "
      ]
     },
     "execution_count": 2,
     "metadata": {},
     "output_type": "execute_result"
    }
   ],
   "source": [
    "df = pd.read_csv(\"YT_ds_channels.csv\")\n",
    "df.head()"
   ]
  },
  {
   "cell_type": "code",
   "execution_count": null,
   "id": "722010ca-a2f6-4e62-954c-222ac6a4369f",
   "metadata": {},
   "outputs": [],
   "source": []
  }
 ],
 "metadata": {
  "kernelspec": {
   "display_name": "Python 3 (ipykernel)",
   "language": "python",
   "name": "python3"
  },
  "language_info": {
   "codemirror_mode": {
    "name": "ipython",
    "version": 3
   },
   "file_extension": ".py",
   "mimetype": "text/x-python",
   "name": "python",
   "nbconvert_exporter": "python",
   "pygments_lexer": "ipython3",
   "version": "3.10.4"
  },
  "widgets": {
   "application/vnd.jupyter.widget-state+json": {
    "state": {},
    "version_major": 2,
    "version_minor": 0
   }
  }
 },
 "nbformat": 4,
 "nbformat_minor": 5
}

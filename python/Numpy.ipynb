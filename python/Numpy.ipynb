{
 "cells": [
  {
   "cell_type": "markdown",
   "id": "64cddbc6",
   "metadata": {},
   "source": [
    "<h1>Numpy</h1>\n",
    "\n",
    "_NumPy is a Python library._<br>\n",
    "_NumPy is used for working with arrays._<br>\n",
    "_NumPy is short for \"Numerical Python\"._<br><br>"
   ]
  },
  {
   "cell_type": "code",
   "execution_count": 2,
   "id": "d8506e47",
   "metadata": {},
   "outputs": [],
   "source": [
    "import numpy as np"
   ]
  },
  {
   "cell_type": "code",
   "execution_count": 6,
   "id": "136b6936",
   "metadata": {},
   "outputs": [
    {
     "name": "stdout",
     "output_type": "stream",
     "text": [
      "Arrray type:  <class 'numpy.ndarray'> \n",
      "Array:  [1 2 3 4]\n"
     ]
    }
   ],
   "source": [
    "n_list = [1,2,3,4]\n",
    "arr = np.array(n_list) # convert into a array\n",
    "print(\"Arrray type: \", type(arr), \"\\nArray: \", arr)"
   ]
  },
  {
   "cell_type": "code",
   "execution_count": 8,
   "id": "9b178cca",
   "metadata": {},
   "outputs": [
    {
     "data": {
      "text/plain": [
       "(4,)"
      ]
     },
     "execution_count": 8,
     "metadata": {},
     "output_type": "execute_result"
    }
   ],
   "source": [
    "# getting the shape of array\n",
    "\n",
    "arr.shape # col, row"
   ]
  },
  {
   "cell_type": "code",
   "execution_count": 10,
   "id": "f6d7532d",
   "metadata": {},
   "outputs": [
    {
     "name": "stdout",
     "output_type": "stream",
     "text": [
      "[[ 1  2  3  4]\n",
      " [ 5  6  7  8]\n",
      " [ 9 10 11 12]]\n"
     ]
    }
   ],
   "source": [
    "# lets create a 2d array of (4, 3)\n",
    "\n",
    "arr1 = [1,2,3,4]\n",
    "arr2 = [5,6,7,8]\n",
    "arr3 = [9,10,11,12]\n",
    "\n",
    "arr_2d = np.array([arr1, arr2, arr3])\n",
    "print(arr_2d)"
   ]
  },
  {
   "cell_type": "code",
   "execution_count": 18,
   "id": "2931985d",
   "metadata": {},
   "outputs": [
    {
     "data": {
      "text/plain": [
       "array([[ 1,  2,  3],\n",
       "       [ 4,  5,  6],\n",
       "       [ 7,  8,  9],\n",
       "       [10, 11, 12]])"
      ]
     },
     "execution_count": 18,
     "metadata": {},
     "output_type": "execute_result"
    }
   ],
   "source": [
    "# now lets reshape it he 2d array into (3, 4)\n",
    "\n",
    "arr_2d.reshape(4, 3)"
   ]
  },
  {
   "cell_type": "markdown",
   "id": "58d80850",
   "metadata": {},
   "source": [
    "### Indexing"
   ]
  },
  {
   "cell_type": "code",
   "execution_count": 22,
   "id": "dc158553",
   "metadata": {},
   "outputs": [
    {
     "name": "stdout",
     "output_type": "stream",
     "text": [
      "[[ 1  2  3  4]\n",
      " [ 5  6  7  8]\n",
      " [ 9 10 11 12]]\n"
     ]
    },
    {
     "data": {
      "text/plain": [
       "5"
      ]
     },
     "execution_count": 22,
     "metadata": {},
     "output_type": "execute_result"
    }
   ],
   "source": [
    "# Acessing the arr ele\n",
    "print(arr_2d)\n",
    "arr_2d[1][0]"
   ]
  },
  {
   "cell_type": "code",
   "execution_count": 38,
   "id": "8dc9e0dc",
   "metadata": {},
   "outputs": [
    {
     "data": {
      "text/plain": [
       "array([[ 1,  2],\n",
       "       [ 5,  6],\n",
       "       [ 9, 10]])"
      ]
     },
     "execution_count": 38,
     "metadata": {},
     "output_type": "execute_result"
    }
   ],
   "source": [
    "arr_2d[0:, 0:2] # row, col"
   ]
  },
  {
   "cell_type": "code",
   "execution_count": 41,
   "id": "f156ab20",
   "metadata": {},
   "outputs": [
    {
     "data": {
      "text/plain": [
       "array([[ 6,  7],\n",
       "       [10, 11]])"
      ]
     },
     "execution_count": 41,
     "metadata": {},
     "output_type": "execute_result"
    }
   ],
   "source": [
    "arr_2d[1:3, 1:3]"
   ]
  },
  {
   "cell_type": "code",
   "execution_count": 42,
   "id": "587fe210",
   "metadata": {},
   "outputs": [
    {
     "data": {
      "text/plain": [
       "array([6, 7, 8])"
      ]
     },
     "execution_count": 42,
     "metadata": {},
     "output_type": "execute_result"
    }
   ],
   "source": [
    "arr_2d[1, 1:]"
   ]
  },
  {
   "cell_type": "code",
   "execution_count": null,
   "id": "0d21a64c",
   "metadata": {},
   "outputs": [],
   "source": []
  }
 ],
 "metadata": {
  "kernelspec": {
   "display_name": "Python 3 (ipykernel)",
   "language": "python",
   "name": "python3"
  },
  "language_info": {
   "codemirror_mode": {
    "name": "ipython",
    "version": 3
   },
   "file_extension": ".py",
   "mimetype": "text/x-python",
   "name": "python",
   "nbconvert_exporter": "python",
   "pygments_lexer": "ipython3",
   "version": "3.10.4"
  }
 },
 "nbformat": 4,
 "nbformat_minor": 5
}

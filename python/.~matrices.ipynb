{
 "cells": [
  {
   "cell_type": "markdown",
   "id": "55882e13-24c1-4b9b-a414-4987a0035ceb",
   "metadata": {},
   "source": [
    "# Matrices"
   ]
  },
  {
   "cell_type": "code",
   "execution_count": 1,
   "id": "e26b375a-dbfa-4bd1-94fa-b39af0c1e9e1",
   "metadata": {},
   "outputs": [],
   "source": [
    "import numpy as np"
   ]
  },
  {
   "cell_type": "markdown",
   "id": "4e71ebc3-84a3-4eb4-80b3-c80968fb21fe",
   "metadata": {},
   "source": [
    "1. Below is some indian companies revenues in US dollars. Using numpy can you convert this into Indian rupees? 1 USD = 82.93 INR\n",
    "\n",
    "<img src=\"https://raw.githubusercontent.com/codebasics/deep-learning-keras-tf-tutorial/master/4_matrix_math/revenue_usd.jpg\">"
   ]
  },
  {
   "cell_type": "code",
   "execution_count": 3,
   "id": "05273ed9-2ee2-449e-876c-8fc199261579",
   "metadata": {},
   "outputs": [],
   "source": [
    "# multiplication\n",
    "\n",
    "cur = np.array([82])\n",
    "rev = np.array([[200, 220, 250], [68, 79, 105], [110, 140, 180], [80, 85, 90]])"
   ]
  },
  {
   "cell_type": "code",
   "execution_count": 4,
   "id": "b166fe8b-79e5-4b73-9a5f-4c57fc65351b",
   "metadata": {},
   "outputs": [
    {
     "data": {
      "text/plain": [
       "array([[16400, 18040, 20500],\n",
       "       [ 5576,  6478,  8610],\n",
       "       [ 9020, 11480, 14760],\n",
       "       [ 6560,  6970,  7380]])"
      ]
     },
     "execution_count": 4,
     "metadata": {},
     "output_type": "execute_result"
    }
   ],
   "source": [
    "cur*rev"
   ]
  },
  {
   "cell_type": "markdown",
   "id": "7126db41-3479-4e97-803a-8a7d5118c996",
   "metadata": {},
   "source": [
    "\n",
    "2. Divine flowers is a flower shop that sells different type of flowers. Below is the table showing how many flowers of each type they sold in different months. Also given are the prices of one flower each. Using this find out their total sales in every month.\n",
    "\n",
    "<img src=\"https://github.com/codebasics/deep-learning-keras-tf-tutorial/raw/master/4_matrix_math/flowers.jpg\">"
   ]
  },
  {
   "cell_type": "code",
   "execution_count": 7,
   "id": "7e251fd2-f087-481b-8ab1-2f0d6960bc6e",
   "metadata": {},
   "outputs": [],
   "source": [
    "# so we have to do the dot product for ex roses 50*20+10*30+15*40"
   ]
  },
  {
   "cell_type": "code",
   "execution_count": 12,
   "id": "feffbd32-fc72-449e-ab1c-893226eb5fc7",
   "metadata": {},
   "outputs": [
    {
     "data": {
      "text/plain": [
       "array([1900, 2640, 1430])"
      ]
     },
     "execution_count": 12,
     "metadata": {},
     "output_type": "execute_result"
    }
   ],
   "source": [
    "price_per_unit = [20, 30, 15]\n",
    "unit_sold = [[50, 60, 25], [10, 13, 5], [40, 70, 52]]\n",
    "\n",
    "np.dot(price_per_unit, unit_sold)"
   ]
  },
  {
   "cell_type": "code",
   "execution_count": 13,
   "id": "a259d273-53a0-4da4-bda6-f46cf3da1a19",
   "metadata": {},
   "outputs": [
    {
     "data": {
      "text/plain": [
       "1900"
      ]
     },
     "execution_count": 13,
     "metadata": {},
     "output_type": "execute_result"
    }
   ],
   "source": [
    "50*20+10*30+15*40"
   ]
  },
  {
   "cell_type": "code",
   "execution_count": null,
   "id": "632a9a40-7837-46c4-ac2c-8494e715abbd",
   "metadata": {},
   "outputs": [],
   "source": []
  }
 ],
 "metadata": {
  "kernelspec": {
   "display_name": "Python 3 (ipykernel)",
   "language": "python",
   "name": "python3"
  },
  "language_info": {
   "codemirror_mode": {
    "name": "ipython",
    "version": 3
   },
   "file_extension": ".py",
   "mimetype": "text/x-python",
   "name": "python",
   "nbconvert_exporter": "python",
   "pygments_lexer": "ipython3",
   "version": "3.10.4"
  },
  "widgets": {
   "application/vnd.jupyter.widget-state+json": {
    "state": {},
    "version_major": 2,
    "version_minor": 0
   }
  }
 },
 "nbformat": 4,
 "nbformat_minor": 5
}

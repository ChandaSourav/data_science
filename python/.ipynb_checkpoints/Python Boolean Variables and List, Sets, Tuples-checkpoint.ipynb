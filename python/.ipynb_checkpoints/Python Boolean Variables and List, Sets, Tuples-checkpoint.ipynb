{
 "cells": [
  {
   "cell_type": "markdown",
   "id": "ef977243",
   "metadata": {},
   "source": [
    "<h1>Python Boolean Variables and List, Sets, Tuples</h1><br>\n",
    "\n",
    "For more visit: <a href=\"https://www.w3schools.com/python/default.asp\">Python by W3schools</a>"
   ]
  },
  {
   "cell_type": "markdown",
   "id": "fccd5c95",
   "metadata": {},
   "source": [
    "### Boolean"
   ]
  },
  {
   "cell_type": "code",
   "execution_count": 1,
   "id": "49e68cb2",
   "metadata": {},
   "outputs": [],
   "source": [
    "my_name = \"debjeet\""
   ]
  },
  {
   "cell_type": "code",
   "execution_count": 2,
   "id": "fb31031f",
   "metadata": {},
   "outputs": [
    {
     "name": "stdout",
     "output_type": "stream",
     "text": [
      "Debjeet\n",
      "True\n",
      "False\n",
      "True\n",
      "False\n",
      "True\n",
      "False\n"
     ]
    }
   ],
   "source": [
    "print(my_name.capitalize()) \n",
    "print(my_name.isalpha())\n",
    "print(my_name.isdigit()) # check if the str is digit or not\n",
    "print(my_name.isalnum()) # check if the str is alphanumeric\n",
    "print(my_name.isspace()) # check if there is a space \n",
    "print(my_name.startswith(\"d\"))\n",
    "print(my_name.endswith(\"w\"))"
   ]
  },
  {
   "cell_type": "markdown",
   "id": "d92aab91",
   "metadata": {},
   "source": [
    "### Lists\n",
    "\n",
    "_Lists are used to store multiple items in a single variable._<br>\n",
    "\n",
    "_List items are ordered, changeable, and allow duplicate values._<br>\n",
    "_List items are indexed, the first item has index [0], the second item has index [1] etc.._\n",
    "\n",
    "<br>"
   ]
  },
  {
   "cell_type": "code",
   "execution_count": 3,
   "id": "c599033a",
   "metadata": {},
   "outputs": [],
   "source": [
    "my_list = []"
   ]
  },
  {
   "cell_type": "code",
   "execution_count": 4,
   "id": "53464f7e",
   "metadata": {},
   "outputs": [
    {
     "data": {
      "text/plain": [
       "list"
      ]
     },
     "execution_count": 4,
     "metadata": {},
     "output_type": "execute_result"
    }
   ],
   "source": [
    "type(my_list)"
   ]
  },
  {
   "cell_type": "code",
   "execution_count": 5,
   "id": "082c19f7",
   "metadata": {},
   "outputs": [],
   "source": [
    "new_list = ['maths', 'chem', 'bio', 21, 56]"
   ]
  },
  {
   "cell_type": "code",
   "execution_count": 6,
   "id": "aeedc834",
   "metadata": {},
   "outputs": [
    {
     "name": "stdout",
     "output_type": "stream",
     "text": [
      "['maths', 'chem', 'bio', 21, 56]\n"
     ]
    }
   ],
   "source": [
    "print(new_list)"
   ]
  },
  {
   "cell_type": "code",
   "execution_count": 7,
   "id": "68aec3ab",
   "metadata": {},
   "outputs": [
    {
     "data": {
      "text/plain": [
       "5"
      ]
     },
     "execution_count": 7,
     "metadata": {},
     "output_type": "execute_result"
    }
   ],
   "source": [
    "len(new_list) #lenght"
   ]
  },
  {
   "cell_type": "code",
   "execution_count": 8,
   "id": "2f676763",
   "metadata": {},
   "outputs": [],
   "source": [
    "new_list.append(\"CS\") #append"
   ]
  },
  {
   "cell_type": "code",
   "execution_count": 9,
   "id": "2986269d",
   "metadata": {},
   "outputs": [
    {
     "name": "stdout",
     "output_type": "stream",
     "text": [
      "['maths', 'chem', 'bio', 21, 56, 'CS']\n"
     ]
    }
   ],
   "source": [
    "print(new_list)"
   ]
  },
  {
   "cell_type": "code",
   "execution_count": 10,
   "id": "8abc5ca9",
   "metadata": {},
   "outputs": [
    {
     "data": {
      "text/plain": [
       "['maths', 'chem', 'bio']"
      ]
     },
     "execution_count": 10,
     "metadata": {},
     "output_type": "execute_result"
    }
   ],
   "source": [
    "new_list[:] #print with\n",
    "new_list[0:3]"
   ]
  },
  {
   "cell_type": "code",
   "execution_count": 11,
   "id": "fd4e363a",
   "metadata": {},
   "outputs": [
    {
     "data": {
      "text/plain": [
       "['maths', 'DS', 'chem', 'bio', 21, 56, 'CS']"
      ]
     },
     "execution_count": 11,
     "metadata": {},
     "output_type": "execute_result"
    }
   ],
   "source": [
    "new_list.insert(1, \"DS\") #insert\n",
    "new_list"
   ]
  },
  {
   "cell_type": "markdown",
   "id": "70925cb4",
   "metadata": {},
   "source": [
    "#### _Extend Function_"
   ]
  },
  {
   "cell_type": "code",
   "execution_count": 12,
   "id": "68b193bd",
   "metadata": {},
   "outputs": [],
   "source": [
    "num_list = [1,2,3,4,4,9,6,3,7,9,9,3]"
   ]
  },
  {
   "cell_type": "code",
   "execution_count": 13,
   "id": "09b1ac35",
   "metadata": {},
   "outputs": [],
   "source": [
    "num_list.extend([14,65])"
   ]
  },
  {
   "cell_type": "code",
   "execution_count": 14,
   "id": "c54c3398",
   "metadata": {},
   "outputs": [
    {
     "name": "stdout",
     "output_type": "stream",
     "text": [
      "[1, 2, 3, 4, 4, 9, 6, 3, 7, 9, 9, 3, 14, 65]\n"
     ]
    }
   ],
   "source": [
    "print(num_list)"
   ]
  },
  {
   "cell_type": "markdown",
   "id": "d25b93de",
   "metadata": {},
   "source": [
    "#### _Various Operations_"
   ]
  },
  {
   "cell_type": "code",
   "execution_count": 15,
   "id": "e6da8306",
   "metadata": {},
   "outputs": [
    {
     "data": {
      "text/plain": [
       "139"
      ]
     },
     "execution_count": 15,
     "metadata": {},
     "output_type": "execute_result"
    }
   ],
   "source": [
    "sum(num_list) #total of the list"
   ]
  },
  {
   "cell_type": "code",
   "execution_count": 16,
   "id": "be3a1a79",
   "metadata": {},
   "outputs": [
    {
     "data": {
      "text/plain": [
       "65"
      ]
     },
     "execution_count": 16,
     "metadata": {},
     "output_type": "execute_result"
    }
   ],
   "source": [
    "num_list.pop() #pop out the last val of list"
   ]
  },
  {
   "cell_type": "code",
   "execution_count": 17,
   "id": "ce29e9ac",
   "metadata": {},
   "outputs": [
    {
     "data": {
      "text/plain": [
       "4"
      ]
     },
     "execution_count": 17,
     "metadata": {},
     "output_type": "execute_result"
    }
   ],
   "source": [
    "num_list.pop(3) #pop out the val of list present in that particular index"
   ]
  },
  {
   "cell_type": "code",
   "execution_count": 18,
   "id": "89602d6f",
   "metadata": {},
   "outputs": [
    {
     "data": {
      "text/plain": [
       "3"
      ]
     },
     "execution_count": 18,
     "metadata": {},
     "output_type": "execute_result"
    }
   ],
   "source": [
    "num_list.count(9) #count the frequency of the num"
   ]
  },
  {
   "cell_type": "code",
   "execution_count": 19,
   "id": "a648c9be",
   "metadata": {},
   "outputs": [
    {
     "data": {
      "text/plain": [
       "[1, 2, 3, 4, 9, 6, 3, 7, 9, 9, 3, 14, 1, 2, 3, 4, 9, 6, 3, 7, 9, 9, 3, 14]"
      ]
     },
     "execution_count": 19,
     "metadata": {},
     "output_type": "execute_result"
    }
   ],
   "source": [
    "num_list*2 #multiply will not [...] x 2 but it will increase the vals inside the list"
   ]
  },
  {
   "cell_type": "markdown",
   "id": "81c49904",
   "metadata": {},
   "source": [
    "### Sets\n",
    "_Sets are used to store multiple items in a single variable._<br>\n",
    "_A set is a collection which is unordered, unchangeable*, and unindexed._<br>\n",
    "\n",
    "** This is based on hash table<br>\n",
    "** Just like a set in maths"
   ]
  },
  {
   "cell_type": "code",
   "execution_count": 20,
   "id": "e2443e87",
   "metadata": {},
   "outputs": [
    {
     "name": "stdout",
     "output_type": "stream",
     "text": [
      "set()\n",
      "<class 'set'>\n"
     ]
    }
   ],
   "source": [
    "## Defining a set\n",
    "set_var = set()\n",
    "print(set_var)\n",
    "print(type(set_var))"
   ]
  },
  {
   "cell_type": "code",
   "execution_count": 21,
   "id": "e1e02c52",
   "metadata": {},
   "outputs": [
    {
     "name": "stdout",
     "output_type": "stream",
     "text": [
      "{1, 2, 4, 5}\n"
     ]
    }
   ],
   "source": [
    "## No duplicate values\n",
    "set = {1,2,2,4,4,5,4}\n",
    "print(set)"
   ]
  },
  {
   "cell_type": "code",
   "execution_count": 27,
   "id": "471064ba",
   "metadata": {},
   "outputs": [
    {
     "ename": "SyntaxError",
     "evalue": "invalid syntax (2627317483.py, line 6)",
     "output_type": "error",
     "traceback": [
      "\u001b[1;36m  Input \u001b[1;32mIn [27]\u001b[1;36m\u001b[0m\n\u001b[1;33m    TypeError                                 Traceback (most recent call last)\u001b[0m\n\u001b[1;37m                                              ^\u001b[0m\n\u001b[1;31mSyntaxError\u001b[0m\u001b[1;31m:\u001b[0m invalid syntax\n"
     ]
    }
   ],
   "source": [
    "# No indexing can be done in set to find a ele\n",
    "\n",
    "# Input:\n",
    "#set[1]\n",
    "#set[\"2\"]\n",
    "\n",
    "# Output:\n",
    "\"\"\"---------------------------------------------------------------------------\n",
    "TypeError                                 Traceback (most recent call last)\n",
    "Input In [22], in <cell line: 2>()\n",
    "      1 # No indexing can be done in set to find a ele\n",
    "----> 2 set[1]\n",
    "      3 set[\"2\"]\n",
    "\n",
    "TypeError: 'set' object is not subscriptable\n",
    "\"\"\""
   ]
  },
  {
   "cell_type": "markdown",
   "id": "1c5dc290",
   "metadata": {},
   "source": [
    "#### _Inbuilt functions_"
   ]
  },
  {
   "cell_type": "code",
   "execution_count": 23,
   "id": "cc6a659d",
   "metadata": {},
   "outputs": [],
   "source": [
    "set1 = {'ironman', 'batman', 'spiderman', 'hitman'}\n",
    "set2 = {'ironman', 'batman', 'spiderman', 'hitman'}"
   ]
  },
  {
   "cell_type": "code",
   "execution_count": 24,
   "id": "451a25fd",
   "metadata": {},
   "outputs": [
    {
     "name": "stdout",
     "output_type": "stream",
     "text": [
      "None\n",
      "Set1:  {'hitman', 'spiderman', 'batman', 'ironman'}\n",
      "Set2:  {'hitman', 'hulk', 'ironman', 'spiderman', 'batman'}\n"
     ]
    }
   ],
   "source": [
    "print(set2.add('hulk')) ## adding a new ele in set2\n",
    "print(\"Set1: \", set1)\n",
    "print(\"Set2: \", set2)"
   ]
  },
  {
   "cell_type": "code",
   "execution_count": 25,
   "id": "8b878d64",
   "metadata": {},
   "outputs": [
    {
     "data": {
      "text/plain": [
       "{'batman', 'hitman', 'hulk', 'ironman', 'spiderman'}"
      ]
     },
     "execution_count": 25,
     "metadata": {},
     "output_type": "execute_result"
    }
   ],
   "source": [
    "## Union\n",
    "set1.union(set2) # return all union of both the sets"
   ]
  },
  {
   "cell_type": "code",
   "execution_count": 26,
   "id": "f2f2d6bd",
   "metadata": {},
   "outputs": [
    {
     "data": {
      "text/plain": [
       "{'batman', 'hitman', 'ironman', 'spiderman'}"
      ]
     },
     "execution_count": 26,
     "metadata": {},
     "output_type": "execute_result"
    }
   ],
   "source": [
    "## Intersection\n",
    "set1.intersection(set2) # get common elements between the 2 sets"
   ]
  },
  {
   "cell_type": "code",
   "execution_count": null,
   "id": "e8448475",
   "metadata": {},
   "outputs": [],
   "source": []
  }
 ],
 "metadata": {
  "kernelspec": {
   "display_name": "Python 3 (ipykernel)",
   "language": "python",
   "name": "python3"
  },
  "language_info": {
   "codemirror_mode": {
    "name": "ipython",
    "version": 3
   },
   "file_extension": ".py",
   "mimetype": "text/x-python",
   "name": "python",
   "nbconvert_exporter": "python",
   "pygments_lexer": "ipython3",
   "version": "3.10.4"
  },
  "vscode": {
   "interpreter": {
    "hash": "26de051ba29f2982a8de78e945f0abaf191376122a1563185a90213a26c5da77"
   }
  }
 },
 "nbformat": 4,
 "nbformat_minor": 5
}

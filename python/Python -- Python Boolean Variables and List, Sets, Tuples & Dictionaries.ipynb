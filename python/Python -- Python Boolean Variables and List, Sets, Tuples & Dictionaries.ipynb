{
 "cells": [
  {
   "cell_type": "markdown",
   "id": "27cb5081",
   "metadata": {},
   "source": [
    "<h1>Python Boolean Variables and List, Sets, Tuples & Dictionaries</h1><br>\n",
    "\n",
    "_For more visit: <a href=\"https://www.w3schools.com/python/default.asp\">Python by W3schools</a>_"
   ]
  },
  {
   "cell_type": "markdown",
   "id": "fccd5c95",
   "metadata": {},
   "source": [
    "### Boolean"
   ]
  },
  {
   "cell_type": "code",
   "execution_count": 1,
   "id": "49e68cb2",
   "metadata": {},
   "outputs": [],
   "source": [
    "my_name = \"debjeet\""
   ]
  },
  {
   "cell_type": "code",
   "execution_count": 2,
   "id": "fb31031f",
   "metadata": {},
   "outputs": [
    {
     "name": "stdout",
     "output_type": "stream",
     "text": [
      "Debjeet\n",
      "True\n",
      "False\n",
      "True\n",
      "False\n",
      "True\n",
      "False\n"
     ]
    }
   ],
   "source": [
    "print(my_name.capitalize()) \n",
    "print(my_name.isalpha())\n",
    "print(my_name.isdigit()) # check if the str is digit or not\n",
    "print(my_name.isalnum()) # check if the str is alphanumeric\n",
    "print(my_name.isspace()) # check if there is a space \n",
    "print(my_name.startswith(\"d\"))\n",
    "print(my_name.endswith(\"w\"))"
   ]
  },
  {
   "cell_type": "markdown",
   "id": "9e7c9e8f",
   "metadata": {},
   "source": [
    "## There are four collection data types in the Python programming language:\n",
    "\n",
    "* List is a collection which is ordered and changeable. Allows duplicate members.\n",
    "* Tuple is a collection which is ordered and unchangeable. Allows duplicate members.\n",
    "* Set is a collection which is unordered, unchangeable*, and unindexed. No duplicate members.\n",
    "* Dictionary is a collection which is ordered** and changeable. No duplicate members."
   ]
  },
  {
   "cell_type": "markdown",
   "id": "d92aab91",
   "metadata": {},
   "source": [
    "### Lists\n",
    "\n",
    "_Lists are used to store multiple items in a single variable._<br>\n",
    "\n",
    "_List items are ordered, changeable, and allow duplicate values._<br>\n",
    "_List items are indexed, the first item has index [0], the second item has index [1] etc.._\n",
    "\n",
    "<br>"
   ]
  },
  {
   "cell_type": "code",
   "execution_count": 3,
   "id": "c599033a",
   "metadata": {},
   "outputs": [],
   "source": [
    "my_list = list()\n",
    "# or\n",
    "# my_list = []"
   ]
  },
  {
   "cell_type": "code",
   "execution_count": 4,
   "id": "53464f7e",
   "metadata": {},
   "outputs": [
    {
     "data": {
      "text/plain": [
       "list"
      ]
     },
     "execution_count": 4,
     "metadata": {},
     "output_type": "execute_result"
    }
   ],
   "source": [
    "type(my_list)"
   ]
  },
  {
   "cell_type": "code",
   "execution_count": 5,
   "id": "082c19f7",
   "metadata": {},
   "outputs": [],
   "source": [
    "new_list = ['maths', 'chem', 'bio', 21, 56]"
   ]
  },
  {
   "cell_type": "code",
   "execution_count": 6,
   "id": "aeedc834",
   "metadata": {},
   "outputs": [
    {
     "name": "stdout",
     "output_type": "stream",
     "text": [
      "['maths', 'chem', 'bio', 21, 56]\n"
     ]
    }
   ],
   "source": [
    "print(new_list)"
   ]
  },
  {
   "cell_type": "code",
   "execution_count": 7,
   "id": "68aec3ab",
   "metadata": {},
   "outputs": [
    {
     "data": {
      "text/plain": [
       "5"
      ]
     },
     "execution_count": 7,
     "metadata": {},
     "output_type": "execute_result"
    }
   ],
   "source": [
    "len(new_list) #lenght"
   ]
  },
  {
   "cell_type": "code",
   "execution_count": 8,
   "id": "2f676763",
   "metadata": {},
   "outputs": [],
   "source": [
    "new_list.append(\"CS\") #append"
   ]
  },
  {
   "cell_type": "code",
   "execution_count": 9,
   "id": "2986269d",
   "metadata": {},
   "outputs": [
    {
     "name": "stdout",
     "output_type": "stream",
     "text": [
      "['maths', 'chem', 'bio', 21, 56, 'CS']\n"
     ]
    }
   ],
   "source": [
    "print(new_list)"
   ]
  },
  {
   "cell_type": "code",
   "execution_count": 10,
   "id": "8abc5ca9",
   "metadata": {},
   "outputs": [
    {
     "data": {
      "text/plain": [
       "['maths', 'chem', 'bio']"
      ]
     },
     "execution_count": 10,
     "metadata": {},
     "output_type": "execute_result"
    }
   ],
   "source": [
    "new_list[:] #print with\n",
    "new_list[0:3]"
   ]
  },
  {
   "cell_type": "code",
   "execution_count": 11,
   "id": "fd4e363a",
   "metadata": {},
   "outputs": [
    {
     "data": {
      "text/plain": [
       "['maths', 'DS', 'chem', 'bio', 21, 56, 'CS']"
      ]
     },
     "execution_count": 11,
     "metadata": {},
     "output_type": "execute_result"
    }
   ],
   "source": [
    "new_list.insert(1, \"DS\") #insert\n",
    "new_list"
   ]
  },
  {
   "cell_type": "markdown",
   "id": "70925cb4",
   "metadata": {},
   "source": [
    "#### _Extend Function_"
   ]
  },
  {
   "cell_type": "code",
   "execution_count": 12,
   "id": "68b193bd",
   "metadata": {},
   "outputs": [],
   "source": [
    "num_list = [1,2,3,4,4,9,6,3,7,9,9,3]"
   ]
  },
  {
   "cell_type": "code",
   "execution_count": 13,
   "id": "09b1ac35",
   "metadata": {},
   "outputs": [],
   "source": [
    "num_list.extend([14,65])"
   ]
  },
  {
   "cell_type": "code",
   "execution_count": 14,
   "id": "c54c3398",
   "metadata": {},
   "outputs": [
    {
     "name": "stdout",
     "output_type": "stream",
     "text": [
      "[1, 2, 3, 4, 4, 9, 6, 3, 7, 9, 9, 3, 14, 65]\n"
     ]
    }
   ],
   "source": [
    "print(num_list)"
   ]
  },
  {
   "cell_type": "markdown",
   "id": "d25b93de",
   "metadata": {},
   "source": [
    "#### _Various Operations_"
   ]
  },
  {
   "cell_type": "code",
   "execution_count": 15,
   "id": "e6da8306",
   "metadata": {},
   "outputs": [
    {
     "data": {
      "text/plain": [
       "139"
      ]
     },
     "execution_count": 15,
     "metadata": {},
     "output_type": "execute_result"
    }
   ],
   "source": [
    "sum(num_list) #total of the list"
   ]
  },
  {
   "cell_type": "code",
   "execution_count": 16,
   "id": "be3a1a79",
   "metadata": {},
   "outputs": [
    {
     "data": {
      "text/plain": [
       "65"
      ]
     },
     "execution_count": 16,
     "metadata": {},
     "output_type": "execute_result"
    }
   ],
   "source": [
    "num_list.pop() #pop out the last val of list"
   ]
  },
  {
   "cell_type": "code",
   "execution_count": 17,
   "id": "ce29e9ac",
   "metadata": {},
   "outputs": [
    {
     "data": {
      "text/plain": [
       "4"
      ]
     },
     "execution_count": 17,
     "metadata": {},
     "output_type": "execute_result"
    }
   ],
   "source": [
    "num_list.pop(3) #pop out the val of list present in that particular index"
   ]
  },
  {
   "cell_type": "code",
   "execution_count": 18,
   "id": "89602d6f",
   "metadata": {},
   "outputs": [
    {
     "data": {
      "text/plain": [
       "3"
      ]
     },
     "execution_count": 18,
     "metadata": {},
     "output_type": "execute_result"
    }
   ],
   "source": [
    "num_list.count(9) #count the frequency of the num"
   ]
  },
  {
   "cell_type": "code",
   "execution_count": 19,
   "id": "a648c9be",
   "metadata": {},
   "outputs": [
    {
     "data": {
      "text/plain": [
       "[1, 2, 3, 4, 9, 6, 3, 7, 9, 9, 3, 14, 1, 2, 3, 4, 9, 6, 3, 7, 9, 9, 3, 14]"
      ]
     },
     "execution_count": 19,
     "metadata": {},
     "output_type": "execute_result"
    }
   ],
   "source": [
    "num_list*2 #multiply will not [...] x 2 but it will increase the vals inside the list"
   ]
  },
  {
   "cell_type": "markdown",
   "id": "b230ce2e",
   "metadata": {},
   "source": [
    "### Sets\n",
    "_Sets are used to store multiple items in a single variable._<br>\n",
    "_A set is a collection which is unordered, unchangeable*, and unindexed._<br>\n",
    "\n",
    "** This is based on hash table<br>\n",
    "** Just like a set in maths"
   ]
  },
  {
   "cell_type": "code",
   "execution_count": 20,
   "id": "f8d1b28e",
   "metadata": {},
   "outputs": [
    {
     "name": "stdout",
     "output_type": "stream",
     "text": [
      "set()\n",
      "<class 'set'>\n"
     ]
    }
   ],
   "source": [
    "## Defining a set\n",
    "set_var = set()\n",
    "print(set_var)\n",
    "print(type(set_var))"
   ]
  },
  {
   "cell_type": "code",
   "execution_count": 21,
   "id": "f5893e10",
   "metadata": {},
   "outputs": [
    {
     "name": "stdout",
     "output_type": "stream",
     "text": [
      "{1, 2, 4, 5}\n"
     ]
    }
   ],
   "source": [
    "## No duplicate values\n",
    "set = {1,2,2,4,4,5,4}\n",
    "print(set)"
   ]
  },
  {
   "cell_type": "code",
   "execution_count": 22,
   "id": "327cf62b",
   "metadata": {},
   "outputs": [
    {
     "data": {
      "text/plain": [
       "'\\n------------------TypeError        Traceback (most recent call last)\\nInput In [22], in <cell line: 2>()\\n      1 No indexing can be done in set to find a ele\\n----> 2 set[1]\\n      3 set[\"2\"]\\n\\nTypeError: \\'set\\' object is not subscriptable\\n'"
      ]
     },
     "execution_count": 22,
     "metadata": {},
     "output_type": "execute_result"
    }
   ],
   "source": [
    "# No indexing can be done in set to find a ele\n",
    "\n",
    "# Input:\n",
    "\"\"\"\n",
    "set[1]\n",
    "set[\"2\"]\n",
    "\"\"\"\n",
    "\n",
    "\n",
    "# Output:\n",
    "\"\"\"\n",
    "------------------TypeError        Traceback (most recent call last)\n",
    "Input In [22], in <cell line: 2>()\n",
    "      1 No indexing can be done in set to find a ele\n",
    "----> 2 set[1]\n",
    "      3 set[\"2\"]\n",
    "\n",
    "TypeError: 'set' object is not subscriptable\n",
    "\"\"\""
   ]
  },
  {
   "cell_type": "code",
   "execution_count": 23,
   "id": "b9eda407",
   "metadata": {},
   "outputs": [
    {
     "name": "stdout",
     "output_type": "stream",
     "text": [
      "cherry\n",
      "apple\n",
      "banana\n"
     ]
    }
   ],
   "source": [
    "# Access Items\n",
    "# You cannot access items in a set by referring to an index or a key.\n",
    "\n",
    "# But you can loop through the set items using a for loop, or ask if a specified value is present in a set\n",
    "thisset = {\"apple\", \"banana\", \"cherry\"}\n",
    "\n",
    "for x in thisset:\n",
    "  print(x)"
   ]
  },
  {
   "cell_type": "code",
   "execution_count": 24,
   "id": "70fe5b3a",
   "metadata": {},
   "outputs": [
    {
     "name": "stdout",
     "output_type": "stream",
     "text": [
      "True\n"
     ]
    }
   ],
   "source": [
    "# or using the in keyword\n",
    "thisset = {\"apple\", \"banana\", \"cherry\"}\n",
    "print(\"banana\" in thisset)"
   ]
  },
  {
   "cell_type": "markdown",
   "id": "9f3476ca",
   "metadata": {},
   "source": [
    "#### _Inbuilt functions_\n",
    "\n",
    "We an exercise almost every methods that we use in our maths for sets"
   ]
  },
  {
   "cell_type": "code",
   "execution_count": 25,
   "id": "136cc533",
   "metadata": {},
   "outputs": [],
   "source": [
    "set1 = {'ironman', 'batman', 'spiderman', 'hitman'}\n",
    "set2 = {'ironman', 'batman', 'spiderman', 'hitman'}"
   ]
  },
  {
   "cell_type": "code",
   "execution_count": 26,
   "id": "d5e1e533",
   "metadata": {},
   "outputs": [
    {
     "name": "stdout",
     "output_type": "stream",
     "text": [
      "Set1:  {'ironman', 'batman', 'hitman', 'spiderman'}\n",
      "Set2:  {'batman', 'ironman', 'hulk', 'hitman', 'spiderman'}\n"
     ]
    }
   ],
   "source": [
    "set2.add('hulk') ## adding a new ele in set2\n",
    "set.remove(2)    ## remove a ele from set\n",
    "\n",
    "print(\"Set1: \", set1)\n",
    "print(\"Set2: \", set2)"
   ]
  },
  {
   "cell_type": "code",
   "execution_count": 27,
   "id": "baf56768",
   "metadata": {},
   "outputs": [
    {
     "data": {
      "text/plain": [
       "{'batman', 'hitman', 'hulk', 'ironman', 'spiderman'}"
      ]
     },
     "execution_count": 27,
     "metadata": {},
     "output_type": "execute_result"
    }
   ],
   "source": [
    "## Union\n",
    "set1.union(set2) # join both of the sets"
   ]
  },
  {
   "cell_type": "code",
   "execution_count": 28,
   "id": "81f6b085",
   "metadata": {},
   "outputs": [
    {
     "data": {
      "text/plain": [
       "{'batman', 'hitman', 'ironman', 'spiderman'}"
      ]
     },
     "execution_count": 28,
     "metadata": {},
     "output_type": "execute_result"
    }
   ],
   "source": [
    "## Intersection\n",
    "set1.intersection(set2) # get common elements between the 2 sets"
   ]
  },
  {
   "cell_type": "code",
   "execution_count": 29,
   "id": "cf70c618",
   "metadata": {},
   "outputs": [
    {
     "name": "stdout",
     "output_type": "stream",
     "text": [
      "{'ironman', 'batman', 'hitman', 'spiderman'}\n"
     ]
    }
   ],
   "source": [
    "## Intersection Update\n",
    "set2.intersection_update(set1)    ## update the set eles with the insection vals\n",
    "print(set2)"
   ]
  },
  {
   "cell_type": "code",
   "execution_count": 30,
   "id": "bc596415",
   "metadata": {},
   "outputs": [
    {
     "name": "stdout",
     "output_type": "stream",
     "text": [
      "{'hulk'}\n",
      "{'hulk'}\n"
     ]
    }
   ],
   "source": [
    "## Difference\n",
    "set2.add('hulk') ## cuz we have updated the set2 in intersection\n",
    "\n",
    "print(set2.difference(set1)) # get common elements between the 2 sets\n",
    "\n",
    "## Intersection Update\n",
    "set2.difference_update(set1)    ## update the set eles with the insection vals\n",
    "print(set2)"
   ]
  },
  {
   "cell_type": "markdown",
   "id": "8b7d5a2d",
   "metadata": {},
   "source": [
    "### Tuples\n",
    "\n",
    "_Tuple items are ordered, unchangeable, and allow duplicate values._\n",
    "_Tuple items are indexed, the first item has index [0], the second item has index [1] etc._\n",
    "\n",
    "**Ordered**<br>\n",
    "_When we say that tuples are ordered, it means that the items have a defined order, and that order will not change._\n",
    "\n",
    "**Unchangeable**<br>\n",
    "_Tuples are unchangeable, meaning that we cannot change, add or remove items after the tuple has been created._\n",
    "\n",
    "**Allow Duplicates**<br>\n",
    "_Since tuples are indexed, they can have items with the same value._"
   ]
  },
  {
   "cell_type": "code",
   "execution_count": 31,
   "id": "edaaa023",
   "metadata": {},
   "outputs": [
    {
     "name": "stdout",
     "output_type": "stream",
     "text": [
      "('deb', 'abhi', 'rah', 'sou')\n"
     ]
    },
    {
     "data": {
      "text/plain": [
       "tuple"
      ]
     },
     "execution_count": 31,
     "metadata": {},
     "output_type": "execute_result"
    }
   ],
   "source": [
    "## Defining\n",
    "a_tuple = (\"deb\", \"abhi\", \"rah\", \"sou\")\n",
    "print(a_tuple)\n",
    "type(a_tuple)"
   ]
  },
  {
   "cell_type": "code",
   "execution_count": 32,
   "id": "9103796d",
   "metadata": {},
   "outputs": [
    {
     "data": {
      "text/plain": [
       "'---------------------------------------------------------------------------\\nAttributeError                            Traceback (most recent call last)\\nInput In [12], in <cell line: 1>()\\n----> 1 a_tuple.append(\"df\")\\n\\nAttributeError: \\'tuple\\' object has no attribute \\'append\\'\\n'"
      ]
     },
     "execution_count": 32,
     "metadata": {},
     "output_type": "execute_result"
    }
   ],
   "source": [
    "# can't add, appened or remove element from it\n",
    "# a_tuple.append(\"df\") \n",
    "\n",
    "\"\"\"---------------------------------------------------------------------------\n",
    "AttributeError                            Traceback (most recent call last)\n",
    "Input In [12], in <cell line: 1>()\n",
    "----> 1 a_tuple.append(\"df\")\n",
    "\n",
    "AttributeError: 'tuple' object has no attribute 'append'\n",
    "\"\"\""
   ]
  },
  {
   "cell_type": "code",
   "execution_count": 33,
   "id": "3cc0325e",
   "metadata": {},
   "outputs": [
    {
     "name": "stdout",
     "output_type": "stream",
     "text": [
      "1\n",
      "2\n"
     ]
    }
   ],
   "source": [
    "# only 2 inbuilt functions can be performed in tuples\n",
    "\n",
    "print(a_tuple.count('deb'))\n",
    "print(a_tuple.index('rah'))"
   ]
  },
  {
   "cell_type": "markdown",
   "id": "d5f15ce2",
   "metadata": {},
   "source": [
    "### Dictionaries\n",
    "_Dictionaries are used to store data values in key:value pairs._<br>\n",
    "_A dictionary is a collection which is ordered*, changeable and do not allow duplicates._<br>\n",
    "\n",
    "_Dictionaries are written with curly brackets, and have keys and values_"
   ]
  },
  {
   "cell_type": "code",
   "execution_count": 34,
   "id": "0b24172c",
   "metadata": {},
   "outputs": [
    {
     "data": {
      "text/plain": [
       "dict"
      ]
     },
     "execution_count": 34,
     "metadata": {},
     "output_type": "execute_result"
    }
   ],
   "source": [
    "# defining\n",
    "n_dict = dict()\n",
    "#or\n",
    "n_dict = {}\n",
    "type(n_dict)"
   ]
  },
  {
   "cell_type": "code",
   "execution_count": 35,
   "id": "40ad6e99",
   "metadata": {},
   "outputs": [
    {
     "name": "stdout",
     "output_type": "stream",
     "text": [
      "{'c1': 'BMW', 'c2': 'Audi', 'c3': 'Lambo', 'c4': 'Porsche'}\n"
     ]
    }
   ],
   "source": [
    "# creating a dict\n",
    "\n",
    "n_dict = {\"c1\": 'BMW',\n",
    "          \"c2\": 'Audi',\n",
    "          \"c3\": 'Lambo',\n",
    "          \"c4\": 'Porsche'         \n",
    "         }\n",
    "\n",
    "print(n_dict)"
   ]
  },
  {
   "cell_type": "code",
   "execution_count": 36,
   "id": "82bf1530",
   "metadata": {},
   "outputs": [
    {
     "data": {
      "text/plain": [
       "'BMW'"
      ]
     },
     "execution_count": 36,
     "metadata": {},
     "output_type": "execute_result"
    }
   ],
   "source": [
    "# indexing\n",
    "\n",
    "n_dict['c1']"
   ]
  },
  {
   "cell_type": "code",
   "execution_count": 37,
   "id": "099a88e1",
   "metadata": {},
   "outputs": [
    {
     "name": "stdout",
     "output_type": "stream",
     "text": [
      "{'c1': 'McLaren', 'c2': 'Audi', 'c3': 'Lambo', 'c4': 'Porsche', 'c5': 'Mercedes'}\n"
     ]
    }
   ],
   "source": [
    "# Adding into dict\n",
    "\n",
    "n_dict['c5'] = \"Mercedes\"\n",
    "n_dict['c1'] = \"McLaren\" # replacing the value of c1\n",
    "print(n_dict)"
   ]
  },
  {
   "cell_type": "code",
   "execution_count": 38,
   "id": "539de44b",
   "metadata": {},
   "outputs": [
    {
     "name": "stdout",
     "output_type": "stream",
     "text": [
      "{'brand': 'Ford', 'year': 1964}\n"
     ]
    }
   ],
   "source": [
    "# removing an ele\n",
    "thisdict = {\n",
    "  \"brand\": \"Ford\",\n",
    "  \"model\": \"Mustang\",\n",
    "  \"year\": 1964\n",
    "}\n",
    "\n",
    "thisdict.pop(\"model\")\n",
    "print(thisdict)"
   ]
  },
  {
   "cell_type": "code",
   "execution_count": 39,
   "id": "3f83081d",
   "metadata": {},
   "outputs": [
    {
     "name": "stdout",
     "output_type": "stream",
     "text": [
      "c1\n",
      "c2\n",
      "c3\n",
      "c4\n",
      "c5\n"
     ]
    }
   ],
   "source": [
    "for x in n_dict: # looping out for the keys\n",
    "    print(x)"
   ]
  },
  {
   "cell_type": "code",
   "execution_count": 40,
   "id": "989810fc",
   "metadata": {},
   "outputs": [
    {
     "name": "stdout",
     "output_type": "stream",
     "text": [
      "McLaren\n",
      "Audi\n",
      "Lambo\n",
      "Porsche\n",
      "Mercedes\n"
     ]
    }
   ],
   "source": [
    "for x in n_dict.values(): # looping for the keys\n",
    "    print(x)"
   ]
  },
  {
   "cell_type": "code",
   "execution_count": 41,
   "id": "25ccbd9d",
   "metadata": {},
   "outputs": [
    {
     "name": "stdout",
     "output_type": "stream",
     "text": [
      "('c1', 'McLaren')\n",
      "('c2', 'Audi')\n",
      "('c3', 'Lambo')\n",
      "('c4', 'Porsche')\n",
      "('c5', 'Mercedes')\n"
     ]
    }
   ],
   "source": [
    "# we can also check the key and values\n",
    "\n",
    "for x in n_dict.items():\n",
    "    print(x)"
   ]
  },
  {
   "cell_type": "markdown",
   "id": "b244e581",
   "metadata": {},
   "source": [
    "#### Nested Dictionary"
   ]
  },
  {
   "cell_type": "code",
   "execution_count": 42,
   "id": "ac886416",
   "metadata": {},
   "outputs": [
    {
     "name": "stdout",
     "output_type": "stream",
     "text": [
      "('c1', {'Mercedes Benz': 1832})\n",
      "('c2', {'Porsche': 1926})\n",
      "('c3', {'Lambo': 1858})\n"
     ]
    }
   ],
   "source": [
    "c1_model = {'Mercedes Benz': 1832}\n",
    "c2_model = {'Porsche': 1926}\n",
    "c3_model = {'Lambo': 1858}\n",
    "\n",
    "car = {\"c1\": c1_model, \"c2\": c2_model, \"c3\": c3_model}\n",
    "\n",
    "for x in car.items():\n",
    "    print(x)"
   ]
  },
  {
   "cell_type": "code",
   "execution_count": 45,
   "id": "11e3c4ba",
   "metadata": {},
   "outputs": [
    {
     "name": "stdout",
     "output_type": "stream",
     "text": [
      "Model:  Lambo\n",
      "Model date:  1858\n"
     ]
    }
   ],
   "source": [
    "print(\"Model: \", list(car[\"c3\"])[0])\n",
    "print(\"Model date: \", car['c3']['Lambo'])"
   ]
  },
  {
   "cell_type": "code",
   "execution_count": 46,
   "id": "078402cc",
   "metadata": {},
   "outputs": [
    {
     "name": "stdout",
     "output_type": "stream",
     "text": [
      "{'brand': 'Ford', 'electric': False, 'year': 1964, 'colors': ['red', 'white', 'blue']}\n"
     ]
    }
   ],
   "source": [
    "# Dictionary Items - of any Data Types\n",
    "\n",
    "thisdict = {\n",
    "  \"brand\": \"Ford\",\n",
    "  \"electric\": False,\n",
    "  \"year\": 1964,\n",
    "  \"colors\": [\"red\", \"white\", \"blue\"]\n",
    "}\n",
    "\n",
    "print(thisdict)"
   ]
  },
  {
   "cell_type": "markdown",
   "id": "cf7185cd",
   "metadata": {},
   "source": [
    "<img src=\"https://qph.cf2.quoracdn.net/main-qimg-666ab2f17a43d160020a18db79bc5bbc-lq\" title=\"List vs Sets vs Dict vs Tuples\"/>"
   ]
  },
  {
   "cell_type": "code",
   "execution_count": null,
   "id": "817964b2",
   "metadata": {},
   "outputs": [],
   "source": []
  }
 ],
 "metadata": {
  "kernelspec": {
   "display_name": "Python 3 (ipykernel)",
   "language": "python",
   "name": "python3"
  },
  "language_info": {
   "codemirror_mode": {
    "name": "ipython",
    "version": 3
   },
   "file_extension": ".py",
   "mimetype": "text/x-python",
   "name": "python",
   "nbconvert_exporter": "python",
   "pygments_lexer": "ipython3",
   "version": "3.10.4"
  },
  "vscode": {
   "interpreter": {
    "hash": "26de051ba29f2982a8de78e945f0abaf191376122a1563185a90213a26c5da77"
   }
  }
 },
 "nbformat": 4,
 "nbformat_minor": 5
}

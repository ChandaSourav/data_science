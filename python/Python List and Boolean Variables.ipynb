{
 "cells": [
  {
   "cell_type": "code",
   "execution_count": 11,
   "id": "49e68cb2",
   "metadata": {},
   "outputs": [],
   "source": [
    "my_name = \"debjeet\""
   ]
  },
  {
   "cell_type": "code",
   "execution_count": 25,
   "id": "fb31031f",
   "metadata": {},
   "outputs": [
    {
     "name": "stdout",
     "output_type": "stream",
     "text": [
      "Debjeet\n",
      "True\n",
      "False\n",
      "True\n",
      "False\n",
      "True\n",
      "False\n"
     ]
    }
   ],
   "source": [
    "print(my_name.capitalize()) \n",
    "print(my_name.isalpha())\n",
    "print(my_name.isdigit()) # check if the str is digit or not\n",
    "print(my_name.isalnum()) # check if the str is alphanumeric\n",
    "print(my_name.isspace()) # check if there is a space \n",
    "print(my_name.startswith(\"d\"))\n",
    "print(my_name.endswith(\"w\"))"
   ]
  }
 ],
 "metadata": {
  "kernelspec": {
   "display_name": "Python 3 (ipykernel)",
   "language": "python",
   "name": "python3"
  },
  "language_info": {
   "codemirror_mode": {
    "name": "ipython",
    "version": 3
   },
   "file_extension": ".py",
   "mimetype": "text/x-python",
   "name": "python",
   "nbconvert_exporter": "python",
   "pygments_lexer": "ipython3",
   "version": "3.10.4"
  }
 },
 "nbformat": 4,
 "nbformat_minor": 5
}

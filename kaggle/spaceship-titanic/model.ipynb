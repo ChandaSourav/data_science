{
 "cells": [
  {
   "cell_type": "code",
   "execution_count": 1,
   "id": "bbc7e645-901f-40cc-acd0-a30da7dbae7a",
   "metadata": {},
   "outputs": [],
   "source": [
    "import numpy as np\n",
    "import pandas as pd"
   ]
  },
  {
   "cell_type": "code",
   "execution_count": 2,
   "id": "01cf749c-df11-4e24-81cc-d840723801d2",
   "metadata": {},
   "outputs": [],
   "source": [
    "train_df = pd.read_csv(\"train.csv\")\n",
    "test_df = pd.read_csv(\"test.csv\")"
   ]
  },
  {
   "cell_type": "code",
   "execution_count": 3,
   "id": "056d3a79-2f91-4b55-9b50-a1977823013b",
   "metadata": {},
   "outputs": [
    {
     "data": {
      "text/html": [
       "<div>\n",
       "<style scoped>\n",
       "    .dataframe tbody tr th:only-of-type {\n",
       "        vertical-align: middle;\n",
       "    }\n",
       "\n",
       "    .dataframe tbody tr th {\n",
       "        vertical-align: top;\n",
       "    }\n",
       "\n",
       "    .dataframe thead th {\n",
       "        text-align: right;\n",
       "    }\n",
       "</style>\n",
       "<table border=\"1\" class=\"dataframe\">\n",
       "  <thead>\n",
       "    <tr style=\"text-align: right;\">\n",
       "      <th></th>\n",
       "      <th>PassengerId</th>\n",
       "      <th>HomePlanet</th>\n",
       "      <th>CryoSleep</th>\n",
       "      <th>Cabin</th>\n",
       "      <th>Destination</th>\n",
       "      <th>Age</th>\n",
       "      <th>VIP</th>\n",
       "      <th>RoomService</th>\n",
       "      <th>FoodCourt</th>\n",
       "      <th>ShoppingMall</th>\n",
       "      <th>Spa</th>\n",
       "      <th>VRDeck</th>\n",
       "      <th>Name</th>\n",
       "      <th>Transported</th>\n",
       "    </tr>\n",
       "  </thead>\n",
       "  <tbody>\n",
       "    <tr>\n",
       "      <th>5250</th>\n",
       "      <td>5602_01</td>\n",
       "      <td>Europa</td>\n",
       "      <td>True</td>\n",
       "      <td>B/190/P</td>\n",
       "      <td>TRAPPIST-1e</td>\n",
       "      <td>35.0</td>\n",
       "      <td>False</td>\n",
       "      <td>0.0</td>\n",
       "      <td>0.0</td>\n",
       "      <td>0.0</td>\n",
       "      <td>0.0</td>\n",
       "      <td>0.0</td>\n",
       "      <td>Castab Sedece</td>\n",
       "      <td>True</td>\n",
       "    </tr>\n",
       "    <tr>\n",
       "      <th>6399</th>\n",
       "      <td>6760_01</td>\n",
       "      <td>Mars</td>\n",
       "      <td>False</td>\n",
       "      <td>F/1404/P</td>\n",
       "      <td>PSO J318.5-22</td>\n",
       "      <td>30.0</td>\n",
       "      <td>False</td>\n",
       "      <td>51.0</td>\n",
       "      <td>0.0</td>\n",
       "      <td>1373.0</td>\n",
       "      <td>0.0</td>\n",
       "      <td>5.0</td>\n",
       "      <td>Shex Pri</td>\n",
       "      <td>True</td>\n",
       "    </tr>\n",
       "    <tr>\n",
       "      <th>5816</th>\n",
       "      <td>6153_01</td>\n",
       "      <td>Europa</td>\n",
       "      <td>True</td>\n",
       "      <td>B/236/S</td>\n",
       "      <td>55 Cancri e</td>\n",
       "      <td>41.0</td>\n",
       "      <td>False</td>\n",
       "      <td>0.0</td>\n",
       "      <td>0.0</td>\n",
       "      <td>0.0</td>\n",
       "      <td>0.0</td>\n",
       "      <td>0.0</td>\n",
       "      <td>Weionan Genuild</td>\n",
       "      <td>True</td>\n",
       "    </tr>\n",
       "    <tr>\n",
       "      <th>2681</th>\n",
       "      <td>2871_02</td>\n",
       "      <td>Europa</td>\n",
       "      <td>True</td>\n",
       "      <td>B/88/P</td>\n",
       "      <td>TRAPPIST-1e</td>\n",
       "      <td>27.0</td>\n",
       "      <td>False</td>\n",
       "      <td>0.0</td>\n",
       "      <td>0.0</td>\n",
       "      <td>0.0</td>\n",
       "      <td>0.0</td>\n",
       "      <td>0.0</td>\n",
       "      <td>Sarthim Unregul</td>\n",
       "      <td>True</td>\n",
       "    </tr>\n",
       "    <tr>\n",
       "      <th>586</th>\n",
       "      <td>0609_01</td>\n",
       "      <td>Mars</td>\n",
       "      <td>False</td>\n",
       "      <td>F/128/P</td>\n",
       "      <td>TRAPPIST-1e</td>\n",
       "      <td>33.0</td>\n",
       "      <td>False</td>\n",
       "      <td>149.0</td>\n",
       "      <td>0.0</td>\n",
       "      <td>NaN</td>\n",
       "      <td>0.0</td>\n",
       "      <td>109.0</td>\n",
       "      <td>Guteda Sacle</td>\n",
       "      <td>False</td>\n",
       "    </tr>\n",
       "  </tbody>\n",
       "</table>\n",
       "</div>"
      ],
      "text/plain": [
       "     PassengerId HomePlanet CryoSleep     Cabin    Destination   Age    VIP  \\\n",
       "5250     5602_01     Europa      True   B/190/P    TRAPPIST-1e  35.0  False   \n",
       "6399     6760_01       Mars     False  F/1404/P  PSO J318.5-22  30.0  False   \n",
       "5816     6153_01     Europa      True   B/236/S    55 Cancri e  41.0  False   \n",
       "2681     2871_02     Europa      True    B/88/P    TRAPPIST-1e  27.0  False   \n",
       "586      0609_01       Mars     False   F/128/P    TRAPPIST-1e  33.0  False   \n",
       "\n",
       "      RoomService  FoodCourt  ShoppingMall  Spa  VRDeck             Name  \\\n",
       "5250          0.0        0.0           0.0  0.0     0.0    Castab Sedece   \n",
       "6399         51.0        0.0        1373.0  0.0     5.0         Shex Pri   \n",
       "5816          0.0        0.0           0.0  0.0     0.0  Weionan Genuild   \n",
       "2681          0.0        0.0           0.0  0.0     0.0  Sarthim Unregul   \n",
       "586         149.0        0.0           NaN  0.0   109.0     Guteda Sacle   \n",
       "\n",
       "      Transported  \n",
       "5250         True  \n",
       "6399         True  \n",
       "5816         True  \n",
       "2681         True  \n",
       "586         False  "
      ]
     },
     "execution_count": 3,
     "metadata": {},
     "output_type": "execute_result"
    }
   ],
   "source": [
    "train_df.sample(5)"
   ]
  },
  {
   "cell_type": "code",
   "execution_count": 4,
   "id": "d548c00b-d55a-4c2c-8087-20faae76fd10",
   "metadata": {},
   "outputs": [
    {
     "data": {
      "text/plain": [
       "(8693, 14)"
      ]
     },
     "execution_count": 4,
     "metadata": {},
     "output_type": "execute_result"
    }
   ],
   "source": [
    "train_df.shape"
   ]
  },
  {
   "cell_type": "markdown",
   "id": "e06bb7da-56cf-430d-8b15-303ced39ad23",
   "metadata": {},
   "source": [
    "## Data cleaning"
   ]
  },
  {
   "cell_type": "code",
   "execution_count": 5,
   "id": "dd9eba6a-d5fd-424f-8f65-6a5bc88ac063",
   "metadata": {},
   "outputs": [
    {
     "data": {
      "text/plain": [
       "PassengerId       0\n",
       "HomePlanet      201\n",
       "CryoSleep       217\n",
       "Cabin           199\n",
       "Destination     182\n",
       "Age             179\n",
       "VIP             203\n",
       "RoomService     181\n",
       "FoodCourt       183\n",
       "ShoppingMall    208\n",
       "Spa             183\n",
       "VRDeck          188\n",
       "Name            200\n",
       "Transported       0\n",
       "dtype: int64"
      ]
     },
     "execution_count": 5,
     "metadata": {},
     "output_type": "execute_result"
    }
   ],
   "source": [
    "train_df.isna().sum()"
   ]
  },
  {
   "cell_type": "code",
   "execution_count": 6,
   "id": "a18efcd8-a818-4b62-be2a-4aaff92480cd",
   "metadata": {},
   "outputs": [],
   "source": [
    "services_cols = ['RoomService', 'FoodCourt', 'ShoppingMall', 'Spa', 'VRDeck']\n",
    "train_df[services_cols]  = train_df[services_cols].fillna(0.0)\n",
    "test_df[services_cols]  = test_df[services_cols].fillna(0.0)"
   ]
  },
  {
   "cell_type": "code",
   "execution_count": 7,
   "id": "cb42b13f-891a-4a21-9ebf-122f2bce0385",
   "metadata": {},
   "outputs": [],
   "source": [
    "train_age_mean = train_df['Age'].mean()\n",
    "test_age_mean = test_df['Age'].mean()\n",
    "\n",
    "train_df['Age'] = train_df['Age'].fillna(train_age_mean)\n",
    "test_df['Age'] = test_df['Age'].fillna(test_age_mean)"
   ]
  },
  {
   "cell_type": "code",
   "execution_count": 8,
   "id": "ea6f6c77-1448-4f8c-b8c2-76533fc86f7c",
   "metadata": {},
   "outputs": [],
   "source": [
    "train_df = train_df.fillna(method='bfill')\n",
    "test_df = test_df.fillna(method='bfill')"
   ]
  },
  {
   "cell_type": "code",
   "execution_count": 9,
   "id": "4a3ef36b-bb71-43ef-805e-9b37b89e25f4",
   "metadata": {},
   "outputs": [
    {
     "data": {
      "text/plain": [
       "PassengerId     0\n",
       "HomePlanet      0\n",
       "CryoSleep       0\n",
       "Cabin           0\n",
       "Destination     0\n",
       "Age             0\n",
       "VIP             0\n",
       "RoomService     0\n",
       "FoodCourt       0\n",
       "ShoppingMall    0\n",
       "Spa             0\n",
       "VRDeck          0\n",
       "Name            0\n",
       "Transported     0\n",
       "dtype: int64"
      ]
     },
     "execution_count": 9,
     "metadata": {},
     "output_type": "execute_result"
    }
   ],
   "source": [
    "train_df.isna().sum()"
   ]
  },
  {
   "cell_type": "code",
   "execution_count": 10,
   "id": "05141ec2-a620-4bdd-b1ff-98e3a7fe6732",
   "metadata": {},
   "outputs": [
    {
     "data": {
      "text/plain": [
       "PassengerId     0\n",
       "HomePlanet      0\n",
       "CryoSleep       0\n",
       "Cabin           0\n",
       "Destination     0\n",
       "Age             0\n",
       "VIP             0\n",
       "RoomService     0\n",
       "FoodCourt       0\n",
       "ShoppingMall    0\n",
       "Spa             0\n",
       "VRDeck          0\n",
       "Name            0\n",
       "dtype: int64"
      ]
     },
     "execution_count": 10,
     "metadata": {},
     "output_type": "execute_result"
    }
   ],
   "source": [
    "test_df.isna().sum()"
   ]
  },
  {
   "cell_type": "code",
   "execution_count": 11,
   "id": "a556872e-948a-4f1a-ac67-13be98f5c934",
   "metadata": {},
   "outputs": [],
   "source": [
    "col_to_drop = ['PassengerId', 'Cabin', 'Name']\n",
    "\n",
    "n_train_df = train_df.drop(col_to_drop, axis='columns')\n",
    "n_test_df = test_df.drop(col_to_drop, axis='columns')"
   ]
  },
  {
   "cell_type": "markdown",
   "id": "fbab260b-5438-4f8d-bcfd-8352c0cf34bb",
   "metadata": {
    "tags": []
   },
   "source": [
    "## Data preprocessing"
   ]
  },
  {
   "cell_type": "code",
   "execution_count": 12,
   "id": "935d4db4-a25c-490d-a722-84cff1fa90b2",
   "metadata": {},
   "outputs": [
    {
     "data": {
      "text/html": [
       "<div>\n",
       "<style scoped>\n",
       "    .dataframe tbody tr th:only-of-type {\n",
       "        vertical-align: middle;\n",
       "    }\n",
       "\n",
       "    .dataframe tbody tr th {\n",
       "        vertical-align: top;\n",
       "    }\n",
       "\n",
       "    .dataframe thead th {\n",
       "        text-align: right;\n",
       "    }\n",
       "</style>\n",
       "<table border=\"1\" class=\"dataframe\">\n",
       "  <thead>\n",
       "    <tr style=\"text-align: right;\">\n",
       "      <th></th>\n",
       "      <th>HomePlanet</th>\n",
       "      <th>CryoSleep</th>\n",
       "      <th>Destination</th>\n",
       "      <th>Age</th>\n",
       "      <th>VIP</th>\n",
       "      <th>RoomService</th>\n",
       "      <th>FoodCourt</th>\n",
       "      <th>ShoppingMall</th>\n",
       "      <th>Spa</th>\n",
       "      <th>VRDeck</th>\n",
       "      <th>Transported</th>\n",
       "    </tr>\n",
       "  </thead>\n",
       "  <tbody>\n",
       "    <tr>\n",
       "      <th>3239</th>\n",
       "      <td>Earth</td>\n",
       "      <td>True</td>\n",
       "      <td>TRAPPIST-1e</td>\n",
       "      <td>25.0</td>\n",
       "      <td>False</td>\n",
       "      <td>0.0</td>\n",
       "      <td>0.0</td>\n",
       "      <td>0.0</td>\n",
       "      <td>0.0</td>\n",
       "      <td>0.0</td>\n",
       "      <td>False</td>\n",
       "    </tr>\n",
       "    <tr>\n",
       "      <th>4379</th>\n",
       "      <td>Europa</td>\n",
       "      <td>False</td>\n",
       "      <td>TRAPPIST-1e</td>\n",
       "      <td>38.0</td>\n",
       "      <td>False</td>\n",
       "      <td>0.0</td>\n",
       "      <td>93.0</td>\n",
       "      <td>0.0</td>\n",
       "      <td>0.0</td>\n",
       "      <td>7303.0</td>\n",
       "      <td>False</td>\n",
       "    </tr>\n",
       "    <tr>\n",
       "      <th>6259</th>\n",
       "      <td>Earth</td>\n",
       "      <td>True</td>\n",
       "      <td>PSO J318.5-22</td>\n",
       "      <td>34.0</td>\n",
       "      <td>False</td>\n",
       "      <td>0.0</td>\n",
       "      <td>0.0</td>\n",
       "      <td>0.0</td>\n",
       "      <td>0.0</td>\n",
       "      <td>0.0</td>\n",
       "      <td>True</td>\n",
       "    </tr>\n",
       "    <tr>\n",
       "      <th>3183</th>\n",
       "      <td>Earth</td>\n",
       "      <td>False</td>\n",
       "      <td>PSO J318.5-22</td>\n",
       "      <td>23.0</td>\n",
       "      <td>False</td>\n",
       "      <td>381.0</td>\n",
       "      <td>0.0</td>\n",
       "      <td>137.0</td>\n",
       "      <td>104.0</td>\n",
       "      <td>8.0</td>\n",
       "      <td>False</td>\n",
       "    </tr>\n",
       "    <tr>\n",
       "      <th>7483</th>\n",
       "      <td>Earth</td>\n",
       "      <td>False</td>\n",
       "      <td>TRAPPIST-1e</td>\n",
       "      <td>22.0</td>\n",
       "      <td>False</td>\n",
       "      <td>0.0</td>\n",
       "      <td>1145.0</td>\n",
       "      <td>0.0</td>\n",
       "      <td>0.0</td>\n",
       "      <td>371.0</td>\n",
       "      <td>False</td>\n",
       "    </tr>\n",
       "  </tbody>\n",
       "</table>\n",
       "</div>"
      ],
      "text/plain": [
       "     HomePlanet  CryoSleep    Destination   Age    VIP  RoomService  \\\n",
       "3239      Earth       True    TRAPPIST-1e  25.0  False          0.0   \n",
       "4379     Europa      False    TRAPPIST-1e  38.0  False          0.0   \n",
       "6259      Earth       True  PSO J318.5-22  34.0  False          0.0   \n",
       "3183      Earth      False  PSO J318.5-22  23.0  False        381.0   \n",
       "7483      Earth      False    TRAPPIST-1e  22.0  False          0.0   \n",
       "\n",
       "      FoodCourt  ShoppingMall    Spa  VRDeck  Transported  \n",
       "3239        0.0           0.0    0.0     0.0        False  \n",
       "4379       93.0           0.0    0.0  7303.0        False  \n",
       "6259        0.0           0.0    0.0     0.0         True  \n",
       "3183        0.0         137.0  104.0     8.0        False  \n",
       "7483     1145.0           0.0    0.0   371.0        False  "
      ]
     },
     "execution_count": 12,
     "metadata": {},
     "output_type": "execute_result"
    }
   ],
   "source": [
    "n_train_df.sample(5)"
   ]
  },
  {
   "cell_type": "code",
   "execution_count": 13,
   "id": "71961edf-c1cc-4812-a224-6940aa424102",
   "metadata": {},
   "outputs": [
    {
     "name": "stdout",
     "output_type": "stream",
     "text": [
      "<class 'pandas.core.frame.DataFrame'>\n",
      "RangeIndex: 8693 entries, 0 to 8692\n",
      "Data columns (total 11 columns):\n",
      " #   Column        Non-Null Count  Dtype  \n",
      "---  ------        --------------  -----  \n",
      " 0   HomePlanet    8693 non-null   object \n",
      " 1   CryoSleep     8693 non-null   bool   \n",
      " 2   Destination   8693 non-null   object \n",
      " 3   Age           8693 non-null   float64\n",
      " 4   VIP           8693 non-null   bool   \n",
      " 5   RoomService   8693 non-null   float64\n",
      " 6   FoodCourt     8693 non-null   float64\n",
      " 7   ShoppingMall  8693 non-null   float64\n",
      " 8   Spa           8693 non-null   float64\n",
      " 9   VRDeck        8693 non-null   float64\n",
      " 10  Transported   8693 non-null   bool   \n",
      "dtypes: bool(3), float64(6), object(2)\n",
      "memory usage: 568.9+ KB\n"
     ]
    }
   ],
   "source": [
    "n_train_df.info()"
   ]
  },
  {
   "cell_type": "markdown",
   "id": "de9a0abf-5f64-4e0b-a12a-bc5e00b55614",
   "metadata": {},
   "source": [
    "### Dummy Variable"
   ]
  },
  {
   "cell_type": "code",
   "execution_count": 14,
   "id": "6d8e78f9-de92-47d4-bdc3-33182d5fcb01",
   "metadata": {},
   "outputs": [],
   "source": [
    "n_train_df[\"CryoSleep\"] = n_train_df[\"CryoSleep\"].apply([lambda x: 1 if(x == True) else 0])\n",
    "n_train_df[\"VIP\"] = n_train_df[\"VIP\"].apply([lambda x: 1 if(x == True) else 0])\n",
    "n_train_df[\"Transported\"] = n_train_df[\"Transported\"].apply([lambda x: 1 if(x == True) else 0])\n",
    "\n",
    "\n",
    "n_test_df[\"CryoSleep\"] = n_test_df[\"CryoSleep\"].apply([lambda x: 1 if(x == True) else 0])\n",
    "n_test_df[\"VIP\"] = n_test_df[\"VIP\"].apply([lambda x: 1 if(x == True) else 0])"
   ]
  },
  {
   "cell_type": "code",
   "execution_count": 15,
   "id": "d7f90b90-a096-4b69-8635-4caf44db544f",
   "metadata": {},
   "outputs": [
    {
     "data": {
      "text/plain": [
       "Earth     4697\n",
       "Europa    2184\n",
       "Mars      1812\n",
       "Name: HomePlanet, dtype: int64"
      ]
     },
     "execution_count": 15,
     "metadata": {},
     "output_type": "execute_result"
    }
   ],
   "source": [
    "n_train_df[\"HomePlanet\"].value_counts()"
   ]
  },
  {
   "cell_type": "code",
   "execution_count": 16,
   "id": "1a312757-5228-4de6-9fd3-18826c5f4bc4",
   "metadata": {},
   "outputs": [
    {
     "data": {
      "text/plain": [
       "TRAPPIST-1e      6041\n",
       "55 Cancri e      1836\n",
       "PSO J318.5-22     816\n",
       "Name: Destination, dtype: int64"
      ]
     },
     "execution_count": 16,
     "metadata": {},
     "output_type": "execute_result"
    }
   ],
   "source": [
    "n_train_df[\"Destination\"].value_counts()"
   ]
  },
  {
   "cell_type": "code",
   "execution_count": 17,
   "id": "599a6631-7861-4c57-937b-91562bc0e6b5",
   "metadata": {},
   "outputs": [],
   "source": [
    "n_train_df = pd.get_dummies(n_train_df, columns=['HomePlanet', 'Destination'], drop_first=True)\n",
    "n_test_df = pd.get_dummies(n_test_df, columns=['HomePlanet', 'Destination'], drop_first=True)"
   ]
  },
  {
   "cell_type": "code",
   "execution_count": 18,
   "id": "9438526c-11e1-4b6e-8558-18e4095e20f5",
   "metadata": {},
   "outputs": [],
   "source": [
    "X = n_train_df.drop(columns=[\"Transported\"])\n",
    "y = n_train_df[\"Transported\"]"
   ]
  },
  {
   "cell_type": "markdown",
   "id": "0a850866-ef93-40f4-9d24-e8d54e904c12",
   "metadata": {},
   "source": [
    "## Train test split"
   ]
  },
  {
   "cell_type": "code",
   "execution_count": 19,
   "id": "3e3af234-c408-4396-9f07-89a61dbb8f9a",
   "metadata": {},
   "outputs": [],
   "source": [
    "from sklearn.model_selection import train_test_split\n",
    "\n",
    "X_train, X_test, y_train, y_test = train_test_split(X, y, test_size=0.2, random_state=42)"
   ]
  },
  {
   "cell_type": "markdown",
   "id": "ac3f6df5-e5a1-4d18-9eb0-b692a35c56c1",
   "metadata": {},
   "source": [
    "## Build Model "
   ]
  },
  {
   "cell_type": "markdown",
   "id": "ebe9f38f-5438-4d6c-b6ca-8b89fa02922c",
   "metadata": {},
   "source": [
    "### 1. Random Forest Classifier"
   ]
  },
  {
   "cell_type": "code",
   "execution_count": 55,
   "id": "6e4461d1-167d-47e2-bfe3-009f9515a020",
   "metadata": {},
   "outputs": [],
   "source": [
    "from sklearn.ensemble import RandomForestClassifier\n",
    "model = RandomForestClassifier(n_estimators=300, random_state=0, max_depth=12)"
   ]
  },
  {
   "cell_type": "code",
   "execution_count": 56,
   "id": "5a4c2cf0-0ca8-40a4-80ee-b07bf815e686",
   "metadata": {},
   "outputs": [
    {
     "data": {
      "text/html": [
       "<style>#sk-container-id-2 {color: black;background-color: white;}#sk-container-id-2 pre{padding: 0;}#sk-container-id-2 div.sk-toggleable {background-color: white;}#sk-container-id-2 label.sk-toggleable__label {cursor: pointer;display: block;width: 100%;margin-bottom: 0;padding: 0.3em;box-sizing: border-box;text-align: center;}#sk-container-id-2 label.sk-toggleable__label-arrow:before {content: \"▸\";float: left;margin-right: 0.25em;color: #696969;}#sk-container-id-2 label.sk-toggleable__label-arrow:hover:before {color: black;}#sk-container-id-2 div.sk-estimator:hover label.sk-toggleable__label-arrow:before {color: black;}#sk-container-id-2 div.sk-toggleable__content {max-height: 0;max-width: 0;overflow: hidden;text-align: left;background-color: #f0f8ff;}#sk-container-id-2 div.sk-toggleable__content pre {margin: 0.2em;color: black;border-radius: 0.25em;background-color: #f0f8ff;}#sk-container-id-2 input.sk-toggleable__control:checked~div.sk-toggleable__content {max-height: 200px;max-width: 100%;overflow: auto;}#sk-container-id-2 input.sk-toggleable__control:checked~label.sk-toggleable__label-arrow:before {content: \"▾\";}#sk-container-id-2 div.sk-estimator input.sk-toggleable__control:checked~label.sk-toggleable__label {background-color: #d4ebff;}#sk-container-id-2 div.sk-label input.sk-toggleable__control:checked~label.sk-toggleable__label {background-color: #d4ebff;}#sk-container-id-2 input.sk-hidden--visually {border: 0;clip: rect(1px 1px 1px 1px);clip: rect(1px, 1px, 1px, 1px);height: 1px;margin: -1px;overflow: hidden;padding: 0;position: absolute;width: 1px;}#sk-container-id-2 div.sk-estimator {font-family: monospace;background-color: #f0f8ff;border: 1px dotted black;border-radius: 0.25em;box-sizing: border-box;margin-bottom: 0.5em;}#sk-container-id-2 div.sk-estimator:hover {background-color: #d4ebff;}#sk-container-id-2 div.sk-parallel-item::after {content: \"\";width: 100%;border-bottom: 1px solid gray;flex-grow: 1;}#sk-container-id-2 div.sk-label:hover label.sk-toggleable__label {background-color: #d4ebff;}#sk-container-id-2 div.sk-serial::before {content: \"\";position: absolute;border-left: 1px solid gray;box-sizing: border-box;top: 0;bottom: 0;left: 50%;z-index: 0;}#sk-container-id-2 div.sk-serial {display: flex;flex-direction: column;align-items: center;background-color: white;padding-right: 0.2em;padding-left: 0.2em;position: relative;}#sk-container-id-2 div.sk-item {position: relative;z-index: 1;}#sk-container-id-2 div.sk-parallel {display: flex;align-items: stretch;justify-content: center;background-color: white;position: relative;}#sk-container-id-2 div.sk-item::before, #sk-container-id-2 div.sk-parallel-item::before {content: \"\";position: absolute;border-left: 1px solid gray;box-sizing: border-box;top: 0;bottom: 0;left: 50%;z-index: -1;}#sk-container-id-2 div.sk-parallel-item {display: flex;flex-direction: column;z-index: 1;position: relative;background-color: white;}#sk-container-id-2 div.sk-parallel-item:first-child::after {align-self: flex-end;width: 50%;}#sk-container-id-2 div.sk-parallel-item:last-child::after {align-self: flex-start;width: 50%;}#sk-container-id-2 div.sk-parallel-item:only-child::after {width: 0;}#sk-container-id-2 div.sk-dashed-wrapped {border: 1px dashed gray;margin: 0 0.4em 0.5em 0.4em;box-sizing: border-box;padding-bottom: 0.4em;background-color: white;}#sk-container-id-2 div.sk-label label {font-family: monospace;font-weight: bold;display: inline-block;line-height: 1.2em;}#sk-container-id-2 div.sk-label-container {text-align: center;}#sk-container-id-2 div.sk-container {/* jupyter's `normalize.less` sets `[hidden] { display: none; }` but bootstrap.min.css set `[hidden] { display: none !important; }` so we also need the `!important` here to be able to override the default hidden behavior on the sphinx rendered scikit-learn.org. See: https://github.com/scikit-learn/scikit-learn/issues/21755 */display: inline-block !important;position: relative;}#sk-container-id-2 div.sk-text-repr-fallback {display: none;}</style><div id=\"sk-container-id-2\" class=\"sk-top-container\"><div class=\"sk-text-repr-fallback\"><pre>RandomForestClassifier(max_depth=12, n_estimators=300, random_state=0)</pre><b>In a Jupyter environment, please rerun this cell to show the HTML representation or trust the notebook. <br />On GitHub, the HTML representation is unable to render, please try loading this page with nbviewer.org.</b></div><div class=\"sk-container\" hidden><div class=\"sk-item\"><div class=\"sk-estimator sk-toggleable\"><input class=\"sk-toggleable__control sk-hidden--visually\" id=\"sk-estimator-id-2\" type=\"checkbox\" checked><label for=\"sk-estimator-id-2\" class=\"sk-toggleable__label sk-toggleable__label-arrow\">RandomForestClassifier</label><div class=\"sk-toggleable__content\"><pre>RandomForestClassifier(max_depth=12, n_estimators=300, random_state=0)</pre></div></div></div></div></div>"
      ],
      "text/plain": [
       "RandomForestClassifier(max_depth=12, n_estimators=300, random_state=0)"
      ]
     },
     "execution_count": 56,
     "metadata": {},
     "output_type": "execute_result"
    }
   ],
   "source": [
    "model.fit(X_train, y_train)"
   ]
  },
  {
   "cell_type": "code",
   "execution_count": 57,
   "id": "9f8de288-55eb-43cb-b0ee-85d9b13e5687",
   "metadata": {},
   "outputs": [
    {
     "name": "stderr",
     "output_type": "stream",
     "text": [
      "C:\\Users\\Debjeet's PC\\AppData\\Roaming\\Python\\Python310\\site-packages\\sklearn\\base.py:450: UserWarning: X does not have valid feature names, but RandomForestClassifier was fitted with feature names\n",
      "  warnings.warn(\n"
     ]
    },
    {
     "data": {
      "text/plain": [
       "array([0], dtype=int64)"
      ]
     },
     "execution_count": 57,
     "metadata": {},
     "output_type": "execute_result"
    }
   ],
   "source": [
    "model.predict([X_train.iloc[100]])"
   ]
  },
  {
   "cell_type": "code",
   "execution_count": 58,
   "id": "ebb300f2-918b-44d9-a92f-8163428399b4",
   "metadata": {},
   "outputs": [
    {
     "data": {
      "text/plain": [
       "0"
      ]
     },
     "execution_count": 58,
     "metadata": {},
     "output_type": "execute_result"
    }
   ],
   "source": [
    "y_train.iloc[100]"
   ]
  },
  {
   "cell_type": "code",
   "execution_count": 59,
   "id": "78b85efc-748c-4c2c-a643-16e8648cfebe",
   "metadata": {},
   "outputs": [
    {
     "data": {
      "text/plain": [
       "0.7814836112708453"
      ]
     },
     "execution_count": 59,
     "metadata": {},
     "output_type": "execute_result"
    }
   ],
   "source": [
    "model.score(X_test, y_test)"
   ]
  },
  {
   "cell_type": "markdown",
   "id": "7d69fee5-0612-4c5d-acb0-52daa8d6a0af",
   "metadata": {},
   "source": [
    "### 2. CatBoost"
   ]
  },
  {
   "cell_type": "code",
   "execution_count": 60,
   "id": "1575671c-3071-47e7-86cf-da8ba368dd12",
   "metadata": {},
   "outputs": [],
   "source": [
    "# !pip install catboost\n",
    "# !pip install ipywidgets\n",
    "# !jupyter nbextension enable  — py widgetsnbextension"
   ]
  },
  {
   "cell_type": "code",
   "execution_count": 68,
   "id": "75db7dd6-fe48-43e1-887c-2b2217eae429",
   "metadata": {},
   "outputs": [],
   "source": [
    "from catboost import CatBoostClassifier\n",
    "model_catB = CatBoostClassifier(iterations=50, max_depth=12, learning_rate=0.15, random_state=0)"
   ]
  },
  {
   "cell_type": "code",
   "execution_count": 69,
   "id": "7b22a791-4174-4896-9685-06fc1ac41a88",
   "metadata": {
    "scrolled": true,
    "tags": []
   },
   "outputs": [
    {
     "name": "stdout",
     "output_type": "stream",
     "text": [
      "0:\tlearn: 0.6463133\ttest: 0.6496987\tbest: 0.6496987 (0)\ttotal: 114ms\tremaining: 5.58s\n",
      "1:\tlearn: 0.6067186\ttest: 0.6125711\tbest: 0.6125711 (1)\ttotal: 217ms\tremaining: 5.21s\n",
      "2:\tlearn: 0.5765410\ttest: 0.5854433\tbest: 0.5854433 (2)\ttotal: 322ms\tremaining: 5.05s\n",
      "3:\tlearn: 0.5518140\ttest: 0.5627068\tbest: 0.5627068 (3)\ttotal: 431ms\tremaining: 4.96s\n",
      "4:\tlearn: 0.5335571\ttest: 0.5462314\tbest: 0.5462314 (4)\ttotal: 535ms\tremaining: 4.81s\n",
      "5:\tlearn: 0.5168487\ttest: 0.5318060\tbest: 0.5318060 (5)\ttotal: 641ms\tremaining: 4.7s\n",
      "6:\tlearn: 0.5047420\ttest: 0.5210655\tbest: 0.5210655 (6)\ttotal: 745ms\tremaining: 4.58s\n",
      "7:\tlearn: 0.4918381\ttest: 0.5097866\tbest: 0.5097866 (7)\ttotal: 850ms\tremaining: 4.46s\n",
      "8:\tlearn: 0.4835888\ttest: 0.5030682\tbest: 0.5030682 (8)\ttotal: 964ms\tremaining: 4.39s\n",
      "9:\tlearn: 0.4752062\ttest: 0.4954692\tbest: 0.4954692 (9)\ttotal: 1.07s\tremaining: 4.28s\n",
      "10:\tlearn: 0.4678804\ttest: 0.4893346\tbest: 0.4893346 (10)\ttotal: 1.18s\tremaining: 4.18s\n",
      "11:\tlearn: 0.4613525\ttest: 0.4842806\tbest: 0.4842806 (11)\ttotal: 1.29s\tremaining: 4.09s\n",
      "12:\tlearn: 0.4564122\ttest: 0.4817838\tbest: 0.4817838 (12)\ttotal: 1.4s\tremaining: 3.98s\n",
      "13:\tlearn: 0.4510695\ttest: 0.4775905\tbest: 0.4775905 (13)\ttotal: 1.5s\tremaining: 3.86s\n",
      "14:\tlearn: 0.4460682\ttest: 0.4732332\tbest: 0.4732332 (14)\ttotal: 1.61s\tremaining: 3.76s\n",
      "15:\tlearn: 0.4423546\ttest: 0.4718193\tbest: 0.4718193 (15)\ttotal: 1.71s\tremaining: 3.64s\n",
      "16:\tlearn: 0.4383965\ttest: 0.4689505\tbest: 0.4689505 (16)\ttotal: 1.82s\tremaining: 3.54s\n",
      "17:\tlearn: 0.4352872\ttest: 0.4670520\tbest: 0.4670520 (17)\ttotal: 1.92s\tremaining: 3.42s\n",
      "18:\tlearn: 0.4327377\ttest: 0.4662656\tbest: 0.4662656 (18)\ttotal: 2.03s\tremaining: 3.31s\n",
      "19:\tlearn: 0.4306907\ttest: 0.4657262\tbest: 0.4657262 (19)\ttotal: 2.14s\tremaining: 3.21s\n",
      "20:\tlearn: 0.4282287\ttest: 0.4648722\tbest: 0.4648722 (20)\ttotal: 2.24s\tremaining: 3.1s\n",
      "21:\tlearn: 0.4255700\ttest: 0.4637424\tbest: 0.4637424 (21)\ttotal: 2.35s\tremaining: 3s\n",
      "22:\tlearn: 0.4232884\ttest: 0.4630054\tbest: 0.4630054 (22)\ttotal: 2.46s\tremaining: 2.88s\n",
      "23:\tlearn: 0.4213846\ttest: 0.4622134\tbest: 0.4622134 (23)\ttotal: 2.56s\tremaining: 2.77s\n",
      "24:\tlearn: 0.4196941\ttest: 0.4614615\tbest: 0.4614615 (24)\ttotal: 2.66s\tremaining: 2.66s\n",
      "25:\tlearn: 0.4179549\ttest: 0.4602500\tbest: 0.4602500 (25)\ttotal: 2.77s\tremaining: 2.56s\n",
      "26:\tlearn: 0.4163469\ttest: 0.4602744\tbest: 0.4602500 (25)\ttotal: 2.87s\tremaining: 2.45s\n",
      "27:\tlearn: 0.4146732\ttest: 0.4596607\tbest: 0.4596607 (27)\ttotal: 2.98s\tremaining: 2.34s\n",
      "28:\tlearn: 0.4127204\ttest: 0.4589457\tbest: 0.4589457 (28)\ttotal: 3.08s\tremaining: 2.23s\n",
      "29:\tlearn: 0.4112935\ttest: 0.4586451\tbest: 0.4586451 (29)\ttotal: 3.19s\tremaining: 2.13s\n",
      "30:\tlearn: 0.4094975\ttest: 0.4581082\tbest: 0.4581082 (30)\ttotal: 3.3s\tremaining: 2.02s\n",
      "31:\tlearn: 0.4082446\ttest: 0.4576594\tbest: 0.4576594 (31)\ttotal: 3.4s\tremaining: 1.91s\n",
      "32:\tlearn: 0.4069662\ttest: 0.4571683\tbest: 0.4571683 (32)\ttotal: 3.51s\tremaining: 1.81s\n",
      "33:\tlearn: 0.4054195\ttest: 0.4569669\tbest: 0.4569669 (33)\ttotal: 3.62s\tremaining: 1.7s\n",
      "34:\tlearn: 0.4043717\ttest: 0.4564330\tbest: 0.4564330 (34)\ttotal: 3.72s\tremaining: 1.59s\n",
      "35:\tlearn: 0.4036343\ttest: 0.4558718\tbest: 0.4558718 (35)\ttotal: 3.83s\tremaining: 1.49s\n",
      "36:\tlearn: 0.4026572\ttest: 0.4556014\tbest: 0.4556014 (36)\ttotal: 3.93s\tremaining: 1.38s\n",
      "37:\tlearn: 0.4011592\ttest: 0.4552355\tbest: 0.4552355 (37)\ttotal: 4.04s\tremaining: 1.27s\n",
      "38:\tlearn: 0.3998696\ttest: 0.4548810\tbest: 0.4548810 (38)\ttotal: 4.14s\tremaining: 1.17s\n",
      "39:\tlearn: 0.3989316\ttest: 0.4546935\tbest: 0.4546935 (39)\ttotal: 4.25s\tremaining: 1.06s\n",
      "40:\tlearn: 0.3978291\ttest: 0.4544974\tbest: 0.4544974 (40)\ttotal: 4.35s\tremaining: 956ms\n",
      "41:\tlearn: 0.3966258\ttest: 0.4540891\tbest: 0.4540891 (41)\ttotal: 4.47s\tremaining: 851ms\n",
      "42:\tlearn: 0.3955223\ttest: 0.4536459\tbest: 0.4536459 (42)\ttotal: 4.58s\tremaining: 746ms\n",
      "43:\tlearn: 0.3949819\ttest: 0.4533481\tbest: 0.4533481 (43)\ttotal: 4.69s\tremaining: 639ms\n",
      "44:\tlearn: 0.3941944\ttest: 0.4532967\tbest: 0.4532967 (44)\ttotal: 4.81s\tremaining: 535ms\n",
      "45:\tlearn: 0.3926580\ttest: 0.4533455\tbest: 0.4532967 (44)\ttotal: 4.93s\tremaining: 429ms\n",
      "46:\tlearn: 0.3919016\ttest: 0.4536914\tbest: 0.4532967 (44)\ttotal: 5.03s\tremaining: 321ms\n",
      "47:\tlearn: 0.3908176\ttest: 0.4538751\tbest: 0.4532967 (44)\ttotal: 5.14s\tremaining: 214ms\n",
      "48:\tlearn: 0.3900803\ttest: 0.4538863\tbest: 0.4532967 (44)\ttotal: 5.26s\tremaining: 107ms\n",
      "49:\tlearn: 0.3889558\ttest: 0.4540190\tbest: 0.4532967 (44)\ttotal: 5.38s\tremaining: 0us\n",
      "\n",
      "bestTest = 0.4532967352\n",
      "bestIteration = 44\n",
      "\n",
      "Shrink model to first 45 iterations.\n"
     ]
    },
    {
     "data": {
      "text/plain": [
       "<catboost.core.CatBoostClassifier at 0x216537cb0a0>"
      ]
     },
     "execution_count": 69,
     "metadata": {},
     "output_type": "execute_result"
    }
   ],
   "source": [
    "model_catB.fit(X_train, y_train, eval_set=(X_test, y_test))"
   ]
  },
  {
   "cell_type": "code",
   "execution_count": 70,
   "id": "cf6f5e7d-9e16-411c-a6a6-244527c65b3c",
   "metadata": {},
   "outputs": [
    {
     "data": {
      "text/plain": [
       "0.7814836112708453"
      ]
     },
     "execution_count": 70,
     "metadata": {},
     "output_type": "execute_result"
    }
   ],
   "source": [
    "model_catB.score(X_test, y_test)"
   ]
  },
  {
   "cell_type": "markdown",
   "id": "ffa0bad6-534e-411c-a640-a768a10f20e5",
   "metadata": {},
   "source": [
    "## Model test data predict"
   ]
  },
  {
   "cell_type": "code",
   "execution_count": null,
   "id": "18474ce8-8656-4392-b797-04a973baecd7",
   "metadata": {},
   "outputs": [],
   "source": [
    "test_df_pred = model.predict(n_test_df)"
   ]
  },
  {
   "cell_type": "code",
   "execution_count": null,
   "id": "5f2c3b59-c32b-4bf9-a1a8-9e035d03b8c4",
   "metadata": {},
   "outputs": [],
   "source": [
    "pId, trans_arr = [], []\n",
    "for i in range(len(test_df_pred)):\n",
    "    pId.append(test_df.iloc[i]['PassengerId'])\n",
    "    if(test_df_pred[i] == 1):\n",
    "        trans_arr.append('True')\n",
    "    if(test_df_pred[i] == 0):\n",
    "        trans_arr.append('False')"
   ]
  },
  {
   "cell_type": "code",
   "execution_count": null,
   "id": "a0ebf0fe-3cd2-447f-8d99-272cd0917db9",
   "metadata": {},
   "outputs": [],
   "source": [
    "len(pId), len(trans_arr)"
   ]
  },
  {
   "cell_type": "code",
   "execution_count": null,
   "id": "60f3495b-5a43-4f86-ae20-021118e9993a",
   "metadata": {},
   "outputs": [],
   "source": [
    "test_df.shape"
   ]
  },
  {
   "cell_type": "code",
   "execution_count": null,
   "id": "2ee630fd-c9fa-4c1d-a999-02275ba87dc3",
   "metadata": {},
   "outputs": [],
   "source": [
    "sample_sub_df = pd.DataFrame(data={ 'PassengerId' : pId, 'Transported': trans_arr})"
   ]
  },
  {
   "cell_type": "code",
   "execution_count": null,
   "id": "71af5fbe-ae98-40e6-aa16-75d82a6a8a72",
   "metadata": {},
   "outputs": [],
   "source": [
    "sample_sub_df"
   ]
  },
  {
   "cell_type": "code",
   "execution_count": null,
   "id": "81626af4-159a-4faf-bd73-54de5e8eef62",
   "metadata": {},
   "outputs": [],
   "source": [
    "sample_sub_df.to_csv(\"sample_submission.csv\", index=False)"
   ]
  }
 ],
 "metadata": {
  "kernelspec": {
   "display_name": "Python 3 (ipykernel)",
   "language": "python",
   "name": "python3"
  },
  "language_info": {
   "codemirror_mode": {
    "name": "ipython",
    "version": 3
   },
   "file_extension": ".py",
   "mimetype": "text/x-python",
   "name": "python",
   "nbconvert_exporter": "python",
   "pygments_lexer": "ipython3",
   "version": "3.10.4"
  },
  "widgets": {
   "application/vnd.jupyter.widget-state+json": {
    "state": {},
    "version_major": 2,
    "version_minor": 0
   }
  }
 },
 "nbformat": 4,
 "nbformat_minor": 5
}

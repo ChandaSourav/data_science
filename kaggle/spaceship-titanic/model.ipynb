{
 "cells": [
  {
   "cell_type": "code",
   "execution_count": 1,
   "id": "bbc7e645-901f-40cc-acd0-a30da7dbae7a",
   "metadata": {},
   "outputs": [],
   "source": [
    "import numpy as np\n",
    "import pandas as pd"
   ]
  },
  {
   "cell_type": "code",
   "execution_count": 2,
   "id": "01cf749c-df11-4e24-81cc-d840723801d2",
   "metadata": {},
   "outputs": [],
   "source": [
    "train_df = pd.read_csv(\"train.csv\")\n",
    "test_df = pd.read_csv(\"test.csv\")"
   ]
  },
  {
   "cell_type": "code",
   "execution_count": 3,
   "id": "056d3a79-2f91-4b55-9b50-a1977823013b",
   "metadata": {},
   "outputs": [
    {
     "data": {
      "text/html": [
       "<div>\n",
       "<style scoped>\n",
       "    .dataframe tbody tr th:only-of-type {\n",
       "        vertical-align: middle;\n",
       "    }\n",
       "\n",
       "    .dataframe tbody tr th {\n",
       "        vertical-align: top;\n",
       "    }\n",
       "\n",
       "    .dataframe thead th {\n",
       "        text-align: right;\n",
       "    }\n",
       "</style>\n",
       "<table border=\"1\" class=\"dataframe\">\n",
       "  <thead>\n",
       "    <tr style=\"text-align: right;\">\n",
       "      <th></th>\n",
       "      <th>PassengerId</th>\n",
       "      <th>HomePlanet</th>\n",
       "      <th>CryoSleep</th>\n",
       "      <th>Cabin</th>\n",
       "      <th>Destination</th>\n",
       "      <th>Age</th>\n",
       "      <th>VIP</th>\n",
       "      <th>RoomService</th>\n",
       "      <th>FoodCourt</th>\n",
       "      <th>ShoppingMall</th>\n",
       "      <th>Spa</th>\n",
       "      <th>VRDeck</th>\n",
       "      <th>Name</th>\n",
       "      <th>Transported</th>\n",
       "    </tr>\n",
       "  </thead>\n",
       "  <tbody>\n",
       "    <tr>\n",
       "      <th>118</th>\n",
       "      <td>0126_01</td>\n",
       "      <td>Mars</td>\n",
       "      <td>True</td>\n",
       "      <td>F/27/S</td>\n",
       "      <td>TRAPPIST-1e</td>\n",
       "      <td>67.0</td>\n",
       "      <td>False</td>\n",
       "      <td>0.0</td>\n",
       "      <td>0.0</td>\n",
       "      <td>0.0</td>\n",
       "      <td>0.0</td>\n",
       "      <td>0.0</td>\n",
       "      <td>Milly Mish</td>\n",
       "      <td>True</td>\n",
       "    </tr>\n",
       "    <tr>\n",
       "      <th>7150</th>\n",
       "      <td>7628_01</td>\n",
       "      <td>Mars</td>\n",
       "      <td>False</td>\n",
       "      <td>F/1584/P</td>\n",
       "      <td>TRAPPIST-1e</td>\n",
       "      <td>19.0</td>\n",
       "      <td>False</td>\n",
       "      <td>37.0</td>\n",
       "      <td>0.0</td>\n",
       "      <td>1288.0</td>\n",
       "      <td>0.0</td>\n",
       "      <td>0.0</td>\n",
       "      <td>Hoces Wala</td>\n",
       "      <td>True</td>\n",
       "    </tr>\n",
       "    <tr>\n",
       "      <th>3176</th>\n",
       "      <td>3424_01</td>\n",
       "      <td>Earth</td>\n",
       "      <td>False</td>\n",
       "      <td>E/233/S</td>\n",
       "      <td>TRAPPIST-1e</td>\n",
       "      <td>37.0</td>\n",
       "      <td>False</td>\n",
       "      <td>190.0</td>\n",
       "      <td>0.0</td>\n",
       "      <td>2.0</td>\n",
       "      <td>799.0</td>\n",
       "      <td>0.0</td>\n",
       "      <td>Jillie Carrishley</td>\n",
       "      <td>False</td>\n",
       "    </tr>\n",
       "    <tr>\n",
       "      <th>117</th>\n",
       "      <td>0123_01</td>\n",
       "      <td>Earth</td>\n",
       "      <td>False</td>\n",
       "      <td>F/27/P</td>\n",
       "      <td>TRAPPIST-1e</td>\n",
       "      <td>18.0</td>\n",
       "      <td>False</td>\n",
       "      <td>55.0</td>\n",
       "      <td>597.0</td>\n",
       "      <td>49.0</td>\n",
       "      <td>0.0</td>\n",
       "      <td>1.0</td>\n",
       "      <td>Iree Fielson</td>\n",
       "      <td>False</td>\n",
       "    </tr>\n",
       "    <tr>\n",
       "      <th>1464</th>\n",
       "      <td>1548_01</td>\n",
       "      <td>Europa</td>\n",
       "      <td>True</td>\n",
       "      <td>B/50/P</td>\n",
       "      <td>55 Cancri e</td>\n",
       "      <td>51.0</td>\n",
       "      <td>NaN</td>\n",
       "      <td>0.0</td>\n",
       "      <td>0.0</td>\n",
       "      <td>0.0</td>\n",
       "      <td>0.0</td>\n",
       "      <td>0.0</td>\n",
       "      <td>Okulk Unicting</td>\n",
       "      <td>True</td>\n",
       "    </tr>\n",
       "  </tbody>\n",
       "</table>\n",
       "</div>"
      ],
      "text/plain": [
       "     PassengerId HomePlanet CryoSleep     Cabin  Destination   Age    VIP  \\\n",
       "118      0126_01       Mars      True    F/27/S  TRAPPIST-1e  67.0  False   \n",
       "7150     7628_01       Mars     False  F/1584/P  TRAPPIST-1e  19.0  False   \n",
       "3176     3424_01      Earth     False   E/233/S  TRAPPIST-1e  37.0  False   \n",
       "117      0123_01      Earth     False    F/27/P  TRAPPIST-1e  18.0  False   \n",
       "1464     1548_01     Europa      True    B/50/P  55 Cancri e  51.0    NaN   \n",
       "\n",
       "      RoomService  FoodCourt  ShoppingMall    Spa  VRDeck               Name  \\\n",
       "118           0.0        0.0           0.0    0.0     0.0         Milly Mish   \n",
       "7150         37.0        0.0        1288.0    0.0     0.0         Hoces Wala   \n",
       "3176        190.0        0.0           2.0  799.0     0.0  Jillie Carrishley   \n",
       "117          55.0      597.0          49.0    0.0     1.0       Iree Fielson   \n",
       "1464          0.0        0.0           0.0    0.0     0.0     Okulk Unicting   \n",
       "\n",
       "      Transported  \n",
       "118          True  \n",
       "7150         True  \n",
       "3176        False  \n",
       "117         False  \n",
       "1464         True  "
      ]
     },
     "execution_count": 3,
     "metadata": {},
     "output_type": "execute_result"
    }
   ],
   "source": [
    "train_df.sample(5)"
   ]
  },
  {
   "cell_type": "code",
   "execution_count": 4,
   "id": "d548c00b-d55a-4c2c-8087-20faae76fd10",
   "metadata": {},
   "outputs": [
    {
     "data": {
      "text/plain": [
       "(8693, 14)"
      ]
     },
     "execution_count": 4,
     "metadata": {},
     "output_type": "execute_result"
    }
   ],
   "source": [
    "train_df.shape"
   ]
  },
  {
   "cell_type": "markdown",
   "id": "e06bb7da-56cf-430d-8b15-303ced39ad23",
   "metadata": {},
   "source": [
    "## Data cleaning"
   ]
  },
  {
   "cell_type": "code",
   "execution_count": 5,
   "id": "dd9eba6a-d5fd-424f-8f65-6a5bc88ac063",
   "metadata": {},
   "outputs": [
    {
     "data": {
      "text/plain": [
       "PassengerId       0\n",
       "HomePlanet      201\n",
       "CryoSleep       217\n",
       "Cabin           199\n",
       "Destination     182\n",
       "Age             179\n",
       "VIP             203\n",
       "RoomService     181\n",
       "FoodCourt       183\n",
       "ShoppingMall    208\n",
       "Spa             183\n",
       "VRDeck          188\n",
       "Name            200\n",
       "Transported       0\n",
       "dtype: int64"
      ]
     },
     "execution_count": 5,
     "metadata": {},
     "output_type": "execute_result"
    }
   ],
   "source": [
    "train_df.isna().sum()"
   ]
  },
  {
   "cell_type": "code",
   "execution_count": 6,
   "id": "a18efcd8-a818-4b62-be2a-4aaff92480cd",
   "metadata": {},
   "outputs": [],
   "source": [
    "services_cols = ['RoomService', 'FoodCourt', 'ShoppingMall', 'Spa', 'VRDeck']\n",
    "train_df[services_cols]  = train_df[services_cols].fillna(0.0)\n",
    "test_df[services_cols]  = test_df[services_cols].fillna(0.0)"
   ]
  },
  {
   "cell_type": "code",
   "execution_count": 7,
   "id": "cb42b13f-891a-4a21-9ebf-122f2bce0385",
   "metadata": {},
   "outputs": [],
   "source": [
    "train_age_mean = train_df['Age'].mean()\n",
    "test_age_mean = test_df['Age'].mean()\n",
    "\n",
    "train_df['Age'] = train_df['Age'].fillna(train_age_mean)\n",
    "test_df['Age'] = test_df['Age'].fillna(test_age_mean)"
   ]
  },
  {
   "cell_type": "code",
   "execution_count": 8,
   "id": "ea6f6c77-1448-4f8c-b8c2-76533fc86f7c",
   "metadata": {},
   "outputs": [],
   "source": [
    "train_df = train_df.fillna(method='bfill')\n",
    "test_df = test_df.fillna(method='bfill')"
   ]
  },
  {
   "cell_type": "code",
   "execution_count": 9,
   "id": "4a3ef36b-bb71-43ef-805e-9b37b89e25f4",
   "metadata": {},
   "outputs": [
    {
     "data": {
      "text/plain": [
       "PassengerId     0\n",
       "HomePlanet      0\n",
       "CryoSleep       0\n",
       "Cabin           0\n",
       "Destination     0\n",
       "Age             0\n",
       "VIP             0\n",
       "RoomService     0\n",
       "FoodCourt       0\n",
       "ShoppingMall    0\n",
       "Spa             0\n",
       "VRDeck          0\n",
       "Name            0\n",
       "Transported     0\n",
       "dtype: int64"
      ]
     },
     "execution_count": 9,
     "metadata": {},
     "output_type": "execute_result"
    }
   ],
   "source": [
    "train_df.isna().sum()"
   ]
  },
  {
   "cell_type": "code",
   "execution_count": 10,
   "id": "05141ec2-a620-4bdd-b1ff-98e3a7fe6732",
   "metadata": {},
   "outputs": [
    {
     "data": {
      "text/plain": [
       "PassengerId     0\n",
       "HomePlanet      0\n",
       "CryoSleep       0\n",
       "Cabin           0\n",
       "Destination     0\n",
       "Age             0\n",
       "VIP             0\n",
       "RoomService     0\n",
       "FoodCourt       0\n",
       "ShoppingMall    0\n",
       "Spa             0\n",
       "VRDeck          0\n",
       "Name            0\n",
       "dtype: int64"
      ]
     },
     "execution_count": 10,
     "metadata": {},
     "output_type": "execute_result"
    }
   ],
   "source": [
    "test_df.isna().sum()"
   ]
  },
  {
   "cell_type": "code",
   "execution_count": 11,
   "id": "a556872e-948a-4f1a-ac67-13be98f5c934",
   "metadata": {},
   "outputs": [],
   "source": [
    "col_to_drop = ['PassengerId', 'Cabin', 'Name']\n",
    "\n",
    "n_train_df = train_df.drop(col_to_drop, axis='columns')\n",
    "n_test_df = test_df.drop(col_to_drop, axis='columns')"
   ]
  },
  {
   "cell_type": "markdown",
   "id": "fbab260b-5438-4f8d-bcfd-8352c0cf34bb",
   "metadata": {
    "tags": []
   },
   "source": [
    "## Data preprocessing"
   ]
  },
  {
   "cell_type": "code",
   "execution_count": 12,
   "id": "935d4db4-a25c-490d-a722-84cff1fa90b2",
   "metadata": {},
   "outputs": [
    {
     "data": {
      "text/html": [
       "<div>\n",
       "<style scoped>\n",
       "    .dataframe tbody tr th:only-of-type {\n",
       "        vertical-align: middle;\n",
       "    }\n",
       "\n",
       "    .dataframe tbody tr th {\n",
       "        vertical-align: top;\n",
       "    }\n",
       "\n",
       "    .dataframe thead th {\n",
       "        text-align: right;\n",
       "    }\n",
       "</style>\n",
       "<table border=\"1\" class=\"dataframe\">\n",
       "  <thead>\n",
       "    <tr style=\"text-align: right;\">\n",
       "      <th></th>\n",
       "      <th>HomePlanet</th>\n",
       "      <th>CryoSleep</th>\n",
       "      <th>Destination</th>\n",
       "      <th>Age</th>\n",
       "      <th>VIP</th>\n",
       "      <th>RoomService</th>\n",
       "      <th>FoodCourt</th>\n",
       "      <th>ShoppingMall</th>\n",
       "      <th>Spa</th>\n",
       "      <th>VRDeck</th>\n",
       "      <th>Transported</th>\n",
       "    </tr>\n",
       "  </thead>\n",
       "  <tbody>\n",
       "    <tr>\n",
       "      <th>5552</th>\n",
       "      <td>Earth</td>\n",
       "      <td>True</td>\n",
       "      <td>TRAPPIST-1e</td>\n",
       "      <td>38.0</td>\n",
       "      <td>False</td>\n",
       "      <td>0.0</td>\n",
       "      <td>0.0</td>\n",
       "      <td>0.0</td>\n",
       "      <td>0.0</td>\n",
       "      <td>0.0</td>\n",
       "      <td>True</td>\n",
       "    </tr>\n",
       "    <tr>\n",
       "      <th>1271</th>\n",
       "      <td>Earth</td>\n",
       "      <td>False</td>\n",
       "      <td>TRAPPIST-1e</td>\n",
       "      <td>14.0</td>\n",
       "      <td>False</td>\n",
       "      <td>1489.0</td>\n",
       "      <td>2.0</td>\n",
       "      <td>126.0</td>\n",
       "      <td>460.0</td>\n",
       "      <td>72.0</td>\n",
       "      <td>False</td>\n",
       "    </tr>\n",
       "    <tr>\n",
       "      <th>3414</th>\n",
       "      <td>Europa</td>\n",
       "      <td>False</td>\n",
       "      <td>55 Cancri e</td>\n",
       "      <td>35.0</td>\n",
       "      <td>False</td>\n",
       "      <td>0.0</td>\n",
       "      <td>388.0</td>\n",
       "      <td>0.0</td>\n",
       "      <td>1792.0</td>\n",
       "      <td>2891.0</td>\n",
       "      <td>False</td>\n",
       "    </tr>\n",
       "    <tr>\n",
       "      <th>4558</th>\n",
       "      <td>Earth</td>\n",
       "      <td>False</td>\n",
       "      <td>TRAPPIST-1e</td>\n",
       "      <td>23.0</td>\n",
       "      <td>False</td>\n",
       "      <td>14.0</td>\n",
       "      <td>0.0</td>\n",
       "      <td>437.0</td>\n",
       "      <td>103.0</td>\n",
       "      <td>333.0</td>\n",
       "      <td>True</td>\n",
       "    </tr>\n",
       "    <tr>\n",
       "      <th>2914</th>\n",
       "      <td>Mars</td>\n",
       "      <td>True</td>\n",
       "      <td>55 Cancri e</td>\n",
       "      <td>25.0</td>\n",
       "      <td>False</td>\n",
       "      <td>0.0</td>\n",
       "      <td>0.0</td>\n",
       "      <td>0.0</td>\n",
       "      <td>0.0</td>\n",
       "      <td>0.0</td>\n",
       "      <td>True</td>\n",
       "    </tr>\n",
       "  </tbody>\n",
       "</table>\n",
       "</div>"
      ],
      "text/plain": [
       "     HomePlanet  CryoSleep  Destination   Age    VIP  RoomService  FoodCourt  \\\n",
       "5552      Earth       True  TRAPPIST-1e  38.0  False          0.0        0.0   \n",
       "1271      Earth      False  TRAPPIST-1e  14.0  False       1489.0        2.0   \n",
       "3414     Europa      False  55 Cancri e  35.0  False          0.0      388.0   \n",
       "4558      Earth      False  TRAPPIST-1e  23.0  False         14.0        0.0   \n",
       "2914       Mars       True  55 Cancri e  25.0  False          0.0        0.0   \n",
       "\n",
       "      ShoppingMall     Spa  VRDeck  Transported  \n",
       "5552           0.0     0.0     0.0         True  \n",
       "1271         126.0   460.0    72.0        False  \n",
       "3414           0.0  1792.0  2891.0        False  \n",
       "4558         437.0   103.0   333.0         True  \n",
       "2914           0.0     0.0     0.0         True  "
      ]
     },
     "execution_count": 12,
     "metadata": {},
     "output_type": "execute_result"
    }
   ],
   "source": [
    "n_train_df.sample(5)"
   ]
  },
  {
   "cell_type": "code",
   "execution_count": 13,
   "id": "71961edf-c1cc-4812-a224-6940aa424102",
   "metadata": {},
   "outputs": [
    {
     "name": "stdout",
     "output_type": "stream",
     "text": [
      "<class 'pandas.core.frame.DataFrame'>\n",
      "RangeIndex: 8693 entries, 0 to 8692\n",
      "Data columns (total 11 columns):\n",
      " #   Column        Non-Null Count  Dtype  \n",
      "---  ------        --------------  -----  \n",
      " 0   HomePlanet    8693 non-null   object \n",
      " 1   CryoSleep     8693 non-null   bool   \n",
      " 2   Destination   8693 non-null   object \n",
      " 3   Age           8693 non-null   float64\n",
      " 4   VIP           8693 non-null   bool   \n",
      " 5   RoomService   8693 non-null   float64\n",
      " 6   FoodCourt     8693 non-null   float64\n",
      " 7   ShoppingMall  8693 non-null   float64\n",
      " 8   Spa           8693 non-null   float64\n",
      " 9   VRDeck        8693 non-null   float64\n",
      " 10  Transported   8693 non-null   bool   \n",
      "dtypes: bool(3), float64(6), object(2)\n",
      "memory usage: 568.9+ KB\n"
     ]
    }
   ],
   "source": [
    "n_train_df.info()"
   ]
  },
  {
   "cell_type": "markdown",
   "id": "de9a0abf-5f64-4e0b-a12a-bc5e00b55614",
   "metadata": {},
   "source": [
    "### Dummy Variable"
   ]
  },
  {
   "cell_type": "code",
   "execution_count": 14,
   "id": "6d8e78f9-de92-47d4-bdc3-33182d5fcb01",
   "metadata": {},
   "outputs": [],
   "source": [
    "n_train_df[\"CryoSleep\"] = n_train_df[\"CryoSleep\"].apply([lambda x: 1 if(x == True) else 0])\n",
    "n_train_df[\"VIP\"] = n_train_df[\"VIP\"].apply([lambda x: 1 if(x == True) else 0])\n",
    "n_train_df[\"Transported\"] = n_train_df[\"Transported\"].apply([lambda x: 1 if(x == True) else 0])\n",
    "\n",
    "\n",
    "n_test_df[\"CryoSleep\"] = n_test_df[\"CryoSleep\"].apply([lambda x: 1 if(x == True) else 0])\n",
    "n_test_df[\"VIP\"] = n_test_df[\"VIP\"].apply([lambda x: 1 if(x == True) else 0])"
   ]
  },
  {
   "cell_type": "code",
   "execution_count": 15,
   "id": "d7f90b90-a096-4b69-8635-4caf44db544f",
   "metadata": {},
   "outputs": [
    {
     "data": {
      "text/plain": [
       "Earth     4697\n",
       "Europa    2184\n",
       "Mars      1812\n",
       "Name: HomePlanet, dtype: int64"
      ]
     },
     "execution_count": 15,
     "metadata": {},
     "output_type": "execute_result"
    }
   ],
   "source": [
    "n_train_df[\"HomePlanet\"].value_counts()"
   ]
  },
  {
   "cell_type": "code",
   "execution_count": 16,
   "id": "1a312757-5228-4de6-9fd3-18826c5f4bc4",
   "metadata": {},
   "outputs": [
    {
     "data": {
      "text/plain": [
       "TRAPPIST-1e      6041\n",
       "55 Cancri e      1836\n",
       "PSO J318.5-22     816\n",
       "Name: Destination, dtype: int64"
      ]
     },
     "execution_count": 16,
     "metadata": {},
     "output_type": "execute_result"
    }
   ],
   "source": [
    "n_train_df[\"Destination\"].value_counts()"
   ]
  },
  {
   "cell_type": "code",
   "execution_count": 17,
   "id": "599a6631-7861-4c57-937b-91562bc0e6b5",
   "metadata": {},
   "outputs": [],
   "source": [
    "n_train_df = pd.get_dummies(n_train_df, columns=['HomePlanet', 'Destination'], drop_first=True)\n",
    "n_test_df = pd.get_dummies(n_test_df, columns=['HomePlanet', 'Destination'], drop_first=True)"
   ]
  },
  {
   "cell_type": "code",
   "execution_count": 18,
   "id": "9438526c-11e1-4b6e-8558-18e4095e20f5",
   "metadata": {},
   "outputs": [],
   "source": [
    "X = n_train_df.drop(columns=[\"Transported\"])\n",
    "y = n_train_df[\"Transported\"]"
   ]
  },
  {
   "cell_type": "markdown",
   "id": "0a850866-ef93-40f4-9d24-e8d54e904c12",
   "metadata": {},
   "source": [
    "## Train test split"
   ]
  },
  {
   "cell_type": "code",
   "execution_count": 19,
   "id": "3e3af234-c408-4396-9f07-89a61dbb8f9a",
   "metadata": {},
   "outputs": [],
   "source": [
    "from sklearn.model_selection import train_test_split\n",
    "\n",
    "X_train, X_test, y_train, y_test = train_test_split(X, y, test_size=0.2, random_state=42)"
   ]
  },
  {
   "cell_type": "markdown",
   "id": "ac3f6df5-e5a1-4d18-9eb0-b692a35c56c1",
   "metadata": {},
   "source": [
    "## Build Model "
   ]
  },
  {
   "cell_type": "code",
   "execution_count": 20,
   "id": "6e4461d1-167d-47e2-bfe3-009f9515a020",
   "metadata": {},
   "outputs": [],
   "source": [
    "from sklearn.ensemble import RandomForestClassifier\n",
    "model = RandomForestClassifier()"
   ]
  },
  {
   "cell_type": "code",
   "execution_count": 21,
   "id": "5a4c2cf0-0ca8-40a4-80ee-b07bf815e686",
   "metadata": {},
   "outputs": [
    {
     "data": {
      "text/plain": [
       "RandomForestClassifier()"
      ]
     },
     "execution_count": 21,
     "metadata": {},
     "output_type": "execute_result"
    }
   ],
   "source": [
    "model.fit(X_train, y_train)"
   ]
  },
  {
   "cell_type": "code",
   "execution_count": 22,
   "id": "9f8de288-55eb-43cb-b0ee-85d9b13e5687",
   "metadata": {},
   "outputs": [
    {
     "name": "stderr",
     "output_type": "stream",
     "text": [
      "C:\\Users\\Debjeet\\AppData\\Roaming\\Python\\Python310\\site-packages\\sklearn\\base.py:450: UserWarning: X does not have valid feature names, but RandomForestClassifier was fitted with feature names\n",
      "  warnings.warn(\n"
     ]
    },
    {
     "data": {
      "text/plain": [
       "array([0], dtype=int64)"
      ]
     },
     "execution_count": 22,
     "metadata": {},
     "output_type": "execute_result"
    }
   ],
   "source": [
    "model.predict([X_train.iloc[100]])"
   ]
  },
  {
   "cell_type": "code",
   "execution_count": 23,
   "id": "ebb300f2-918b-44d9-a92f-8163428399b4",
   "metadata": {},
   "outputs": [
    {
     "data": {
      "text/plain": [
       "0"
      ]
     },
     "execution_count": 23,
     "metadata": {},
     "output_type": "execute_result"
    }
   ],
   "source": [
    "y_train.iloc[100]"
   ]
  },
  {
   "cell_type": "code",
   "execution_count": 24,
   "id": "78b85efc-748c-4c2c-a643-16e8648cfebe",
   "metadata": {},
   "outputs": [
    {
     "data": {
      "text/plain": [
       "0.7768832662449684"
      ]
     },
     "execution_count": 24,
     "metadata": {},
     "output_type": "execute_result"
    }
   ],
   "source": [
    "model.score(X_test, y_test)"
   ]
  },
  {
   "cell_type": "markdown",
   "id": "ffa0bad6-534e-411c-a640-a768a10f20e5",
   "metadata": {},
   "source": [
    "## Model test data predict"
   ]
  },
  {
   "cell_type": "code",
   "execution_count": 72,
   "id": "18474ce8-8656-4392-b797-04a973baecd7",
   "metadata": {},
   "outputs": [],
   "source": [
    "test_df_pred = model.predict(n_test_df)"
   ]
  },
  {
   "cell_type": "code",
   "execution_count": 73,
   "id": "5f2c3b59-c32b-4bf9-a1a8-9e035d03b8c4",
   "metadata": {},
   "outputs": [],
   "source": [
    "pId, trans_arr = [], []\n",
    "for i in range(len(test_df_pred)):\n",
    "    pId.append(test_df.iloc[i]['PassengerId'])\n",
    "    if(test_df_pred[i] == 1):\n",
    "        trans_arr.append('True')\n",
    "    if(test_df_pred[i] == 0):\n",
    "        trans_arr.append('False')"
   ]
  },
  {
   "cell_type": "code",
   "execution_count": 74,
   "id": "a0ebf0fe-3cd2-447f-8d99-272cd0917db9",
   "metadata": {},
   "outputs": [
    {
     "data": {
      "text/plain": [
       "(4277, 4277)"
      ]
     },
     "execution_count": 74,
     "metadata": {},
     "output_type": "execute_result"
    }
   ],
   "source": [
    "len(pId), len(trans_arr)"
   ]
  },
  {
   "cell_type": "code",
   "execution_count": 75,
   "id": "60f3495b-5a43-4f86-ae20-021118e9993a",
   "metadata": {},
   "outputs": [
    {
     "data": {
      "text/plain": [
       "(4277, 13)"
      ]
     },
     "execution_count": 75,
     "metadata": {},
     "output_type": "execute_result"
    }
   ],
   "source": [
    "test_df.shape"
   ]
  },
  {
   "cell_type": "code",
   "execution_count": 76,
   "id": "2ee630fd-c9fa-4c1d-a999-02275ba87dc3",
   "metadata": {},
   "outputs": [],
   "source": [
    "sample_sub_df = pd.DataFrame(data={ 'PassengerId' : pId, 'Transported': trans_arr})"
   ]
  },
  {
   "cell_type": "code",
   "execution_count": 77,
   "id": "71af5fbe-ae98-40e6-aa16-75d82a6a8a72",
   "metadata": {},
   "outputs": [
    {
     "data": {
      "text/html": [
       "<div>\n",
       "<style scoped>\n",
       "    .dataframe tbody tr th:only-of-type {\n",
       "        vertical-align: middle;\n",
       "    }\n",
       "\n",
       "    .dataframe tbody tr th {\n",
       "        vertical-align: top;\n",
       "    }\n",
       "\n",
       "    .dataframe thead th {\n",
       "        text-align: right;\n",
       "    }\n",
       "</style>\n",
       "<table border=\"1\" class=\"dataframe\">\n",
       "  <thead>\n",
       "    <tr style=\"text-align: right;\">\n",
       "      <th></th>\n",
       "      <th>PassengerId</th>\n",
       "      <th>Transported</th>\n",
       "    </tr>\n",
       "  </thead>\n",
       "  <tbody>\n",
       "    <tr>\n",
       "      <th>0</th>\n",
       "      <td>0013_01</td>\n",
       "      <td>True</td>\n",
       "    </tr>\n",
       "    <tr>\n",
       "      <th>1</th>\n",
       "      <td>0018_01</td>\n",
       "      <td>False</td>\n",
       "    </tr>\n",
       "    <tr>\n",
       "      <th>2</th>\n",
       "      <td>0019_01</td>\n",
       "      <td>True</td>\n",
       "    </tr>\n",
       "    <tr>\n",
       "      <th>3</th>\n",
       "      <td>0021_01</td>\n",
       "      <td>True</td>\n",
       "    </tr>\n",
       "    <tr>\n",
       "      <th>4</th>\n",
       "      <td>0023_01</td>\n",
       "      <td>False</td>\n",
       "    </tr>\n",
       "    <tr>\n",
       "      <th>...</th>\n",
       "      <td>...</td>\n",
       "      <td>...</td>\n",
       "    </tr>\n",
       "    <tr>\n",
       "      <th>4272</th>\n",
       "      <td>9266_02</td>\n",
       "      <td>True</td>\n",
       "    </tr>\n",
       "    <tr>\n",
       "      <th>4273</th>\n",
       "      <td>9269_01</td>\n",
       "      <td>False</td>\n",
       "    </tr>\n",
       "    <tr>\n",
       "      <th>4274</th>\n",
       "      <td>9271_01</td>\n",
       "      <td>True</td>\n",
       "    </tr>\n",
       "    <tr>\n",
       "      <th>4275</th>\n",
       "      <td>9273_01</td>\n",
       "      <td>True</td>\n",
       "    </tr>\n",
       "    <tr>\n",
       "      <th>4276</th>\n",
       "      <td>9277_01</td>\n",
       "      <td>False</td>\n",
       "    </tr>\n",
       "  </tbody>\n",
       "</table>\n",
       "<p>4277 rows × 2 columns</p>\n",
       "</div>"
      ],
      "text/plain": [
       "     PassengerId Transported\n",
       "0        0013_01        True\n",
       "1        0018_01       False\n",
       "2        0019_01        True\n",
       "3        0021_01        True\n",
       "4        0023_01       False\n",
       "...          ...         ...\n",
       "4272     9266_02        True\n",
       "4273     9269_01       False\n",
       "4274     9271_01        True\n",
       "4275     9273_01        True\n",
       "4276     9277_01       False\n",
       "\n",
       "[4277 rows x 2 columns]"
      ]
     },
     "execution_count": 77,
     "metadata": {},
     "output_type": "execute_result"
    }
   ],
   "source": [
    "sample_sub_df"
   ]
  },
  {
   "cell_type": "code",
   "execution_count": 78,
   "id": "81626af4-159a-4faf-bd73-54de5e8eef62",
   "metadata": {},
   "outputs": [],
   "source": [
    "sample_sub_df.to_csv(\"sample_submission.csv\", index=False)"
   ]
  }
 ],
 "metadata": {
  "kernelspec": {
   "display_name": "Python 3 (ipykernel)",
   "language": "python",
   "name": "python3"
  },
  "language_info": {
   "codemirror_mode": {
    "name": "ipython",
    "version": 3
   },
   "file_extension": ".py",
   "mimetype": "text/x-python",
   "name": "python",
   "nbconvert_exporter": "python",
   "pygments_lexer": "ipython3",
   "version": "3.10.4"
  },
  "widgets": {
   "application/vnd.jupyter.widget-state+json": {
    "state": {},
    "version_major": 2,
    "version_minor": 0
   }
  }
 },
 "nbformat": 4,
 "nbformat_minor": 5
}

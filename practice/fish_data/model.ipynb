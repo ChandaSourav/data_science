{
 "cells": [
  {
   "cell_type": "markdown",
   "id": "58a1aeca-5b6d-4eca-84cb-8d71e2965f68",
   "metadata": {},
   "source": [
    "# Fish Dataset \n",
    "\n",
    "<img src=\"https://cdn.wallpapersafari.com/2/44/g6JNxM.jpg\" style=\"height:250px; border-radius:20px\">\n",
    "\n",
    "Analyzing, predicting the fish weight using Linear Regression and the classifying the species of Fish using the Logistic regression"
   ]
  },
  {
   "cell_type": "code",
   "execution_count": 1,
   "id": "bb57d6f1-9e63-41a1-9d27-6acd379e22fc",
   "metadata": {},
   "outputs": [],
   "source": [
    "import numpy as np\n",
    "import pandas as pd\n",
    "import matplotlib.pyplot as plt\n",
    "\n",
    "plt.style.use(\"dark_background\")"
   ]
  },
  {
   "cell_type": "code",
   "execution_count": 2,
   "id": "f4fe3143-bbcb-4092-aa5b-012d4fc2f18f",
   "metadata": {},
   "outputs": [
    {
     "data": {
      "text/html": [
       "<div>\n",
       "<style scoped>\n",
       "    .dataframe tbody tr th:only-of-type {\n",
       "        vertical-align: middle;\n",
       "    }\n",
       "\n",
       "    .dataframe tbody tr th {\n",
       "        vertical-align: top;\n",
       "    }\n",
       "\n",
       "    .dataframe thead th {\n",
       "        text-align: right;\n",
       "    }\n",
       "</style>\n",
       "<table border=\"1\" class=\"dataframe\">\n",
       "  <thead>\n",
       "    <tr style=\"text-align: right;\">\n",
       "      <th></th>\n",
       "      <th>Species</th>\n",
       "      <th>Weight</th>\n",
       "      <th>Length1</th>\n",
       "      <th>Length2</th>\n",
       "      <th>Length3</th>\n",
       "      <th>Height</th>\n",
       "      <th>Width</th>\n",
       "    </tr>\n",
       "  </thead>\n",
       "  <tbody>\n",
       "    <tr>\n",
       "      <th>37</th>\n",
       "      <td>Roach</td>\n",
       "      <td>78.0</td>\n",
       "      <td>17.5</td>\n",
       "      <td>18.8</td>\n",
       "      <td>21.2</td>\n",
       "      <td>5.5756</td>\n",
       "      <td>2.9044</td>\n",
       "    </tr>\n",
       "    <tr>\n",
       "      <th>4</th>\n",
       "      <td>Bream</td>\n",
       "      <td>430.0</td>\n",
       "      <td>26.5</td>\n",
       "      <td>29.0</td>\n",
       "      <td>34.0</td>\n",
       "      <td>12.4440</td>\n",
       "      <td>5.1340</td>\n",
       "    </tr>\n",
       "    <tr>\n",
       "      <th>67</th>\n",
       "      <td>Parkki</td>\n",
       "      <td>170.0</td>\n",
       "      <td>19.0</td>\n",
       "      <td>20.7</td>\n",
       "      <td>23.2</td>\n",
       "      <td>9.3960</td>\n",
       "      <td>3.4104</td>\n",
       "    </tr>\n",
       "    <tr>\n",
       "      <th>12</th>\n",
       "      <td>Bream</td>\n",
       "      <td>500.0</td>\n",
       "      <td>29.1</td>\n",
       "      <td>31.5</td>\n",
       "      <td>36.4</td>\n",
       "      <td>13.7592</td>\n",
       "      <td>4.3680</td>\n",
       "    </tr>\n",
       "    <tr>\n",
       "      <th>27</th>\n",
       "      <td>Bream</td>\n",
       "      <td>714.0</td>\n",
       "      <td>32.7</td>\n",
       "      <td>36.0</td>\n",
       "      <td>41.5</td>\n",
       "      <td>16.5170</td>\n",
       "      <td>5.8515</td>\n",
       "    </tr>\n",
       "  </tbody>\n",
       "</table>\n",
       "</div>"
      ],
      "text/plain": [
       "   Species  Weight  Length1  Length2  Length3   Height   Width\n",
       "37   Roach    78.0     17.5     18.8     21.2   5.5756  2.9044\n",
       "4    Bream   430.0     26.5     29.0     34.0  12.4440  5.1340\n",
       "67  Parkki   170.0     19.0     20.7     23.2   9.3960  3.4104\n",
       "12   Bream   500.0     29.1     31.5     36.4  13.7592  4.3680\n",
       "27   Bream   714.0     32.7     36.0     41.5  16.5170  5.8515"
      ]
     },
     "execution_count": 2,
     "metadata": {},
     "output_type": "execute_result"
    }
   ],
   "source": [
    "df = pd.read_csv(\"fish_specices.csv\")\n",
    "df.sample(5)"
   ]
  },
  {
   "cell_type": "markdown",
   "id": "d846042c-82ae-4b9e-b22e-fe80ed9f8c40",
   "metadata": {},
   "source": [
    "## Understanding the Data\n",
    "\n",
    "    Weight - weight of fish in gram\n",
    "    Lenght1 - vetical length in cm\n",
    "    Lenght2 - diagonal length in cm\n",
    "    Lenght3 - cross length in cm\n",
    "    Height - height in cm\n",
    "    Width - diagonal width in cam"
   ]
  },
  {
   "cell_type": "markdown",
   "id": "513c79ce-2479-4a69-a8b3-087648ee1aae",
   "metadata": {},
   "source": [
    "## Data cleaning"
   ]
  },
  {
   "cell_type": "code",
   "execution_count": 46,
   "id": "df19c4c1-4b56-4ef1-acbb-f8e40ba540a9",
   "metadata": {},
   "outputs": [
    {
     "data": {
      "text/html": [
       "<div>\n",
       "<style scoped>\n",
       "    .dataframe tbody tr th:only-of-type {\n",
       "        vertical-align: middle;\n",
       "    }\n",
       "\n",
       "    .dataframe tbody tr th {\n",
       "        vertical-align: top;\n",
       "    }\n",
       "\n",
       "    .dataframe thead th {\n",
       "        text-align: right;\n",
       "    }\n",
       "</style>\n",
       "<table border=\"1\" class=\"dataframe\">\n",
       "  <thead>\n",
       "    <tr style=\"text-align: right;\">\n",
       "      <th></th>\n",
       "      <th>Species</th>\n",
       "      <th>Weight</th>\n",
       "      <th>vertical_len</th>\n",
       "      <th>diagonal_len</th>\n",
       "      <th>cross_len</th>\n",
       "      <th>Height</th>\n",
       "      <th>Width</th>\n",
       "    </tr>\n",
       "  </thead>\n",
       "  <tbody>\n",
       "    <tr>\n",
       "      <th>47</th>\n",
       "      <td>Roach</td>\n",
       "      <td>160.0</td>\n",
       "      <td>21.1</td>\n",
       "      <td>22.5</td>\n",
       "      <td>25.0</td>\n",
       "      <td>6.4000</td>\n",
       "      <td>3.8000</td>\n",
       "    </tr>\n",
       "    <tr>\n",
       "      <th>119</th>\n",
       "      <td>Perch</td>\n",
       "      <td>850.0</td>\n",
       "      <td>36.9</td>\n",
       "      <td>40.0</td>\n",
       "      <td>42.3</td>\n",
       "      <td>11.9286</td>\n",
       "      <td>7.1064</td>\n",
       "    </tr>\n",
       "    <tr>\n",
       "      <th>6</th>\n",
       "      <td>Bream</td>\n",
       "      <td>500.0</td>\n",
       "      <td>26.8</td>\n",
       "      <td>29.7</td>\n",
       "      <td>34.5</td>\n",
       "      <td>14.1795</td>\n",
       "      <td>5.2785</td>\n",
       "    </tr>\n",
       "    <tr>\n",
       "      <th>55</th>\n",
       "      <td>Whitefish</td>\n",
       "      <td>270.0</td>\n",
       "      <td>23.6</td>\n",
       "      <td>26.0</td>\n",
       "      <td>28.7</td>\n",
       "      <td>8.3804</td>\n",
       "      <td>4.2476</td>\n",
       "    </tr>\n",
       "    <tr>\n",
       "      <th>12</th>\n",
       "      <td>Bream</td>\n",
       "      <td>500.0</td>\n",
       "      <td>29.1</td>\n",
       "      <td>31.5</td>\n",
       "      <td>36.4</td>\n",
       "      <td>13.7592</td>\n",
       "      <td>4.3680</td>\n",
       "    </tr>\n",
       "  </tbody>\n",
       "</table>\n",
       "</div>"
      ],
      "text/plain": [
       "       Species  Weight  vertical_len  diagonal_len  cross_len   Height   Width\n",
       "47       Roach   160.0          21.1          22.5       25.0   6.4000  3.8000\n",
       "119      Perch   850.0          36.9          40.0       42.3  11.9286  7.1064\n",
       "6        Bream   500.0          26.8          29.7       34.5  14.1795  5.2785\n",
       "55   Whitefish   270.0          23.6          26.0       28.7   8.3804  4.2476\n",
       "12       Bream   500.0          29.1          31.5       36.4  13.7592  4.3680"
      ]
     },
     "execution_count": 46,
     "metadata": {},
     "output_type": "execute_result"
    }
   ],
   "source": [
    "df = df.rename(columns={'Length1':'vertical_len', 'Length2':'diagonal_len', 'Length3':'cross_len'}) #renaming\n",
    "df.sample(5)"
   ]
  },
  {
   "cell_type": "code",
   "execution_count": 47,
   "id": "91909758-4590-4598-bf32-228b7e1dea00",
   "metadata": {},
   "outputs": [
    {
     "data": {
      "text/plain": [
       "Species         0\n",
       "Weight          0\n",
       "vertical_len    0\n",
       "diagonal_len    0\n",
       "cross_len       0\n",
       "Height          0\n",
       "Width           0\n",
       "dtype: int64"
      ]
     },
     "execution_count": 47,
     "metadata": {},
     "output_type": "execute_result"
    }
   ],
   "source": [
    "df.isna().sum() #cheacking for nan values"
   ]
  },
  {
   "cell_type": "markdown",
   "id": "fccf6761-1e66-4af0-91fd-5fc77b6b6aed",
   "metadata": {},
   "source": [
    "## Data Exploration and Visualization"
   ]
  },
  {
   "cell_type": "code",
   "execution_count": 5,
   "id": "03869979-9e52-4c85-8994-4b81b4602903",
   "metadata": {},
   "outputs": [
    {
     "data": {
      "text/html": [
       "<div>\n",
       "<style scoped>\n",
       "    .dataframe tbody tr th:only-of-type {\n",
       "        vertical-align: middle;\n",
       "    }\n",
       "\n",
       "    .dataframe tbody tr th {\n",
       "        vertical-align: top;\n",
       "    }\n",
       "\n",
       "    .dataframe thead th {\n",
       "        text-align: right;\n",
       "    }\n",
       "</style>\n",
       "<table border=\"1\" class=\"dataframe\">\n",
       "  <thead>\n",
       "    <tr style=\"text-align: right;\">\n",
       "      <th></th>\n",
       "      <th>Weight</th>\n",
       "      <th>vertical_len</th>\n",
       "      <th>diagonal_len</th>\n",
       "      <th>cross_len</th>\n",
       "      <th>Height</th>\n",
       "      <th>Width</th>\n",
       "    </tr>\n",
       "  </thead>\n",
       "  <tbody>\n",
       "    <tr>\n",
       "      <th>count</th>\n",
       "      <td>159.000000</td>\n",
       "      <td>159.000000</td>\n",
       "      <td>159.000000</td>\n",
       "      <td>159.000000</td>\n",
       "      <td>159.000000</td>\n",
       "      <td>159.000000</td>\n",
       "    </tr>\n",
       "    <tr>\n",
       "      <th>mean</th>\n",
       "      <td>398.326415</td>\n",
       "      <td>26.247170</td>\n",
       "      <td>28.415723</td>\n",
       "      <td>31.227044</td>\n",
       "      <td>8.970994</td>\n",
       "      <td>4.417486</td>\n",
       "    </tr>\n",
       "    <tr>\n",
       "      <th>std</th>\n",
       "      <td>357.978317</td>\n",
       "      <td>9.996441</td>\n",
       "      <td>10.716328</td>\n",
       "      <td>11.610246</td>\n",
       "      <td>4.286208</td>\n",
       "      <td>1.685804</td>\n",
       "    </tr>\n",
       "    <tr>\n",
       "      <th>min</th>\n",
       "      <td>0.000000</td>\n",
       "      <td>7.500000</td>\n",
       "      <td>8.400000</td>\n",
       "      <td>8.800000</td>\n",
       "      <td>1.728400</td>\n",
       "      <td>1.047600</td>\n",
       "    </tr>\n",
       "    <tr>\n",
       "      <th>25%</th>\n",
       "      <td>120.000000</td>\n",
       "      <td>19.050000</td>\n",
       "      <td>21.000000</td>\n",
       "      <td>23.150000</td>\n",
       "      <td>5.944800</td>\n",
       "      <td>3.385650</td>\n",
       "    </tr>\n",
       "    <tr>\n",
       "      <th>50%</th>\n",
       "      <td>273.000000</td>\n",
       "      <td>25.200000</td>\n",
       "      <td>27.300000</td>\n",
       "      <td>29.400000</td>\n",
       "      <td>7.786000</td>\n",
       "      <td>4.248500</td>\n",
       "    </tr>\n",
       "    <tr>\n",
       "      <th>75%</th>\n",
       "      <td>650.000000</td>\n",
       "      <td>32.700000</td>\n",
       "      <td>35.500000</td>\n",
       "      <td>39.650000</td>\n",
       "      <td>12.365900</td>\n",
       "      <td>5.584500</td>\n",
       "    </tr>\n",
       "    <tr>\n",
       "      <th>max</th>\n",
       "      <td>1650.000000</td>\n",
       "      <td>59.000000</td>\n",
       "      <td>63.400000</td>\n",
       "      <td>68.000000</td>\n",
       "      <td>18.957000</td>\n",
       "      <td>8.142000</td>\n",
       "    </tr>\n",
       "  </tbody>\n",
       "</table>\n",
       "</div>"
      ],
      "text/plain": [
       "            Weight  vertical_len  diagonal_len   cross_len      Height  \\\n",
       "count   159.000000    159.000000    159.000000  159.000000  159.000000   \n",
       "mean    398.326415     26.247170     28.415723   31.227044    8.970994   \n",
       "std     357.978317      9.996441     10.716328   11.610246    4.286208   \n",
       "min       0.000000      7.500000      8.400000    8.800000    1.728400   \n",
       "25%     120.000000     19.050000     21.000000   23.150000    5.944800   \n",
       "50%     273.000000     25.200000     27.300000   29.400000    7.786000   \n",
       "75%     650.000000     32.700000     35.500000   39.650000   12.365900   \n",
       "max    1650.000000     59.000000     63.400000   68.000000   18.957000   \n",
       "\n",
       "            Width  \n",
       "count  159.000000  \n",
       "mean     4.417486  \n",
       "std      1.685804  \n",
       "min      1.047600  \n",
       "25%      3.385650  \n",
       "50%      4.248500  \n",
       "75%      5.584500  \n",
       "max      8.142000  "
      ]
     },
     "execution_count": 5,
     "metadata": {},
     "output_type": "execute_result"
    }
   ],
   "source": [
    "df.describe()"
   ]
  },
  {
   "cell_type": "code",
   "execution_count": 6,
   "id": "10d644a6-77f3-425c-a19f-f779b282ef7c",
   "metadata": {},
   "outputs": [
    {
     "data": {
      "text/plain": [
       "Perch        56\n",
       "Bream        35\n",
       "Roach        20\n",
       "Pike         17\n",
       "Smelt        14\n",
       "Parkki       11\n",
       "Whitefish     6\n",
       "Name: Species, dtype: int64"
      ]
     },
     "execution_count": 6,
     "metadata": {},
     "output_type": "execute_result"
    }
   ],
   "source": [
    "df[\"Species\"].value_counts()"
   ]
  },
  {
   "cell_type": "code",
   "execution_count": 48,
   "id": "32046827-b0c9-4381-9936-7775a8ab8d9d",
   "metadata": {},
   "outputs": [
    {
     "data": {
      "image/png": "[encoded data removed]",
      "text/plain": [
       "<Figure size 720x432 with 1 Axes>"
      ]
     },
     "metadata": {},
     "output_type": "display_data"
    }
   ],
   "source": [
    "import seaborn as sns\n",
    "plt.figure(figsize=(10, 6))\n",
    "\n",
    "sns.barplot(data=df, x=df[\"Species\"].unique(), y=df[\"Species\"].value_counts())\n",
    "plt.title(\"Differnent specices of fish\")\n",
    "plt.show()"
   ]
  },
  {
   "cell_type": "code",
   "execution_count": 8,
   "id": "061120d8-3072-40e4-9033-561586f890ac",
   "metadata": {},
   "outputs": [
    {
     "data": {
      "text/html": [
       "<div>\n",
       "<style scoped>\n",
       "    .dataframe tbody tr th:only-of-type {\n",
       "        vertical-align: middle;\n",
       "    }\n",
       "\n",
       "    .dataframe tbody tr th {\n",
       "        vertical-align: top;\n",
       "    }\n",
       "\n",
       "    .dataframe thead th {\n",
       "        text-align: right;\n",
       "    }\n",
       "</style>\n",
       "<table border=\"1\" class=\"dataframe\">\n",
       "  <thead>\n",
       "    <tr style=\"text-align: right;\">\n",
       "      <th></th>\n",
       "      <th>Weight</th>\n",
       "      <th>vertical_len</th>\n",
       "      <th>diagonal_len</th>\n",
       "      <th>cross_len</th>\n",
       "      <th>Height</th>\n",
       "      <th>Width</th>\n",
       "    </tr>\n",
       "  </thead>\n",
       "  <tbody>\n",
       "    <tr>\n",
       "      <th>Weight</th>\n",
       "      <td>1.000000</td>\n",
       "      <td>0.915712</td>\n",
       "      <td>0.918618</td>\n",
       "      <td>0.923044</td>\n",
       "      <td>0.724345</td>\n",
       "      <td>0.886507</td>\n",
       "    </tr>\n",
       "    <tr>\n",
       "      <th>vertical_len</th>\n",
       "      <td>0.915712</td>\n",
       "      <td>1.000000</td>\n",
       "      <td>0.999517</td>\n",
       "      <td>0.992031</td>\n",
       "      <td>0.625378</td>\n",
       "      <td>0.867050</td>\n",
       "    </tr>\n",
       "    <tr>\n",
       "      <th>diagonal_len</th>\n",
       "      <td>0.918618</td>\n",
       "      <td>0.999517</td>\n",
       "      <td>1.000000</td>\n",
       "      <td>0.994103</td>\n",
       "      <td>0.640441</td>\n",
       "      <td>0.873547</td>\n",
       "    </tr>\n",
       "    <tr>\n",
       "      <th>cross_len</th>\n",
       "      <td>0.923044</td>\n",
       "      <td>0.992031</td>\n",
       "      <td>0.994103</td>\n",
       "      <td>1.000000</td>\n",
       "      <td>0.703409</td>\n",
       "      <td>0.878520</td>\n",
       "    </tr>\n",
       "    <tr>\n",
       "      <th>Height</th>\n",
       "      <td>0.724345</td>\n",
       "      <td>0.625378</td>\n",
       "      <td>0.640441</td>\n",
       "      <td>0.703409</td>\n",
       "      <td>1.000000</td>\n",
       "      <td>0.792881</td>\n",
       "    </tr>\n",
       "    <tr>\n",
       "      <th>Width</th>\n",
       "      <td>0.886507</td>\n",
       "      <td>0.867050</td>\n",
       "      <td>0.873547</td>\n",
       "      <td>0.878520</td>\n",
       "      <td>0.792881</td>\n",
       "      <td>1.000000</td>\n",
       "    </tr>\n",
       "  </tbody>\n",
       "</table>\n",
       "</div>"
      ],
      "text/plain": [
       "                Weight  vertical_len  diagonal_len  cross_len    Height  \\\n",
       "Weight        1.000000      0.915712      0.918618   0.923044  0.724345   \n",
       "vertical_len  0.915712      1.000000      0.999517   0.992031  0.625378   \n",
       "diagonal_len  0.918618      0.999517      1.000000   0.994103  0.640441   \n",
       "cross_len     0.923044      0.992031      0.994103   1.000000  0.703409   \n",
       "Height        0.724345      0.625378      0.640441   0.703409  1.000000   \n",
       "Width         0.886507      0.867050      0.873547   0.878520  0.792881   \n",
       "\n",
       "                 Width  \n",
       "Weight        0.886507  \n",
       "vertical_len  0.867050  \n",
       "diagonal_len  0.873547  \n",
       "cross_len     0.878520  \n",
       "Height        0.792881  \n",
       "Width         1.000000  "
      ]
     },
     "execution_count": 8,
     "metadata": {},
     "output_type": "execute_result"
    }
   ],
   "source": [
    "df.corr()"
   ]
  },
  {
   "cell_type": "code",
   "execution_count": 9,
   "id": "9279f4af-091c-4df2-8cb4-91807c26e215",
   "metadata": {},
   "outputs": [
    {
     "data": {
      "image/png": "[encoded data removed]",
      "text/plain": [
       "<Figure size 864x648 with 2 Axes>"
      ]
     },
     "metadata": {},
     "output_type": "display_data"
    }
   ],
   "source": [
    "plt.figure(figsize=(12,9))\n",
    "sns.heatmap(df.corr(), annot = True, cmap=plt.cm.bone_r, fmt='.3f', square=True)\n",
    "plt.show()"
   ]
  },
  {
   "cell_type": "markdown",
   "id": "0d7343f3-fa1d-475a-bda6-6468bc15c760",
   "metadata": {},
   "source": [
    "## Data Cleaning\n",
    "\n",
    "Remove the features thats are highly correlated btw each other in independent variables like *['Weight', 'vertical_len', 'diagonal_len', 'cross_len']*"
   ]
  },
  {
   "cell_type": "code",
   "execution_count": 10,
   "id": "0b89e386-0c38-455c-9629-08bd8ba24de5",
   "metadata": {},
   "outputs": [
    {
     "data": {
      "text/html": [
       "<div>\n",
       "<style scoped>\n",
       "    .dataframe tbody tr th:only-of-type {\n",
       "        vertical-align: middle;\n",
       "    }\n",
       "\n",
       "    .dataframe tbody tr th {\n",
       "        vertical-align: top;\n",
       "    }\n",
       "\n",
       "    .dataframe thead th {\n",
       "        text-align: right;\n",
       "    }\n",
       "</style>\n",
       "<table border=\"1\" class=\"dataframe\">\n",
       "  <thead>\n",
       "    <tr style=\"text-align: right;\">\n",
       "      <th></th>\n",
       "      <th>Species</th>\n",
       "      <th>Weight</th>\n",
       "      <th>Height</th>\n",
       "      <th>Width</th>\n",
       "    </tr>\n",
       "  </thead>\n",
       "  <tbody>\n",
       "    <tr>\n",
       "      <th>153</th>\n",
       "      <td>Smelt</td>\n",
       "      <td>9.8</td>\n",
       "      <td>2.2044</td>\n",
       "      <td>1.1484</td>\n",
       "    </tr>\n",
       "    <tr>\n",
       "      <th>15</th>\n",
       "      <td>Bream</td>\n",
       "      <td>600.0</td>\n",
       "      <td>15.4380</td>\n",
       "      <td>5.5800</td>\n",
       "    </tr>\n",
       "    <tr>\n",
       "      <th>36</th>\n",
       "      <td>Roach</td>\n",
       "      <td>69.0</td>\n",
       "      <td>5.2983</td>\n",
       "      <td>2.8217</td>\n",
       "    </tr>\n",
       "    <tr>\n",
       "      <th>43</th>\n",
       "      <td>Roach</td>\n",
       "      <td>150.0</td>\n",
       "      <td>5.8045</td>\n",
       "      <td>3.7544</td>\n",
       "    </tr>\n",
       "    <tr>\n",
       "      <th>125</th>\n",
       "      <td>Perch</td>\n",
       "      <td>1100.0</td>\n",
       "      <td>12.5125</td>\n",
       "      <td>7.4165</td>\n",
       "    </tr>\n",
       "  </tbody>\n",
       "</table>\n",
       "</div>"
      ],
      "text/plain": [
       "    Species  Weight   Height   Width\n",
       "153   Smelt     9.8   2.2044  1.1484\n",
       "15    Bream   600.0  15.4380  5.5800\n",
       "36    Roach    69.0   5.2983  2.8217\n",
       "43    Roach   150.0   5.8045  3.7544\n",
       "125   Perch  1100.0  12.5125  7.4165"
      ]
     },
     "execution_count": 10,
     "metadata": {},
     "output_type": "execute_result"
    }
   ],
   "source": [
    "df_copy = df.copy()\n",
    "df_copy = df_copy.drop(['vertical_len', 'diagonal_len', 'cross_len'], axis=1)\n",
    "df_copy.sample(5)"
   ]
  },
  {
   "cell_type": "markdown",
   "id": "7b333d22-3d0a-4087-ae4a-2f74ac6c4977",
   "metadata": {
    "tags": []
   },
   "source": [
    "## Using Lineear Regression for predicting the fish weight"
   ]
  },
  {
   "cell_type": "code",
   "execution_count": 11,
   "id": "717d815a-6bac-4341-a429-f75a3747b61d",
   "metadata": {},
   "outputs": [
    {
     "data": {
      "text/html": [
       "<div>\n",
       "<style scoped>\n",
       "    .dataframe tbody tr th:only-of-type {\n",
       "        vertical-align: middle;\n",
       "    }\n",
       "\n",
       "    .dataframe tbody tr th {\n",
       "        vertical-align: top;\n",
       "    }\n",
       "\n",
       "    .dataframe thead th {\n",
       "        text-align: right;\n",
       "    }\n",
       "</style>\n",
       "<table border=\"1\" class=\"dataframe\">\n",
       "  <thead>\n",
       "    <tr style=\"text-align: right;\">\n",
       "      <th></th>\n",
       "      <th>Weight</th>\n",
       "      <th>Height</th>\n",
       "      <th>Width</th>\n",
       "    </tr>\n",
       "  </thead>\n",
       "  <tbody>\n",
       "    <tr>\n",
       "      <th>59</th>\n",
       "      <td>800.0</td>\n",
       "      <td>11.7612</td>\n",
       "      <td>6.5736</td>\n",
       "    </tr>\n",
       "    <tr>\n",
       "      <th>82</th>\n",
       "      <td>110.0</td>\n",
       "      <td>5.6925</td>\n",
       "      <td>3.5550</td>\n",
       "    </tr>\n",
       "    <tr>\n",
       "      <th>64</th>\n",
       "      <td>120.0</td>\n",
       "      <td>8.3922</td>\n",
       "      <td>2.9181</td>\n",
       "    </tr>\n",
       "    <tr>\n",
       "      <th>6</th>\n",
       "      <td>500.0</td>\n",
       "      <td>14.1795</td>\n",
       "      <td>5.2785</td>\n",
       "    </tr>\n",
       "    <tr>\n",
       "      <th>45</th>\n",
       "      <td>160.0</td>\n",
       "      <td>7.0334</td>\n",
       "      <td>3.8203</td>\n",
       "    </tr>\n",
       "  </tbody>\n",
       "</table>\n",
       "</div>"
      ],
      "text/plain": [
       "    Weight   Height   Width\n",
       "59   800.0  11.7612  6.5736\n",
       "82   110.0   5.6925  3.5550\n",
       "64   120.0   8.3922  2.9181\n",
       "6    500.0  14.1795  5.2785\n",
       "45   160.0   7.0334  3.8203"
      ]
     },
     "execution_count": 11,
     "metadata": {},
     "output_type": "execute_result"
    }
   ],
   "source": [
    "df1 = df_copy.drop('Species', axis=1)\n",
    "df1.sample(5)"
   ]
  },
  {
   "cell_type": "markdown",
   "id": "fa7ab2ac-48e0-4fcf-b6b7-ebf74498683a",
   "metadata": {},
   "source": [
    "*Train test split*"
   ]
  },
  {
   "cell_type": "code",
   "execution_count": 12,
   "id": "bedad782-7980-4195-901d-2c1c8c8db675",
   "metadata": {},
   "outputs": [],
   "source": [
    "X, y = df1.drop('Weight', axis=1), df1['Weight'].values"
   ]
  },
  {
   "cell_type": "code",
   "execution_count": 13,
   "id": "2627f4d1-af73-437a-ae39-0c764089fd69",
   "metadata": {},
   "outputs": [],
   "source": [
    "from sklearn.model_selection import train_test_split\n",
    "X_train, X_test, y_train, y_test = train_test_split(X, y, random_state=42, train_size=0.7)"
   ]
  },
  {
   "cell_type": "markdown",
   "id": "a617edf8-e6f3-42a7-a1ea-bea6ebbbe5e1",
   "metadata": {},
   "source": [
    "*Model*"
   ]
  },
  {
   "cell_type": "code",
   "execution_count": 14,
   "id": "6e67ce04-d975-499c-8eef-fce3012eb030",
   "metadata": {},
   "outputs": [],
   "source": [
    "from sklearn.linear_model import LinearRegression\n",
    "LR_model = LinearRegression()"
   ]
  },
  {
   "cell_type": "code",
   "execution_count": 15,
   "id": "dadd45fe-9343-49bd-870a-908030c97a1b",
   "metadata": {},
   "outputs": [
    {
     "data": {
      "text/plain": [
       "LinearRegression()"
      ]
     },
     "execution_count": 15,
     "metadata": {},
     "output_type": "execute_result"
    }
   ],
   "source": [
    "LR_model.fit(X_train, y_train)"
   ]
  },
  {
   "cell_type": "code",
   "execution_count": 16,
   "id": "fe1ef2ab-fef0-4539-a8fd-8b4e915d195a",
   "metadata": {},
   "outputs": [
    {
     "data": {
      "text/plain": [
       "0.8420412366115981"
      ]
     },
     "execution_count": 16,
     "metadata": {},
     "output_type": "execute_result"
    }
   ],
   "source": [
    "LR_model.score(X_test, y_test)"
   ]
  },
  {
   "cell_type": "markdown",
   "id": "2207e607-96bb-428c-99ce-f97a1ad0bd44",
   "metadata": {},
   "source": [
    "## Classification of the diffirent species of fishes using the Logistic Regression"
   ]
  },
  {
   "cell_type": "code",
   "execution_count": 17,
   "id": "262058ee-9c20-4d81-92ea-d6232a9ac96f",
   "metadata": {},
   "outputs": [],
   "source": [
    "X1, y1 = df.drop('Species', axis=1), df['Species']"
   ]
  },
  {
   "cell_type": "code",
   "execution_count": 18,
   "id": "97fa1aa5-3c72-45e7-9191-717f41cd29f2",
   "metadata": {},
   "outputs": [],
   "source": [
    "from sklearn.preprocessing import StandardScaler, LabelEncoder"
   ]
  },
  {
   "cell_type": "markdown",
   "id": "8aff4309-f738-4113-bd1a-58e0562ac18f",
   "metadata": {},
   "source": [
    "Prepocessing - *Feature scaling*"
   ]
  },
  {
   "cell_type": "code",
   "execution_count": 19,
   "id": "d0bda48d-d1a2-4f60-b346-a3ab29280082",
   "metadata": {},
   "outputs": [
    {
     "data": {
      "text/html": [
       "<div>\n",
       "<style scoped>\n",
       "    .dataframe tbody tr th:only-of-type {\n",
       "        vertical-align: middle;\n",
       "    }\n",
       "\n",
       "    .dataframe tbody tr th {\n",
       "        vertical-align: top;\n",
       "    }\n",
       "\n",
       "    .dataframe thead th {\n",
       "        text-align: right;\n",
       "    }\n",
       "</style>\n",
       "<table border=\"1\" class=\"dataframe\">\n",
       "  <thead>\n",
       "    <tr style=\"text-align: right;\">\n",
       "      <th></th>\n",
       "      <th>Weight</th>\n",
       "      <th>vertical_len</th>\n",
       "      <th>diagonal_len</th>\n",
       "      <th>cross_len</th>\n",
       "      <th>Height</th>\n",
       "      <th>Width</th>\n",
       "    </tr>\n",
       "  </thead>\n",
       "  <tbody>\n",
       "    <tr>\n",
       "      <th>28</th>\n",
       "      <td>1.265721</td>\n",
       "      <td>0.657587</td>\n",
       "      <td>0.709967</td>\n",
       "      <td>0.896254</td>\n",
       "      <td>1.853299</td>\n",
       "      <td>1.059756</td>\n",
       "    </tr>\n",
       "    <tr>\n",
       "      <th>96</th>\n",
       "      <td>-0.485711</td>\n",
       "      <td>-0.426211</td>\n",
       "      <td>-0.413358</td>\n",
       "      <td>-0.494834</td>\n",
       "      <td>-0.392724</td>\n",
       "      <td>-0.413263</td>\n",
       "    </tr>\n",
       "    <tr>\n",
       "      <th>37</th>\n",
       "      <td>-0.897648</td>\n",
       "      <td>-0.877793</td>\n",
       "      <td>-0.900132</td>\n",
       "      <td>-0.866366</td>\n",
       "      <td>-0.794670</td>\n",
       "      <td>-0.900381</td>\n",
       "    </tr>\n",
       "    <tr>\n",
       "      <th>152</th>\n",
       "      <td>-1.088484</td>\n",
       "      <td>-1.499973</td>\n",
       "      <td>-1.555404</td>\n",
       "      <td>-1.566230</td>\n",
       "      <td>-1.581455</td>\n",
       "      <td>-1.934898</td>\n",
       "    </tr>\n",
       "    <tr>\n",
       "      <th>141</th>\n",
       "      <td>2.386638</td>\n",
       "      <td>2.584340</td>\n",
       "      <td>2.582175</td>\n",
       "      <td>2.460148</td>\n",
       "      <td>0.401457</td>\n",
       "      <td>1.527773</td>\n",
       "    </tr>\n",
       "  </tbody>\n",
       "</table>\n",
       "</div>"
      ],
      "text/plain": [
       "       Weight  vertical_len  diagonal_len  cross_len    Height     Width\n",
       "28   1.265721      0.657587      0.709967   0.896254  1.853299  1.059756\n",
       "96  -0.485711     -0.426211     -0.413358  -0.494834 -0.392724 -0.413263\n",
       "37  -0.897648     -0.877793     -0.900132  -0.866366 -0.794670 -0.900381\n",
       "152 -1.088484     -1.499973     -1.555404  -1.566230 -1.581455 -1.934898\n",
       "141  2.386638      2.584340      2.582175   2.460148  0.401457  1.527773"
      ]
     },
     "execution_count": 19,
     "metadata": {},
     "output_type": "execute_result"
    }
   ],
   "source": [
    "scaler = StandardScaler()\n",
    "X1 = pd.DataFrame(scaler.fit_transform(X1), columns=X1.columns)\n",
    "X1.sample(5)"
   ]
  },
  {
   "cell_type": "markdown",
   "id": "1e6bc2ad-d2e7-45c0-bdbc-c75752c87442",
   "metadata": {},
   "source": [
    "Prepocessing - *Encoding*"
   ]
  },
  {
   "cell_type": "code",
   "execution_count": 20,
   "id": "9222bc4c-7369-4590-8f2b-47a580c23908",
   "metadata": {},
   "outputs": [],
   "source": [
    "y1 = df['Species']"
   ]
  },
  {
   "cell_type": "code",
   "execution_count": 21,
   "id": "8fa79144-04ed-4d76-a3d7-7ef1dcb86fa6",
   "metadata": {},
   "outputs": [],
   "source": [
    "encoder = LabelEncoder()\n",
    "y1 = encoder.fit_transform(y1)"
   ]
  },
  {
   "cell_type": "code",
   "execution_count": 22,
   "id": "5a0f5829-0239-4d05-be91-b0496bd55d23",
   "metadata": {},
   "outputs": [
    {
     "data": {
      "text/plain": [
       "array([0, 0, 0, 0, 0, 0, 0, 0, 0, 0, 0, 0, 0, 0, 0, 0, 0, 0, 0, 0, 0, 0,\n",
       "       0, 0, 0, 0, 0, 0, 0, 0, 0, 0, 0, 0, 0, 4, 4, 4, 4, 4, 4, 4, 4, 4,\n",
       "       4, 4, 4, 4, 4, 4, 4, 4, 4, 4, 4, 6, 6, 6, 6, 6, 6, 1, 1, 1, 1, 1,\n",
       "       1, 1, 1, 1, 1, 1, 2, 2, 2, 2, 2, 2, 2, 2, 2, 2, 2, 2, 2, 2, 2, 2,\n",
       "       2, 2, 2, 2, 2, 2, 2, 2, 2, 2, 2, 2, 2, 2, 2, 2, 2, 2, 2, 2, 2, 2,\n",
       "       2, 2, 2, 2, 2, 2, 2, 2, 2, 2, 2, 2, 2, 2, 2, 2, 2, 2, 3, 3, 3, 3,\n",
       "       3, 3, 3, 3, 3, 3, 3, 3, 3, 3, 3, 3, 3, 5, 5, 5, 5, 5, 5, 5, 5, 5,\n",
       "       5, 5, 5, 5, 5])"
      ]
     },
     "execution_count": 22,
     "metadata": {},
     "output_type": "execute_result"
    }
   ],
   "source": [
    "y1"
   ]
  },
  {
   "cell_type": "code",
   "execution_count": 23,
   "id": "11b2ce9f-c7bf-4daf-9963-539c60ce5981",
   "metadata": {},
   "outputs": [
    {
     "data": {
      "text/plain": [
       "{0: 'Bream',\n",
       " 1: 'Parkki',\n",
       " 2: 'Perch',\n",
       " 3: 'Pike',\n",
       " 4: 'Roach',\n",
       " 5: 'Smelt',\n",
       " 6: 'Whitefish'}"
      ]
     },
     "execution_count": 23,
     "metadata": {},
     "output_type": "execute_result"
    }
   ],
   "source": [
    "y_mappings = {index: label for index, label in enumerate(encoder.classes_)}\n",
    "y_mappings"
   ]
  },
  {
   "cell_type": "markdown",
   "id": "fc10c209-ec17-4b95-aef7-6c221aa36376",
   "metadata": {},
   "source": [
    "*Train test split*"
   ]
  },
  {
   "cell_type": "code",
   "execution_count": 24,
   "id": "1fd9b71a-499d-46cf-9c07-13afdced80ca",
   "metadata": {},
   "outputs": [],
   "source": [
    "X1_train, X1_test, y1_train, y1_test = train_test_split(X1, y1, random_state=42, train_size=0.7)"
   ]
  },
  {
   "cell_type": "markdown",
   "id": "bd82e684-cd17-445b-9dbf-7eda014cdc85",
   "metadata": {},
   "source": [
    "*Model*"
   ]
  },
  {
   "cell_type": "code",
   "execution_count": 25,
   "id": "2961ebe1-1492-4693-b263-1995ec7fa570",
   "metadata": {},
   "outputs": [],
   "source": [
    "from sklearn.linear_model import LogisticRegression\n",
    "LogR_model = LogisticRegression()"
   ]
  },
  {
   "cell_type": "code",
   "execution_count": 26,
   "id": "734d2456-f2fd-4e9a-8818-fab45b1f87c4",
   "metadata": {},
   "outputs": [
    {
     "data": {
      "text/plain": [
       "LogisticRegression()"
      ]
     },
     "execution_count": 26,
     "metadata": {},
     "output_type": "execute_result"
    }
   ],
   "source": [
    "LogR_model.fit(X1_train, y1_train)"
   ]
  },
  {
   "cell_type": "code",
   "execution_count": 27,
   "id": "e1eb17ff-7e0a-4a84-a35b-342b49a1dec4",
   "metadata": {},
   "outputs": [
    {
     "data": {
      "text/plain": [
       "0.8541666666666666"
      ]
     },
     "execution_count": 27,
     "metadata": {},
     "output_type": "execute_result"
    }
   ],
   "source": [
    "LogR_model.score(X1_test, y1_test)"
   ]
  },
  {
   "cell_type": "code",
   "execution_count": 28,
   "id": "32cb5e6b-8fa7-417b-affc-f0c1f79a4299",
   "metadata": {},
   "outputs": [],
   "source": [
    "from sklearn.metrics import confusion_matrix\n",
    "y1_pred = LogR_model.predict(X1_test)\n",
    "cm = confusion_matrix(y1_test, y1_pred) # actual values vs the predicted values"
   ]
  },
  {
   "cell_type": "code",
   "execution_count": 45,
   "id": "939c5b99-e7f8-4189-9bce-6d0189c8d06d",
   "metadata": {},
   "outputs": [
    {
     "data": {
      "image/png": "[encoded data removed]",
      "text/plain": [
       "<Figure size 864x648 with 2 Axes>"
      ]
     },
     "metadata": {},
     "output_type": "display_data"
    }
   ],
   "source": [
    "plt.figure(figsize=(12,9))\n",
    "sns.heatmap(cm, annot = True, cmap=plt.cm.binary, square=True)\n",
    "\n",
    "plt.xlabel(\"Predicted Values\")\n",
    "plt.ylabel(\"Actual Values\")\n",
    "plt.show()"
   ]
  }
 ],
 "metadata": {
  "kernelspec": {
   "display_name": "Python 3 (ipykernel)",
   "language": "python",
   "name": "python3"
  },
  "language_info": {
   "codemirror_mode": {
    "name": "ipython",
    "version": 3
   },
   "file_extension": ".py",
   "mimetype": "text/x-python",
   "name": "python",
   "nbconvert_exporter": "python",
   "pygments_lexer": "ipython3",
   "version": "3.10.4"
  },
  "widgets": {
   "application/vnd.jupyter.widget-state+json": {
    "state": {},
    "version_major": 2,
    "version_minor": 0
   }
  }
 },
 "nbformat": 4,
 "nbformat_minor": 5
}

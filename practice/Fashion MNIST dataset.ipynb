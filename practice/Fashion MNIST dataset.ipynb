{
 "cells": [
  {
   "cell_type": "code",
   "execution_count": 1,
   "id": "b2bf1076-5a33-437e-ace9-a3cd16587bdd",
   "metadata": {},
   "outputs": [],
   "source": [
    "import numpy as np\n",
    "import pandas as pd\n",
    "import matplotlib.pyplot as plt\n",
    "\n",
    "from sklearn.datasets import fetch_openml\n",
    "\n",
    "import warnings\n",
    "warnings.filterwarnings(\"ignore\")"
   ]
  },
  {
   "cell_type": "code",
   "execution_count": 2,
   "id": "14e309fe-6b37-4964-bbfe-093fd9932ec3",
   "metadata": {},
   "outputs": [],
   "source": [
    "fMNIST = fetch_openml(\"Fashion-MNIST\")"
   ]
  },
  {
   "cell_type": "code",
   "execution_count": 3,
   "id": "e8473bdc-88a9-474e-9a06-7deed0f1f1cd",
   "metadata": {},
   "outputs": [
    {
     "data": {
      "text/plain": [
       "['DESCR',\n",
       " 'categories',\n",
       " 'data',\n",
       " 'details',\n",
       " 'feature_names',\n",
       " 'frame',\n",
       " 'target',\n",
       " 'target_names',\n",
       " 'url']"
      ]
     },
     "execution_count": 3,
     "metadata": {},
     "output_type": "execute_result"
    }
   ],
   "source": [
    "dir(fMNIST)"
   ]
  },
  {
   "cell_type": "code",
   "execution_count": 25,
   "id": "a3c7755d-2072-4e57-8d3a-b4afa3ea6389",
   "metadata": {},
   "outputs": [],
   "source": [
    "X, y = fMNIST[\"data\"], fMNIST[\"target\"]"
   ]
  },
  {
   "cell_type": "code",
   "execution_count": 33,
   "id": "4f5fb56a-f8e5-45ef-92fb-af85b415708d",
   "metadata": {},
   "outputs": [
    {
     "data": {
      "text/plain": [
       "(70000, 784)"
      ]
     },
     "execution_count": 33,
     "metadata": {},
     "output_type": "execute_result"
    }
   ],
   "source": [
    "X.shape"
   ]
  },
  {
   "cell_type": "code",
   "execution_count": 34,
   "id": "2e8dfad7-bdee-4387-81fc-c3543a0b8fbd",
   "metadata": {},
   "outputs": [],
   "source": [
    "rnd_digit = np.array(X.iloc[10000])\n",
    "rnd_digit_arr = rnd_digit.reshape(28, 28)"
   ]
  },
  {
   "cell_type": "code",
   "execution_count": 38,
   "id": "ab5024f4-2f73-4425-b72e-5e4ed4bde95a",
   "metadata": {},
   "outputs": [
    {
     "data": {
      "text/plain": [
       "<matplotlib.image.AxesImage at 0x208dbef08b0>"
      ]
     },
     "execution_count": 38,
     "metadata": {},
     "output_type": "execute_result"
    },
    {
     "data": {
      "image/png": "[encoded data removed]",
      "text/plain": [
       "<Figure size 720x720 with 1 Axes>"
      ]
     },
     "metadata": {},
     "output_type": "display_data"
    }
   ],
   "source": [
    "plt.style.use(['dark_background'])\n",
    "plt.rcParams[\"figure.figsize\"] = (10,10)\n",
    "\n",
    "# plt.gray()\n",
    "plt.matshow(rnd_digit_arr)"
   ]
  },
  {
   "cell_type": "code",
   "execution_count": 36,
   "id": "4864eca6-0972-47f2-93ba-e02c109d12c4",
   "metadata": {},
   "outputs": [
    {
     "data": {
      "text/plain": [
       "'8'"
      ]
     },
     "execution_count": 36,
     "metadata": {},
     "output_type": "execute_result"
    }
   ],
   "source": [
    "y[10000]"
   ]
  },
  {
   "cell_type": "code",
   "execution_count": 29,
   "id": "669ff872-7c1c-4e3f-a29a-b81f4eb085a2",
   "metadata": {},
   "outputs": [],
   "source": [
    "fMNIST.target_names"
   ]
  },
  {
   "cell_type": "code",
   "execution_count": null,
   "id": "015d3a07-2408-42cb-9fc1-50bac7999c2b",
   "metadata": {},
   "outputs": [],
   "source": []
  }
 ],
 "metadata": {
  "kernelspec": {
   "display_name": "Python 3 (ipykernel)",
   "language": "python",
   "name": "python3"
  },
  "language_info": {
   "codemirror_mode": {
    "name": "ipython",
    "version": 3
   },
   "file_extension": ".py",
   "mimetype": "text/x-python",
   "name": "python",
   "nbconvert_exporter": "python",
   "pygments_lexer": "ipython3",
   "version": "3.10.4"
  },
  "widgets": {
   "application/vnd.jupyter.widget-state+json": {
    "state": {},
    "version_major": 2,
    "version_minor": 0
   }
  }
 },
 "nbformat": 4,
 "nbformat_minor": 5
}

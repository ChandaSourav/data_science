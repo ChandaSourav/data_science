{
 "cells": [
  {
   "cell_type": "markdown",
   "id": "48aa08ed",
   "metadata": {},
   "source": [
    "Lets, learn how to use the Logistic Regression and predict whether a person will buy a insurance or not from their age, we will be using a insurance dataset for this model"
   ]
  },
  {
   "cell_type": "markdown",
   "id": "009706d9",
   "metadata": {},
   "source": [
    "First import all the necessary modules"
   ]
  },
  {
   "cell_type": "code",
   "execution_count": 1,
   "id": "48e768d7",
   "metadata": {},
   "outputs": [],
   "source": [
    "import pandas as pd\n",
    "import matplotlib as mpl\n",
    "import matplotlib.pyplot as plt\n",
    "from sklearn.linear_model import LogisticRegression\n",
    "\n",
    "import warnings\n",
    "warnings.filterwarnings(\"ignore\")\n",
    "\n",
    "import seaborn as sns"
   ]
  },
  {
   "cell_type": "markdown",
   "id": "e6c82ec3",
   "metadata": {},
   "source": [
    "Load the insurance dataset"
   ]
  },
  {
   "cell_type": "code",
   "execution_count": 2,
   "id": "70b688ef",
   "metadata": {},
   "outputs": [
    {
     "data": {
      "text/html": [
       "<div>\n",
       "<style scoped>\n",
       "    .dataframe tbody tr th:only-of-type {\n",
       "        vertical-align: middle;\n",
       "    }\n",
       "\n",
       "    .dataframe tbody tr th {\n",
       "        vertical-align: top;\n",
       "    }\n",
       "\n",
       "    .dataframe thead th {\n",
       "        text-align: right;\n",
       "    }\n",
       "</style>\n",
       "<table border=\"1\" class=\"dataframe\">\n",
       "  <thead>\n",
       "    <tr style=\"text-align: right;\">\n",
       "      <th></th>\n",
       "      <th>age</th>\n",
       "      <th>bought_insurance</th>\n",
       "    </tr>\n",
       "  </thead>\n",
       "  <tbody>\n",
       "    <tr>\n",
       "      <th>0</th>\n",
       "      <td>22</td>\n",
       "      <td>0</td>\n",
       "    </tr>\n",
       "    <tr>\n",
       "      <th>1</th>\n",
       "      <td>25</td>\n",
       "      <td>0</td>\n",
       "    </tr>\n",
       "    <tr>\n",
       "      <th>2</th>\n",
       "      <td>47</td>\n",
       "      <td>1</td>\n",
       "    </tr>\n",
       "    <tr>\n",
       "      <th>3</th>\n",
       "      <td>52</td>\n",
       "      <td>0</td>\n",
       "    </tr>\n",
       "    <tr>\n",
       "      <th>4</th>\n",
       "      <td>46</td>\n",
       "      <td>1</td>\n",
       "    </tr>\n",
       "  </tbody>\n",
       "</table>\n",
       "</div>"
      ],
      "text/plain": [
       "   age  bought_insurance\n",
       "0   22                 0\n",
       "1   25                 0\n",
       "2   47                 1\n",
       "3   52                 0\n",
       "4   46                 1"
      ]
     },
     "execution_count": 2,
     "metadata": {},
     "output_type": "execute_result"
    }
   ],
   "source": [
    "df = pd.read_csv(\"E:\\Data Science\\datasets\\insurance_data.csv\")\n",
    "df.head()"
   ]
  },
  {
   "cell_type": "markdown",
   "id": "458c0ebf",
   "metadata": {},
   "source": [
    "Now, lets scatter plot the dataframe to visualise it clearly"
   ]
  },
  {
   "cell_type": "code",
   "execution_count": 3,
   "id": "7e39caa2",
   "metadata": {},
   "outputs": [
    {
     "data": {
      "text/plain": [
       "<matplotlib.collections.PathCollection at 0x1b6f8422680>"
      ]
     },
     "execution_count": 3,
     "metadata": {},
     "output_type": "execute_result"
    },
    {
     "data": {
      "image/png": "[encoded data removed]",
      "text/plain": [
       "<Figure size 720x360 with 1 Axes>"
      ]
     },
     "metadata": {
      "needs_background": "light"
     },
     "output_type": "display_data"
    }
   ],
   "source": [
    "plt.rcParams['axes.facecolor'] = '#0B090B'\n",
    "plt.rcParams[\"figure.figsize\"] = (10,5)\n",
    "# plt.tick_params(axis='both', colors='#fff')\n",
    "# plt.gca().spines['left'].set_color('#fff')\n",
    "# plt.gca().spines['bottom'].set_color('#fff')\n",
    "# mpl.rc('axes', labelcolor='#fff')\n",
    "# plt.tick_params(axis='both', colors='#fff')\n",
    "\n",
    "plt.ylabel(\"Insurance\")\n",
    "plt.xlabel(\"Age\")\n",
    "plt.scatter(df[['age']], df.bought_insurance, marker=\"+\", color=\"#71FCAA\")"
   ]
  },
  {
   "cell_type": "markdown",
   "id": "d07a227e",
   "metadata": {},
   "source": [
    "Split the data in train and test set"
   ]
  },
  {
   "cell_type": "code",
   "execution_count": 4,
   "id": "c92cf22d",
   "metadata": {},
   "outputs": [],
   "source": [
    "from sklearn.model_selection import train_test_split\n",
    "x_train, x_test, y_train, y_test = train_test_split(df[['age']], df.bought_insurance, train_size=0.8)"
   ]
  },
  {
   "cell_type": "markdown",
   "id": "1ed99456",
   "metadata": {},
   "source": [
    "Lets veiw the x, y test set"
   ]
  },
  {
   "cell_type": "code",
   "execution_count": 5,
   "id": "3011e75f",
   "metadata": {},
   "outputs": [
    {
     "data": {
      "text/html": [
       "<div>\n",
       "<style scoped>\n",
       "    .dataframe tbody tr th:only-of-type {\n",
       "        vertical-align: middle;\n",
       "    }\n",
       "\n",
       "    .dataframe tbody tr th {\n",
       "        vertical-align: top;\n",
       "    }\n",
       "\n",
       "    .dataframe thead th {\n",
       "        text-align: right;\n",
       "    }\n",
       "</style>\n",
       "<table border=\"1\" class=\"dataframe\">\n",
       "  <thead>\n",
       "    <tr style=\"text-align: right;\">\n",
       "      <th></th>\n",
       "      <th>age</th>\n",
       "    </tr>\n",
       "  </thead>\n",
       "  <tbody>\n",
       "    <tr>\n",
       "      <th>20</th>\n",
       "      <td>21</td>\n",
       "    </tr>\n",
       "    <tr>\n",
       "      <th>15</th>\n",
       "      <td>55</td>\n",
       "    </tr>\n",
       "    <tr>\n",
       "      <th>23</th>\n",
       "      <td>45</td>\n",
       "    </tr>\n",
       "    <tr>\n",
       "      <th>3</th>\n",
       "      <td>52</td>\n",
       "    </tr>\n",
       "    <tr>\n",
       "      <th>8</th>\n",
       "      <td>62</td>\n",
       "    </tr>\n",
       "    <tr>\n",
       "      <th>7</th>\n",
       "      <td>60</td>\n",
       "    </tr>\n",
       "  </tbody>\n",
       "</table>\n",
       "</div>"
      ],
      "text/plain": [
       "    age\n",
       "20   21\n",
       "15   55\n",
       "23   45\n",
       "3    52\n",
       "8    62\n",
       "7    60"
      ]
     },
     "execution_count": 5,
     "metadata": {},
     "output_type": "execute_result"
    }
   ],
   "source": [
    "x_test"
   ]
  },
  {
   "cell_type": "code",
   "execution_count": 6,
   "id": "c5726536",
   "metadata": {},
   "outputs": [
    {
     "data": {
      "text/plain": [
       "20    0\n",
       "15    1\n",
       "23    1\n",
       "3     0\n",
       "8     1\n",
       "7     1\n",
       "Name: bought_insurance, dtype: int64"
      ]
     },
     "execution_count": 6,
     "metadata": {},
     "output_type": "execute_result"
    }
   ],
   "source": [
    "y_test"
   ]
  },
  {
   "cell_type": "markdown",
   "id": "c611ece9",
   "metadata": {},
   "source": [
    "Now lets train our Logistic model"
   ]
  },
  {
   "cell_type": "code",
   "execution_count": 7,
   "id": "888c123a",
   "metadata": {},
   "outputs": [],
   "source": [
    "model = LogisticRegression()"
   ]
  },
  {
   "cell_type": "code",
   "execution_count": 8,
   "id": "bbae2174",
   "metadata": {},
   "outputs": [
    {
     "data": {
      "text/plain": [
       "LogisticRegression()"
      ]
     },
     "execution_count": 8,
     "metadata": {},
     "output_type": "execute_result"
    }
   ],
   "source": [
    "model.fit(x_train, y_train)"
   ]
  },
  {
   "cell_type": "markdown",
   "id": "ff2864c8",
   "metadata": {},
   "source": [
    "Predicting the people will buy a insurance or not from the x_test"
   ]
  },
  {
   "cell_type": "code",
   "execution_count": 9,
   "id": "fe5309f6",
   "metadata": {},
   "outputs": [
    {
     "data": {
      "text/plain": [
       "array([0, 1, 1, 1, 1, 1], dtype=int64)"
      ]
     },
     "execution_count": 9,
     "metadata": {},
     "output_type": "execute_result"
    }
   ],
   "source": [
    "model.predict(x_test)"
   ]
  },
  {
   "cell_type": "markdown",
   "id": "3cf1520f",
   "metadata": {},
   "source": [
    "Predict a individual person insurance by giving a random age value of 37"
   ]
  },
  {
   "cell_type": "code",
   "execution_count": 10,
   "id": "da4e2753",
   "metadata": {},
   "outputs": [
    {
     "data": {
      "text/plain": [
       "array([0], dtype=int64)"
      ]
     },
     "execution_count": 10,
     "metadata": {},
     "output_type": "execute_result"
    }
   ],
   "source": [
    "model.predict([[37]])"
   ]
  },
  {
   "cell_type": "markdown",
   "id": "28d331e7",
   "metadata": {},
   "source": [
    "Check the model accuracy"
   ]
  },
  {
   "cell_type": "code",
   "execution_count": 11,
   "id": "b68ac60d",
   "metadata": {},
   "outputs": [
    {
     "data": {
      "text/plain": [
       "(0.9047619047619048, 0.8333333333333334)"
      ]
     },
     "execution_count": 11,
     "metadata": {},
     "output_type": "execute_result"
    }
   ],
   "source": [
    "model.score(x_train, y_train), model.score(x_test, y_test)"
   ]
  },
  {
   "cell_type": "markdown",
   "id": "45b83e28",
   "metadata": {},
   "source": [
    "<strong>Lets see how how the model is working</strong>"
   ]
  },
  {
   "cell_type": "markdown",
   "id": "c319a362",
   "metadata": {},
   "source": [
    "As we know, from linear regression that<br>\n",
    "<em>model.coef_ indicates value of m in <strong>y = m*x + b</strong> equation</em>"
   ]
  },
  {
   "cell_type": "code",
   "execution_count": 12,
   "id": "392dc7b5",
   "metadata": {},
   "outputs": [
    {
     "data": {
      "text/plain": [
       "array([[0.14891026]])"
      ]
     },
     "execution_count": 12,
     "metadata": {},
     "output_type": "execute_result"
    }
   ],
   "source": [
    "model.coef_"
   ]
  },
  {
   "cell_type": "markdown",
   "id": "161c2b76",
   "metadata": {},
   "source": [
    "<em>model.intercept_ indicates value of b in <strong>y = m*x + b</strong> equation</em>"
   ]
  },
  {
   "cell_type": "code",
   "execution_count": 13,
   "id": "fa8cce53",
   "metadata": {},
   "outputs": [
    {
     "data": {
      "text/plain": [
       "array([-5.57319847])"
      ]
     },
     "execution_count": 13,
     "metadata": {},
     "output_type": "execute_result"
    }
   ],
   "source": [
    "model.intercept_"
   ]
  },
  {
   "cell_type": "markdown",
   "id": "29082ae9",
   "metadata": {},
   "source": [
    "So, in Logistic Regression uses the Sigmoid function\n",
    "<strong>F(x) = 1/(1 + e^(-x))</strong>\n",
    "<img src=\"data:image/png;base64,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\">"
   ]
  },
  {
   "cell_type": "markdown",
   "id": "667d6888",
   "metadata": {},
   "source": [
    "Lets defined sigmoid function now and do the math with hand"
   ]
  },
  {
   "cell_type": "code",
   "execution_count": 14,
   "id": "d73b1663",
   "metadata": {},
   "outputs": [],
   "source": [
    "import math\n",
    "def sigmoid(x):\n",
    "    return 1 / (1 + math.exp(-x))\n",
    "\n",
    "def prediction_function(age):\n",
    "    z = 0.042 * age - 1.53 # 0.04150133 ~ 0.042 and -1.52726963 ~ -1.53\n",
    "    y = sigmoid(z)\n",
    "    return y"
   ]
  },
  {
   "cell_type": "code",
   "execution_count": 15,
   "id": "d37aabf7",
   "metadata": {},
   "outputs": [
    {
     "data": {
      "text/plain": [
       "0.4850044983805899"
      ]
     },
     "execution_count": 15,
     "metadata": {},
     "output_type": "execute_result"
    }
   ],
   "source": [
    "age = 35\n",
    "prediction_function(age)"
   ]
  },
  {
   "cell_type": "markdown",
   "id": "c3875573",
   "metadata": {},
   "source": [
    "0.485 is less than 0.5 which means person with 35 age will not buy insurance"
   ]
  },
  {
   "cell_type": "code",
   "execution_count": 16,
   "id": "5ba88f45",
   "metadata": {},
   "outputs": [
    {
     "data": {
      "text/plain": [
       "0.568565299077705"
      ]
     },
     "execution_count": 16,
     "metadata": {},
     "output_type": "execute_result"
    }
   ],
   "source": [
    "age = 43\n",
    "prediction_function(age)"
   ]
  },
  {
   "cell_type": "markdown",
   "id": "3c250211",
   "metadata": {},
   "source": [
    "0.568 is more than 0.5 which means person with 43 will buy the insurance"
   ]
  }
 ],
 "metadata": {
  "kernelspec": {
   "display_name": "Python 3 (ipykernel)",
   "language": "python",
   "name": "python3"
  },
  "language_info": {
   "codemirror_mode": {
    "name": "ipython",
    "version": 3
   },
   "file_extension": ".py",
   "mimetype": "text/x-python",
   "name": "python",
   "nbconvert_exporter": "python",
   "pygments_lexer": "ipython3",
   "version": "3.10.4"
  }
 },
 "nbformat": 4,
 "nbformat_minor": 5
}

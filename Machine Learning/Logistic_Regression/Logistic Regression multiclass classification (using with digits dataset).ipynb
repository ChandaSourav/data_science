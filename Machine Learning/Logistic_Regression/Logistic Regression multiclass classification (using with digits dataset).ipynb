{
 "cells": [
  {
   "cell_type": "markdown",
   "id": "5242a1fb",
   "metadata": {},
   "source": [
    "In these article we will use the digits dataset from the sklearn library and predict the actual image value from the picture given"
   ]
  },
  {
   "cell_type": "code",
   "execution_count": 1,
   "id": "6d5999bd",
   "metadata": {},
   "outputs": [],
   "source": [
    "import pandas as pd\n",
    "import matplotlib.pyplot as plt\n",
    "from sklearn.datasets import load_digits\n",
    "from sklearn.linear_model import LogisticRegression\n",
    "\n",
    "import warnings\n",
    "warnings.filterwarnings('ignore')"
   ]
  },
  {
   "cell_type": "markdown",
   "id": "e9cd6a27",
   "metadata": {},
   "source": [
    "Load the digits dataset from the sklearn"
   ]
  },
  {
   "cell_type": "code",
   "execution_count": 2,
   "id": "095a1357",
   "metadata": {},
   "outputs": [],
   "source": [
    "df = load_digits() "
   ]
  },
  {
   "cell_type": "code",
   "execution_count": 3,
   "id": "c3034c55",
   "metadata": {},
   "outputs": [
    {
     "data": {
      "text/plain": [
       "['DESCR', 'data', 'feature_names', 'frame', 'images', 'target', 'target_names']"
      ]
     },
     "execution_count": 3,
     "metadata": {},
     "output_type": "execute_result"
    }
   ],
   "source": [
    "dir(df) ## dir() function returns all properties and methods of the specified object, without the values."
   ]
  },
  {
   "cell_type": "markdown",
   "id": "bfd7243b",
   "metadata": {},
   "source": [
    "Image - 0"
   ]
  },
  {
   "cell_type": "code",
   "execution_count": 4,
   "id": "b7e6c3ea",
   "metadata": {},
   "outputs": [
    {
     "data": {
      "text/plain": [
       "array([ 0.,  0.,  5., 13.,  9.,  1.,  0.,  0.,  0.,  0., 13., 15., 10.,\n",
       "       15.,  5.,  0.,  0.,  3., 15.,  2.,  0., 11.,  8.,  0.,  0.,  4.,\n",
       "       12.,  0.,  0.,  8.,  8.,  0.,  0.,  5.,  8.,  0.,  0.,  9.,  8.,\n",
       "        0.,  0.,  4., 11.,  0.,  1., 12.,  7.,  0.,  0.,  2., 14.,  5.,\n",
       "       10., 12.,  0.,  0.,  0.,  0.,  6., 13., 10.,  0.,  0.,  0.])"
      ]
     },
     "execution_count": 4,
     "metadata": {},
     "output_type": "execute_result"
    }
   ],
   "source": [
    "df.data[0] # print the numeric data array for the image at the 0th index"
   ]
  },
  {
   "cell_type": "code",
   "execution_count": 5,
   "id": "15105c61",
   "metadata": {},
   "outputs": [
    {
     "data": {
      "text/plain": [
       "0"
      ]
     },
     "execution_count": 5,
     "metadata": {},
     "output_type": "execute_result"
    }
   ],
   "source": [
    "df.target[0] # print the actual value of the image at the 0th index"
   ]
  },
  {
   "cell_type": "code",
   "execution_count": 6,
   "id": "e671741d",
   "metadata": {},
   "outputs": [
    {
     "data": {
      "text/plain": [
       "<Figure size 432x288 with 0 Axes>"
      ]
     },
     "metadata": {},
     "output_type": "display_data"
    },
    {
     "data": {
      "image/png": "[encoded data removed]",
      "text/plain": [
       "<Figure size 288x288 with 1 Axes>"
      ]
     },
     "metadata": {
      "needs_background": "light"
     },
     "output_type": "display_data"
    }
   ],
   "source": [
    "plt.gray() # to set the colormap(is a matrix of values that define the colors for graphics objects such as surface, image, and patch objects) to “gray”\n",
    "plt.matshow(df.images[0]) #  used to visualize the 2D matrix. It will show same color for the same number inside matrix.\n",
    "\n",
    "plt.style.use(['dark_background'])\n",
    "plt.rcParams[\"figure.figsize\"] = (1,1)"
   ]
  },
  {
   "cell_type": "markdown",
   "id": "452d3631",
   "metadata": {},
   "source": [
    "Lets plot the image from 0 - 5"
   ]
  },
  {
   "cell_type": "code",
   "execution_count": 7,
   "id": "f9e8b589",
   "metadata": {},
   "outputs": [
    {
     "data": {
      "image/png": "[encoded data removed]",
      "text/plain": [
       "<Figure size 288x288 with 1 Axes>"
      ]
     },
     "metadata": {},
     "output_type": "display_data"
    },
    {
     "data": {
      "image/png": "[encoded data removed]",
      "text/plain": [
       "<Figure size 288x288 with 1 Axes>"
      ]
     },
     "metadata": {},
     "output_type": "display_data"
    },
    {
     "data": {
      "image/png": "[encoded data removed]",
      "text/plain": [
       "<Figure size 288x288 with 1 Axes>"
      ]
     },
     "metadata": {},
     "output_type": "display_data"
    },
    {
     "data": {
      "image/png": "[encoded data removed]",
      "text/plain": [
       "<Figure size 288x288 with 1 Axes>"
      ]
     },
     "metadata": {},
     "output_type": "display_data"
    },
    {
     "data": {
      "image/png": "[encoded data removed]",
      "text/plain": [
       "<Figure size 288x288 with 1 Axes>"
      ]
     },
     "metadata": {},
     "output_type": "display_data"
    }
   ],
   "source": [
    "for i in range(5):\n",
    "    plt.matshow(df.images[i])"
   ]
  },
  {
   "cell_type": "markdown",
   "id": "545eca92",
   "metadata": {},
   "source": [
    "Above images target values"
   ]
  },
  {
   "cell_type": "code",
   "execution_count": 8,
   "id": "a37d3310",
   "metadata": {},
   "outputs": [
    {
     "data": {
      "text/plain": [
       "array([0, 1, 2, 3, 4])"
      ]
     },
     "execution_count": 8,
     "metadata": {},
     "output_type": "execute_result"
    }
   ],
   "source": [
    "df.target[0:5]"
   ]
  },
  {
   "cell_type": "markdown",
   "id": "531c4c44",
   "metadata": {},
   "source": [
    "Build, test and train the model"
   ]
  },
  {
   "cell_type": "code",
   "execution_count": 9,
   "id": "541195b2",
   "metadata": {},
   "outputs": [],
   "source": [
    "from sklearn.model_selection import train_test_split\n",
    "X_train, X_test, y_train, y_test = train_test_split(df.data, df.target, test_size=0.2)"
   ]
  },
  {
   "cell_type": "code",
   "execution_count": 10,
   "id": "aedcf97c",
   "metadata": {},
   "outputs": [
    {
     "data": {
      "text/plain": [
       "1437"
      ]
     },
     "execution_count": 10,
     "metadata": {},
     "output_type": "execute_result"
    }
   ],
   "source": [
    "len(X_train)"
   ]
  },
  {
   "cell_type": "code",
   "execution_count": 11,
   "id": "4d8d3ee5",
   "metadata": {},
   "outputs": [
    {
     "data": {
      "text/plain": [
       "360"
      ]
     },
     "execution_count": 11,
     "metadata": {},
     "output_type": "execute_result"
    }
   ],
   "source": [
    "len(X_test)"
   ]
  },
  {
   "cell_type": "code",
   "execution_count": 12,
   "id": "4df9a751",
   "metadata": {},
   "outputs": [
    {
     "data": {
      "text/plain": [
       "LogisticRegression()"
      ]
     },
     "execution_count": 12,
     "metadata": {},
     "output_type": "execute_result"
    }
   ],
   "source": [
    "model = LogisticRegression()\n",
    "model.fit(X_train, y_train)"
   ]
  },
  {
   "cell_type": "code",
   "execution_count": 13,
   "id": "faa4051c",
   "metadata": {},
   "outputs": [
    {
     "data": {
      "text/plain": [
       "array([4, 8, 0, 3, 4, 3, 4, 3, 9, 2, 5, 2, 3, 4, 6, 3, 9, 1, 9, 4, 9, 7,\n",
       "       9, 8, 7, 0, 0, 0, 2, 0, 6, 2, 8, 7, 6, 7, 2, 2, 0, 9, 6, 1, 4, 5,\n",
       "       5, 5, 3, 2, 7, 7, 7, 9, 4, 5, 5, 3, 9, 3, 4, 2, 1, 7, 6, 0, 5, 4,\n",
       "       8, 8, 0, 1, 9, 7, 7, 4, 4, 2, 5, 1, 3, 9, 1, 7, 8, 4, 3, 0, 6, 3,\n",
       "       8, 1, 4, 7, 8, 9, 6, 3, 2, 2, 4, 9, 5, 9, 9, 3, 4, 9, 1, 2, 2, 2,\n",
       "       6, 5, 2, 1, 3, 6, 5, 6, 9, 2, 3, 9, 8, 1, 1, 9, 1, 3, 0, 1, 7, 7,\n",
       "       9, 8, 4, 2, 6, 8, 1, 8, 8, 1, 5, 7, 5, 9, 4, 7, 2, 0, 6, 7, 9, 1,\n",
       "       1, 4, 7, 5, 9, 4, 7, 8, 8, 7, 5, 4, 3, 8, 4, 4, 2, 8, 1, 4, 5, 9,\n",
       "       4, 7, 3, 6, 2, 3, 9, 9, 9, 8, 2, 2, 3, 3, 9, 3, 0, 0, 1, 5, 6, 4,\n",
       "       8, 2, 7, 1, 4, 6, 6, 0, 8, 3, 4, 8, 7, 9, 5, 8, 5, 4, 7, 2, 4, 0,\n",
       "       6, 6, 5, 2, 4, 0, 5, 1, 0, 1, 9, 9, 2, 9, 5, 3, 0, 5, 0, 0, 6, 0,\n",
       "       2, 1, 8, 1, 2, 0, 1, 3, 6, 3, 4, 0, 0, 1, 3, 0, 2, 9, 8, 4, 9, 6,\n",
       "       7, 8, 3, 7, 4, 8, 2, 1, 6, 9, 1, 6, 1, 2, 7, 3, 6, 0, 0, 1, 2, 7,\n",
       "       1, 5, 2, 7, 8, 9, 2, 0, 8, 0, 6, 6, 2, 3, 5, 8, 6, 6, 7, 7, 3, 3,\n",
       "       8, 9, 1, 3, 6, 3, 6, 5, 2, 2, 9, 9, 2, 6, 6, 3, 9, 0, 6, 0, 3, 3,\n",
       "       1, 5, 5, 2, 8, 7, 4, 6, 8, 4, 1, 5, 0, 6, 3, 9, 4, 3, 4, 6, 9, 5,\n",
       "       3, 5, 7, 2, 2, 4, 5, 7])"
      ]
     },
     "execution_count": 13,
     "metadata": {},
     "output_type": "execute_result"
    }
   ],
   "source": [
    "model.predict(X_test)"
   ]
  },
  {
   "cell_type": "markdown",
   "id": "90f27786",
   "metadata": {},
   "source": [
    "Now, lets perdict the values of the images from 0-5th index"
   ]
  },
  {
   "cell_type": "code",
   "execution_count": 14,
   "id": "d40fb5c7",
   "metadata": {},
   "outputs": [
    {
     "data": {
      "text/plain": [
       "array([0, 1, 2, 3, 4])"
      ]
     },
     "execution_count": 14,
     "metadata": {},
     "output_type": "execute_result"
    }
   ],
   "source": [
    "model.predict(df.data[0:5])"
   ]
  },
  {
   "cell_type": "code",
   "execution_count": 19,
   "id": "33e9dc8a",
   "metadata": {},
   "outputs": [
    {
     "data": {
      "text/plain": [
       "(1.0, 0.9666666666666667)"
      ]
     },
     "execution_count": 19,
     "metadata": {},
     "output_type": "execute_result"
    }
   ],
   "source": [
    "model.score(X_train, y_train), model.score(X_test, y_test)"
   ]
  },
  {
   "cell_type": "markdown",
   "id": "7b32ae6a",
   "metadata": {},
   "source": [
    "Plot the confussion matrix form the predicted values"
   ]
  },
  {
   "cell_type": "code",
   "execution_count": 16,
   "id": "cb066547",
   "metadata": {},
   "outputs": [],
   "source": [
    "y_pred = model.predict(X_test)"
   ]
  },
  {
   "cell_type": "code",
   "execution_count": 17,
   "id": "38464594",
   "metadata": {},
   "outputs": [
    {
     "data": {
      "text/plain": [
       "array([[32,  0,  0,  0,  0,  0,  0,  0,  0,  0],\n",
       "       [ 0, 31,  0,  0,  0,  0,  0,  0,  0,  0],\n",
       "       [ 0,  0, 40,  0,  0,  0,  0,  0,  0,  0],\n",
       "       [ 0,  0,  0, 39,  0,  0,  0,  0,  0,  1],\n",
       "       [ 0,  2,  0,  0, 38,  0,  0,  1,  0,  0],\n",
       "       [ 0,  0,  0,  0,  0, 30,  0,  0,  0,  1],\n",
       "       [ 0,  1,  0,  0,  0,  0, 36,  0,  0,  0],\n",
       "       [ 0,  0,  0,  1,  0,  0,  0, 33,  0,  0],\n",
       "       [ 0,  0,  1,  0,  0,  1,  0,  0, 30,  0],\n",
       "       [ 0,  0,  0,  0,  0,  1,  0,  0,  2, 39]], dtype=int64)"
      ]
     },
     "execution_count": 17,
     "metadata": {},
     "output_type": "execute_result"
    }
   ],
   "source": [
    "from sklearn.metrics import confusion_matrix\n",
    "cm = confusion_matrix(y_test, y_pred) # actual values vs the predicted values\n",
    "cm"
   ]
  },
  {
   "cell_type": "code",
   "execution_count": 18,
   "id": "9ec7966f",
   "metadata": {},
   "outputs": [
    {
     "data": {
      "text/plain": [
       "Text(69.0, 0.5, 'Actual Values')"
      ]
     },
     "execution_count": 18,
     "metadata": {},
     "output_type": "execute_result"
    },
    {
     "data": {
      "image/png": "[encoded data removed]",
      "text/plain": [
       "<Figure size 720x576 with 2 Axes>"
      ]
     },
     "metadata": {},
     "output_type": "display_data"
    }
   ],
   "source": [
    "import seaborn as sn\n",
    "plt.rcParams[\"figure.figsize\"] = (10, 8)\n",
    "\n",
    "colormap = sn.color_palette([ \"#080808\", \"#151116\", \"#4b444d\", \"#bc51ff\", \"#9d00ff\", \"#d797ff\"])\n",
    "sn.heatmap(cm, cmap=colormap, annot=True)\n",
    "\n",
    "\n",
    "plt.xlabel(\"Predicted Values\")\n",
    "plt.ylabel(\"Actual Values\")"
   ]
  }
 ],
 "metadata": {
  "kernelspec": {
   "display_name": "Python 3 (ipykernel)",
   "language": "python",
   "name": "python3"
  },
  "language_info": {
   "codemirror_mode": {
    "name": "ipython",
    "version": 3
   },
   "file_extension": ".py",
   "mimetype": "text/x-python",
   "name": "python",
   "nbconvert_exporter": "python",
   "pygments_lexer": "ipython3",
   "version": "3.10.4"
  },
  "widgets": {
   "application/vnd.jupyter.widget-state+json": {
    "state": {},
    "version_major": 2,
    "version_minor": 0
   }
  }
 },
 "nbformat": 4,
 "nbformat_minor": 5
}

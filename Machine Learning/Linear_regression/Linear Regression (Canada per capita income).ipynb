{
 "cells": [
  {
   "cell_type": "markdown",
   "id": "caec2b40",
   "metadata": {},
   "source": [
    "In this article we will learn how to use the Linear Regression and predict the per capita income of Canada from the canada per capita income dataset."
   ]
  },
  {
   "cell_type": "markdown",
   "id": "1865053e",
   "metadata": {},
   "source": [
    "First we will import all the necessary modules"
   ]
  },
  {
   "cell_type": "code",
   "execution_count": 1,
   "id": "80b0d9ea",
   "metadata": {},
   "outputs": [],
   "source": [
    "import numpy as np\n",
    "import pandas as pd\n",
    "import matplotlib as mpl\n",
    "import matplotlib.pyplot as plt\n",
    "from sklearn.linear_model import LinearRegression"
   ]
  },
  {
   "cell_type": "markdown",
   "id": "16b0d57d",
   "metadata": {},
   "source": [
    "Then we will load the canada per capita income dataset"
   ]
  },
  {
   "cell_type": "code",
   "execution_count": 2,
   "id": "1ea94748",
   "metadata": {},
   "outputs": [
    {
     "data": {
      "text/html": [
       "<div>\n",
       "<style scoped>\n",
       "    .dataframe tbody tr th:only-of-type {\n",
       "        vertical-align: middle;\n",
       "    }\n",
       "\n",
       "    .dataframe tbody tr th {\n",
       "        vertical-align: top;\n",
       "    }\n",
       "\n",
       "    .dataframe thead th {\n",
       "        text-align: right;\n",
       "    }\n",
       "</style>\n",
       "<table border=\"1\" class=\"dataframe\">\n",
       "  <thead>\n",
       "    <tr style=\"text-align: right;\">\n",
       "      <th></th>\n",
       "      <th>year</th>\n",
       "      <th>per capita income (US$)</th>\n",
       "    </tr>\n",
       "  </thead>\n",
       "  <tbody>\n",
       "    <tr>\n",
       "      <th>0</th>\n",
       "      <td>1970</td>\n",
       "      <td>3399.299037</td>\n",
       "    </tr>\n",
       "    <tr>\n",
       "      <th>1</th>\n",
       "      <td>1971</td>\n",
       "      <td>3768.297935</td>\n",
       "    </tr>\n",
       "    <tr>\n",
       "      <th>2</th>\n",
       "      <td>1972</td>\n",
       "      <td>4251.175484</td>\n",
       "    </tr>\n",
       "    <tr>\n",
       "      <th>3</th>\n",
       "      <td>1973</td>\n",
       "      <td>4804.463248</td>\n",
       "    </tr>\n",
       "    <tr>\n",
       "      <th>4</th>\n",
       "      <td>1974</td>\n",
       "      <td>5576.514583</td>\n",
       "    </tr>\n",
       "  </tbody>\n",
       "</table>\n",
       "</div>"
      ],
      "text/plain": [
       "   year  per capita income (US$)\n",
       "0  1970              3399.299037\n",
       "1  1971              3768.297935\n",
       "2  1972              4251.175484\n",
       "3  1973              4804.463248\n",
       "4  1974              5576.514583"
      ]
     },
     "execution_count": 2,
     "metadata": {},
     "output_type": "execute_result"
    }
   ],
   "source": [
    "df = pd.read_csv(\"E:/Data Science/datasets/canada_per_capita_income.csv\")\n",
    "df.head()"
   ]
  },
  {
   "cell_type": "markdown",
   "id": "d862f35b",
   "metadata": {},
   "source": [
    "Now, lets plot the data into a graph where x will be the year and y will the per capita income (US $)"
   ]
  },
  {
   "cell_type": "code",
   "execution_count": 3,
   "id": "ff71a72a",
   "metadata": {},
   "outputs": [
    {
     "data": {
      "text/plain": [
       "<matplotlib.collections.PathCollection at 0x1db2c2acd90>"
      ]
     },
     "execution_count": 3,
     "metadata": {},
     "output_type": "execute_result"
    },
    {
     "data": {
      "image/png": "[encoded data removed]",
      "text/plain": [
       "<Figure size 720x360 with 1 Axes>"
      ]
     },
     "metadata": {
      "needs_background": "light"
     },
     "output_type": "display_data"
    }
   ],
   "source": [
    "%matplotlib inline\n",
    "plt.rcParams['axes.facecolor'] = '#0B090B'\n",
    "plt.rcParams[\"figure.figsize\"] = (10,5)\n",
    "# plt.gca().spines['left'].set_color('#fff')\n",
    "# plt.gca().spines['bottom'].set_color('#fff')\n",
    "# mpl.rc('axes', labelcolor='#fff')\n",
    "# plt.tick_params(axis='both', colors='#fff')\n",
    "\n",
    "plt.ylabel(\"per capita income (US $)\")\n",
    "plt.xlabel(\"year\")\n",
    "\n",
    "plt.scatter(df.year, df.iloc[:,1], color=\"grey\", marker=\"+\")"
   ]
  },
  {
   "cell_type": "markdown",
   "id": "75d54f57",
   "metadata": {},
   "source": [
    "As we have done ploting the graph, let start with training the Regression model"
   ]
  },
  {
   "cell_type": "code",
   "execution_count": 4,
   "id": "7836be67",
   "metadata": {},
   "outputs": [
    {
     "data": {
      "text/plain": [
       "LinearRegression()"
      ]
     },
     "execution_count": 4,
     "metadata": {},
     "output_type": "execute_result"
    }
   ],
   "source": [
    "reg = LinearRegression()\n",
    "reg.fit(df[[\"year\"]].values, df[[\"per capita income (US$)\"]].values)"
   ]
  },
  {
   "cell_type": "markdown",
   "id": "5d69dfac",
   "metadata": {},
   "source": [
    "Predict the per capita income (US$) of year 2022"
   ]
  },
  {
   "cell_type": "code",
   "execution_count": 5,
   "id": "c1d06da8",
   "metadata": {},
   "outputs": [
    {
     "data": {
      "text/plain": [
       "array([[42945.62424486]])"
      ]
     },
     "execution_count": 5,
     "metadata": {},
     "output_type": "execute_result"
    }
   ],
   "source": [
    "reg.predict([[2022]])"
   ]
  },
  {
   "cell_type": "code",
   "execution_count": 6,
   "id": "cdb23744",
   "metadata": {},
   "outputs": [
    {
     "data": {
      "text/plain": [
       "[<matplotlib.lines.Line2D at 0x1db2e3bfb20>]"
      ]
     },
     "execution_count": 6,
     "metadata": {},
     "output_type": "execute_result"
    },
    {
     "data": {
      "image/png": "[encoded data removed]",
      "text/plain": [
       "<Figure size 720x360 with 1 Axes>"
      ]
     },
     "metadata": {
      "needs_background": "light"
     },
     "output_type": "display_data"
    }
   ],
   "source": [
    "# plt.tick_params(axis='both', colors='#fff')\n",
    "# plt.gca().spines['left'].set_color('#fff')\n",
    "# plt.gca().spines['bottom'].set_color('#fff')\n",
    "\n",
    "plt.ylabel(\"per capita income (US $)\")\n",
    "plt.xlabel(\"year\")\n",
    "\n",
    "plt.scatter(df.year, df.iloc[:,1], color=\"#ffffff\", marker=\"+\")\n",
    "plt.plot(df.year, reg.predict(df[[\"year\"]].values), color=\"#71FCAA\")"
   ]
  },
  {
   "cell_type": "code",
   "execution_count": null,
   "id": "e4a6059c",
   "metadata": {},
   "outputs": [],
   "source": []
  }
 ],
 "metadata": {
  "kernelspec": {
   "display_name": "Python 3 (ipykernel)",
   "language": "python",
   "name": "python3"
  },
  "language_info": {
   "codemirror_mode": {
    "name": "ipython",
    "version": 3
   },
   "file_extension": ".py",
   "mimetype": "text/x-python",
   "name": "python",
   "nbconvert_exporter": "python",
   "pygments_lexer": "ipython3",
   "version": "3.10.4"
  }
 },
 "nbformat": 4,
 "nbformat_minor": 5
}

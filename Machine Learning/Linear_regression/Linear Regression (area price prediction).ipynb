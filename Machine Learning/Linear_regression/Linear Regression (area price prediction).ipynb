{
 "cells": [
  {
   "cell_type": "markdown",
   "id": "0e58212b",
   "metadata": {},
   "source": [
    " In this article we will learn how to use the Linear Regression and predict the price of area of land from the Area Price dataset."
   ]
  },
  {
   "cell_type": "markdown",
   "id": "23cecad2",
   "metadata": {},
   "source": [
    "First we will import all the necessary modules"
   ]
  },
  {
   "cell_type": "code",
   "execution_count": 1,
   "id": "6be93959",
   "metadata": {},
   "outputs": [],
   "source": [
    "import numpy as np\n",
    "import pandas as pd\n",
    "import matplotlib as mpl\n",
    "import matplotlib.pyplot as plt\n",
    "from sklearn import linear_model"
   ]
  },
  {
   "cell_type": "markdown",
   "id": "51ce5b82",
   "metadata": {},
   "source": [
    "Then we will load the area price dataset"
   ]
  },
  {
   "cell_type": "code",
   "execution_count": 2,
   "id": "6018c2f5",
   "metadata": {},
   "outputs": [
    {
     "data": {
      "text/html": [
       "<div>\n",
       "<style scoped>\n",
       "    .dataframe tbody tr th:only-of-type {\n",
       "        vertical-align: middle;\n",
       "    }\n",
       "\n",
       "    .dataframe tbody tr th {\n",
       "        vertical-align: top;\n",
       "    }\n",
       "\n",
       "    .dataframe thead th {\n",
       "        text-align: right;\n",
       "    }\n",
       "</style>\n",
       "<table border=\"1\" class=\"dataframe\">\n",
       "  <thead>\n",
       "    <tr style=\"text-align: right;\">\n",
       "      <th></th>\n",
       "      <th>area</th>\n",
       "      <th>price</th>\n",
       "    </tr>\n",
       "  </thead>\n",
       "  <tbody>\n",
       "    <tr>\n",
       "      <th>0</th>\n",
       "      <td>2600</td>\n",
       "      <td>550000</td>\n",
       "    </tr>\n",
       "    <tr>\n",
       "      <th>1</th>\n",
       "      <td>3000</td>\n",
       "      <td>565000</td>\n",
       "    </tr>\n",
       "    <tr>\n",
       "      <th>2</th>\n",
       "      <td>3200</td>\n",
       "      <td>610000</td>\n",
       "    </tr>\n",
       "    <tr>\n",
       "      <th>3</th>\n",
       "      <td>3600</td>\n",
       "      <td>680000</td>\n",
       "    </tr>\n",
       "    <tr>\n",
       "      <th>4</th>\n",
       "      <td>4000</td>\n",
       "      <td>725000</td>\n",
       "    </tr>\n",
       "  </tbody>\n",
       "</table>\n",
       "</div>"
      ],
      "text/plain": [
       "   area   price\n",
       "0  2600  550000\n",
       "1  3000  565000\n",
       "2  3200  610000\n",
       "3  3600  680000\n",
       "4  4000  725000"
      ]
     },
     "execution_count": 2,
     "metadata": {},
     "output_type": "execute_result"
    }
   ],
   "source": [
    "df = pd.read_csv(\"E:/Data Science/datasets/area_by_price(manual_ds).csv\")\n",
    "df.head()"
   ]
  },
  {
   "cell_type": "markdown",
   "id": "6575da3a",
   "metadata": {},
   "source": [
    "Now, lets plot the data into a graph where x will be the area and y will the price"
   ]
  },
  {
   "cell_type": "code",
   "execution_count": 3,
   "id": "35661539",
   "metadata": {},
   "outputs": [
    {
     "data": {
      "text/plain": [
       "[<matplotlib.lines.Line2D at 0x1bc3da3a560>]"
      ]
     },
     "execution_count": 3,
     "metadata": {},
     "output_type": "execute_result"
    },
    {
     "data": {
      "image/png": "[encoded data removed]",
      "text/plain": [
       "<Figure size 720x360 with 1 Axes>"
      ]
     },
     "metadata": {
      "needs_background": "light"
     },
     "output_type": "display_data"
    }
   ],
   "source": [
    "%matplotlib inline\n",
    "plt.rcParams['axes.facecolor'] = '#0B090B'\n",
    "plt.rcParams[\"figure.figsize\"] = (10,5)\n",
    "\n",
    "# plt.gca().spines['left'].set_color('#fff')\n",
    "# plt.gca().spines['bottom'].set_color('#fff') \n",
    "# mpl.rc('axes', labelcolor='#fff')\n",
    "# plt.tick_params(axis='both', colors='#fff')\n",
    "\n",
    "plt.xlabel(\"Area (sq ft)\")\n",
    "plt.ylabel(\"Price (US $)\")\n",
    "\n",
    "plt.plot(df.area, df.price, color='#71FCAA', marker='o')"
   ]
  },
  {
   "cell_type": "markdown",
   "id": "2206d623",
   "metadata": {},
   "source": [
    "As we have done ploting the graph, let start with training the Regression model"
   ]
  },
  {
   "cell_type": "code",
   "execution_count": 4,
   "id": "3cdc08f6",
   "metadata": {},
   "outputs": [
    {
     "data": {
      "text/plain": [
       "LinearRegression()"
      ]
     },
     "execution_count": 4,
     "metadata": {},
     "output_type": "execute_result"
    }
   ],
   "source": [
    "reg = linear_model.LinearRegression()\n",
    "reg.fit(df[['area']].values, df.price)"
   ]
  },
  {
   "cell_type": "markdown",
   "id": "d600f8bc",
   "metadata": {},
   "source": [
    "Predict the house price which has a area of 2600 sqft"
   ]
  },
  {
   "cell_type": "code",
   "execution_count": 5,
   "id": "fb1de852",
   "metadata": {},
   "outputs": [
    {
     "data": {
      "text/plain": [
       "array([533664.38356164])"
      ]
     },
     "execution_count": 5,
     "metadata": {},
     "output_type": "execute_result"
    }
   ],
   "source": [
    "reg.predict([[2600]])"
   ]
  },
  {
   "cell_type": "markdown",
   "id": "f4a95f2a",
   "metadata": {},
   "source": [
    "As we have with all of the prediction, lets visualize it in a graph"
   ]
  },
  {
   "cell_type": "code",
   "execution_count": 6,
   "id": "41c3e82f",
   "metadata": {},
   "outputs": [
    {
     "data": {
      "text/plain": [
       "[<matplotlib.lines.Line2D at 0x1bc3ff38e80>]"
      ]
     },
     "execution_count": 6,
     "metadata": {},
     "output_type": "execute_result"
    },
    {
     "data": {
      "image/png": "[encoded data removed]",
      "text/plain": [
       "<Figure size 720x360 with 1 Axes>"
      ]
     },
     "metadata": {
      "needs_background": "light"
     },
     "output_type": "display_data"
    }
   ],
   "source": [
    "# plt.tick_params(axis='both', colors='#fff')\n",
    "# plt.gca().spines['left'].set_color('#fff')\n",
    "# plt.gca().spines['bottom'].set_color('#fff') \n",
    "\n",
    "plt.xlabel(\"Area (sq ft)\")\n",
    "plt.ylabel(\"Price (US $)\")\n",
    "\n",
    "plt.scatter(df.area, df.price, color='#ffffff', marker='o')\n",
    "plt.plot(df.area, reg.predict(df[['area']].values), color=\"#71FCAA\")\n",
    "# plt.grid()"
   ]
  },
  {
   "cell_type": "code",
   "execution_count": null,
   "id": "e8daff53",
   "metadata": {},
   "outputs": [],
   "source": []
  }
 ],
 "metadata": {
  "kernelspec": {
   "display_name": "Python 3 (ipykernel)",
   "language": "python",
   "name": "python3"
  },
  "language_info": {
   "codemirror_mode": {
    "name": "ipython",
    "version": 3
   },
   "file_extension": ".py",
   "mimetype": "text/x-python",
   "name": "python",
   "nbconvert_exporter": "python",
   "pygments_lexer": "ipython3",
   "version": "3.10.4"
  }
 },
 "nbformat": 4,
 "nbformat_minor": 5
}
